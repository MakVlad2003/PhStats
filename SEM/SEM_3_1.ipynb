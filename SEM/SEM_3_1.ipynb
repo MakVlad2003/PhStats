{
 "cells": [
  {
   "cell_type": "markdown",
   "metadata": {
    "id": "NZaXxjGy3uYx"
   },
   "source": [
    "## Логистическая регрессия"
   ]
  },
  {
   "cell_type": "code",
   "execution_count": null,
   "metadata": {
    "id": "PkpQ51MRQ_8X"
   },
   "outputs": [],
   "source": [
    "import numpy as np\n",
    "import pandas as pd\n",
    "import matplotlib.pyplot as plt\n",
    "\n",
    "from sklearn.linear_model import LogisticRegression\n",
    "from sklearn.model_selection import train_test_split\n",
    "from sklearn.preprocessing import StandardScaler\n",
    "\n",
    "import seaborn as sns\n",
    "sns.set_theme(style='dark', font_scale=1.3)\n",
    "\n",
    "import warnings\n",
    "warnings.filterwarnings('ignore')"
   ]
  },
  {
   "cell_type": "markdown",
   "metadata": {
    "id": "JoGO5t0l0V3o"
   },
   "source": [
    "### 1.  Cкачаем [датасет](https://www.kaggle.com/colearninglounge/predicting-pulsar-starintermediate) о предсказании пульсаров."
   ]
  },
  {
   "cell_type": "markdown",
   "metadata": {
    "id": "Tfq3FzcfFaiC"
   },
   "source": [
    "Пульсары &mdash; это космические объекты, излучающие в различных диапазонах длины волны. Согласно современным астрофизическим теориям, пульсары представляют собой вращающиеся нейтронные звезды, обладающие магнитным полем, наклоненным относительно оси вращения.\n",
    "\n",
    "Пульсары представляют значительный научный интерес. Поэтому есть потребность в автоматической идентификации интересных объектов для ускорения процесса изучения. На практике почти все обнаружения вызваны радиочастотными помехами и шумом, что затрудняет поиск достоверных сигналов. В последнее время для автоматического обнаружения пульсаров начали применять машинное обучение. Актуальная задача сегодня &mdash; бинарная классификация объектов-кандидатов на предмет того, являются ли они пульсарами.\n",
    "\n",
    "В используемом датасете есть как примеры ложных обнаружений, так и примеры реальных пульсаров, подтвержденные учеными. Данные получены в результате [The High Time Resolution Universe Pulsar Survey I](https://arxiv.org/abs/1006.5744)."
   ]
  },
  {
   "cell_type": "markdown",
   "metadata": {
    "id": "l5cdwNc7FZRL"
   },
   "source": [
    "Мы будем работать только с файлом `pulsar_data_train.csv`."
   ]
  },
  {
   "cell_type": "code",
   "execution_count": null,
   "metadata": {
    "id": "J_usqOs3iFE9"
   },
   "outputs": [],
   "source": [
    "data = pd.read_csv(\"pulsar_data_train.csv\")"
   ]
  },
  {
   "cell_type": "markdown",
   "metadata": {
    "id": "t2OfOUUH_-4V"
   },
   "source": [
    "Сигнал от пульсаров представляет собой периодические импульсы.\n",
    "\n",
    "Для описания объекта используется integrated profile (интегральный профиль) &mdash; агрегирование сигнала за разные периоды вращения (<a target=\"_blank\" href=\"http://ipta.phys.wvu.edu/files/student-week-2017/IPTA2017_KuoLiu_pulsartiming.pdf\">ссылка</a>, слайд 11). У всех пульсаров разные интегральные профили, и обычно эта характеристика мало меняется во времени.\n",
    "В данном датасете интегральный профиль также усреднен по частоте.\n",
    "\n",
    "Кроме того, импульс приходит в разное время на разных частотах. Задержка от частоты к частоте вызвана наличием ионизированной межзвездной среды и называется дисперсией. Не путать с дисперсией в теории вероятностей.\n",
    "\n",
    "С дисперсией связана еще одна характеристика объекта &mdash; DM-SNR кривая. Подробнее о ней можно почитать <a target=\"_blank\" href=\"https://arxiv.org/pdf/1005.5068.pdf#:~:text=period-DM%20diagram%3B%20good%20agreement,pulsars%20in%20their%20candidate%20plots.)\">в специализированных материалах</a>.\n",
    "\n",
    "Обе характеристики, integrated profile и DM-SNR кривая, представляют собой одномерные функции.\n",
    "При создании датасета значения функций были посчитаны в конечном количестве $n$ точек.\n",
    "Фактически, были получены реализации выборки двух случайных величин.\n",
    "\n",
    "Пусть $P = (p_1, \\ldots p_n)$ &mdash; массив значений integrated profile.\n",
    "Для него можно посчитать следующие величины:\n",
    "\n",
    "1.   Выборочное среднее $\\bar p = \\frac{1}{n}\\sum \\limits_{i=1}^n p_i$;\n",
    "2.   Выборочное стандартное отклонение $\\sqrt{\\frac{1}{n}\\sum \\limits_{i=1}^n (p_i - \\bar p)^2}$;\n",
    "3. Выборочный коэффициент асимметрии (skewness);\n",
    "4. Выборочный коэффициент эксцесса (kurtosis).\n",
    "\n",
    "Для $D = (d_1, \\ldots d_n)$, массива значений DM-SNR, аналогично.\n",
    "\n",
    "Именно эти значения по массивам $P$ и $D$ являются признаками в данном датасете.\n",
    "\n",
    "Про коэффициенты эксцесса и асимметрии можно посмотреть <a target=\"_blank\" href=\"https://ru.wikipedia.org/wiki/%D0%9A%D0%BE%D1%8D%D1%84%D1%84%D0%B8%D1%86%D0%B8%D0%B5%D0%BD%D1%82_%D1%8D%D0%BA%D1%81%D1%86%D0%B5%D1%81%D1%81%D0%B0\">здесь</a> и <a target=\"_blank\" href=\"https://ru.wikipedia.org/wiki/%D0%9A%D0%BE%D1%8D%D1%84%D1%84%D0%B8%D1%86%D0%B8%D0%B5%D0%BD%D1%82_%D0%B0%D1%81%D0%B8%D0%BC%D0%BC%D0%B5%D1%82%D1%80%D0%B8%D0%B8\">здесь</a>, формулы для выборочных коэффициентов асимметрии и эксцесса можно найти в английской версии этих статей.\n",
    "\n",
    "<a target=\"_blank\" href=\"https://arxiv.org/pdf/1603.05166.pdf\">Статья</a> с подробным описанием процесса генерации данных.\n",
    "\n",
    "\n",
    "\n",
    "\n",
    "\n",
    "\n",
    "\n",
    "\n"
   ]
  },
  {
   "cell_type": "code",
   "execution_count": null,
   "metadata": {
    "colab": {
     "base_uri": "https://localhost:8080/",
     "height": 258
    },
    "id": "40Zzx76G0xp_",
    "outputId": "99f3c0d2-4a9a-416f-a137-82996a36986f"
   },
   "outputs": [],
   "source": [
    "data.head()"
   ]
  },
  {
   "cell_type": "code",
   "execution_count": null,
   "metadata": {
    "colab": {
     "base_uri": "https://localhost:8080/"
    },
    "id": "iHlrsNcR1Y5Z",
    "outputId": "1d127dfa-6a5a-489f-f5da-69704c39dccc"
   },
   "outputs": [],
   "source": [
    "data.info()"
   ]
  },
  {
   "cell_type": "markdown",
   "metadata": {
    "id": "AB5AY-TG3uY5"
   },
   "source": [
    "### 2. Предобработаем данные."
   ]
  },
  {
   "cell_type": "markdown",
   "metadata": {
    "id": "x5Wg_a4V1m_Y"
   },
   "source": [
    "В этом датасете в некоторых столбцах есть пропуски в данных. Об этом говорит то, что значение Non-Null Count в таблице выше не равно количеству строк для некоторых столбцов. Чтобы не усложнять себе жизнь, пока просто не будем брать эти столбцы для анализа.\n",
    "\n",
    "Посчитайем число пропусков в каждой колонке:"
   ]
  },
  {
   "cell_type": "code",
   "execution_count": null,
   "metadata": {
    "colab": {
     "base_uri": "https://localhost:8080/"
    },
    "id": "XmjKTt163uY6",
    "outputId": "759079d3-6ce8-4e77-f587-6cb333581e6e"
   },
   "outputs": [],
   "source": [
    "data.isna().sum()"
   ]
  },
  {
   "cell_type": "markdown",
   "metadata": {
    "id": "IjHcy_Mk3uY6"
   },
   "source": [
    "Удалите все соответствующие строчки:"
   ]
  },
  {
   "cell_type": "code",
   "execution_count": null,
   "metadata": {
    "id": "lySlxF4l3uY7"
   },
   "outputs": [],
   "source": [
    "df = data.dropna()"
   ]
  },
  {
   "cell_type": "code",
   "execution_count": null,
   "metadata": {
    "colab": {
     "base_uri": "https://localhost:8080/"
    },
    "id": "cOkfjGFg4kha",
    "outputId": "fb0d111f-7d7b-4723-fc82-15e4ab476259"
   },
   "outputs": [],
   "source": [
    "df.isna().sum()"
   ]
  },
  {
   "cell_type": "markdown",
   "metadata": {
    "id": "wDeAa3jJ3uY7"
   },
   "source": [
    "Теперь возьмем только некоторые столбцы в качестве независимых переменных и выделим зависимую. Столбец `target_class` отвечает за целевую переменную — индикатор того, является ли объект пульсаром."
   ]
  },
  {
   "cell_type": "code",
   "execution_count": null,
   "metadata": {
    "colab": {
     "base_uri": "https://localhost:8080/"
    },
    "id": "YWW8q_2VijOI",
    "outputId": "27be0547-8cbc-4656-9b03-6ea5a0ae9104"
   },
   "outputs": [],
   "source": [
    "needed_columns = [' Mean of the integrated profile',\n",
    "       ' Standard deviation of the integrated profile',\n",
    "       ' Skewness of the integrated profile', ' Mean of the DM-SNR curve',\n",
    "       ' Excess kurtosis of the DM-SNR curve']  # Используем только эти столбцы\n",
    "\n",
    "X = df[needed_columns]\n",
    "y = df['target_class']\n",
    "\n",
    "print(X.shape, y.shape)"
   ]
  },
  {
   "cell_type": "markdown",
   "metadata": {
    "id": "Ts-loIUW3uY7",
    "jp-MarkdownHeadingCollapsed": true
   },
   "source": [
    "## 3. Графики"
   ]
  },
  {
   "cell_type": "markdown",
   "metadata": {
    "id": "OVGMAYCh_uQ8"
   },
   "source": [
    "Проведем визуальный анализ данных. Построим оценки плотности по каждому признаку отдельно для каждого класса. Какие признаки лучше всего разделяют классы? Как это отразится на результатах модели?"
   ]
  },
  {
   "cell_type": "code",
   "execution_count": null,
   "metadata": {
    "colab": {
     "base_uri": "https://localhost:8080/",
     "height": 1000
    },
    "id": "9zof-vKy3uY7",
    "outputId": "d40e1034-59a0-4261-afd5-db3a601aa794"
   },
   "outputs": [],
   "source": [
    "sns.set_theme(font_scale=0.8)\n",
    "\n",
    "plot = sns.PairGrid(data, x_vars=needed_columns, y_vars=needed_columns, hue=\"target_class\", diag_sharey=False)\n",
    "\n",
    "plot.map_diag(sns.kdeplot)\n",
    "plot.map_lower(sns.scatterplot)\n",
    "plot.add_legend()"
   ]
  },
  {
   "cell_type": "markdown",
   "metadata": {
    "id": "iEoAwOkf_uQ_"
   },
   "source": [
    "**Ответ:**\n",
    "\n",
    "Хорошо разделяются те признаки, которые визально различиысы на данных гафиках."
   ]
  },
  {
   "cell_type": "markdown",
   "metadata": {
    "id": "KCONSiW13uY8"
   },
   "source": [
    "### 4. Разделим датасет и трансформируем данные"
   ]
  },
  {
   "cell_type": "markdown",
   "metadata": {
    "id": "18C9pCBs_uQ_"
   },
   "source": [
    "Добавьте  свободный член, присоединив столбец из единиц к `X`. Случайно разделите выборку на обучающую и тестовую части в соотношении 4:1."
   ]
  },
  {
   "cell_type": "code",
   "execution_count": null,
   "metadata": {
    "colab": {
     "base_uri": "https://localhost:8080/"
    },
    "id": "_L_w739v3uY8",
    "outputId": "2accdeb4-c5a8-4c29-ff64-bb094617761c"
   },
   "outputs": [],
   "source": [
    "X[\"intercept\"] =  np.ones((X.shape[0], 1))\n",
    "\n",
    "X_train, X_test, y_train, y_test = train_test_split(X, y, test_size = 0.2, random_state = 42)\n",
    "print(X_train.shape, X_test.shape, y_train.shape, y_test.shape)"
   ]
  },
  {
   "cell_type": "markdown",
   "metadata": {
    "id": "6jhVGRzp3uY8"
   },
   "source": [
    "У признаков должен быть одинаковый масштаб. Преобразуйте датасет соответствующим образом."
   ]
  },
  {
   "cell_type": "code",
   "execution_count": null,
   "metadata": {
    "id": "0zTyL5E23uY8"
   },
   "outputs": [],
   "source": [
    "scaler = StandardScaler()\n",
    "\n",
    "X_train = scaler.fit_transform(X_train)\n",
    "X_test = scaler.transform(X_test)"
   ]
  },
  {
   "cell_type": "markdown",
   "metadata": {
    "id": "tmQW5_xO3uY8"
   },
   "source": [
    "### 5. Обучим модель"
   ]
  },
  {
   "cell_type": "markdown",
   "metadata": {
    "id": "t0DiXhw-_uQ_"
   },
   "source": [
    "Создайте и обучите логистическую регрессию. `fit_intercept` укажите `True`."
   ]
  },
  {
   "cell_type": "code",
   "execution_count": null,
   "metadata": {
    "colab": {
     "base_uri": "https://localhost:8080/",
     "height": 74
    },
    "id": "G4PUmJ-_3uY9",
    "outputId": "91fa2ee4-10ec-40bb-d5f0-36949b49b961"
   },
   "outputs": [],
   "source": [
    "model = LogisticRegression(fit_intercept = False)\n",
    "\n",
    "model.fit(X_train, y_train)"
   ]
  },
  {
   "cell_type": "markdown",
   "metadata": {
    "id": "yazXNuZk3uY9"
   },
   "source": [
    "Напечатайте коэффициенты модели. О чём говорят знаки `+` и `-`? Почему коэффициент, отвечающий за единичный столбец, равен нулю?"
   ]
  },
  {
   "cell_type": "code",
   "execution_count": null,
   "metadata": {
    "colab": {
     "base_uri": "https://localhost:8080/"
    },
    "id": "a031n2kp3uY9",
    "outputId": "1efdb8ff-a612-4f30-abf0-c09214d03847"
   },
   "outputs": [],
   "source": [
    "model.coef_, model.intercept_"
   ]
  },
  {
   "cell_type": "markdown",
   "metadata": {
    "id": "7lr0bUO63uY9"
   },
   "source": [
    "**Выводы:**\n",
    "\n",
    "Знаки + и - перед коэффициентами указывают на направление влияния признаков на целевую переменную."
   ]
  },
  {
   "cell_type": "markdown",
   "metadata": {
    "id": "VOUbwd-W3uY9"
   },
   "source": [
    "### 6. Проверим качество модели"
   ]
  },
  {
   "cell_type": "markdown",
   "metadata": {
    "id": "Zcc65PL4_uRB"
   },
   "source": [
    "Для  объектов из тестовой выборки оцените вероятность того, что это пульсар, при помощи метода [`predict_proba`](https://scikit-learn.org/stable/modules/generated/sklearn.linear_model.LogisticRegression.html). Выведите эти значения, а также итоговые предсказания модели методом `predict`"
   ]
  },
  {
   "cell_type": "code",
   "execution_count": null,
   "metadata": {
    "colab": {
     "base_uri": "https://localhost:8080/"
    },
    "id": "b5A-MtL33uY9",
    "outputId": "f31efc23-19c0-4d3d-80d1-8f973b2fe620"
   },
   "outputs": [],
   "source": [
    "prob = model.predict_proba(X_test)\n",
    "\n",
    "print(\"Вероятности принадлежности к классам:\")\n",
    "print(prob)\n",
    "\n",
    "y_pred = model.predict(X_test)\n",
    "\n",
    "# Вывод итоговых предсказаний\n",
    "print(\"Итоговые предсказания:\")\n",
    "print(y_pred)"
   ]
  },
  {
   "cell_type": "markdown",
   "metadata": {
    "id": "Ble7h-9f3uY9"
   },
   "source": [
    "Теперь проверим качество нашей модели. Посчитайте его на тестовой выборке при помощи метрики Accuracy, показывающей долю правильных предсказаний:\n",
    "$$\n",
    "    Accuracy(y, \\widehat{y}) = \\frac{1}{n}\\sum^{n-1}_{i = 0} I\\{\\widehat{y_i} = y_i\\}\n",
    "$$"
   ]
  },
  {
   "cell_type": "code",
   "execution_count": null,
   "metadata": {
    "colab": {
     "base_uri": "https://localhost:8080/"
    },
    "id": "uLx9sQx93uY9",
    "outputId": "23d4ff85-fbd3-40c0-913e-86edb7987c56"
   },
   "outputs": [],
   "source": [
    "from sklearn.metrics import accuracy_score\n",
    "\n",
    "accuracy = accuracy_score(y_test, y_pred)\n",
    "\n",
    "print(f\"Точность модели на тестовой выборке: {accuracy:.2f}\")"
   ]
  },
  {
   "cell_type": "markdown",
   "metadata": {
    "id": "Pkghd5UT3uY-"
   },
   "source": [
    "Другими важными метриками для оценки качества модели являются precision, recall и F1. Precision показывает точность нашей модели, то есть долю правильно классифицированных объектов из всех, которым был присвоен первый класс. Recall - это полнота модели, то есть доля правильно классифицированных объектов из всех. F1 суммирует результаты этих двух метрик, считая их среднее гармоническое. Чуть подробнее можно прочитать про эти величины в [статье](https://habr.com/ru/articles/661119/)."
   ]
  },
  {
   "cell_type": "markdown",
   "metadata": {
    "id": "wXfAZv2z3uY-"
   },
   "source": [
    "<img width=450 src=\"https://upload.wikimedia.org/wikipedia/commons/thumb/2/26/Precisionrecall.svg/800px-Precisionrecall.svg.png\">"
   ]
  },
  {
   "cell_type": "markdown",
   "metadata": {
    "id": "bxPvtYFn3uY-"
   },
   "source": [
    "Посчитайте все три метрики для вашей модели. Сделайте выводы о качестве предсказаний."
   ]
  },
  {
   "cell_type": "code",
   "execution_count": null,
   "metadata": {
    "colab": {
     "base_uri": "https://localhost:8080/"
    },
    "id": "5SwFDa1c3uZC",
    "outputId": "330eaffa-8322-4381-cc21-6f18e889aca8"
   },
   "outputs": [],
   "source": [
    "from sklearn.metrics import precision_score, recall_score, f1_score\n",
    "\n",
    "precision = precision_score(y_test, y_pred)\n",
    "recall = recall_score(y_test, y_pred)\n",
    "f1 = f1_score(y_test, y_pred)\n",
    "\n",
    "print(f\"Precision: {precision:.2f}\")\n",
    "print(f\"Recall: {recall:.2f}\")\n",
    "print(f\"F1 Score: {f1:.2f}\")"
   ]
  },
  {
   "cell_type": "markdown",
   "metadata": {
    "id": "ckbEfZzQ3uZD"
   },
   "source": [
    "**Выводы:**\n",
    "\n",
    "Precision: 77% объектов, которым модель присвоила положительный класс, действительно принадлежат к этому классу.\n",
    "\n",
    "Recall: Модель успешно обнаружила 83% объектов, которые действительно принадлежат к положительному классу.\n",
    "\n",
    "F1 Score - комбинированная метрика, учитывает как точность, так и полноту. Значение 0.80 говорит о том, что модель достаточно хорошо сбалансирована."
   ]
  }
 ],
 "metadata": {
  "colab": {
   "provenance": []
  },
  "kernelspec": {
   "display_name": "Python 3 (ipykernel)",
   "language": "python",
   "name": "python3"
  },
  "language_info": {
   "codemirror_mode": {
    "name": "ipython",
    "version": 3
   },
   "file_extension": ".py",
   "mimetype": "text/x-python",
   "name": "python",
   "nbconvert_exporter": "python",
   "pygments_lexer": "ipython3",
   "version": "3.11.5"
  }
 },
 "nbformat": 4,
 "nbformat_minor": 0
}
