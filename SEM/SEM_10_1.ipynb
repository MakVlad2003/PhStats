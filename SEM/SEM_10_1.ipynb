{
 "cells": [
  {
   "cell_type": "code",
   "execution_count": null,
   "metadata": {
    "id": "i88M6phuq5hg"
   },
   "outputs": [],
   "source": [
    "from sklearn import datasets\n",
    "from sklearn.metrics import accuracy_score\n",
    "from sklearn.tree import DecisionTreeClassifier\n",
    "from sklearn.model_selection import train_test_split\n",
    "from sklearn import tree\n",
    "\n",
    "import numpy as np\n",
    "import pandas as pd\n",
    "from matplotlib.colors import ListedColormap\n",
    "import matplotlib.pyplot as plt\n",
    "import seaborn as sns\n",
    "sns.set(font_scale=1.5)\n"
   ]
  },
  {
   "cell_type": "markdown",
   "metadata": {
    "id": "vaXkzpiYo97Z"
   },
   "source": [
    "## Классификация с использованием решающего дерева"
   ]
  },
  {
   "cell_type": "markdown",
   "metadata": {
    "id": "ZL2d3Amfo97a"
   },
   "source": [
    "Для классификации мы будем использовать датасет `load_iris()` из библиотеки `sklearn.datasets`. Посмотрим подробнее:"
   ]
  },
  {
   "cell_type": "code",
   "execution_count": null,
   "metadata": {
    "colab": {
     "base_uri": "https://localhost:8080/"
    },
    "id": "tE2d1RYu5ALe",
    "outputId": "e5db6fc1-1eb0-46d2-b59a-88b7f9a0a4e1"
   },
   "outputs": [],
   "source": [
    "data = datasets.load_iris()\n",
    "print(data['DESCR'])"
   ]
  },
  {
   "cell_type": "code",
   "execution_count": null,
   "metadata": {
    "id": "7zm5SQKWo97c"
   },
   "outputs": [],
   "source": [
    "X = data['data']\n",
    "y = data['target']"
   ]
  },
  {
   "cell_type": "markdown",
   "metadata": {
    "id": "KnIoGwmn5ALf"
   },
   "source": [
    "Посмотрим, сколько всего у нас классов в датасете."
   ]
  },
  {
   "cell_type": "code",
   "execution_count": null,
   "metadata": {
    "colab": {
     "base_uri": "https://localhost:8080/"
    },
    "id": "mJ96wFWL5ALf",
    "outputId": "31ccc0fa-a99e-4e28-950f-9bd19af442b4"
   },
   "outputs": [],
   "source": [
    "np.unique(y)"
   ]
  },
  {
   "cell_type": "markdown",
   "metadata": {
    "id": "StwhdC2_5ALf"
   },
   "source": [
    "Проверим, сколько элементов каждого класса есть в датасете."
   ]
  },
  {
   "cell_type": "code",
   "execution_count": null,
   "metadata": {
    "colab": {
     "base_uri": "https://localhost:8080/",
     "height": 494
    },
    "id": "jxViaAKn5ALf",
    "outputId": "0f65e9a9-9df7-4f6f-b750-813dcd3c9afc"
   },
   "outputs": [],
   "source": [
    "plt.hist(y, bins=len(np.unique(y)))"
   ]
  },
  {
   "cell_type": "markdown",
   "metadata": {
    "id": "xX4fGgUl5ALg"
   },
   "source": [
    "Получается, что мы имеем одинаковое кол-во элементов каждого класса. Предположите, чем будет плоха сильная дисбаллансировка классов."
   ]
  },
  {
   "cell_type": "markdown",
   "metadata": {
    "id": "rINXqxr25ALg"
   },
   "source": [
    "**Ответ:**\n",
    "\n",
    "1. Модель склонна предсказывать чаще встречающиеся классы, игнорируя редкие.\n",
    "\n",
    "2. Модель может показывать низкую точность для редких классов из-за их меньшего представления в данных.\n",
    "\n",
    "3. Метрики оценки могут быть искажены из-за дисбаланса классов.\n",
    "\n",
    "4. Модель может переобучиться на часто встречающиеся классы."
   ]
  },
  {
   "cell_type": "markdown",
   "metadata": {
    "id": "TqxniW4Qo97d"
   },
   "source": [
    "Сопоставим каждому классу цвет."
   ]
  },
  {
   "cell_type": "code",
   "execution_count": null,
   "metadata": {
    "id": "g5EYWj1Po97d"
   },
   "outputs": [],
   "source": [
    "colors = ListedColormap(['#FF3300', '#0099CC', '#00CC66'])"
   ]
  },
  {
   "cell_type": "markdown",
   "metadata": {
    "id": "xe3myODEo97g"
   },
   "source": [
    "Посмотрим на данные."
   ]
  },
  {
   "cell_type": "code",
   "execution_count": null,
   "metadata": {
    "colab": {
     "base_uri": "https://localhost:8080/",
     "height": 570
    },
    "id": "3_eEmV-jo97g",
    "outputId": "dca4a9c8-6f44-469d-8be7-fd4b57663d79"
   },
   "outputs": [],
   "source": [
    "plt.figure(figsize=(8, 6))\n",
    "grid_x1 = X[:, 0]\n",
    "grid_x2 = X[:, 1]\n",
    "plt.scatter(grid_x1, grid_x2, c=y, cmap=colors, s=100, alpha=0.7)\n",
    "plt.xlabel(data['feature_names'][0])\n",
    "plt.ylabel(data['feature_names'][1]);"
   ]
  },
  {
   "cell_type": "code",
   "execution_count": null,
   "metadata": {
    "colab": {
     "base_uri": "https://localhost:8080/",
     "height": 564
    },
    "id": "ocBh5em85ALh",
    "outputId": "83b2fae4-7336-4f4e-ee72-a5248d674581"
   },
   "outputs": [],
   "source": [
    "plt.figure(figsize=(8, 6))\n",
    "grid_x1 = X[:, 2]\n",
    "grid_x2 = X[:, 3]\n",
    "plt.scatter(grid_x1, grid_x2, c=y, cmap=colors, s=100, alpha=0.7)\n",
    "plt.xlabel(data['feature_names'][2])\n",
    "plt.ylabel(data['feature_names'][3]);"
   ]
  },
  {
   "cell_type": "markdown",
   "metadata": {
    "id": "13BtuYR35ALi"
   },
   "source": [
    "Какой вывод можно сделать из полученных графиков?"
   ]
  },
  {
   "cell_type": "markdown",
   "metadata": {
    "id": "CRS5fM5s5ALi"
   },
   "source": [
    "**Ответ:**\n",
    "\n",
    "1. Классы на графиках отчетливо различимы, что является хорошим знаком для обучения модели.\n",
    "\n",
    "2. Есть небольшие пересечения классов, что может привести к некоторой неоднозначности в классификации.\n",
    "\n",
    "3. Нет явных выбросов, что говорит о чистоте данных."
   ]
  },
  {
   "cell_type": "markdown",
   "metadata": {
    "id": "QleN6Gg05ALi"
   },
   "source": [
    "Разделим выборку на обучающую и тестовую"
   ]
  },
  {
   "cell_type": "code",
   "execution_count": null,
   "metadata": {
    "id": "0wHYCWNj5ALi"
   },
   "outputs": [],
   "source": [
    "X_train, X_test, y_train, y_test = train_test_split(\n",
    "    X, y, test_size=0.3, random_state=777\n",
    ")"
   ]
  },
  {
   "cell_type": "markdown",
   "metadata": {
    "id": "ZCiY3eNK5ALi"
   },
   "source": [
    "Инициализируем и обучим решающее дерево для классификации."
   ]
  },
  {
   "cell_type": "code",
   "execution_count": null,
   "metadata": {
    "colab": {
     "base_uri": "https://localhost:8080/",
     "height": 75
    },
    "id": "ertJu8_h5ALj",
    "outputId": "5d13db3f-85a0-479b-b364-76f1ef751083"
   },
   "outputs": [],
   "source": [
    "clf = DecisionTreeClassifier(random_state=42)\n",
    "clf.fit(X_train, y_train)"
   ]
  },
  {
   "cell_type": "markdown",
   "metadata": {
    "id": "M23Ik1g05ALj"
   },
   "source": [
    "Выведите параметры дерева с помощью функции `get_params()`.\n"
   ]
  },
  {
   "cell_type": "code",
   "execution_count": null,
   "metadata": {
    "colab": {
     "base_uri": "https://localhost:8080/"
    },
    "id": "mouiEf5I5ALj",
    "outputId": "f917f3a0-355b-46dd-c834-bb7788debc7d"
   },
   "outputs": [],
   "source": [
    "clf.get_params()"
   ]
  },
  {
   "cell_type": "markdown",
   "metadata": {
    "id": "B1-taaON5ALj"
   },
   "source": [
    "Сделаем предсказание и оценим качество модели."
   ]
  },
  {
   "cell_type": "code",
   "execution_count": null,
   "metadata": {
    "colab": {
     "base_uri": "https://localhost:8080/"
    },
    "id": "TJ0PFrD_5ALj",
    "outputId": "cdee26f8-462e-4570-8abd-1792b51dd94b"
   },
   "outputs": [],
   "source": [
    "predictions = clf.predict(X_test)\n",
    "print('test accuracy:', accuracy_score(predictions, y_test))"
   ]
  },
  {
   "cell_type": "markdown",
   "metadata": {
    "id": "bJlM-sAQuaI8"
   },
   "source": [
    "Визуализируйте дерево с помощью `sklearn.tree.plot_tree()`."
   ]
  },
  {
   "cell_type": "code",
   "execution_count": null,
   "metadata": {
    "colab": {
     "base_uri": "https://localhost:8080/",
     "height": 807
    },
    "id": "uKGrj8t4rPbC",
    "outputId": "805cbfff-7633-4a4d-d3fb-4dc5f0122d57"
   },
   "outputs": [],
   "source": [
    "plt.figure(figsize=(15, 10))\n",
    "tree.plot_tree(clf)\n",
    "plt.show()"
   ]
  },
  {
   "cell_type": "markdown",
   "metadata": {
    "id": "acsNsymI5ALk"
   },
   "source": [
    "Поменяйте параметр max_depth, заново обучите классификатор и визуализируйте получившееся дерево/деревья. Сделайте вывод - за что отвечает параметр?"
   ]
  },
  {
   "cell_type": "code",
   "execution_count": null,
   "metadata": {
    "colab": {
     "base_uri": "https://localhost:8080/"
    },
    "id": "_H_itXtA5ALk",
    "outputId": "5683d7c9-f24a-4d32-e159-83068706ecf4"
   },
   "outputs": [],
   "source": [
    "clf_2 = DecisionTreeClassifier(random_state = 42, max_depth = 5)\n",
    "clf_2.fit(X_train, y_train)\n",
    "predictions = clf_2.predict(X_test)\n",
    "print('test accuracy:', accuracy_score(predictions, y_test))"
   ]
  },
  {
   "cell_type": "code",
   "execution_count": null,
   "metadata": {
    "colab": {
     "base_uri": "https://localhost:8080/",
     "height": 807
    },
    "id": "X884NwXh5_UC",
    "outputId": "e0d403ee-13cb-4b98-d49f-a7750c4b81a2"
   },
   "outputs": [],
   "source": [
    "plt.figure(figsize = (15, 10))\n",
    "tree.plot_tree(clf_2)\n",
    "plt.show()"
   ]
  },
  {
   "cell_type": "markdown",
   "metadata": {
    "id": "8YOn0BZa5ALk"
   },
   "source": [
    "**Ответ:**\n",
    "\n",
    "Параметр max_depth отвечает за максимальную глубину дерева."
   ]
  },
  {
   "cell_type": "markdown",
   "metadata": {
    "id": "0M2crCk35ALk"
   },
   "source": [
    "Сделайте то же для параметры min_samples_leaf. За что он отвечает?\n"
   ]
  },
  {
   "cell_type": "code",
   "execution_count": null,
   "metadata": {
    "colab": {
     "base_uri": "https://localhost:8080/"
    },
    "id": "108H4Z9W5ALk",
    "outputId": "f3b537ae-2a7f-4b32-ceb6-5bcb67f01152"
   },
   "outputs": [],
   "source": [
    "clf_3 = DecisionTreeClassifier(random_state = 42, min_samples_leaf = 5)\n",
    "clf_3.fit(X_train, y_train)\n",
    "predictions = clf_3.predict(X_test)\n",
    "print('test accuracy:', accuracy_score(predictions, y_test))"
   ]
  },
  {
   "cell_type": "code",
   "execution_count": null,
   "metadata": {
    "colab": {
     "base_uri": "https://localhost:8080/",
     "height": 807
    },
    "id": "rJXlMSeB6MyB",
    "outputId": "a04f4f7e-a33e-43ad-a636-f4489d2ff960"
   },
   "outputs": [],
   "source": [
    "plt.figure(figsize = (15, 10))\n",
    "tree.plot_tree(clf_3)\n",
    "plt.show()"
   ]
  },
  {
   "cell_type": "markdown",
   "metadata": {
    "id": "9_In_y8p5ALl"
   },
   "source": [
    "**Ответ:**\n",
    "\n",
    "Параметр min_samples_leaf отвечает за минимальное количество элементов выборки, которое соответствует листу."
   ]
  }
 ],
 "metadata": {
  "colab": {
   "provenance": []
  },
  "kernelspec": {
   "display_name": "Python 3 (ipykernel)",
   "language": "python",
   "name": "python3"
  },
  "language_info": {
   "codemirror_mode": {
    "name": "ipython",
    "version": 3
   },
   "file_extension": ".py",
   "mimetype": "text/x-python",
   "name": "python",
   "nbconvert_exporter": "python",
   "pygments_lexer": "ipython3",
   "version": "3.12.1"
  }
 },
 "nbformat": 4,
 "nbformat_minor": 0
}
