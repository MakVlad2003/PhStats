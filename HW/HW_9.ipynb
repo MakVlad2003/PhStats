{
 "cells": [
  {
   "cell_type": "code",
   "execution_count": null,
   "metadata": {
    "id": "K-SIkAMFlY4N"
   },
   "outputs": [],
   "source": [
    "import pandas as pd\n",
    "import scipy.stats as sps\n",
    "import matplotlib.pyplot as plt\n",
    "import numpy as np\n",
    "import seaborn as sns\n",
    "from tqdm import tqdm\n",
    "from collections import defaultdict\n",
    "from matplotlib import colormaps as cmap"
   ]
  },
  {
   "cell_type": "markdown",
   "metadata": {
    "id": "NYDwPfHJlY4O"
   },
   "source": [
    "### <b><font color=\"blue\">Легкая часть</font></b>\n",
    "### Задача 1\n",
    "\n",
    "Проверьте, отличается ли средний балл студентов курса Phystech@DataScience за легкую часть задания 3 и 6 весной 2024.\n",
    "\n",
    "Данные возьмите из [таблицы оценок](https://docs.google.com/spreadsheets/d/1CTOvQrxRpGEJG5vOIVYSPBfUzON5MAsnZeAUj3xxzFA/edit?usp=sharing). Не забудьте визуализировать данные с помощью ядерной оценки плотности (вам поможет функция `sns.kdeplot`) и оценить сдвиг.\n",
    "\n"
   ]
  },
  {
   "cell_type": "markdown",
   "metadata": {
    "id": "7pPhQUKhqvpF"
   },
   "source": [
    "Для удобства сделал отдельную табличку по 3 и 6 ДЗ:"
   ]
  },
  {
   "cell_type": "code",
   "execution_count": null,
   "metadata": {
    "colab": {
     "base_uri": "https://localhost:8080/",
     "height": 206
    },
    "id": "fwBtW7MwlY4O",
    "outputId": "44898470-7a34-4782-9e3c-d1676c31af46"
   },
   "outputs": [],
   "source": [
    "df = pd.read_excel('Ph@DS_HW3_HW6.xlsx')\n",
    "df.head()"
   ]
  },
  {
   "cell_type": "markdown",
   "metadata": {
    "id": "6S15AQ-irMof"
   },
   "source": [
    "**Замечание:** При исследовании среднего балла мы будем использовать доли от максимального значения, поскольку количество баллов за эти задания различается (одинаково для легкой части и различается для сложной), т.е. проведем своего рода стандартизацию данных. Следовательно, мы также проведем анализ среднего балла для легкой и сложной частей отдельно."
   ]
  },
  {
   "cell_type": "markdown",
   "metadata": {
    "id": "_1NpcowxtdoX"
   },
   "source": [
    "Подготовка данных:"
   ]
  },
  {
   "cell_type": "code",
   "execution_count": null,
   "metadata": {
    "id": "VrSAY4v6r9DI"
   },
   "outputs": [],
   "source": [
    "HW_3 = pd.DataFrame({\n",
    "    'HW_3_E': df['HW_3_E'],\n",
    "    'HW_3_H': df['HW_3_H']\n",
    "})\n",
    "\n",
    "\n",
    "HW_3['HW_3_E'] /= max(HW_3['HW_3_E'])\n",
    "HW_3['HW_3_H'] /= max(HW_3['HW_3_H'])\n",
    "\n",
    "\n",
    "HW_6 = pd.DataFrame({\n",
    "    'HW_6_E': df['HW_6_E'],\n",
    "    'HW_6_H': df['HW_6_H']\n",
    "})\n",
    "\n",
    "HW_6['HW_6_E'] /= max(HW_6['HW_6_E'])\n",
    "HW_6['HW_6_H'] /= max(HW_6['HW_6_H'])"
   ]
  },
  {
   "cell_type": "markdown",
   "metadata": {
    "id": "hQa0vftRtkvd"
   },
   "source": [
    "Посмотрим на KDE баллов за 3 и 6 ДЗ:"
   ]
  },
  {
   "cell_type": "code",
   "execution_count": null,
   "metadata": {
    "colab": {
     "base_uri": "https://localhost:8080/",
     "height": 504
    },
    "id": "nj8Gxf6_tq_-",
    "outputId": "1f9b7f26-da1e-4410-8c65-5b56515a32aa"
   },
   "outputs": [],
   "source": [
    "plt.figure(figsize = (12, 5))\n",
    "\n",
    "sns.kdeplot(data = HW_3, x = 'HW_3_E', label = 'Лёгкая часть')\n",
    "sns.kdeplot(data = HW_3, x = 'HW_3_H', label = 'Сложная часть')\n",
    "\n",
    "plt.title('KDE баллов за 3 ДЗ')\n",
    "\n",
    "plt.xlabel('Балл (доля от максимума)')\n",
    "plt.ylabel('Плотность')\n",
    "\n",
    "plt.grid()\n",
    "plt.legend()"
   ]
  },
  {
   "cell_type": "code",
   "execution_count": null,
   "metadata": {
    "colab": {
     "base_uri": "https://localhost:8080/",
     "height": 504
    },
    "id": "k3__uWdBuWnY",
    "outputId": "83fb0045-d132-4881-efdf-76f13871d3ae"
   },
   "outputs": [],
   "source": [
    "plt.figure(figsize = (12, 5))\n",
    "\n",
    "sns.kdeplot(data = HW_6, x = 'HW_6_E', label = 'Лёгкая часть')\n",
    "sns.kdeplot(data = HW_6, x = 'HW_6_H', label = 'Сложная часть')\n",
    "\n",
    "plt.title('KDE баллов за 6 ДЗ')\n",
    "\n",
    "plt.xlabel('Балл (доля от максимума)')\n",
    "plt.ylabel('Плотность')\n",
    "\n",
    "plt.grid()\n",
    "plt.legend()"
   ]
  },
  {
   "cell_type": "markdown",
   "metadata": {
    "id": "bSqbwUv0vGHh"
   },
   "source": [
    "Давайте также учтем, что есть студенты, которые не делают ДЗ. Давайте их кокнем, потом шлепнем, т.е. посмотрим на распределение данных без нулей за легкую и сложную часть в обоих ДЗ:"
   ]
  },
  {
   "cell_type": "code",
   "execution_count": null,
   "metadata": {
    "id": "MPi1yDY1vhci"
   },
   "outputs": [],
   "source": [
    "HW_3_without_null = HW_3[(HW_3['HW_3_E'] != 0) | (HW_3['HW_3_H'] != 0) | (HW_6['HW_6_E'] != 0) | (HW_6['HW_6_H'] != 0)]\n",
    "HW_6_without_null = HW_6[(HW_3['HW_3_E'] != 0) | (HW_3['HW_3_H'] != 0) | (HW_6['HW_6_E'] != 0) | (HW_6['HW_6_H'] != 0)]"
   ]
  },
  {
   "cell_type": "code",
   "execution_count": null,
   "metadata": {
    "colab": {
     "base_uri": "https://localhost:8080/",
     "height": 504
    },
    "id": "2DENkKyPkIc-",
    "outputId": "95403c40-f16e-4296-b7f6-64770cdc62b3"
   },
   "outputs": [],
   "source": [
    "plt.figure(figsize = (12, 5))\n",
    "\n",
    "sns.kdeplot(data = HW_3_without_null, x = 'HW_3_E', label = 'Лёгкая часть')\n",
    "sns.kdeplot(data = HW_3_without_null, x = 'HW_3_H', label = 'Сложная часть')\n",
    "\n",
    "plt.title('KDE баллов за 3 ДЗ (без нулей)')\n",
    "\n",
    "plt.xlabel('Балл (доля от максимума)')\n",
    "plt.ylabel('Плотность')\n",
    "\n",
    "plt.grid()\n",
    "plt.legend()"
   ]
  },
  {
   "cell_type": "code",
   "execution_count": null,
   "metadata": {
    "colab": {
     "base_uri": "https://localhost:8080/",
     "height": 504
    },
    "id": "871zJbW-mh2-",
    "outputId": "2e02664c-be4c-436d-ca29-7fd719ad3536"
   },
   "outputs": [],
   "source": [
    "plt.figure(figsize = (12, 5))\n",
    "\n",
    "sns.kdeplot(data = HW_6_without_null, x = 'HW_6_E', label = 'Лёгкая часть')\n",
    "sns.kdeplot(data = HW_6_without_null, x = 'HW_6_H', label = 'Сложная часть')\n",
    "\n",
    "plt.title('KDE баллов за 6 ДЗ (без нулей)')\n",
    "\n",
    "plt.xlabel('Балл (доля от максимума)')\n",
    "plt.ylabel('Плотность')\n",
    "\n",
    "plt.grid()\n",
    "plt.legend()"
   ]
  },
  {
   "cell_type": "markdown",
   "metadata": {
    "id": "KVIy2oBlmqa1"
   },
   "source": [
    "Теперь общий график:"
   ]
  },
  {
   "cell_type": "code",
   "execution_count": null,
   "metadata": {
    "colab": {
     "base_uri": "https://localhost:8080/",
     "height": 504
    },
    "id": "lKaEou0vmtMc",
    "outputId": "cd92ed4d-142f-4197-8207-fa96383b74c3"
   },
   "outputs": [],
   "source": [
    "plt.figure(figsize = (12, 5))\n",
    "\n",
    "sns.kdeplot(data = HW_3_without_null, x = 'HW_3_E', label = 'Лёгкая часть ДЗ 3', color = 'blue', linestyle = '--')\n",
    "sns.kdeplot(data = HW_3_without_null, x = 'HW_3_H', label = 'Сложная часть ДЗ 3', color = 'blue')\n",
    "sns.kdeplot(data = HW_6_without_null, x = 'HW_6_E', label = 'Лёгкая часть ДЗ 6', color = 'red', linestyle = '--')\n",
    "sns.kdeplot(data = HW_6_without_null, x = 'HW_6_H', label = 'Сложная часть ДЗ 6', color = 'red')\n",
    "\n",
    "plt.title('KDE баллов за 3 и 6 ДЗ (без нулей)')\n",
    "\n",
    "plt.xlabel('Балл (доля от максимума)')\n",
    "plt.ylabel('Плотность')\n",
    "\n",
    "plt.grid()\n",
    "plt.legend()"
   ]
  },
  {
   "cell_type": "markdown",
   "metadata": {
    "id": "fsGhAuHPncE2"
   },
   "source": [
    "Теперь посчитаем p-value и проверим гипотезу равенства средних:"
   ]
  },
  {
   "cell_type": "code",
   "execution_count": null,
   "metadata": {
    "colab": {
     "base_uri": "https://localhost:8080/"
    },
    "id": "be10DA9qnjkr",
    "outputId": "62f0ce03-1903-446c-b0c3-7e9ebc4396bb"
   },
   "outputs": [],
   "source": [
    "_, p_val_E = sps.ttest_rel(HW_3_without_null['HW_3_E'], HW_6_without_null['HW_6_E'])\n",
    "_, p_val_H = sps.ttest_rel(HW_3_without_null['HW_3_H'], HW_6_without_null['HW_6_H'])\n",
    "\n",
    "print(f'Для лёгкой части p_value = {p_val_E.round(5)}, значит отвергаем гипотезу равенства средних \\n')\n",
    "print(f'Для сложной части p_value = {p_val_H.round(5)}, значит отвергаем гипотезу равенства средних \\n')"
   ]
  },
  {
   "cell_type": "markdown",
   "metadata": {
    "id": "8DCjyKcvlY4O"
   },
   "source": [
    "Сделайте общий вывод по задаче."
   ]
  },
  {
   "cell_type": "markdown",
   "metadata": {
    "id": "oj2Jjd3hlY4O"
   },
   "source": [
    "**Вывод:**\n",
    "\n",
    "Для легкой и сложной части гипотеза равенства средних была отвергнута. По KDE это примерно и было видно."
   ]
  },
  {
   "cell_type": "markdown",
   "metadata": {
    "id": "t9qGt6Z5lY4O"
   },
   "source": [
    "### Задача 2\n",
    "Рассмотрите таблицу с оценками по какому-либо курсу с несколькими семинарскими группами. Выберите свою группу и еще какую-нибудь. Проверьте гипотезу о том, что средний балл не отличается между семинарскими группами. Не забывайте про визуализацию.\n",
    "\n",
    "Сделайте выводы.\n",
    "\n",
    "**Данные:**\n",
    "\n",
    "У меня есть сосед, который очень любит электронику, фотонику и нанотехнологии. Как-то раз, год назад, они всем курсом успешно написали экзаменационную контрольную работу по фотонике. Давайте же посмотрим, верна ли гипотеза о равенстве средних баллов двух нехависимых групп."
   ]
  },
  {
   "cell_type": "code",
   "execution_count": null,
   "metadata": {
    "id": "938AfVaFlY4O"
   },
   "outputs": [],
   "source": [
    "df = pd.read_excel('electronika_res.xlsx')\n",
    "group_1 = df['Б04-105']\n",
    "group_2 = df['Б04-107']"
   ]
  },
  {
   "cell_type": "code",
   "execution_count": null,
   "metadata": {
    "colab": {
     "base_uri": "https://localhost:8080/",
     "height": 504
    },
    "id": "HfY1i8BSv4Ec",
    "outputId": "84dbc845-e7c4-4f53-b034-fac12101b750"
   },
   "outputs": [],
   "source": [
    "plt.figure(figsize = (12, 5))\n",
    "\n",
    "sns.kdeplot(data = group_1, label = 'Б04-105')\n",
    "sns.kdeplot(data = group_2, label = 'Б04-107')\n",
    "\n",
    "plt.title('KDE баллов за контрольную по электронике')\n",
    "\n",
    "plt.xlabel('Балл (из 100)')\n",
    "plt.ylabel('Плотность')\n",
    "\n",
    "plt.grid()\n",
    "plt.legend()"
   ]
  },
  {
   "cell_type": "code",
   "execution_count": null,
   "metadata": {
    "colab": {
     "base_uri": "https://localhost:8080/"
    },
    "id": "jHSq47_mwoN3",
    "outputId": "6344a6d1-afa7-4ccc-d346-6ba8d89c96a1"
   },
   "outputs": [],
   "source": [
    "_, p = sps.ttest_ind(group_1, group_2, equal_var = False)\n",
    "print(f'p_value = {p.round(5)}, значит не отвергаем гипотезу равенства средних \\n')"
   ]
  },
  {
   "cell_type": "markdown",
   "metadata": {
    "id": "c5S9NgR0lY4P"
   },
   "source": [
    "**Вывод:**\n",
    "\n",
    "При проведении статистического анализа я рассматривал выборки как независимые, так как в разных группах учились разные студенты, а контрольная работа была написана всеми одновременно. Гипотеза о равенстве средних значений не была отвергнута, что также ясно подтверждалось визуализацией функции плотности распределения (KDE)."
   ]
  },
  {
   "cell_type": "markdown",
   "metadata": {
    "id": "Fw49-FaQlY4P"
   },
   "source": [
    "### Задача 3"
   ]
  },
  {
   "cell_type": "markdown",
   "metadata": {
    "id": "-5HO6d1OlY4P"
   },
   "source": [
    "\n",
    "Предположим, что вы разработали лекарство от коронавируса. Перед применением оно обязательно должно пройти клинические испытания. Для начала было разрешено проверить лекарство на двух независимых группах по 10 человек. Одна группа принимает плацебо, другая &mdash; ваш препарат. Большее количество пациентов на первом этапе брать не разрешают &mdash; слишком велики риски отрицательного результата.\n",
    "\n",
    "Для каждого пациента измерялось количество дней от приема препарата до выздоровления. Получились следуюшие результаты:"
   ]
  },
  {
   "cell_type": "code",
   "execution_count": null,
   "metadata": {
    "id": "l0ewurzllY4Q"
   },
   "outputs": [],
   "source": [
    "x = np.array([6, 16, 8, 13, 9, 4, 7, 10, 3, 14])  # плацебо\n",
    "y = np.array([5, 10, 3, 1, 5, 3, 19, 2, 2, 5])  # лекарство"
   ]
  },
  {
   "cell_type": "markdown",
   "metadata": {
    "id": "gow56FellY4Q"
   },
   "source": [
    "Что вы можете сказать на основе этих результатов?\n",
    "* Лекарство эффективнее, подтверждается статистическими методами;\n",
    "* Наверное, лекарство эффективнее, но статистическими методами это пока не подтверждено, нужно продолжить эксперимент. Подумайте, как обосновать необходимость продолжение эксперимента;\n",
    "* По результатам эксперимента нельзя сделать какой-либо вывод. Стоит ли продолжать эксперименты? Если да, то четко это обоснуйте;\n",
    "* Лекарство неэффективно, нужно немедленно прекращать эксперимент."
   ]
  },
  {
   "cell_type": "code",
   "execution_count": null,
   "metadata": {
    "colab": {
     "base_uri": "https://localhost:8080/"
    },
    "id": "sUtMigZ8lY4Q",
    "outputId": "10903723-3439-4f99-e110-c590ad448e15"
   },
   "outputs": [],
   "source": [
    "_, p = sps.ttest_ind(x, y, equal_var = False)\n",
    "print(f'p_value = {p.round(5)}, значит не отвергаем нулевую гипотезу')"
   ]
  },
  {
   "cell_type": "markdown",
   "metadata": {
    "id": "ZZ8JxKb02oxj"
   },
   "source": [
    "**Выводы:**\n",
    "\n",
    "Такое значение p-value означает, что у нас нет достаточных доказательств для того, чтобы сказать, что лекарство эффективнее плацебо. Однако, это также не означает, что лекарство неэффективно.\n",
    "\n",
    "На основе этих результатов, наиболее подходящим ответом будет то, что, наверное, лекарство эффективнее, но статистическими методами это пока не подтверждено, нужно продолжить эксперимент.\n",
    "\n",
    "**Обоснование:**\n",
    "\n",
    "1. Использовалась небольшая выборка из 10 человек в каждой группе, что может привести к недостаточной статистической мощности.\n",
    "\n",
    "2. Несмотря на отсутствие статистической значимости, наблюдается тенденция в сторону лучшего выздоровления у пациентов, принимающих лекарство. Увеличение размера выборки может помочь в выявлении более явных различий.\n",
    "\n",
    "3. Больший объем данных может улучшить точность и достоверность результатов, а также помочь исключить влияние случайных факторов.\n",
    "\n",
    "4. Дополнительные исследования могут включать контроль за другими факторами, такими как возраст, пол, состояние здоровья и прочие факторы, которые могут влиять на эффективность лекарства."
   ]
  },
  {
   "cell_type": "markdown",
   "metadata": {
    "id": "7s_Ui37KlY4Q"
   },
   "source": [
    "### Задача 4\n",
    "\n",
    "Пусть $X=(X_1, \\dots, X_n)$, $Y=(Y_1, \\dots, Y_m)$ - независимые выборки из нормального распределения.\n",
    "\n",
    "* $X_1, ..., X_n \\sim \\mathcal{N}(a_1, \\sigma_1^2)$,\n",
    "\n",
    "* $Y_1, ..., Y_m \\sim \\mathcal{N}(a_2, \\sigma_2^2)$.\n",
    "\n",
    "C помощью t-test проверяется пара гипотез\n",
    "\n",
    "$$\\mathsf{H}_0\\colon EX_1 = 0 \\text{ vs } \\mathsf{H}_1\\colon EX_1 < 0$$\n",
    "\n",
    "$$\\mathsf{H}_0\\colon EY_1 = 0 \\text{ vs } \\mathsf{H}_1\\colon EY_1 > 0$$\n",
    "\n",
    "Оцените реальный уровень значимости процедуры, если обе гипотезы проверяются на уровне $\\alpha=0.05$. Совпадает ли он с $\\alpha$? Предложите способ сделать так, чтобы он был равен $\\alpha$."
   ]
  },
  {
   "cell_type": "markdown",
   "metadata": {
    "id": "rZqLiFav229W"
   },
   "source": [
    "**Решение:**\n",
    "\n",
    "t-тест для X: $$t_X = \\frac{\\overline{X} - a_1}{S_X/\\sqrt{n}} = \\sqrt{n}\\frac{\\overline{X} - a_1}{S_X}$$\n",
    "\n",
    "t-тест для Y: $$t_Y = \\frac{\\overline{Y} - a_2}{S_Y/\\sqrt{m}} = \\sqrt{m}\\frac{\\overline{Y} - a_2}{S_Y}$$\n",
    "\n",
    "Отторгаем гипотезу, если:\n",
    "\n",
    "$t_x < z_{\\alpha_x}$ - так как левосторонняя альтернатива\n",
    "\n",
    "$t_y > z_{1 - \\alpha_y}$ - так как правосторонняя альтернатива\n",
    "\n",
    "Тогда:\n",
    "\n",
    "$P(\\text{хотя бы одну верную гипотезу}) = P(\\text{отвергнуть верную с } \\alpha_x) + P(\\text{отвергнуть верную с } \\alpha_y)  - \\\\  - P(\\text{отвергнуть верную с } \\alpha_x, с \\; \\alpha_y) = \\alpha_x + \\alpha_y - \\alpha_x\\alpha_y = |\\alpha_x = \\alpha_y = \\alpha = 0,05| = 2\\alpha - \\alpha^2 \\approx 2\\alpha$\n",
    "\n",
    "$\\Rightarrow$ накапливается ошибка I рода\n",
    "\n",
    "Для решения этой проблемы сделаем следующее:\n",
    "\n",
    "$\\alpha_x = \\alpha_y = \\frac{\\alpha}{2} = 0,025$\n",
    "\n",
    "Т.о. итоговый уровень значимости будет равен 0,05."
   ]
  },
  {
   "cell_type": "markdown",
   "metadata": {
    "id": "jPSznoh5lY4Q"
   },
   "source": [
    "### <b><font color=\"orange\">Сложная часть</font></b>\n",
    "\n",
    "### Задача 5\n"
   ]
  },
  {
   "cell_type": "markdown",
   "metadata": {
    "id": "kiGaGMG5lY4R"
   },
   "source": [
    "#### Профиль биология\n",
    "\n",
    "\n",
    "Скачаем [данные](https://www.kaggle.com/ruslankl/mice-protein-expression) об экспрессии генов различных белков в головном мозге белых мышей.\n",
    "\n",
    "В этом датасете представлены уровни экспрессии 77 белков, измеренные в коре головного мозга 8 классов мышей, некоторые из которых страдают синдромом Дауна, а некоторые были подвержены контекстному обусловливанию страха, задачи, используемой для оценки ассоциативного обучения.\n",
    "\n",
    "Данные содержат информацию о 38 контрольных мышей и 34 трисомных мышей (синдром Дауна), то есть всего 72 мышки. Проведено 15 измерений каждого белка для каждой мышки, то есть каждой мыши соответствует несколько записей в таблице.\n",
    "\n",
    "Загрузим данные и посмотрим на начало таблицы. Всего мы имеем 82 колонки, в большинстве их которых содержатся вещественные данные (уровни экспрессии 77 белков). Остальные колонки содержат категориальные данные (с небольшим числом значений)."
   ]
  },
  {
   "cell_type": "code",
   "execution_count": null,
   "metadata": {
    "colab": {
     "base_uri": "https://localhost:8080/",
     "height": 236
    },
    "id": "12SSLX-PlY4R",
    "outputId": "c6ddfaa5-d051-45b5-e3b2-d3dfcf398412"
   },
   "outputs": [],
   "source": [
    "path = '/content/Data_Cortex_Nuclear.csv'\n",
    "data = pd.read_csv(path)\n",
    "data.head()"
   ]
  },
  {
   "cell_type": "markdown",
   "metadata": {
    "id": "Qb2HbUKwlY4R"
   },
   "source": [
    "Выведем описательные статистики по вещественным параметрам."
   ]
  },
  {
   "cell_type": "code",
   "execution_count": null,
   "metadata": {
    "colab": {
     "base_uri": "https://localhost:8080/",
     "height": 350
    },
    "id": "G02KqwxGlY4R",
    "outputId": "5c9cf1b5-0e71-4a90-e438-5fa66325bb5e"
   },
   "outputs": [],
   "source": [
    "data.describe()"
   ]
  },
  {
   "cell_type": "markdown",
   "metadata": {
    "id": "GgU0NpjTlY4R"
   },
   "source": [
    "Количество записей по генотипам:"
   ]
  },
  {
   "cell_type": "code",
   "execution_count": null,
   "metadata": {
    "colab": {
     "base_uri": "https://localhost:8080/"
    },
    "id": "eWlxJegflY4R",
    "outputId": "ba96c468-96ce-4dae-b7b9-086b0c3633af"
   },
   "outputs": [],
   "source": [
    "data.Genotype.value_counts()"
   ]
  },
  {
   "cell_type": "markdown",
   "metadata": {
    "id": "92rOLxu-lY4R"
   },
   "source": [
    "В начале исследования полезно посмотреть на данные визуально. Посмотрим на зависимость уровней экспрессии разных белков друг от друга. Визуализируйте данные в первых десяти колонках в двумерных проекциях, используя `sns.pairplot`."
   ]
  },
  {
   "cell_type": "code",
   "execution_count": null,
   "metadata": {
    "colab": {
     "base_uri": "https://localhost:8080/",
     "height": 1000
    },
    "id": "kphrEBcQlY4S",
    "outputId": "bbcd1e78-5cf9-4e1a-9999-9751a80b2301"
   },
   "outputs": [],
   "source": [
    "sns.pairplot(data[data.columns[1:11]])"
   ]
  },
  {
   "cell_type": "markdown",
   "metadata": {
    "id": "4aKMDWXwlY4S"
   },
   "source": [
    "Визуализируйте двумерные проекции данных и гистограммы с использованием `sns.PairGrid` отдельно по генотипам для 10 признаков. Используйте `hue='Genotype'` при вызове `sns.PairGrid`. По параметру `hue`  происходит разделение датасета, подробнее можно почитать в [документации](https://seaborn.pydata.org/generated/seaborn.PairGrid.html)."
   ]
  },
  {
   "cell_type": "code",
   "execution_count": null,
   "metadata": {
    "colab": {
     "base_uri": "https://localhost:8080/",
     "height": 1000
    },
    "id": "4HiIWnE3lY4S",
    "outputId": "d45d416c-6f61-49ce-889c-c286861644b6"
   },
   "outputs": [],
   "source": [
    "f = sns.PairGrid(data, hue = 'Genotype', vars = data.columns[1:11])\n",
    "\n",
    "f.map_diag(sns.histplot)\n",
    "f.map_offdiag(sns.scatterplot)\n",
    "f.add_legend()"
   ]
  },
  {
   "cell_type": "markdown",
   "metadata": {
    "id": "KlbTAFDqlY4S"
   },
   "source": [
    "##### 1. Зависимость распределения DYRK1A_N от генотипа\n",
    "\n",
    "Проверьте гипотезу о равенстве средних с использованием критерия Стьюдента.  В реальных исследованиях нужно использовать конкретную альтернативу.\n",
    "\n",
    "Сделайте выводы."
   ]
  },
  {
   "cell_type": "code",
   "execution_count": null,
   "metadata": {
    "colab": {
     "base_uri": "https://localhost:8080/"
    },
    "id": "qgQgYU09lY4S",
    "outputId": "70b1d059-cfab-4371-f4f7-1df118bbdf4b"
   },
   "outputs": [],
   "source": [
    "# посмотрим какие генотипы представлены в датасете\n",
    "set(data['Genotype'])"
   ]
  },
  {
   "cell_type": "code",
   "execution_count": null,
   "metadata": {
    "colab": {
     "base_uri": "https://localhost:8080/"
    },
    "id": "7_F-_hQI6Y_o",
    "outputId": "e9186b61-2c48-41b9-d9fc-ac4bf44ad50a"
   },
   "outputs": [],
   "source": [
    "control = data['DYRK1A_N'][data['Genotype'] == 'Control'].dropna()\n",
    "Ts65Dn = data['DYRK1A_N'][data['Genotype'] == 'Ts65Dn'].dropna()\n",
    "_, p = sps.ttest_ind(control, Ts65Dn, alternative = 'less', nan_policy = 'omit')\n",
    "print(f'p_value = {p.round(5)}')"
   ]
  },
  {
   "cell_type": "markdown",
   "metadata": {
    "id": "9fikzYJulY4S"
   },
   "source": [
    "**Вывод:**\n",
    "\n",
    "Посмотрел на визуализации. По гистограмме видно, что среднее для контрольного генотипа вроде бы меньше, чем у Ts65DN. Поэтому при исследовании выбрал левостороннюю альтернативу.\n",
    "\n",
    "P-value показал, что так и есть. Гипотезу равенства средних отвергаем при альтернативе, что среднее для контроля меньше."
   ]
  },
  {
   "cell_type": "markdown",
   "metadata": {
    "id": "avhpoF5GlY4S"
   },
   "source": [
    "Посчитайте реализацию доверительного интервала величины сдвига.\n"
   ]
  },
  {
   "cell_type": "markdown",
   "metadata": {
    "id": "cVOs0RwPo8HP"
   },
   "source": [
    "Я человек ленивый, поэтому, недолго думая, решил найти статистическую библиотеку, где реализован подсчёт доверительных интервалов. Ссылка на используемую библиотеку: https://pingouin-stats.org/build/html/generated/pingouin.ttest.html\n",
    "\n",
    "Функция pingouin.ttest возвращает таблицу с данными, где p-val это p-value, а CI95% -- доверительный интервал величины сдвига."
   ]
  },
  {
   "cell_type": "code",
   "execution_count": null,
   "metadata": {
    "id": "2z8evy-upNqt"
   },
   "outputs": [],
   "source": [
    "#!pip install pingouin"
   ]
  },
  {
   "cell_type": "code",
   "execution_count": null,
   "metadata": {
    "colab": {
     "base_uri": "https://localhost:8080/",
     "height": 81
    },
    "id": "JbeysUSllY4S",
    "outputId": "4f225e8b-61e0-4afd-ccb0-e29eb9b22448"
   },
   "outputs": [],
   "source": [
    "import pingouin as pg\n",
    "\n",
    "pg.ttest(control, Ts65Dn, alternative = 'less')"
   ]
  },
  {
   "cell_type": "markdown",
   "metadata": {
    "id": "aEW6YVS-60O0"
   },
   "source": [
    "**Вывод:**\n",
    "\n",
    "Фактически, верхняя граница интервала достаточно близка к нулю, поэтому мы отвергаем гипотезу с некоторой осторожностью."
   ]
  },
  {
   "cell_type": "markdown",
   "metadata": {
    "id": "4L2n_JrXlY4T"
   },
   "source": [
    "##### 2. Зависимость распределения  BDNF_N от генотипа\n"
   ]
  },
  {
   "cell_type": "markdown",
   "metadata": {
    "id": "jF498DyZlY4T"
   },
   "source": [
    "Проверьте гипотезу о равенстве средних с использованием критерия Стьюдента при различных альтернативах, посчитайте оценку сдвига и доверительный интервал. Сделайте выводы."
   ]
  },
  {
   "cell_type": "code",
   "execution_count": null,
   "metadata": {
    "id": "nM5pK9dGlY4T"
   },
   "outputs": [],
   "source": [
    "control = data['BDNF_N'][data['Genotype'] == 'Control']\n",
    "Ts65Dn = data['BDNF_N'][data['Genotype'] == 'Ts65Dn']\n",
    "\n",
    "l =  pg.ttest(control, Ts65Dn, alternative = 'less')\n",
    "g =  pg.ttest(control, Ts65Dn, alternative = 'greater')\n",
    "ts = pg.ttest(control, Ts65Dn, alternative = 'two-sided')"
   ]
  },
  {
   "cell_type": "code",
   "execution_count": null,
   "metadata": {
    "colab": {
     "base_uri": "https://localhost:8080/",
     "height": 81
    },
    "id": "ptijjWiG692a",
    "outputId": "88dafc5e-5253-4cf0-cad5-9cf177785213"
   },
   "outputs": [],
   "source": [
    "l # Левосторонняя альтернатива"
   ]
  },
  {
   "cell_type": "code",
   "execution_count": null,
   "metadata": {
    "colab": {
     "base_uri": "https://localhost:8080/",
     "height": 81
    },
    "id": "X_mquJQP6_Fz",
    "outputId": "6e959c8a-8354-4528-b0fb-46d4aa8be2b2"
   },
   "outputs": [],
   "source": [
    "g # Правосторонняя альтернатива"
   ]
  },
  {
   "cell_type": "code",
   "execution_count": null,
   "metadata": {
    "colab": {
     "base_uri": "https://localhost:8080/",
     "height": 81
    },
    "id": "aWj_6GkI7BZb",
    "outputId": "d7b606d1-7a3d-46dd-d25c-565a729c2a95"
   },
   "outputs": [],
   "source": [
    "ts # Двусторонняя альтернатива"
   ]
  },
  {
   "cell_type": "markdown",
   "metadata": {
    "id": "BvKH4kbzlY4T"
   },
   "source": [
    "**Вывод:**\n",
    "\n",
    "При любой альтернативе мы не можем опровергнуть гипотезу о равенстве средних. Это ясно, поскольку значение 0 входит во все указанные доверительные интервалы."
   ]
  },
  {
   "cell_type": "markdown",
   "metadata": {
    "id": "Swg618eWlY4T"
   },
   "source": [
    "Как связаны доверительные интервалы с проверкой гипотез? Подтверждается ли это в данном примере?"
   ]
  },
  {
   "cell_type": "markdown",
   "metadata": {
    "id": "usIpvT8NlY4T"
   },
   "source": [
    "**Ответ:**\n",
    "\n",
    "В зависимости от выбранной альтернативы изменяются пределы доверительного интервала. Сам интервал указывает на диапазон значений, в котором с вероятностью 95% не находится истинное значение $\\theta_0$ в случае отклонения нулевой гипотезы. Если $\\theta_0$ попадает в этот интервал, то мы не можем отвергнуть гипотезу. В общем, доверительный интервал просто более информативен, чем p-value, поскольку он позволяет определить диапазон, в котором мы доверяем нашей гипотезе."
   ]
  },
  {
   "cell_type": "markdown",
   "metadata": {
    "id": "LgEHkA3clY4T"
   },
   "source": [
    "#### Профиль физика"
   ]
  },
  {
   "cell_type": "markdown",
   "metadata": {
    "id": "gTYPip_MlY4c"
   },
   "source": [
    "Скачайте [данные](https://www.kaggle.com/datasets/naharrison/particle-identification-from-detector-responses?resource=download) моделирования неупругого рассеяния протонов и электронов. В датасете представлены 4 разных вида частиц (частицы одного вида имеют одинаковый id)."
   ]
  },
  {
   "cell_type": "code",
   "execution_count": null,
   "metadata": {
    "id": "X9plmNXelY4c"
   },
   "outputs": [],
   "source": [
    "path = <...>\n",
    "data = pd.read_csv(path)\n",
    "data['id'].unique()"
   ]
  },
  {
   "cell_type": "markdown",
   "metadata": {
    "id": "WM_XlftclY4c"
   },
   "source": [
    "Постройте гистограммы признаков для каждого вида частиц."
   ]
  },
  {
   "cell_type": "code",
   "execution_count": null,
   "metadata": {
    "id": "sNCADD-8lY4d"
   },
   "outputs": [],
   "source": [
    "<...>\n"
   ]
  },
  {
   "cell_type": "markdown",
   "metadata": {
    "id": "pXWTbDXblY4d"
   },
   "source": [
    "Для каждой частицы посчитайте среднее значение для каждой колонки с помощью `data.groupby`"
   ]
  },
  {
   "cell_type": "code",
   "execution_count": null,
   "metadata": {
    "id": "jSYuvL5zlY4d"
   },
   "outputs": [],
   "source": [
    "<...>"
   ]
  },
  {
   "cell_type": "markdown",
   "metadata": {
    "id": "5Hf-utAMlY4d"
   },
   "source": [
    "Для частиц и признаков с похожими средними значениями с помощью критерия Стьюдента проверьте гипотезу о равенстве средних. Не забудьте о МПГ.\n",
    "\n",
    "Также посчитайте реализацию доверительного интервала величины сдвига. Как связаны доверительные интервалы с проверкой гипотез? Вам могут помочь прошлые лекции. Подтверждается ли это в данном примере?\n"
   ]
  },
  {
   "cell_type": "code",
   "execution_count": null,
   "metadata": {
    "id": "8LMssFTFlY4d"
   },
   "outputs": [],
   "source": [
    "<...>"
   ]
  },
  {
   "cell_type": "markdown",
   "metadata": {
    "id": "Z21FVghClY4d"
   },
   "source": [
    "**Ответ:** <...>"
   ]
  },
  {
   "cell_type": "markdown",
   "metadata": {
    "id": "limUSBCvlY4d"
   },
   "source": [
    "Сделайте вывод, по каким измерениям частицы тяжелее/проще всего различить."
   ]
  },
  {
   "cell_type": "markdown",
   "metadata": {
    "id": "F0gnVBpklY4d"
   },
   "source": [
    "**Вывод:** <...>"
   ]
  },
  {
   "cell_type": "markdown",
   "metadata": {
    "id": "3lkTPWe-lY4e"
   },
   "source": [
    "Студенты профиля **химия** могут решать любую из задач."
   ]
  },
  {
   "cell_type": "markdown",
   "metadata": {
    "id": "ae010418"
   },
   "source": [
    "\n",
    "\n",
    "### Задача 6\n",
    "\n",
    "Это задание является продолжением задачи 5 из прошлого домашнего задания. Здесь вам необходимо наглядно сравнить два критерия из предыдущей задачи. Для этого прооделайте все пункты для обоих критериев. Обязательно подписывайте какой график к какому критерию относится."
   ]
  },
  {
   "cell_type": "markdown",
   "metadata": {
    "id": "c2faba73"
   },
   "source": [
    "\n",
    "**1.** **Оцените реальный уровень значимости** критерия для размеров выборки $1 \\leqslant n \\leqslant 50$ и визуализируйте полученную зависимость."
   ]
  },
  {
   "cell_type": "code",
   "execution_count": null,
   "metadata": {
    "id": "pfiVzLU24tiI"
   },
   "outputs": [],
   "source": [
    "def wald_test(sample, theta, estimation_theta, estimation_sigma, alternative = 'two_sided'):\n",
    "    \"\"\"\n",
    "    param sample: реализация выборки\n",
    "    param theta: истинное значение параметра\n",
    "    param estimation_theta: оценка параметра\n",
    "    param estimation_sigma: оценка асимптотической дисперсии\n",
    "        оценки estimation_sigma\n",
    "    param alternative: вид альтернативной гипотезы,\n",
    "        может принимать одно из значений 'two_sided', 'less', 'greater'\n",
    "\n",
    "    return statistic\n",
    "    return p_value\n",
    "    return conf_int - доверительный интервал\n",
    "    \"\"\"\n",
    "\n",
    "    alpha = 0.05\n",
    "    n = sample.shape[-1]\n",
    "\n",
    "    if alternative == 'two_sided':\n",
    "        z = sps.norm.ppf(1 - alpha/2)\n",
    "        statistic = np.abs(np.sqrt(n) * (estimation_theta - theta) / estimation_sigma)\n",
    "        conf_int = ((estimation_theta - z * estimation_sigma / np.sqrt(n)).round(3), (estimation_theta + z * estimation_sigma / np.sqrt(n)).round(3))\n",
    "        p_value = 2 * sps.norm.sf(statistic)\n",
    "\n",
    "    elif alternative == 'less':\n",
    "        z = sps.norm.ppf(alpha)\n",
    "        statistic = np.sqrt(n) * (estimation_theta - theta) / estimation_sigma\n",
    "        conf_int = (-np.inf, (estimation_theta - z * estimation_sigma / np.sqrt(n)).round(3))\n",
    "        p_value = sps.norm.cdf(statistic)\n",
    "\n",
    "    elif alternative == 'greater':\n",
    "\n",
    "        z = sps.norm.ppf(1 - alpha)\n",
    "        statistic = np.sqrt(n) * (estimation_theta - theta) / estimation_sigma\n",
    "        conf_int = ((estimation_theta - z * estimation_sigma / np.sqrt(n)).round(3), np.inf)\n",
    "        p_value = sps.norm.sf(statistic)\n",
    "\n",
    "    return statistic.round(7), p_value.round(5), conf_int"
   ]
  },
  {
   "cell_type": "code",
   "execution_count": null,
   "metadata": {
    "colab": {
     "base_uri": "https://localhost:8080/",
     "height": 556
    },
    "id": "66a277e5",
    "outputId": "1bd02480-c5d5-4dd0-c9eb-f89d83091f70"
   },
   "outputs": [],
   "source": [
    "alpha = 0.05\n",
    "sample_size = 50\n",
    "sample_count = 100000\n",
    "\n",
    "X = sps.norm(loc = 0).rvs(size = (sample_count, sample_size))\n",
    "\n",
    "means = np.cumsum(X, axis = 1)/(np.arange(sample_size) + 1)\n",
    "S = np.sqrt(np.cumsum(np.square(X), axis = 1)/(np.arange(sample_size) + 1) - np.square(means))\n",
    "\n",
    "Ts = np.sqrt(np.arange(sample_size)) * means / S\n",
    "\n",
    "trust = []\n",
    "trust_n = []\n",
    "\n",
    "\n",
    "z_t = sps.t(df = np.arange(sample_size)).ppf(1 - alpha)\n",
    "z_n = sps.norm.ppf(1 - alpha)\n",
    "\n",
    "for i in range(sample_size):\n",
    "    w = wald_test(X[:, :i+1], 0, means[:, i], S[:, i], alternative = 'greater')[0]\n",
    "    trust_n.append(np.mean(w > z_n))\n",
    "    trust.append(np.mean(Ts[:, i] > z_t[i]))\n",
    "\n",
    "\n",
    "plt.figure(figsize = (12, 5))\n",
    "plt.plot(np.arange(sample_size)+1, trust, label='Критерий Стюдента')\n",
    "plt.plot(np.arange(sample_size)+1, trust_n, label='Критерий Вальда')\n",
    "\n",
    "plt.title('Зависимость реального уровня значимости от размера выборки')\n",
    "plt.xlabel('Размер выборки')\n",
    "plt.ylabel('Реальный уровень значимости')\n",
    "\n",
    "plt.legend()\n",
    "plt.grid()\n",
    "plt.show()"
   ]
  },
  {
   "cell_type": "markdown",
   "metadata": {
    "id": "b3b4b5f2"
   },
   "source": [
    "**Вывод:**\n",
    "\n",
    "При небольших объемах выборки (до 10-20) рекомендуется использовать критерий Стьюдента, поскольку асимптотический критерий проявляет недостаточную точность, что приводит к значительному превышению уровня значимости над $\\alpha$. В то время как для критерия Стьюдента уровень значимости сразу хороший и не превышает установленного уровня $\\alpha$."
   ]
  },
  {
   "cell_type": "markdown",
   "metadata": {
    "id": "922d526c"
   },
   "source": [
    "**2.** Для значений $n \\in \\{5, 15, 30, 50, 100\\}$ **оцените функцию мощности критерия** для значений $\\theta \\in (0, 5)$ по сетке с шагом 0.25 по методу Монте-Карло. Визуализируйте полученные зависимости. Посчитайте также мощность критерия по асимптотической формуле, полученной на лекции, и сравните с оценкой мощности методом Монте-Карло. Учтите, что асимптотическая формула содержит $n$, поэтому для нее тоже должно быть три зависимости."
   ]
  },
  {
   "cell_type": "code",
   "execution_count": null,
   "metadata": {
    "id": "b53c62dd"
   },
   "outputs": [],
   "source": [
    "ns = [5, 15, 30, 50, 100]\n",
    "thetas = np.linspace(0, 5, 21)\n",
    "alpha = 0.05\n",
    "z_n = sps.norm.ppf(1 - alpha)\n",
    "\n",
    "stud = defaultdict(list)\n",
    "norm = defaultdict(list)\n",
    "\n",
    "for n in ns:\n",
    "    z_t = sps.t(df = n - 1).ppf(1 - alpha)\n",
    "    for theta in thetas:\n",
    "        X = sps.norm(loc = theta).rvs(size = (sample_count, n))\n",
    "        mean = X.mean(axis = 1)\n",
    "        std = X.std(axis = 1)\n",
    "\n",
    "        w = wald_test(X, 0, mean, std, alternative = 'greater')[0]\n",
    "        T = np.sqrt(n - 1) * mean / std\n",
    "\n",
    "        stud[n].append(np.mean(T > z_t))\n",
    "        norm[n].append(np.mean(w > z_n))"
   ]
  },
  {
   "cell_type": "code",
   "execution_count": null,
   "metadata": {
    "colab": {
     "base_uri": "https://localhost:8080/",
     "height": 491
    },
    "id": "q2YKBKoM5TJc",
    "outputId": "c373859d-d0d2-4c38-e33c-63352650f6c0"
   },
   "outputs": [],
   "source": [
    "plt.figure(figsize = (12, 5))\n",
    "\n",
    "for n in norm.keys():\n",
    "    plt.plot(thetas, norm[n], label = f'Кр. Вальда, n = {n}', linestyle='--')\n",
    "    plt.plot(thetas, stud[n], label = f'Кр. Стюдента, n = {n}')\n",
    "\n",
    "plt.title(r'$\\beta_S (\\theta)$ для разных размеров выборки (при правосторонней альтернативе)')\n",
    "plt.xlabel(r'$\\theta$')\n",
    "plt.ylabel(r'$\\beta_S (\\theta)$')\n",
    "\n",
    "plt.legend()\n",
    "plt.grid()\n",
    "plt.show()"
   ]
  },
  {
   "cell_type": "markdown",
   "metadata": {
    "id": "09c13389"
   },
   "source": [
    "**Вывод:**\n",
    "\n",
    "Мощность асимптотического критерия растет быстрее (при отклонении фактического значения $\\theta$ от нулевой гипотезы), однако это наблюдается только при небольших значениях n. С увеличением n (приблизительно от 30 и выше) зависимость мощности обоих критериев от $\\theta$ становится схожей."
   ]
  },
  {
   "cell_type": "markdown",
   "metadata": {
    "id": "6ddcca25"
   },
   "source": [
    "**3.** Пусть $n=50$. **Сравните мощности критериев**, соответствующих двусторонней, левосторонней и правосторонней альтернативам при $\\theta \\in (0, 5)$ по сетке с шагом 0.25."
   ]
  },
  {
   "cell_type": "code",
   "execution_count": null,
   "metadata": {
    "id": "8fcea43e"
   },
   "outputs": [],
   "source": [
    "n = 50\n",
    "\n",
    "stud = defaultdict(list)\n",
    "norm = defaultdict(list)\n",
    "\n",
    "z_ng = sps.norm.ppf(1 - alpha)\n",
    "z_nl = sps.norm.ppf(alpha)\n",
    "z_nt = sps.norm.ppf(1 - alpha/2)\n",
    "\n",
    "z_tg = sps.t(df = n-1).ppf(1 - alpha)\n",
    "z_tl = sps.t(df = n-1).ppf(alpha)\n",
    "z_tt = sps.t(df = n-1).ppf(1 - alpha/2)\n",
    "\n",
    "for theta in thetas:\n",
    "    X = sps.norm(loc = theta).rvs(size = (sample_count, n))\n",
    "    mean = X.mean(axis = 1)\n",
    "    std = X.std(axis = 1)\n",
    "\n",
    "    wg = wald_test(X, 0, mean, std, alternative = 'greater')[0]\n",
    "    wl = wald_test(X, 0, mean, std, alternative = 'less')[0]\n",
    "    wt = wald_test(X, 0, mean, std, alternative = 'two_sided')[0]\n",
    "\n",
    "    norm['greater'].append(np.mean(wg > z_ng))\n",
    "    norm['less'].append(np.mean(wl < z_nl))\n",
    "    norm['two_sided'].append(np.mean(wt > z_nt))\n",
    "\n",
    "    T = np.sqrt(n-1) * mean / std\n",
    "\n",
    "    stud['greater'].append(np.mean(T > z_tg))\n",
    "    stud['less'].append(np.mean(T < z_tl))\n",
    "    stud['two_sided'].append(np.mean(T > z_tt))"
   ]
  },
  {
   "cell_type": "code",
   "execution_count": null,
   "metadata": {
    "colab": {
     "base_uri": "https://localhost:8080/",
     "height": 490
    },
    "id": "7i9TYyoQ5n3R",
    "outputId": "b7c4a4fb-b8ee-4080-ce0c-89b2c1ee77c0"
   },
   "outputs": [],
   "source": [
    "plt.figure(figsize = (12, 5))\n",
    "\n",
    "for k, n in enumerate(norm.keys()):\n",
    "    plt.plot(thetas, norm[n], label = f'Кр. Вальда, {n}', linestyle = '--')\n",
    "    plt.plot(thetas, stud[n], label = f'Кр. Стюдента, {n}')\n",
    "\n",
    "plt.title(r'$\\beta_S (\\theta)$ для разных альтернатив (при n=50)')\n",
    "plt.xlabel(r'$\\theta$')\n",
    "plt.ylabel(r'$\\beta_S (\\theta)$')\n",
    "\n",
    "plt.legend()\n",
    "plt.grid()\n",
    "plt.show()"
   ]
  },
  {
   "cell_type": "markdown",
   "metadata": {
    "id": "202c27ab"
   },
   "source": [
    "**Вывод:**\n",
    "\n",
    "Ожидаемо, с увеличением значения $\\theta$ (то есть $\\theta > \\theta_0$), мощность правосторонней гипотезы увеличивается наиболее быстро, а также увеличивается мощность двусторонней гипотезы. Для левосторонней гипотезы мощность практически сразу уменьшается до нуля.\n",
    "\n",
    "В данном эксперименте поведение критериев Вальда и Стьюдента практически не отличалось."
   ]
  },
  {
   "cell_type": "markdown",
   "metadata": {
    "id": "504c4b8b"
   },
   "source": [
    "Сделайте общий вывод по сравнению двух критериев."
   ]
  },
  {
   "cell_type": "markdown",
   "metadata": {
    "id": "d6aacc05"
   },
   "source": [
    "**Выводы:**\n",
    "\n",
    "1. При увеличении размера выборки до больших значений (примерно от 30 и выше) выбор между критериями становится неважным, поскольку они становятся эквивалентными. Это подтверждается как теоретическими рассуждениями, так и данными о реальном уровне значимости и мощности.\n",
    "\n",
    "2. При небольших размерах выборки для минимизации вероятности ошибки первого рода рекомендуется использовать критерий Стьюдента, поскольку он обеспечивает приемлемый реальный уровень значимости без дополнительных коррекций.\n",
    "\n",
    "3. Однако при небольших размерах выборки мощность асимптотического критерия может быть выше, чем у критерия Стьюдента. Тем не менее, предыдущий аспект остается более приоритетным.\n",
    "\n",
    "4. При больших размерах выборки (например, 50) зависимость мощности обоих критериев от $\\theta$ для различных альтернатив однородна."
   ]
  },
  {
   "cell_type": "code",
   "execution_count": null,
   "metadata": {
    "colab": {
     "base_uri": "https://localhost:8080/"
    },
    "id": "uhHml_v1lY4f",
    "outputId": "1de98cb2-d0e8-4406-ec0b-107817bc6415"
   },
   "outputs": [],
   "source": [
    "# Проверим, что моя реализация критерия Стьюдента совпадает с реализацией из scipy\n",
    "X = sps.norm(loc = 1).rvs(size = 50)\n",
    "n = 50\n",
    "mean = X.mean()\n",
    "std = X.std()\n",
    "T = np.sqrt(n - 1) * mean / std\n",
    "T == sps.ttest_1samp(X, 0, alternative = 'greater')[0]"
   ]
  }
 ],
 "metadata": {
  "colab": {
   "provenance": []
  },
  "kernelspec": {
   "display_name": "Python 3 (ipykernel)",
   "language": "python",
   "name": "python3"
  },
  "language_info": {
   "codemirror_mode": {
    "name": "ipython",
    "version": 3
   },
   "file_extension": ".py",
   "mimetype": "text/x-python",
   "name": "python",
   "nbconvert_exporter": "python",
   "pygments_lexer": "ipython3",
   "version": "3.10.15"
  },
  "toc": {
   "base_numbering": 1,
   "nav_menu": {},
   "number_sections": true,
   "sideBar": true,
   "skip_h1_title": false,
   "title_cell": "Table of Contents",
   "title_sidebar": "Contents",
   "toc_cell": false,
   "toc_position": {},
   "toc_section_display": true,
   "toc_window_display": false
  }
 },
 "nbformat": 4,
 "nbformat_minor": 4
}
