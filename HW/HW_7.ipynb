{
 "cells": [
  {
   "cell_type": "code",
   "execution_count": null,
   "metadata": {
    "id": "pwOeZYydbPOU"
   },
   "outputs": [],
   "source": [
    "import pandas as pd\n",
    "import numpy as np\n",
    "import scipy.stats as sps\n",
    "import matplotlib.pyplot as plt\n",
    "import seaborn as sns\n",
    "\n",
    "from scipy.special import gamma, loggamma\n",
    "\n",
    "sns.set_style(\"whitegrid\")\n",
    "\n",
    "%matplotlib inline"
   ]
  },
  {
   "cell_type": "markdown",
   "metadata": {
    "id": "d8Q8Vda0J1LB"
   },
   "source": [
    "## <b>Теоретическая часть</b>\n",
    "### <b><font color=\"blue\">Легкая часть</font></b>\n",
    "\n",
    "## Задача 1\n",
    "Найдите оценку параметра $\\theta$ методом максимального правдоподобия по выборке размера $n$ из распределения:\n",
    "\n",
    "1. Для $\\mathcal{N}(a,\\sigma^2)$ найдите ОМП в следующих случаях:\n",
    "    <br>a. $\\theta = (a, \\sigma^2)$\n",
    "    <br>b. $\\theta = \\sigma^2$, $a$ известно\n",
    "    <br>c. $\\theta = a$, $\\sigma^2$ известно (для этого случая посчитайте также асимптотическую дисперсию оценки по теореме из лекции)\n",
    "\n",
    "**Решение:**\n",
    "\n",
    "<br>a. Для начала пусть $\\theta = (a, \\sigma^2) = (\\theta_1, \\theta_2)$.\n",
    "\n",
    "Тогда для нормального распределения функция правдоподобия будет выглядеть следующим образом:\n",
    "\n",
    "$$L_x(\\theta) = \\prod \\limits_{i = 1}^np_\\theta(X_i) = \\prod \\limits_{i = 1}^n \\frac{1}{\\sqrt{2 \\pi \\theta_2}}e^{- \\frac{(X_i - \\theta_1)^2}{2 \\theta_2}}$$\n",
    "\n",
    "$$l_x(\\theta) = ln(L_x(\\theta)) = \\sum \\limits_{i = 1}^n ln(p_{\\theta}(X_i)) = - \\frac12 \\left(n ln(2 \\pi \\theta_2) + \\sum \\limits_{i = 1}^{n} \\frac{(X_i - \\theta_1)^2}{\\theta_2}\\right)$$\n",
    "\n",
    "\\begin{cases}\n",
    "  \\frac{\\partial{l_x(\\theta)}}{\\partial{\\theta_1}} = \\frac12 \\sum \\limits_{i = 1}^{n} \\frac{2(X_i - \\theta_1)}{\\theta_2} = 0 \\\\\n",
    "  \\frac{\\partial{l_x(\\theta)}}{\\partial{\\theta_2}} = - \\frac12 \\left(\\frac{n}{\\theta_2} - \\sum \\limits_{i = 1}^{n} \\frac{(X_i - \\theta_1)^2}{\\theta_2^2}\\right) = 0\n",
    "\\end{cases}\n",
    "\n",
    "\\begin{cases}\n",
    "  \\sum \\limits_{i = 1}^{n} X_i = n \\theta_1 \\\\\n",
    "  \\sum \\limits_{i = 1}^{n} \\frac{(X_i - \\theta_1)^2}{\\theta_2^2} = \\frac{n}{\\theta_2}\n",
    "\\end{cases}\n",
    "\n",
    "\\begin{cases}\n",
    "  \\widehat{\\theta}_{1, ОМП} = \\frac1n \\sum \\limits_{i = 1}^{n} X_i = \\overline{X} \\\\\n",
    "  \\widehat{\\theta}_{2, ОМП} = \\frac1n \\sum \\limits_{i = 1}^{n} (X_i - \\theta_1)^2 = \\frac{1}{n} \\sum \\limits_{i=1}^{n} (X_i - \\overline{X})^2 = S^2\n",
    "\\end{cases}\n",
    "\n",
    "$$\\widehat{\\theta}_{ОМП} = (\\overline{X}, S^2)$$\n",
    "\n",
    "<br>b. Для начала пусть $\\theta = (a, \\sigma^2) = (a, \\theta)$.\n",
    "\n",
    "Тогда для нормального распределения c известным параметром $a$ функция правдоподобия будет выглядеть следующим образом:\n",
    "\n",
    "$$L_x(\\theta) = \\prod \\limits_{i = 1}^np_\\theta(X_i) = \\prod \\limits_{i = 1}^n \\frac{1}{\\sqrt{2 \\pi \\theta}}e^{- \\frac{(X_i - a)^2}{2 \\theta}}$$\n",
    "\n",
    "$$l_x(\\theta) = ln(L_x(\\theta)) = \\sum \\limits_{i = 1}^n ln(p_{\\theta}(X_i)) = - \\frac12 \\left(n ln(2 \\pi \\theta) + \\sum \\limits_{i = 1}^{n} \\frac{(X_i - a)^2}{\\theta}\\right)$$\n",
    "     \n",
    "$$\\frac{\\partial{l_x(\\theta)}}{\\partial{\\theta}} = - \\frac12 \\left(\\frac{n}{\\theta} - \\sum \\limits_{i = 1}^{n} \\frac{(X_i - a)^2}{\\theta^2}\\right) = 0$$\n",
    "\n",
    "$$\\widehat{\\theta}_{ОМП} = \\frac1n \\sum \\limits_{i = 1}^{n} (X_i - a)^2$$\n",
    "\n",
    "<br>b. Для начала пусть $\\theta = (a, \\sigma^2) = (\\theta, \\sigma^2)$.\n",
    "\n",
    "Тогда для нормального распределения c известным параметром $\\sigma^2$ функция правдоподобия будет выглядеть следующим образом:\n",
    "\n",
    "$$L_x(\\theta) = \\prod \\limits_{i = 1}^np_\\theta(X_i) = \\prod \\limits_{i = 1}^n \\frac{1}{\\sqrt{2 \\pi \\sigma^2}}e^{- \\frac{(X_i - \\theta)^2}{2 \\sigma^2}}$$\n",
    "\n",
    "$$l_x(\\theta) = ln(L_x(\\theta)) = \\sum \\limits_{i = 1}^n ln(p_{\\theta}(X_i)) = - \\frac12 \\left(n ln(2 \\pi \\sigma^2) + \\sum \\limits_{i = 1}^{n} \\frac{(X_i - \\theta)^2}{\\sigma^2}\\right)$$\n",
    "     \n",
    "$$\\frac{\\partial{l_x(\\theta)}}{\\partial{\\theta_1}} = \\frac12 \\sum \\limits_{i = 1}^{n} \\frac{2(X_i - \\theta)}{\\sigma^2} = 0$$\n",
    "\n",
    "$$\\widehat{\\theta}_{ОМП} = \\frac1n \\sum \\limits_{i = 1}^{n} X_i = \\overline{X}$$\n",
    "\n",
    "**Th:** Пусть\n",
    "\n",
    "1.   Носитель плотности $({x: p_\\theta(x) > 0})$ не зависит от $\\theta$\n",
    "2.   $\\Theta$ - открытое множестов в $\\mathbb{R}^d$\n",
    "3.   Плотность $p_\\theta(x)$ - достаточно гладкая\n",
    "4.   Уравнение $\\frac{\\partial{l_x(\\theta)}}{\\partial{\\theta}} = 0$ имеет ровно один корень.\n",
    "\n",
    "Тогда: $\\widehat{\\theta}_{ОМП}$ - состоятельная АНО $\\theta$ ассимптотической матрицей ковариаций:\n",
    "\n",
    "$$\\sum_{i = 1}^n (\\theta) = i^{-1}(\\theta), \\; где \\; (i(\\theta))_{jk} = \\mathbb{E}_{\\theta}\\left(\\frac{\\partial{l_x(\\theta)}}{\\partial{\\theta_j}}\\frac{\\partial{l_x(\\theta)}}{\\partial{\\theta_k}}\\right)$$\n",
    "\n",
    "Т.к. все условия теоремы выполнены, то асимптотическая диспресия оценки меет вид:\n",
    "\n",
    "$$i(\\theta) = \\mathbb{E}_{\\theta} \\left(\\frac{X_1 - \\theta}{\\sigma^2}\\right)^2 = \\frac{1}{\\sigma^4} \\mathbb{E}_{\\theta} (X_1 - \\mathbb{E}_{\\theta}(X_1))^2 = \\frac{\\sigma^2}{\\sigma^4} = \\frac{1}{\\sigma^2} \\Rightarrow i^{-1} = \\sigma^2$$\n",
    "\n",
    "2. $\\mathrm{Pois}(\\theta)$. Посчитайте асимптотическую дисперсию, если оценка является асимптотически нормальной по теореме из лекции.\n",
    "\n",
    "**Решение:**\n",
    "\n",
    "Для распределения Пуассона c неизвестным параметром $\\theta$ функция правдоподобия будет выглядеть следующим образом:\n",
    "\n",
    "$$L_x(\\theta) = \\prod \\limits_{i = 1}^np_\\theta(X_i) = \\prod \\limits_{i = 1}^n \\frac{\\theta^{X_i}e^{-\\theta}}{X_i!}$$\n",
    "\n",
    "$$l_x(\\theta) = ln(L_x(\\theta)) = \\sum \\limits_{i = 1}^n ln(p_{\\theta}(X_i)) = -n\\theta + ln(\\theta)\\sum \\limits_{i = 1}^nX_i - \\sum \\limits_{i = 1}^nln(X_i!)$$\n",
    "     \n",
    "$$\\frac{\\partial{l_x(\\theta)}}{\\partial{\\theta}} = -n + \\frac{1}{\\theta} \\sum \\limits_{i = 1}^n X_i = 0$$\n",
    "\n",
    "$$\\widehat{\\theta}_{ОМП} = \\frac1n \\sum \\limits_{i = 1}^{n} X_i = \\overline{X}$$\n",
    "\n",
    "Т.к. все условия теоремы выполнены, то асимптотическая диспресия оценки меет вид:\n",
    "\n",
    "$$i(\\theta) = \\mathbb{E}_{\\theta} \\left(-1 + \\frac{X_1}{\\theta}\\right)^2 = \\mathbb{E}_{\\theta} \\left(1 - 2\\frac{X_1}{\\theta} + \\frac{X_1^2}{\\theta^2}\\right) = 1 - 2 + \\frac{1}{\\theta^2}(\\mathbb{D}_\\theta(X_1) + \\mathbb{E}_{\\theta}(X_1)^2) = \\\\ = -1 + \\frac{\\theta + \\theta^2}{\\theta^2} = \\frac{1}{\\theta} \\Rightarrow i^{-1} = \\theta$$\n",
    "        "
   ]
  },
  {
   "cell_type": "markdown",
   "metadata": {
    "id": "-wCMvSpMJ1LB"
   },
   "source": [
    "## Задача 2\n",
    "Рассмотрим задачу классификации в случае наличия более двух классов.\n",
    "\n",
    "Пусть $X_1,...,X_n$ &mdash;  выборка из категориального распределения, то есть $P_\\theta(X_1 = j) = \\theta_j$ для $j \\in \\{1, ..., k\\}$, причем $\\theta = (\\theta_1, ..., \\theta_k), \\theta_j \\geqslant 0$ и $\\theta_1 + ... + \\theta_k = 1$.\n",
    "\n",
    "1. Получите функцию правдоподобия для данной задачи. Используя результат, выпишите функцию потерь, которую вы бы минимизировали при обучении модели классификации. Проверьте, что в случае $k=2$ результат совпадает с logloss'ом.\n",
    "2. Найдите оценку максимального правдоподобия параметра $\\theta$ и проверьте ее на состоятельность.\n",
    "\n",
    "**Решение:**\n",
    "\n",
    "1. $$L_x(\\theta) = \\prod \\limits_{j = 1}^k \\theta_j ^{m_j}, \\quad \\sum \\limits_{j = 1}^k m_j = n,$$ где $m_j$ - количество элементов выборки, равных j, $\\theta$ - вектор вероятностей для каждой из $k$ категорий, где $\\theta_j$ - вероятность принадлежности категории $j$. Тогда логарифм функции правдоподобия имеет вид:\n",
    "\n",
    "$$l_x(\\theta) = \\sum \\limits_{j=1}^k m_j ln \\theta_j$$\n",
    "\n",
    "Тогда, если у нас есть только два класса $(k = 2)$, то $m_1$ и $m_2$ будут представлять количество элементов в выборке, принадлежащих классам 1 и 2 соответственно.\n",
    "\n",
    "$$l_x(\\theta) = m_1 ln \\theta_1 + m_2 ln \\theta_2 = m_1 ln \\theta_1 + (n - m_1)ln(1 - \\theta_1) = \\sum \\limits_{i = 1}^n\\left[x_iln(\\theta) + (1 - x_i)ln(1 - \\theta)\\right] = -LogLoss,$$\n",
    "\n",
    "где $x_i$ - это бинарная переменная, равная 1, если $i-ый$ элемент принадлежит классу 1, и 0 в противном случае. Именно при такой замене мы можем перейти к суммированию и т.о. получить выражение для $-LogLoss$.\n",
    "\n",
    "2. Найдем экстремум логарифма функции правоподобия при условии $\\sum \\limits_{i = 1}^k \\theta_i = 1$:\n",
    "\n",
    "Лагранжиан: $F(\\theta, \\lambda) = \\sum \\limits_{i=1}^k m_i ln \\theta_i + \\lambda (1 - \\sum \\limits_{i=1}^k \\theta_i)$.\n",
    "\n",
    "\\begin{cases}\n",
    "    \\frac{\\partial{F(\\theta, \\lambda)}}{\\partial{\\lambda}} = 1 - \\sum \\limits_{i=1}^k \\theta_i = 0\n",
    "    \\\\\n",
    "    \\frac{\\partial{F(\\theta, \\lambda)}}{\\partial{\\theta_i}} = \\frac{m_i}{\\theta_i} - \\lambda = 0\n",
    "\\end{cases}\n",
    "\n",
    "\\begin{cases}\n",
    "    \\theta_i = \\frac{m_i}{\\lambda}\n",
    "    \\\\\n",
    "    \\sum \\limits_{i=1}^k \\theta_i = \\sum \\limits_{i=1}^k \\frac{m_i}{\\lambda} = \\frac{n}{\\lambda}\n",
    "\\end{cases}\n",
    "\n",
    "$$\\theta_i = \\frac{m_i}{n} \\Rightarrow \\widehat{\\theta}_{ОМП} = (\\frac{m_1}{n}, \\frac{m_2}{n}, ..., \\frac{m_k}{n})$$\n",
    "\n",
    "Т.к. выполненны условия регулярности, то по теореме выше можно утвержать, что данная $\\widehat{\\theta}_{ОМП}$ состоятельна.\n",
    "\n",
    "\n",
    "\n"
   ]
  },
  {
   "cell_type": "markdown",
   "metadata": {
    "id": "od4vuw6aJ1LC"
   },
   "source": [
    "### <b><font color=\"orange\">Сложная часть</font></b>"
   ]
  },
  {
   "cell_type": "markdown",
   "metadata": {
    "id": "YFeHj5-kcNbS"
   },
   "source": [
    "## Задача 3\n",
    "\n",
    "Рассмотрим модель линейной регрессии\n",
    "\n",
    "$$Y = X \\theta + ɛ,$$\n",
    "\n",
    "где $Y \\in \\mathbb{R}^n$ - отклик, $X \\in \\mathbb{R}^{n \\times d}$, $\\theta \\in \\mathbb{R}^d$, $ɛ \\in \\mathbb{R}^n$ - шум, $n > d$, $rk X = d$.\n",
    "\n",
    "Будем рассматривать нормальный и гомоскедастичный шум, т.е. $ɛ \\sim \\mathcal{N}(0, 1)$\n",
    "\n",
    "1. Получите выражение для функции правдоподобия в данной модели. Минимизации какой функции потерь эквивалента максимизация правдоподобия в данной задаче?\n",
    "2. Найдите оценку максимального правдоподобия для $(\\theta, \\sigma^2)$.\n",
    "\n",
    "3. Пусть $x_{new} \\in \\mathbb{R}^{d}$ - новый объект. Постройте асимптотический доверительный интервал для ожидаемого значения отклика на этом объекте $y_{new} = x_{new}^T \\theta$.\n",
    "\n",
    "  <br>*Указание:* используя модель регрессии, получите распределение, которое имеет величина $\\widehat{\\theta}_{МНК}$. Учитывая свойства, данные в домашнем задании №1, получите распределение для  $x_{new}^T\\widehat{\\theta}_{\\text{МНК}}$. Считая величину $\\sigma^2$ известной, запишите интервал. Далее замените дисперсию $\\sigma^2$ на ее состоятельную оценку.\n",
    "\n",
    "  **Решение:**\n",
    "\n",
    "  1. Так как должны выполняться условия ЦПТ, то функция правдоподобия для модели линейной регрессии будет иметь следующий вид:\n",
    "\n",
    "$$L = \\prod \\limits_{i = 1}^np_\\theta = \\prod \\limits_{i = 1}^n \\frac{1}{\\sqrt{2 \\pi \\sigma^2}}e^{-\\frac{(y_i - x_i^T\\theta)^2}{2\\sigma^2}}$$\n",
    "\n",
    "$$l = ln(L) = \\sum \\limits_{i = 1}^n ln(p_{\\theta}) = -\\sum \\limits_{i = 1}^n\\left(\\frac{(y_i - x_i^T\\theta)^2}{2\\sigma^2} + ln\\frac{1}{\\sqrt{2 \\pi \\sigma^2}}\\right) = -\\frac{1}{2 \\sigma^2} \\sum \\limits_{i = 1}^n(y_i - x_i^T\\theta)^2 - \\frac{n}{2} ln(2 \\pi) - \\frac{n}{2}ln(\\sigma^2) = \\\\ = -\\frac{1}{2 \\sigma^2} (Y - X\\theta)^T(Y - X\\theta) - \\frac{n}{2} ln(2 \\pi) - \\frac{n}{2}ln(\\sigma^2)$$\n",
    "\n",
    "Минимизации MSE эквивалента максимизации правдоподобия в данной задаче.\n",
    "\n",
    "  2. Найдем ОМП:\n",
    "\n",
    "\\begin{cases}\n",
    "    \\frac{\\partial{l}}{\\partial{\\theta}} = -\\frac{1}{2\\sigma^2} \\frac{\\partial{}}{\\partial{\\theta}}\\left[(Y - X\\theta)^T(Y - X\\theta)\\right] = 0\n",
    "    \\\\\n",
    "    \\frac{\\partial{l}}{\\partial{\\sigma^2}} = -\\frac{n}{2\\sigma^2} + \\frac{1}{2\\sigma^4}(Y - X\\theta)^T(Y - X\\theta) = 0\n",
    "\\end{cases}\n",
    "\n",
    "\\begin{cases}\n",
    "    \\frac{\\partial{l}}{\\partial{\\theta}} = -\\frac{1}{\\sigma^2}\\left[X^TX\\theta - X^TY\\right] = 0\n",
    "    \\\\\n",
    "    \\sigma^2 = \\frac{1}{n}(Y - X\\theta)^T(Y - X\\theta)\n",
    "\\end{cases}\n",
    "\n",
    "Так как шум $\\varepsilon = Y - X\\theta:$\n",
    "\n",
    "\\begin{cases}\n",
    "    \\widehat{\\theta} = (X^TX)^{-1}X^TY\n",
    "    \\\\\n",
    "    \\sigma^2 = \\frac{1}{n}\\sum \\limits_{i = 1}^n \\varepsilon_i^2\n",
    "\\end{cases}\n",
    "\n",
    "3. Так как $x_{new} \\in \\mathbb{R}^{d}$ - новый объект, а $y_{new} = x_{new}^T \\theta$, то АДИ будет иметь вид:\n",
    "\n",
    "$$y_{new} \\in \\left((X^TX)^{-1}X^TY \\pm \\frac{Z_{\\frac{1 + \\alpha}{2}}}{\\sqrt{n}} \\cdot \\frac{1}{n}\\sum \\limits_{i = 1}^n \\varepsilon_i^2\\right)$$"
   ]
  },
  {
   "cell_type": "markdown",
   "metadata": {
    "id": "atZ399yebzJ7"
   },
   "source": [
    "\n",
    "\n",
    "## <b>Практическая часть</b>\n",
    "### <b><font color=\"blue\">Легкая часть</font></b>\n",
    "## Задача 4\n",
    "Cкачайте данные <a href=\"http://archive.ics.uci.edu/ml/datasets/wine\">`wine dataset`</a> и рассмотрите столбцы `Alcalinity of ash`, `Nonflavanoid phenols`, `Proanthocyanins` и `Hue` для вина *первого типа*. Тип вина указан в первом столбце. Для работы с табличными данными используйте библиотеку `pandas`.\n",
    "\n",
    "Постройте доверительные интервалы для параметров сдвига каждого из столбцов, предполагая, что столбцы имеют нормальное распределение.\n",
    "Требуется построить:\n",
    " * асимтотические доверительные интервалы при помощи центральной предельной теоремы;\n",
    " * точные неасимптотические при помощи распределений хи-квадрат, Стьюдента.\n",
    "\n",
    "\n",
    " Запишите их в виде таблицы."
   ]
  },
  {
   "cell_type": "code",
   "execution_count": null,
   "metadata": {
    "colab": {
     "base_uri": "https://localhost:8080/"
    },
    "id": "Zz5IibLZXs40",
    "outputId": "fb0f9bca-4803-4e08-fc8e-28cc624a0b0c"
   },
   "outputs": [],
   "source": [
    "!pip install ucimlrepo"
   ]
  },
  {
   "cell_type": "code",
   "execution_count": null,
   "metadata": {
    "colab": {
     "base_uri": "https://localhost:8080/",
     "height": 226
    },
    "id": "5FL5QI_vXrNE",
    "outputId": "2b504079-7263-4866-fd71-6fec40609257"
   },
   "outputs": [],
   "source": [
    "from ucimlrepo import fetch_ucirepo\n",
    "\n",
    "df = fetch_ucirepo(id = 109)\n",
    "\n",
    "df['data']['features'].head()"
   ]
  },
  {
   "cell_type": "code",
   "execution_count": null,
   "metadata": {
    "colab": {
     "base_uri": "https://localhost:8080/"
    },
    "id": "Tz-4eohDcw9G",
    "outputId": "aa6df8c6-85e4-4848-b756-e597499a4294"
   },
   "outputs": [],
   "source": [
    "wine_df = pd.DataFrame(df['data']['features'], columns = df['data']['features'].columns)\n",
    "wine_df['target'] = df['data']['targets']\n",
    "\n",
    "type_1_wine = wine_df[wine_df['target'] == 1]\n",
    "selected_columns = ['Alcalinity_of_ash', 'Nonflavanoid_phenols', 'Proanthocyanins', 'Hue']\n",
    "final_df = type_1_wine[selected_columns]\n",
    "\n",
    "final_df.info()"
   ]
  },
  {
   "cell_type": "code",
   "execution_count": null,
   "metadata": {
    "colab": {
     "base_uri": "https://localhost:8080/",
     "height": 174
    },
    "id": "3uoL50Vgdnrh",
    "outputId": "4cfed74e-87fc-4801-ee50-8adec49a5a31"
   },
   "outputs": [],
   "source": [
    "a = 0.95\n",
    "n = len(final_df['Hue'])\n",
    "\n",
    "z = sps.norm().ppf((1 + a) / 2)\n",
    "T = sps.t(df = n - 1).ppf((1 + a)/2)\n",
    "\n",
    "means = []\n",
    "arrs = []\n",
    "t_arrs = []\n",
    "\n",
    "for i in final_df.columns:\n",
    "    mean = final_df[i].mean()\n",
    "    std = final_df[i].std()\n",
    "\n",
    "    arr = [round(mean - std * z / np.sqrt(n), 2), round(mean + std * z / np.sqrt(n), 2)]\n",
    "    t_arr = [round(mean - std * T / np.sqrt(n - 1), 2), round(mean + std * T / np.sqrt(n - 1), 2)]\n",
    "\n",
    "    arrs.append(arr)\n",
    "    t_arrs.append(t_arr)\n",
    "\n",
    "results = pd.DataFrame({\n",
    "    'names' : selected_columns,\n",
    "    'асимптотич.' : arrs,\n",
    "    'точный': t_arrs\n",
    "})\n",
    "\n",
    "results"
   ]
  },
  {
   "cell_type": "markdown",
   "metadata": {
    "id": "RtyJNb4vbzJ7"
   },
   "source": [
    "Сделайте выводы по полученной таблице."
   ]
  },
  {
   "cell_type": "markdown",
   "metadata": {
    "id": "dABEgOOxbzJ7"
   },
   "source": [
    "**Вывод:**\n",
    "\n",
    "В данном случае мы не замечаем существенных различий между асимптотическим и точным интервалами. Это означает, что количества измерений достаточно для того, чтобы начала действовать ЦПТ, и точный интервал совпал с асимптотическим."
   ]
  },
  {
   "cell_type": "markdown",
   "metadata": {
    "id": "8b8XLGukdlTQ"
   },
   "source": [
    "## Задача 5\n",
    "### Функция правдоподобия\n",
    "Дана параметрическая модель и 3 выборки, состоящие из 2-3 наблюдений. Для удобства, выборки представлены в виде python-кода — каждая выборка записана как список ее элементов; множество выборок представлено как список списков, соответствующих выборкам из множества. Нужно для каждой выборки построить график функции правдоподобия.\n",
    "\n",
    "*a).* Параметрическая модель $\\mathcal{N}(\\theta, 1)$, выборки: `[[-1, 1], [-5, 5], [-1, 5]]`\n",
    "\n",
    "*b).* Параметрическая модель $Exp(\\theta)$, выборки: `[[1, 2], [0.1, 1], [1, 10]]`\n",
    "\n",
    "*c).* Параметрическая модель $U[0, \\theta]$, выборки: `[[0.2, 0.8], [0.5, 1], [0.5, 1.3]]`\n",
    "\n",
    "*d).* Параметрическая модель $Bin(5, \\theta)$, выборки: `[[0, 1], [5, 5], [0, 5]]`\n",
    "\n",
    "*e).* Параметрическая модель $Pois(\\theta)$, выборки: `[[0, 1], [0, 10], [5, 10]]`\n",
    "\n",
    "*f).* Параметрическая модель $Сauchy(\\theta)$, где $\\theta$ — параметр сдвига, выборки: `[[-0.5, 0.5], [-2, 2], [-4, 0, 4]]`\n",
    "\n",
    "Выполнить задание, не создавая много кода, поможет следующая функция.\n",
    "\n",
    "Допишите ее."
   ]
  },
  {
   "cell_type": "code",
   "execution_count": null,
   "metadata": {
    "id": "ROduCQbFdlTQ"
   },
   "outputs": [],
   "source": [
    "def draw_likelihood(density_function, grid, samples, label):\n",
    "    \"\"\"Изображает график функции правдоподобия для каждой из 3 выборок.\n",
    "\n",
    "    Аргументы:\n",
    "    density_function --- функция, считающая плотность (обычную или дискретную).\n",
    "        На вход данная функция должна принимать массив размера (1, len_sample)\n",
    "        и возвращать массив размера (len_grid, len_sample).\n",
    "    grid --- массив размера (len_grid, 1) --- сетка для построения графика;\n",
    "    samples --- три выборки;\n",
    "    label --- latex-код параметрической модели.\n",
    "    \"\"\"\n",
    "    assert len(samples) == 3, \"Число выборок не равно 3.\"\n",
    "\n",
    "    plt.figure(figsize=(18, 5))\n",
    "    for i, sample in enumerate(samples):\n",
    "        sample = np.array(sample)[np.newaxis, :]\n",
    "        likelihood = np.prod(density_function(sample), axis = 1)\n",
    "\n",
    "        plt.subplot(1, 3, i+1)\n",
    "        plt.plot(grid, likelihood)\n",
    "        plt.xlabel('$\\\\theta$', fontsize=16)\n",
    "        plt.grid(ls=':')\n",
    "        plt.title(label + ', sample=' + str(sample), fontsize=16)\n",
    "    plt.show()"
   ]
  },
  {
   "cell_type": "markdown",
   "metadata": {
    "id": "jF3gn_yzdlTQ"
   },
   "source": [
    "Первый пункт можно выполнить с помощью следующего кода:"
   ]
  },
  {
   "cell_type": "code",
   "execution_count": null,
   "metadata": {
    "colab": {
     "base_uri": "https://localhost:8080/",
     "height": 424
    },
    "id": "cQQ5qx7adlTQ",
    "outputId": "0ab3c574-e4ff-4741-c8cd-ad45c56495d2"
   },
   "outputs": [],
   "source": [
    "grid = np.linspace(-5, 5, 1000).reshape((-1, 1))\n",
    "draw_likelihood(sps.norm(loc=grid).pdf, grid,\n",
    "                [[-1, 1], [-5, 5], [-1, 5]], '$\\\\mathcal{N}(\\\\theta, 1)$')"
   ]
  },
  {
   "cell_type": "markdown",
   "metadata": {
    "id": "xoBXIA46dlTR"
   },
   "source": [
    "Выполните остальные:"
   ]
  },
  {
   "cell_type": "code",
   "execution_count": null,
   "metadata": {
    "colab": {
     "base_uri": "https://localhost:8080/",
     "height": 1000
    },
    "id": "9Rj4YMcfdlTR",
    "outputId": "baac43c6-60d3-4148-ca5f-87834786a2d1"
   },
   "outputs": [],
   "source": [
    "densities = [\n",
    "    sps.expon(scale = 1/grid).pdf,\n",
    "    sps.uniform(0, grid).pdf,\n",
    "    sps.binom(5, grid).pmf,\n",
    "    sps.poisson(mu = grid).pmf,\n",
    "    sps.cauchy(loc=grid).pdf\n",
    "]\n",
    "\n",
    "values = [\n",
    "    [[1, 2], [0.1, 1], [1, 10]],\n",
    "    [[0.2, 0.8], [0.5, 1], [0.5, 1.3]],\n",
    "    [[0, 1], [5, 5], [0, 5]],\n",
    "    [[0, 1], [0, 10], [5, 10]],\n",
    "    [[-0.5, 0.5], [-2, 2], [-4, 0, 4]]\n",
    "]\n",
    "\n",
    "names = [\n",
    "    '$Exp(\\\\theta)$',\n",
    "    '$U[0, \\\\theta]$',\n",
    "    '$Bin(5, \\\\theta)$',\n",
    "    '$Pois(\\\\theta)$',\n",
    "    '$Сauchy(\\\\theta)$'\n",
    "]\n",
    "\n",
    "for i in range(5):\n",
    "    draw_likelihood(densities[i], grid, values[i], names[i])"
   ]
  },
  {
   "cell_type": "markdown",
   "metadata": {
    "id": "DxqsGBNddlTR"
   },
   "source": [
    "Прокомментируйте полученные графики. Сделайте вывод о том, как функция правдоподобия для каждой модели зависит от выборки. Является ли функция правдоподобия плотностью?"
   ]
  },
  {
   "cell_type": "markdown",
   "metadata": {
    "id": "PI-eom__dlTR"
   },
   "source": [
    "*Примечание:* В выводе для каждой модели требуется описать, как меняются значения функции (сдвиг, масштаб, форма) при изменении выборки, где достигается максимум, а также какие значения параметра более правдоподобны для данной выборки, какие — менее.\n",
    "\n",
    "**Вывод:**\n",
    "\n",
    "1. Для нормального распределения изменение выборки может привести к смещению, масштабированию и изменению формы графика. Если значения близки друг к другу, то максимум функции вероятности достигается при более высокой интенсивности. Для выборки, где значения распределены симметрично относительно среднего, параметры модели более правдоподобны, чем в случае несимметричной выборки.\n",
    "\n",
    "2. Для экспоненты изменение выборки влияет на ширину и высоту кривой. Максимум функции вероятности достигается там, где данные наиболее плотны. Значения параметра, отражающие наблюдаемую выборку с более узким распределением, более правдоподобны.\n",
    "\n",
    "3. В общем, наблюдается тенденция к изменению сдвига, масштаба и формы графика при изменении выборки. Максимум функции вероятности обычно совпадает с пиком данных. Значения параметра, которые наилучшим образом отражают выборку, считаются более правдоподобными.\n",
    "\n",
    "4. Для распределения Коши наблюдается формирование \"мультиплетов\", когда значения близки, но не сливаются. Максимум функции вероятности обычно соответствует плотной области данных. В зависимости от конкретной выборки значения параметров могут быть либо более, либо менее правдоподобными.\n",
    "\n",
    "5. Функция правдоподобия представляет собой плотность выборки, в которую в качестве параметра подставляется собственная выборка."
   ]
  },
  {
   "cell_type": "markdown",
   "metadata": {
    "id": "4rzI7ZgUdlTR"
   },
   "source": [
    "Сгенерируем выборку большого размера из стандартного нормального распределения и посчитаем ее функцию правдоподобия в модели $\\mathcal{N}(\\theta, 1)$. Выполните код ниже:"
   ]
  },
  {
   "cell_type": "code",
   "execution_count": null,
   "metadata": {
    "colab": {
     "base_uri": "https://localhost:8080/"
    },
    "id": "0Fg4OtRGdlTR",
    "outputId": "2cb3d8b6-7f28-4908-864b-90c32d7e3310"
   },
   "outputs": [],
   "source": [
    "sample = sps.norm.rvs(size=10**5)\n",
    "likelihood = sps.norm.pdf(sample).prod()\n",
    "print(likelihood)"
   ]
  },
  {
   "cell_type": "markdown",
   "metadata": {
    "id": "_5HI-iiidlTR"
   },
   "source": [
    "Почему результат отличается от ожидаемого? Как обойти эту неприятность для подсчета оценки максимального правдоподобия? Реализуйте это.\n",
    "\n",
    "*Подсказка:* нужно использовать некоторый [метод класса](https://docs.scipy.org/doc/scipy/reference/generated/scipy.stats.norm.html), реализующий это распределение."
   ]
  },
  {
   "cell_type": "markdown",
   "metadata": {
    "id": "Y8N67ZI4dlTS"
   },
   "source": [
    "**Ответ на вопрос и описание метода решения проблемы:**\n",
    "\n",
    "При увеличении размера выборки на $n$ единиц, дисперсия выборки уменьшится в $\\sqrt{n}$ раз. Поэтому при генерации выборки и вычислении ее правдоподобия необходимо учесть масштаб, задав $scale = 1/\\sqrt{n}$."
   ]
  },
  {
   "cell_type": "code",
   "execution_count": null,
   "metadata": {
    "colab": {
     "base_uri": "https://localhost:8080/"
    },
    "id": "GxHo-OSFdlTS",
    "outputId": "5c18429e-6df6-4aac-a9e3-c9468977bb3c"
   },
   "outputs": [],
   "source": [
    "sample = sps.norm(scale = 1/np.sqrt(10**5)).rvs(size = 10**5)\n",
    "likelihood = sps.norm(scale = 1/np.sqrt(10**5)).pdf(sample).prod()\n",
    "print(likelihood)"
   ]
  },
  {
   "cell_type": "markdown",
   "metadata": {
    "id": "e_kKwvlhJ1LF"
   },
   "source": [
    "### <b><font color=\"orange\">Сложная часть</font></b>\n"
   ]
  },
  {
   "cell_type": "markdown",
   "metadata": {
    "id": "gnZZGGjmdlTS"
   },
   "source": [
    "## Задача 6\n",
    "Асимпотические доверительные интервалы ничего не могут гарантировать на малых размерах выборки.\n",
    "В этой задаче вам предстоит иллюстрировать этот факт, посчитав реальный уровень доверия для интервалов.\n",
    "\n",
    "**Реальный уровень доверия (оценка доли покрытия интервалом)**  - доля случаев попадания истинного значения параметра в доверительный интервал.\n",
    "\n",
    "*Пример подсчета:*\n",
    "\n",
    "Допустим, вы хотите оценить реальный уровень доверия интервала для $a$, если $X \\sim \\mathcal{N}(a, \\sigma^2)$\n",
    "\n",
    "- Фиксируете истинные $(a, \\sigma^2)$, для которых будете делать оценку\n",
    "- Генерируете $B$ выборок из $\\mathcal{N}(a, \\sigma^2)$ с зафиксированными параметрами\n",
    "- По каждой выборке получаете АДИ для $a$\n",
    "- Считаете долю случаев, когда истинное $a$ попадает в интервал\n",
    "\n",
    "Эта доля и будет оценкой доли покрытия интервала.\n",
    "\n",
    "**Важно:** вы симулируете реальную ситуацию, когда вы не знаете ни $a$, ни $\\sigma$, поэтому в формулах для АДИ их **использовать нельзя**!\n",
    "\n",
    "**Важно:** при такой оценке реального уровня доверия вы используете метод Монте-Карло. Погрешность этого метода составляет $\\sim \\frac{1}{\\sqrt{n}}$, где $n$ - количество выборок, по которым осуществляется оценка.\n",
    "\n",
    "*Вопрос:* какое $n$ нужно брать, если вы хотите оценить реальный уровень доверия с точностью до 2 знаков ($\\delta = 0.01$)?\n",
    "\n",
    "**Ваш ответ:** $n \\geq 10 000$\n"
   ]
  },
  {
   "cell_type": "markdown",
   "metadata": {
    "id": "mFrbCdANdlTS"
   },
   "source": [
    "### Генерация выборок для оценки"
   ]
  },
  {
   "cell_type": "markdown",
   "metadata": {
    "id": "rvMbc2xEdlTS"
   },
   "source": [
    "Сгенерируйте набор выборок из нормального распределения $\\mathcal{N}(\\theta, 1)$ при $\\theta=0$"
   ]
  },
  {
   "cell_type": "code",
   "execution_count": null,
   "metadata": {
    "id": "mYrNZeg-dlTT"
   },
   "outputs": [],
   "source": [
    "theta = 0  # истинное значение параметра\n",
    "sample_size = 300\n",
    "sample_count = 10000\n",
    "X = sps.norm.rvs(loc = theta, scale = 1, size = (sample_count, sample_size))"
   ]
  },
  {
   "cell_type": "markdown",
   "metadata": {
    "id": "ze2SrPchdlTT"
   },
   "source": [
    "### Случай АДИ"
   ]
  },
  {
   "cell_type": "markdown",
   "metadata": {
    "id": "zSGKpthndlTT"
   },
   "source": [
    "На лекции вы получали формулу для асимптотического доверительного интервала для $a$\n",
    "\n",
    "Асимптотический доверительный интервал: $\\theta \\in \\bigg(\\overline{X} - \\frac{S}{\\sqrt{n}}z_{(1+\\alpha)/2}, \\overline{X} + \\frac{S}{\\sqrt{n}}z_{(1+\\alpha)/2} \\bigg)$"
   ]
  },
  {
   "cell_type": "markdown",
   "metadata": {
    "id": "Cp7H5fc9dlTT"
   },
   "source": [
    "Посчитайте $z$ (используйте функцию `.ppf`)"
   ]
  },
  {
   "cell_type": "code",
   "execution_count": null,
   "metadata": {
    "colab": {
     "base_uri": "https://localhost:8080/"
    },
    "id": "rsMzarR-dlTU",
    "outputId": "e6ae16ca-6527-49c1-a12b-662d370c6b33"
   },
   "outputs": [],
   "source": [
    "alpha = 0.95\n",
    "z = sps.norm.ppf((1 + alpha) / 2)\n",
    "print(z)"
   ]
  },
  {
   "cell_type": "markdown",
   "metadata": {
    "id": "DUOQ9H2adlTU"
   },
   "source": [
    "Постройте график зависимости реального уровня доверия интервала от размера выборки. График начинайте с $n=2$.\n",
    "\n",
    "Для этого вам нужно провести описанную выше процедуру для подвыборок разных размеров. Для подсчета интервалов по префиксам используйте функцию `np.cumsum`. Для того чтобы не запутаться, разносите подсчет разных величин, входящих в формулу, по разным строчкам."
   ]
  },
  {
   "cell_type": "code",
   "execution_count": null,
   "metadata": {
    "colab": {
     "base_uri": "https://localhost:8080/",
     "height": 641
    },
    "id": "Rig2gLjcdlTU",
    "outputId": "b7bbcae1-131c-4a06-fab8-e6edfa3dad6e"
   },
   "outputs": [],
   "source": [
    "def adi(X, z, sigma = 1, theta = 0):\n",
    "    \"\"\"\n",
    "    Функция для оценки реального уровня доверия.\n",
    "    Параметры:\n",
    "        X : Массив выборок размера (sample_count, sample_size).\n",
    "        z : Значение z для построения доверительного интервала.\n",
    "        sigma : Стандартное отклонение распределения.\n",
    "        theta : Истинное значение параметра.\n",
    "    \"\"\"\n",
    "    mean = np.mean(X, axis = 1)\n",
    "\n",
    "    n = X.shape[1]\n",
    "    mn = mean - z * sigma / np.sqrt(n)\n",
    "    mx = mean + z * sigma / np.sqrt(n)\n",
    "\n",
    "    res = np.array([1 if mn[i] < theta < mx[i] else 0 for i in range(len(X))])\n",
    "\n",
    "    return res.sum() / len(res)\n",
    "\n",
    "plt.figure(figsize = (15, 7))\n",
    "\n",
    "n_grid = np.linspace(2, sample_size, 100).astype('int64')\n",
    "\n",
    "for i in range(400):\n",
    "    X = sps.norm.rvs(loc = theta, scale = 1, size = (sample_count, sample_size))\n",
    "    results = [adi(X[:][:n], z) for n in n_grid]\n",
    "    plt.plot(n_grid, results, color='b', alpha = 0.05)\n",
    "\n",
    "plt.plot((2, sample_size), (alpha, alpha), color = 'r', label = fr'$\\alpha = {alpha}$')\n",
    "plt.xlim(2, sample_size)\n",
    "plt.ylim(0.6, 1)\n",
    "\n",
    "plt.title('Зависимость уровня доверия от размера выборки')\n",
    "plt.xlabel('Размер выборки')\n",
    "plt.ylabel('Реальный уровень доверия')\n",
    "\n",
    "plt.grid(True)\n",
    "plt.legend()\n",
    "plt.show()"
   ]
  },
  {
   "cell_type": "markdown",
   "metadata": {
    "id": "_7hpnoyTdlTU"
   },
   "source": [
    "**Сделайте выводы:**\n",
    "\n",
    "При небольших значениях размера выборки реальный уровень доверия может значительно отличаться от ожидаемого, как в сторону завышения, так и в сторону занижения. Однако, при увеличении размера выборки примерно до 300, большинство траекторий сходятся к постоянному значению. Для большинства случаев реальный уровень доверия остается в пределах примерно ±0.3 от ожидаемого значения."
   ]
  },
  {
   "cell_type": "markdown",
   "metadata": {
    "id": "OuYKhxOsdlTV"
   },
   "source": [
    "### Случай ТДИ\n",
    "\n",
    "На лекции вы получали формулу для точного доверительного интервала для $a$ в нормальной модели\n",
    "\n",
    "Точный доверительный интервал: $\\theta \\in \\bigg(\\overline{X} - \\frac{S}{\\sqrt{n-1}}T_{n-1,(1+\\alpha)/2}, \\overline{X} + \\frac{S}{\\sqrt{n-1}}T_{n-1,(1+\\alpha)/2} \\bigg)$\n",
    "\n",
    "**Вопрос:** чем этот интервал лучше предыдущего?\n",
    "\n",
    "**Ваш ответ:**\n",
    "\n",
    "Данный интервал обеспечивает точные вероятностные границы для параметра оценки при заданном уровне доверия.\n",
    "\n",
    "Постройте график реального уровня доверия интервала от размера выборки для этого вида интервала. График начинайте с $n=2$. Сравните его с предыдущим."
   ]
  },
  {
   "cell_type": "code",
   "execution_count": null,
   "metadata": {
    "colab": {
     "base_uri": "https://localhost:8080/",
     "height": 641
    },
    "id": "KKoMOmkhdlTV",
    "outputId": "7ca0eb0a-e4f8-4922-d622-7f72993f3023"
   },
   "outputs": [],
   "source": [
    "def tdi(X, alpha = 0.95, theta = 0):\n",
    "    \"\"\"\n",
    "    Функция для оценки реального уровня доверия точного доверительного интервала.\n",
    "    Параметры:\n",
    "        X : Массив выборок размера (sample_count, sample_size).\n",
    "        alpha : Уровень доверия.\n",
    "        theta : Истинное значение параметра.\n",
    "    \"\"\"\n",
    "    n = X.shape[1]\n",
    "    mean = np.mean(X, axis=1)\n",
    "    std = np.std(X, axis=1, ddof=1)\n",
    "\n",
    "    t = sps.t.ppf((1 + alpha) / 2, df=n - 1)\n",
    "\n",
    "    mn = mean - t * std / np.sqrt(n)\n",
    "    mx = mean + t * std / np.sqrt(n)\n",
    "\n",
    "    res = np.array([1 if mn[i] < theta < mx[i] else 0 for i in range(len(X))])\n",
    "\n",
    "    return res.sum() / len(res)\n",
    "\n",
    "plt.figure(figsize=(15, 7))\n",
    "\n",
    "n_grid = np.linspace(2, sample_size, 100).astype('int64')\n",
    "\n",
    "for i in range(100): #уменьшил с 400 до 100, а то долго\n",
    "    X = sps.norm.rvs(loc=theta, scale=1, size=(sample_count, sample_size))\n",
    "    results = [tdi(X[:, :n]) for n in n_grid]\n",
    "    plt.plot(n_grid, results, color='b', alpha=0.05)\n",
    "\n",
    "plt.plot((2, sample_size), (alpha, alpha), color='r', label=fr'$\\alpha = {alpha}$')\n",
    "plt.xlim(2, sample_size)\n",
    "plt.ylim(0.6, 1)\n",
    "\n",
    "plt.title('Зависимость уровня доверия от размера выборки для ТДИ')\n",
    "plt.xlabel('Размер выборки')\n",
    "plt.ylabel('Реальный уровень доверия')\n",
    "\n",
    "plt.grid(True)\n",
    "plt.legend()\n",
    "plt.show()"
   ]
  },
  {
   "cell_type": "markdown",
   "metadata": {
    "id": "aRf4v65GdlTV"
   },
   "source": [
    "**Вывод:**\n",
    "\n",
    "Так как график реального уровня доверия интервала для ТДИ сходится к константе, то это может свидетельствовать о том, что метод точных доверительных интервалов обеспечивает стабильные и надежные оценки параметров при различных размерах выборки."
   ]
  }
 ],
 "metadata": {
  "colab": {
   "provenance": []
  },
  "kernelspec": {
   "display_name": "Python 3 (ipykernel)",
   "language": "python",
   "name": "python3"
  },
  "language_info": {
   "codemirror_mode": {
    "name": "ipython",
    "version": 3
   },
   "file_extension": ".py",
   "mimetype": "text/x-python",
   "name": "python",
   "nbconvert_exporter": "python",
   "pygments_lexer": "ipython3",
   "version": "3.9.6"
  }
 },
 "nbformat": 4,
 "nbformat_minor": 0
}
