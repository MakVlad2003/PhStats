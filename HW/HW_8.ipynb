{
 "cells": [
  {
   "cell_type": "code",
   "execution_count": null,
   "id": "0",
   "metadata": {
    "id": "6744ddcf"
   },
   "outputs": [],
   "source": [
    "import numpy as np\n",
    "import scipy.stats as sps\n",
    "import matplotlib.pyplot as plt\n",
    "import seaborn as sns\n",
    "import pandas as pd\n",
    "\n",
    "sns.set(palette='Set2')"
   ]
  },
  {
   "cell_type": "markdown",
   "id": "1",
   "metadata": {
    "id": "004c83b3"
   },
   "source": [
    "### <b><i><font color=\"blue\">Легкая часть</font></i></b>\n"
   ]
  },
  {
   "cell_type": "markdown",
   "id": "2",
   "metadata": {
    "id": "0d1a2899"
   },
   "source": [
    "### Задача 1\n",
    "Пусть $X = ( X_1, ... X_n)$ — выборка из неизвестного распределения $\\mathsf{P} \\in \\{ \\mathsf{P}_{\\theta} | \\theta \\in \\Theta \\}$\n",
    "и для проверки гипотез $\\mathsf{H}_0 : \\theta \\in [−1, 1]$   vs.  $\\mathsf{H}_1 : \\theta \\notin [−1, 1]$ используется критерий\n",
    "$S = \\{x \\in \\mathbb{R}^n | T(x) > 1\\}$. Предположим, $T(x)$ имеет распределение $\\mathcal{N}(\\theta, 1)$. Какие\n",
    "ответы возможны в результате проверки данных гипотез и в каких случаях? Найдите\n",
    "вероятность ошибки первого рода.\n",
    "\n",
    "*Указание:*\n",
    "- Не забудьте, что в определении вероятности ошибки I рода стоит супремум по всем параметрам из основной гипотезы\n",
    "- Можно показать, где достигается супремум графически. Например, с помощью `sps.norm`, где параметр `loc` отвечает за сдвиг.\n",
    "\n",
    "***Решение:***\n",
    "\n",
    "1. $X \\in S:$ и $H_0$ верна - ошибка I рода.\n",
    "\n",
    "2. $X \\in S:$ и $H_0$ неверна - все ОК.\n",
    "\n",
    "3. $X \\notin S:$ и $H_0$ верна - все ОК.\n",
    "\n",
    "4. $X \\notin S:$ и $H_0$ неверна - ошибка II рода.\n",
    "\n",
    "Найдём вероятность ошибки I рода:\n",
    "\n",
    "$$P(I_S) = \\sup_{\\theta \\in [-1, 1]}P_{\\theta}(x \\in S) = \\sup_{\\theta \\in [-1, 1]}P_{\\theta}(T(X) > 1) = \\sup_{\\theta \\in [-1, 1]}(1 - \\varPhi_T(1)) = 0.5$$\n",
    "\n"
   ]
  },
  {
   "cell_type": "code",
   "execution_count": null,
   "id": "3",
   "metadata": {
    "colab": {
     "base_uri": "https://localhost:8080/",
     "height": 490
    },
    "id": "8IJH5sebAouu",
    "outputId": "51c3dbf2-a6f7-426d-d19e-3a164bd7da76"
   },
   "outputs": [],
   "source": [
    "theta = np.linspace(-1, 1, 300)\n",
    "error = sps.norm(loc = theta).sf(1)\n",
    "\n",
    "plt.figure(figsize = (8, 5))\n",
    "plt.plot(theta, error)\n",
    "\n",
    "plt.ylabel('P')\n",
    "plt.xlabel(r'$\\theta$')"
   ]
  },
  {
   "cell_type": "markdown",
   "id": "4",
   "metadata": {
    "id": "d5953131"
   },
   "source": [
    "### Задача 2\n",
    "\n",
    "Проведен эксперимент, получены данные из экспоненциального распределения."
   ]
  },
  {
   "cell_type": "code",
   "execution_count": null,
   "id": "5",
   "metadata": {
    "id": "874ad1c7"
   },
   "outputs": [],
   "source": [
    "sample = np.array([0.11731702, 0.75253036, 0.32918642, 0.22823564, 0.04240622,\n",
    "        0.04239907, 0.01495969, 0.50280772, 0.22977054, 0.30781252,\n",
    "        0.00519983, 0.87588937, 0.44660739, 0.05967191, 0.05016975,\n",
    "        0.05065286, 0.09068843, 0.18598196, 0.14138427, 0.08605575,\n",
    "        0.23659272, 0.03755863, 0.08637888, 0.1140693 , 0.15223367,\n",
    "        0.384484  , 0.05568397, 0.18050729, 0.22437618, 0.01189096])"
   ]
  },
  {
   "cell_type": "markdown",
   "id": "6",
   "metadata": {
    "id": "3a3e2c61"
   },
   "source": [
    "Необходимо проверить, является ли это распределение с параметром $\\lambda=2$. Используя Критерий Вальда, сделайте вывод по данному предположению.\n",
    "\n",
    "$X_1, ... X_n$ &mdash; выборка из распределения $Exp(\\lambda)$.  \n",
    "Проверьте гипотезу $\\mathsf{H}_0\\colon \\lambda = 2$ vs. $\\mathsf{H}_1\\colon \\lambda \\neq 2$  \n",
    "  \n",
    "\n",
    "\n"
   ]
  },
  {
   "cell_type": "markdown",
   "id": "7",
   "metadata": {
    "id": "61838f5e"
   },
   "source": [
    "**1.** Из лекции вы узнали про критерий Вальда.\n",
    "Для случая двусторонней альтернативы $\\mathsf{H}_1\\colon \\theta \\neq \\theta_0$ критерий имел следующий вид:\n",
    "$$\\large{S = \\left\\{ \\left|\\sqrt{n} \\frac{\\hat{\\theta} - \\theta_0}{\\hat{\\sigma}} \\right| > z_{1 - \\frac{\\alpha}{2}} \\right\\}}$$\n",
    "\n",
    "где $\\hat{\\theta}$ &mdash; асимптотически нормальная оценка $\\theta$ с асимптотической дисперсией $\\sigma^2(\\theta)$,\n",
    "$\\hat{\\sigma}$ &mdash; состоятельная оценка $\\sigma(\\theta)$.  \n",
    "\n",
    "Эквивалентный асимптотичсекий доверительный интервал для параметра $\\theta$ уровня доверия $1-\\alpha$\n",
    "$$C = \\left( \\hat{\\theta} - \\frac{z_{1-\\alpha/2} \\hat{\\sigma}}{\\sqrt{n}}, \\hat{\\theta} + \\frac{z_{1-\\alpha/2} \\hat{\\sigma}}{\\sqrt{n}}\\right)$$\n",
    "\n",
    "На первой лекции вы получали, что $\\frac{1}{\\overline{X}}$ &mdash; АНО для параметра $\\theta$ c асимптотической дисперсией $\\theta^2$\n",
    "\n",
    "\n",
    " **Выпишите состоятельную оценку дисперсии и статистику критерия Вальда**\n",
    "\n"
   ]
  },
  {
   "cell_type": "markdown",
   "id": "8",
   "metadata": {
    "id": "fc62e64c"
   },
   "source": [
    "**Ответ:**\n",
    "\n",
    "$\\hat{\\sigma}^2 = \\sigma^2(\\hat{\\theta}) = \\frac{1}{\\overline{X}^2}$"
   ]
  },
  {
   "cell_type": "markdown",
   "id": "9",
   "metadata": {
    "id": "5d9971ca"
   },
   "source": [
    "На лекции вы узнали про p-value &mdash; это вероятность получить при справедливости $H_0$ такое значение статистики $t = T(x)$ или еще более экстремальное, то есть в случае двустороннего критерия\n",
    "$$p(x) = \\mathsf{P}_0(T(X) \\geq|t|) + \\mathsf{P}_0(T(X) \\leq -|t|)$$\n",
    "Для расчета можно использовать функции из библиотеки `scipy.stats`."
   ]
  },
  {
   "cell_type": "markdown",
   "id": "10",
   "metadata": {
    "id": "dd8eb639"
   },
   "source": [
    "**2**. Оформите функцию подсчета статистики критерия, p-value и доверительного интервала"
   ]
  },
  {
   "cell_type": "code",
   "execution_count": null,
   "id": "11",
   "metadata": {
    "id": "htxKzQ8BG-k_"
   },
   "outputs": [],
   "source": [
    "alpha = 0.05\n",
    "theta = 2\n",
    "n = len(sample)"
   ]
  },
  {
   "cell_type": "code",
   "execution_count": null,
   "id": "12",
   "metadata": {
    "id": "d82257c3"
   },
   "outputs": [],
   "source": [
    "def wald_test(sample, theta, estimation_theta, estimation_sigma, alternative = 'two_sided'):\n",
    "    \"\"\"\n",
    "    param sample: реализация выборки\n",
    "    param theta: истинное значение параметра\n",
    "    param estimation_theta: оценка параметра\n",
    "    param estimation_sigma: оценка асимптотической дисперсии\n",
    "        оценки estimation_sigma\n",
    "    param alternative: вид альтернативной гипотезы,\n",
    "        может принимать одно из значений 'two_sided', 'less', 'greater'\n",
    "\n",
    "    return statistic\n",
    "    return p_value\n",
    "    return conf_int - доверительный интервал\n",
    "    \"\"\"\n",
    "\n",
    "    alpha = 0.05\n",
    "    n = sample.shape[-1]\n",
    "\n",
    "    if alternative == 'two_sided':\n",
    "        z = sps.norm.ppf(1 - alpha/2)\n",
    "        statistic = np.abs(np.sqrt(n) * (estimation_theta - theta) / estimation_sigma)\n",
    "        conf_int = ((estimation_theta - z * estimation_sigma / np.sqrt(n)).round(3), (estimation_theta + z * estimation_sigma / np.sqrt(n)).round(3))\n",
    "        p_value = 2 * sps.norm.sf(statistic)\n",
    "\n",
    "    elif alternative == 'less':\n",
    "        z = sps.norm.ppf(alpha)\n",
    "        statistic = np.sqrt(n) * (estimation_theta - theta) / estimation_sigma\n",
    "        conf_int = (-np.inf, (estimation_theta - z * estimation_sigma / np.sqrt(n)).round(3))\n",
    "        p_value = sps.norm.cdf(statistic)\n",
    "\n",
    "    elif alternative == 'greater':\n",
    "\n",
    "        z = sps.norm.ppf(1 - alpha)\n",
    "        statistic = np.sqrt(n) * (estimation_theta - theta) / estimation_sigma\n",
    "        conf_int = ((estimation_theta - z * estimation_sigma / np.sqrt(n)).round(3), np.inf)\n",
    "        p_value = sps.norm.sf(statistic)\n",
    "\n",
    "    return statistic.round(7), p_value.round(5), conf_int"
   ]
  },
  {
   "cell_type": "code",
   "execution_count": null,
   "id": "13",
   "metadata": {
    "id": "KvQApsffHDVR"
   },
   "outputs": [],
   "source": [
    "estim = 1 / sample.mean()\n",
    "std = 1 / sample.mean()"
   ]
  },
  {
   "cell_type": "markdown",
   "id": "14",
   "metadata": {
    "id": "beef33ef"
   },
   "source": [
    "**3**. Проверьте гипотезу с двусторонней альтернативой."
   ]
  },
  {
   "cell_type": "code",
   "execution_count": null,
   "id": "15",
   "metadata": {
    "colab": {
     "base_uri": "https://localhost:8080/"
    },
    "id": "babdcce6",
    "outputId": "69018a11-de1d-411a-f524-768f5861a1ea"
   },
   "outputs": [],
   "source": [
    "two_sided = wald_test(sample, theta, estim, std, alternative = 'two_sided')\n",
    "print(f'Для двусторонней альтернативы: \\n Статистика: {two_sided[0]}, \\n P-value: {two_sided[1]}, \\n Доверительный интервал: {two_sided[2]}')"
   ]
  },
  {
   "cell_type": "markdown",
   "id": "16",
   "metadata": {
    "id": "ab32a1f0"
   },
   "source": [
    "**Вывод:**\n",
    "\n",
    "В случае двусторонней альтернативы мы можем отвергнуть нулевую гипотезу в пользу альтернативной гипотезы, так как значение p_value < 0.05, значит результат статистически значимый."
   ]
  },
  {
   "cell_type": "markdown",
   "id": "17",
   "metadata": {
    "id": "b9269b95"
   },
   "source": [
    "**4**. Проверьте гипотезу с правосторонней альтернативой."
   ]
  },
  {
   "cell_type": "code",
   "execution_count": null,
   "id": "18",
   "metadata": {
    "colab": {
     "base_uri": "https://localhost:8080/"
    },
    "id": "852db5bd",
    "outputId": "5e94265b-4432-460d-bf1d-fe401817f992"
   },
   "outputs": [],
   "source": [
    "greater = wald_test(sample, theta, estim, std, alternative = 'greater')\n",
    "print(f'Для правосторонней альтернативы: \\n Cтатистика: {greater[0]}, \\n P-value: {greater[1]}, \\n Доверительный интервал: {greater[2]}')"
   ]
  },
  {
   "cell_type": "markdown",
   "id": "19",
   "metadata": {
    "id": "677c5087"
   },
   "source": [
    "**Вывод:**\n",
    "\n",
    "Правосторонняя альтернатива позволяет нам отвергнуть нулевую гипотезу, так как значение p-value < 0.05, то есть результат статистически значимый."
   ]
  },
  {
   "cell_type": "markdown",
   "id": "20",
   "metadata": {
    "id": "14bcda8f"
   },
   "source": [
    "**5**. Проверьте гипотезу с левосторонней альтернативой."
   ]
  },
  {
   "cell_type": "code",
   "execution_count": null,
   "id": "21",
   "metadata": {
    "colab": {
     "base_uri": "https://localhost:8080/"
    },
    "id": "e37f9413",
    "outputId": "4ccf07f2-c5d4-47d1-a690-1639f4f30fd4"
   },
   "outputs": [],
   "source": [
    "less = wald_test(sample, theta, estim, std, alternative = 'less')\n",
    "print(f'Для левосторонней альтернативы: \\n Cтатистика: {less[0]}, \\n P-value: {less[1]}, \\n Доверительный интервал: {less[2]}')"
   ]
  },
  {
   "cell_type": "markdown",
   "id": "22",
   "metadata": {
    "id": "a899cb81"
   },
   "source": [
    "**Вывод:**\n",
    "\n",
    "Мы не можем отвергнуть нулевую гипотезу в случае левосторонней альтернативы, так как значение p-value очень большое."
   ]
  },
  {
   "cell_type": "markdown",
   "id": "23",
   "metadata": {
    "id": "37f3364a"
   },
   "source": [
    "### Задача 3\n",
    "\n",
    "На практике часто рассматривают асимптотические критерии, например, критерий Вальда. Такие критерии контролируют вероятность ошибки I рода на уровне $\\alpha$ только в пределе, однако для небольших выборок она может сильно отличаться от $\\alpha$, причем нередко в большую сторону. Поэтому для таких критериев возникает необходимость в вычислении значения вероятности ошибки I рода или *реального уровня значимости* при конечной выборке.\n",
    "\n",
    "Зачастую посчитать точное значение реального уровня значимости довольно сложно, поэтому вместо него вычисляют оценку с помощью сэмплирования по методу Монте-Карло.\n",
    "\n",
    "Пусть гипотеза $\\mathsf{H}_0$ простая, то есть $\\mathsf{H}_0\\colon \\mathsf{P} = \\mathsf{P}_0$. Для ее проверки по конечной выборке $X_1, ..., X_n$ используется критерий $S$. **Опишите схему оценки реального уровня** значимости критерия $S$ методом Монте-Карло.\n"
   ]
  },
  {
   "cell_type": "markdown",
   "id": "24",
   "metadata": {
    "id": "d76af73a"
   },
   "source": [
    "**Ответ:**\n",
    "\n",
    "$$P(I_S) = P_{\\theta_0}(X \\in S) = \\mathbb{E}_{\\theta_0}I\\{X \\in S\\}$$\n",
    "\n",
    "1. Генерируем K выборок $X^k = (X_1^k, ... , X_n^k)$ из распределения с $\\theta = \\theta_0$: $\\forall k \\rightarrow I^k = I\\{X^k \\in S\\}$\n",
    "2. $\\widehat{P(I_S)} = \\overline{I\\{X \\in S\\}}$\n",
    "3. Погрешность $\\varepsilon \\approx \\frac{1}{\\sqrt{k}}$"
   ]
  },
  {
   "cell_type": "markdown",
   "id": "25",
   "metadata": {
    "id": "1d6e5aaa"
   },
   "source": [
    "Если гипотеза $\\mathsf{H}_0$ сложная, то есть $\\mathsf{H}_0\\colon \\mathsf{P} \\in \\mathscr{P}_0$, то можно повторить такую процедуру несколько раз для разных $\\mathsf{P} \\in \\mathscr{P}_0$.\n",
    "\n",
    "Рассмотрим альтернативную гипотезу $\\mathsf{H}_1\\colon \\mathsf{P} \\in \\mathscr{P}_1$. **Опишите схему оценки мощности** критерия $S$ методом Монте-Карло."
   ]
  },
  {
   "cell_type": "markdown",
   "id": "26",
   "metadata": {
    "id": "b7ef9eb9"
   },
   "source": [
    "**Ответ:**\n",
    "\n",
    "Алгоритм тот же самый, только выборки генерируем из $\\theta \\in \\Theta_1$, так как:\n",
    "\n",
    "$$\\beta_S(\\theta) = P_{\\theta} (X \\in S), \\quad \\theta \\in \\Theta_1,$$ т.е. $$\\hat{\\beta}_S = \\overline{I\\{X \\in S\\}}$$"
   ]
  },
  {
   "cell_type": "markdown",
   "id": "27",
   "metadata": {
    "id": "9dd91e81"
   },
   "source": [
    "Пусть $X_1, ..., X_n$ &mdash; выборка из пуассоновского распределения с параметром $\\theta$. Рассмотрим гипотезы $\\mathsf{H}_0\\colon \\theta = 1\\ \\ vs.\\ \\ \\mathsf{H}_1\\colon \\theta \\not= 1$ и критерий Вальда для их проверки.\n",
    "\n",
    "**1.** **Оцените реальный уровень значимости** критерия для $ n = 50$."
   ]
  },
  {
   "cell_type": "code",
   "execution_count": null,
   "id": "28",
   "metadata": {
    "colab": {
     "base_uri": "https://localhost:8080/"
    },
    "id": "988feee1",
    "outputId": "ecf2d688-59de-4a88-9620-7991f63e349e"
   },
   "outputs": [],
   "source": [
    "alpha = 0.05\n",
    "sample_size = 50\n",
    "sample_count = 10000\n",
    "\n",
    "X = sps.poisson(mu = 1).rvs(size=(sample_count, sample_size))\n",
    "\n",
    "estim = X.mean(axis = 1)\n",
    "est_std = np.sqrt(estim)\n",
    "\n",
    "w = wald_test(X, 1, estim, est_std, alternative = 'two_sided')[0]\n",
    "z = sps.norm.ppf(1 - alpha/2)\n",
    "\n",
    "np.where(w > z)[0].shape[0] / sample_count"
   ]
  },
  {
   "cell_type": "markdown",
   "id": "29",
   "metadata": {
    "id": "76973cfd"
   },
   "source": [
    "**Вывод:**\n",
    "\n",
    "Реальный уровень значимости, оцененный на основе реальных данных, практически совпадает с асимптотическим уровнем значимости, что подтверждает корректность выбранного метода и аппроксимации. Это указывает на то, что теоретические результаты, основанные на асимптотических предположениях, хорошо соответствуют реальным данным, и это хорошо :)"
   ]
  },
  {
   "cell_type": "markdown",
   "id": "30",
   "metadata": {
    "id": "4e645cc9"
   },
   "source": [
    "**2.** Пусть $n=50$. **Сравните мощности критериев**, соответствующих двусторонней, левосторонней и правосторонней альтернативам при $\\theta=0.2$ и при $\\theta=2$."
   ]
  },
  {
   "cell_type": "code",
   "execution_count": null,
   "id": "31",
   "metadata": {
    "colab": {
     "base_uri": "https://localhost:8080/",
     "height": 143
    },
    "id": "51b10c35",
    "outputId": "1bdcb73a-46a4-4d37-d96b-14d38484800b"
   },
   "outputs": [],
   "source": [
    "names = ['two_sided', 'greater', 'less']\n",
    "\n",
    "X_1 = sps.poisson(mu = 0.2).rvs(size = (sample_count, sample_size))\n",
    "X_2  = sps.poisson(mu = 2.0).rvs(size = (sample_count, sample_size))\n",
    "\n",
    "w_1 = [wald_test(X_1, 1, X_1.mean(axis = 1), np.sqrt(X_1.mean(axis = 1)), alternative = name)[0] for name in names]\n",
    "w_2  = [wald_test(X_2, 1, X_2.mean(axis = 1), np.sqrt(X_2.mean(axis = 1)), alternative = name)[0] for name in names]\n",
    "\n",
    "z = [sps.norm.ppf(1 - alpha/2), sps.norm.ppf(1 - alpha), sps.norm.ppf(alpha)]\n",
    "\n",
    "\n",
    "answer = pd.DataFrame({\n",
    "    'theta = 0.2' : (np.mean(w_1[0] > z[0]), np.mean(w_1[1] > z[1]), np.mean(w_1[2] < z[2])),\n",
    "    'theta = 2' : (np.mean(w_1[0] > z[0]), np.mean(w_2[1] > z[1]), np.mean(w_2[2] < z[2]))\n",
    "}, index = names)\n",
    "\n",
    "answer"
   ]
  },
  {
   "cell_type": "markdown",
   "id": "32",
   "metadata": {
    "id": "9419248f"
   },
   "source": [
    "**Вывод:**\n",
    "\n",
    "В данном случае наблюдается соответствие ожиданиям: двусторонняя альтернатива демонстрирует высокую эффективность как в случае отклонения параметра как в сторону увеличения, так и уменьшения относительно нулевой гипотезы, что подтверждает ее высокую мощность.\n",
    "\n",
    "Левосторонняя альтернатива также демонстрирует высокую мощность теста лишь в случае отклонения параметра в меньшую сторону от нулевой гипотезы $(\\theta = 0.2)$, в то время как для второго случая мощность составляет ноль.\n",
    "\n",
    "Для правосторонней альтернативы наблюдается обратная ситуация: при $\\theta = 2$ мощность высока, в то время как для второго случая мощность также равна нулю.\n",
    "\n",
    "В целом, результаты соответствуют ожиданиям, что демонстрирует логичность и правильность выбранного метода."
   ]
  },
  {
   "cell_type": "markdown",
   "id": "33",
   "metadata": {
    "id": "bc47e3b0"
   },
   "source": [
    "\n",
    "\n",
    "### Задача 4"
   ]
  },
  {
   "cell_type": "markdown",
   "id": "34",
   "metadata": {
    "id": "2d01f479"
   },
   "source": [
    "**Профиль физика**\n",
    "\n",
    "Период колебания математического маятника можно расчиатать по следующей формуле:\n",
    "$$T = 2\\pi \\sqrt{\\frac{l}{g}}$$\n",
    "Вы выполнили лабораторную работу по вычислению ускорения свободного падения. Длина нити маятника 50 см. В своей работе вы измеряли время 10 полных колебаний (10 периодов) с помощью обычного секундомера и получили такие значение:\n",
    "\n",
    "\n"
   ]
  },
  {
   "cell_type": "code",
   "execution_count": null,
   "id": "35",
   "metadata": {
    "id": "48281659"
   },
   "outputs": [],
   "source": [
    "T_sample = [14.47, 14.46, 14.73, 14.74, 16.14, 12.6, 14.17, 12.83, 14.1, 12.81, 12.98,\n",
    "            13.84, 13.96, 13.6, 14.13, 15.32, 13.98, 13.96, 12.86, 15.46, 13.2, 15.26,\n",
    "            14.86, 14.49, 14.8, 12.92, 14.65, 14.47, 15.88, 15.04, 14.84, 15.12, 12.96,\n",
    "            16.2, 11.99, 15.57, 13.55, 13.16, 14.76, 13.79, 12.58, 14.61, 14.1, 14.54,\n",
    "            14.72, 14.87, 13.37, 14.04, 13.09, 14.7]"
   ]
  },
  {
   "cell_type": "markdown",
   "id": "36",
   "metadata": {
    "id": "c548b045"
   },
   "source": [
    "Получите массив величин g, используя формулу выше."
   ]
  },
  {
   "cell_type": "code",
   "execution_count": null,
   "id": "37",
   "metadata": {
    "id": "75e37d64"
   },
   "outputs": [],
   "source": [
    "<...>"
   ]
  },
  {
   "cell_type": "markdown",
   "id": "38",
   "metadata": {
    "id": "c7c6586c"
   },
   "source": [
    "Предположим, такие величины имеют нормальное распределение $\\mathcal{N}(a, \\sigma^2)$. Используйте критерий Вальда для проверки гипотезы $\\mathsf{H}_0: a = 9.81$ vs $\\mathsf{H}_1: a \\neq 9.81$\n"
   ]
  },
  {
   "cell_type": "code",
   "execution_count": null,
   "id": "39",
   "metadata": {
    "id": "5669ee57"
   },
   "outputs": [],
   "source": [
    "<...>"
   ]
  },
  {
   "cell_type": "markdown",
   "id": "40",
   "metadata": {
    "id": "e163db40"
   },
   "source": [
    "**Вывод:**"
   ]
  },
  {
   "cell_type": "markdown",
   "id": "41",
   "metadata": {
    "id": "6e70e12a"
   },
   "source": [
    "**Профиль биология**\n",
    "\n",
    "Испытывается эффективность препарата, понижающего температуру. Каждому пациенту измеряют температуру до и после приема препарата. В результате разность температур для испытуемых получилась равной:\n"
   ]
  },
  {
   "cell_type": "code",
   "execution_count": null,
   "id": "42",
   "metadata": {
    "id": "0cea9ef2"
   },
   "outputs": [],
   "source": [
    "a_sample = np.array([1.19, 0.84, 1.3, 0.76, 0.99, 1.3, 0.97, 0.91, 0.97, 0.99, 1.18, 0.93, 0.84, 1.07, 0.95,\n",
    "     1.01, 1.04, 0.84, 1.0, 1.19, 1.31, 0.97, 1.1, 0.86, 1.02, 0.95, 0.93, 0.84, 0.85, 0.78])"
   ]
  },
  {
   "cell_type": "markdown",
   "id": "43",
   "metadata": {
    "id": "85a0eb3f"
   },
   "source": [
    "Предположим, такие величины имеют нормальное распределение $\\mathcal{N}(a, \\sigma^2)$. С помощью критерия Вальда проверьте гипотезу: $\\mathsf{H}_0 \\colon a=0$ vs. $\\mathsf{H}_1 \\colon a > 0$."
   ]
  },
  {
   "cell_type": "code",
   "execution_count": null,
   "id": "44",
   "metadata": {
    "colab": {
     "base_uri": "https://localhost:8080/"
    },
    "id": "aab196d9",
    "outputId": "677c6487-8133-46d5-f09e-0ca069502218"
   },
   "outputs": [],
   "source": [
    "estim = a_sample.mean()\n",
    "std = a_sample.std()\n",
    "theta = 0\n",
    "\n",
    "greater = wald_test(a_sample, theta, estim, std, alternative = 'greater')\n",
    "print(f'\\n Статистика: {greater[0]}, \\n P-value: {greater[1]}, \\n Доверительный интервал: {greater[2]}')"
   ]
  },
  {
   "cell_type": "markdown",
   "id": "45",
   "metadata": {
    "id": "d98f0ff2"
   },
   "source": [
    "**Вывод:**\n",
    "\n",
    "Уровень значимости критерия составляет 0, что позволяет нам отвергнуть нулевую гипотезу о том, что среднее значение разности температур равно нулю. Размер выборки велик, что обеспечивает надежность результатов и уменьшает вероятность ошибки."
   ]
  },
  {
   "cell_type": "markdown",
   "id": "46",
   "metadata": {
    "id": "adfe0600"
   },
   "source": [
    "### <b><i><font color=\"orange\">Сложная часть</font></i></b>"
   ]
  },
  {
   "cell_type": "markdown",
   "id": "47",
   "metadata": {
    "id": "034c700e"
   },
   "source": [
    "\n",
    "###  Задача 5\n",
    "1. Пусть $X = ( X_1, ... X_n)$ — выборка из неизвестного распределения $\\mathsf{P} \\in \\mathcal{N}(a, \\sigma^2)$. Постройте критерий для проверки гипотез $\\mathsf{H}_0 : a = 0 $   vs.  $\\mathsf{H}_1 : a > 0$ уровня значимости $\\alpha$.\n",
    "\n",
    "Бонусный сложный пункт: получите выражение для p-value аналогично правостороннему критерию Вальда\n",
    "\n",
    "*Указание:*\n",
    "- Используйте статистику $T(X) = \\sqrt{n - 1} \\frac{\\overline{X}}{s}$, использовавшуюся при построении точных доверительных интервалов в нормальной модели. Какое распределение она имеет при справедливости $\\mathsf{H}_0$ (т.е. при $a = 0$)?\n",
    "- Подумайте, какой вид должен иметь критерий? При каких значениях $T(X)$ гипотезу $\\mathsf{H}_0$ разумно отвергать?\n",
    "- Этот критерий реализован в `scipy.stats.ttest_1samp`. Использовать для данной задачи его можно следующим образом: `sps.ttest_1samp(sample, popmean=0, alternative='greater')`. В результате применения функция вернет значение статистики критерия, p-value и количество степеней свободы. Вы можете проверить свой ответ с ее помощью.\n",
    "\n",
    "**Решение:**\n",
    "\n",
    "- Данная статистика имеет распределение Стюдента с n - 1 степенями свободы: $T(X) = T_{n-1}$.\n",
    "\n",
    "- Критерий должен быть аналогичным критерию Вальда, но с квантилями для распределения Стюдента:\n",
    "    \n",
    "    - Для двусторонней оценки:\n",
    "        $$S = \\{|T(X)| > T_{n-1, 1 - \\frac{\\alpha}{2}}\\}$$\n",
    "        \n",
    "    - Для правосторонней оценки:\n",
    "        $$S = \\{T(X) > T_{n-1, 1 - \\alpha}\\}$$\n",
    "        \n",
    "    - Для левосторонней оценки:\n",
    "        $$S = \\{T(X) < T_{n-1, \\alpha}\\}$$\n",
    "        \n",
    "- Документация метода `scipy.stats.ttest_1samp` также подтверждает мой ответ про распределение Стьюдента."
   ]
  },
  {
   "cell_type": "markdown",
   "id": "48",
   "metadata": {
    "id": "5b415e77"
   },
   "source": [
    "2. Пусть  $X = ( X_1, ... X_n)$ &mdash; выборка из неизвестного распределения $\\mathsf{P}$ с конечным вторым моментом. Постройте асимптотический критерий для проверки гипотез $\\mathsf{H}_0 \\colon \\mathsf{E} X = 0 $   vs.  $\\mathsf{H}_1 \\colon \\mathsf{E} X > 0$ уровня значимости $\\alpha$. Покажите, что при $n \\to \\infty$ этот критерий совпадает с критерием из первого пункта.\n",
    "\n",
    "**Решение:**\n",
    "\n",
    "Применим критерий Вальда, так как он является ассимптотическим. Тогда для поставленной задачи имеем критерий:\n",
    "\n",
    "$$S = \\{W > z_{1 - \\alpha}\\}, \\; где \\; W = \\sqrt{n} \\frac{\\hat{\\theta} - \\theta_0}{\\hat{\\sigma}} = \\sqrt{n} \\frac{\\hat{\\theta}}{\\hat{\\sigma}}$$\n",
    "\n",
    "При $n \\rightarrow \\infty$ распределение Стьюдента стремится к нормальному:\n",
    "    \n",
    "$$\\frac{\\sqrt{n - 1}}{S} \\overline{X} \\xrightarrow[n \\to \\infty]{} \\frac{\\sqrt{n}}{S}\\overline{X} \\sim {\\cal N}(0, 1)$$\n",
    "\n",
    "То есть при больших n критерии Вальда и Стьюдента совпадают."
   ]
  }
 ],
 "metadata": {
  "colab": {
   "provenance": []
  },
  "kernelspec": {
   "display_name": "Python 3 (ipykernel)",
   "language": "python",
   "name": "python3"
  },
  "language_info": {
   "codemirror_mode": {
    "name": "ipython",
    "version": 3
   },
   "file_extension": ".py",
   "mimetype": "text/x-python",
   "name": "python",
   "nbconvert_exporter": "python",
   "pygments_lexer": "ipython3",
   "version": "3.9.7"
  }
 },
 "nbformat": 4,
 "nbformat_minor": 5
}
