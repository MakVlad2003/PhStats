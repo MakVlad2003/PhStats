{
 "cells": [
  {
   "cell_type": "code",
   "execution_count": null,
   "metadata": {
    "id": "cfIPf5_7z0Um"
   },
   "outputs": [],
   "source": [
    "import numpy as np\n",
    "import scipy.stats as sps\n",
    "import matplotlib.pyplot as plt\n",
    "import seaborn as sns\n",
    "import math\n",
    "import time\n",
    "from pprint import pprint\n",
    "\n",
    "#sns.set_palette(\"Set2\")\n",
    "\n",
    "%matplotlib inline"
   ]
  },
  {
   "cell_type": "markdown",
   "metadata": {
    "id": "clYTo6ZQA5lc"
   },
   "source": [
    "Пусть нам попались какие-то данные.\n",
    "\n",
    "В данном случае - 100 различных значений какой-то величины."
   ]
  },
  {
   "cell_type": "code",
   "execution_count": null,
   "metadata": {
    "id": "hM0Sc5y7_FpY"
   },
   "outputs": [],
   "source": [
    "size = 100\n",
    "sample = sps.norm.rvs(size=size) #генерируем реализацию выборки из стандартного нормального распределения"
   ]
  },
  {
   "cell_type": "code",
   "execution_count": null,
   "metadata": {
    "colab": {
     "base_uri": "https://localhost:8080/",
     "height": 445
    },
    "id": "V-rjyv20_U1h",
    "outputId": "726c3dba-dbd8-421c-e7b3-f9aba44b7eb8"
   },
   "outputs": [],
   "source": [
    "# рисуем график\n",
    "# по оси x - значения реализаций случайной величины\n",
    "\n",
    "plt.figure(figsize=(15, 5))\n",
    "plt.scatter(sample, np.zeros(size), alpha=0.5, color='purple', label=\"Реализация выборки\")\n",
    "plt.legend()\n",
    "plt.show()"
   ]
  },
  {
   "cell_type": "markdown",
   "metadata": {
    "id": "2W92bdJcB1I2"
   },
   "source": [
    "Для начала давайте попробуем прикинуть, как распределены данные:\n",
    "\n",
    "## Гистограмма"
   ]
  },
  {
   "cell_type": "markdown",
   "metadata": {
    "id": "UlhDaJW_D9d_"
   },
   "source": [
    "Идея: разделим всю числовую прямую на несколько \"корзин\" и посмотрим, сколько объектов попало в каждую.\n",
    "\n",
    "Формально: $X_1, \\ldots X_n$ - выборка.\n",
    "\n",
    "$-\\infty = a_0 < \\ldots < a_i < \\ldots < a_{m} = +\\infty$ - разбиение на $m$ корзин.\n",
    "\n",
    "$n_k = \\sum \\limits_{i=0}^{n-1} I(X_i \\in [a_k, a_{k+1}])$ - количество элементов в $i$-й корзине.\n",
    "\n",
    "\n",
    "Можно построить график в виде столбиков, где высота столбика показывает, сколько объектов попало в соответствующую корзину.\n",
    "\n",
    "Этот график по форме похож на график плотности распределения нашей случайной величины.\n",
    "\n"
   ]
  },
  {
   "cell_type": "markdown",
   "metadata": {
    "id": "fDU4waEgpfDy"
   },
   "source": [
    "Гистограмму можно построить с помощью библиотеки matplotlib."
   ]
  },
  {
   "cell_type": "code",
   "execution_count": null,
   "metadata": {
    "colab": {
     "base_uri": "https://localhost:8080/",
     "height": 468
    },
    "id": "MM5QCPc5BQi7",
    "outputId": "3693369a-f96b-4481-88e9-75cf4632946e"
   },
   "outputs": [],
   "source": [
    "plt.figure(figsize=(15, 5))\n",
    "\n",
    "plt.title(\"Нормированная гистограмма и график истинной плотности\")\n",
    "\n",
    "plt.hist(x=sample, bins = 10, density=True, label = \"Гистограмма\")\n",
    "#x - данные, bins - количество корзин, density - нормируем, так что сумма высот столбиков равна 1\n",
    "\n",
    "grid = np.linspace(-3, 3, 500)\n",
    "\n",
    "plt.plot(grid, sps.norm.pdf(grid), color='red', label='Истинная плотность')\n",
    "\n",
    "plt.legend()\n",
    "\n",
    "plt.show()"
   ]
  },
  {
   "cell_type": "markdown",
   "metadata": {
    "id": "zDCqwUD8D7Ne"
   },
   "source": [
    "Другой способ:\n",
    "\n",
    "Для построения гистограммы удобно использовать библиотеку seaborn (подробнее - в туториалах)."
   ]
  },
  {
   "cell_type": "code",
   "execution_count": null,
   "metadata": {
    "colab": {
     "base_uri": "https://localhost:8080/",
     "height": 468
    },
    "id": "DJjry29lCGfg",
    "outputId": "887b8bf2-8f58-46f3-ba75-eb7926780f50"
   },
   "outputs": [],
   "source": [
    "plt.figure(figsize=(15, 5))\n",
    "\n",
    "plt.title(\"Гистограмма\")\n",
    "\n",
    "sns.histplot(data=sample, bins = 10)\n",
    "#data - наши данные, bins - количество корзин\n",
    "\n",
    "plt.show()"
   ]
  },
  {
   "cell_type": "markdown",
   "metadata": {
    "id": "_-d0RpY9t1Jj"
   },
   "source": [
    "Посмотрим, на что влияет количество корзин."
   ]
  },
  {
   "cell_type": "code",
   "execution_count": null,
   "metadata": {
    "colab": {
     "base_uri": "https://localhost:8080/",
     "height": 458
    },
    "id": "6cOWccH5r2kn",
    "outputId": "f93a53b8-df22-44c7-a04e-92d0100cf110"
   },
   "outputs": [],
   "source": [
    "fig, axs = plt.subplots(figsize=(20, 5), ncols=3)\n",
    "\n",
    "axs[0].set_title(\"4 корзины\" )\n",
    "axs[1].set_title(\"20 корзин\" )\n",
    "axs[2].set_title(\"50 корзин\" )\n",
    "\n",
    "sns.histplot(data=sample, bins = 4, ax=axs[0])\n",
    "sns.histplot(data=sample, bins = 10, ax=axs[1])\n",
    "sns.histplot(data=sample, bins = 30, ax=axs[2])\n",
    "\n",
    "#data - наши данные, bins - количество корзин\n",
    "\n",
    "plt.show()"
   ]
  },
  {
   "cell_type": "markdown",
   "metadata": {
    "id": "2eY4TKPYz0Us"
   },
   "source": [
    "## Задание 1\n",
    "Рассмотрим функцию `np.random.randint()`.\n",
    "\n",
    "Выберите любые значения a и b и создайте массив рандомных чисел от a до b (размер массива 100)."
   ]
  },
  {
   "cell_type": "code",
   "execution_count": null,
   "metadata": {
    "colab": {
     "base_uri": "https://localhost:8080/"
    },
    "id": "Yf5Ojkakz0Us",
    "outputId": "13be962a-640d-4736-9327-51d411db6438"
   },
   "outputs": [],
   "source": [
    "a, b = 0, 300\n",
    "arr = np.random.randint(a, b, size = 100)\n",
    "print(arr)"
   ]
  },
  {
   "cell_type": "markdown",
   "metadata": {
    "id": "MbhL4tozz0Ut"
   },
   "source": [
    "Постройте гистограмму для этого массива."
   ]
  },
  {
   "cell_type": "code",
   "execution_count": null,
   "metadata": {
    "colab": {
     "base_uri": "https://localhost:8080/",
     "height": 468
    },
    "id": "lhvHGLSXz0Ut",
    "outputId": "c542619a-9455-4864-8fa2-a7e71e7644dd"
   },
   "outputs": [],
   "source": [
    "plt.figure(figsize=(15, 5))\n",
    "\n",
    "plt.title(\"Гистограмма\")\n",
    "\n",
    "sns.histplot(data=arr, bins = 100)\n",
    "#data - наши данные, bins - количество корзин\n",
    "\n",
    "plt.show()"
   ]
  },
  {
   "cell_type": "markdown",
   "metadata": {
    "id": "MoCwecZVz0Ut"
   },
   "source": [
    "Постройте более четкий график, увеличив параметр `bins`."
   ]
  },
  {
   "cell_type": "code",
   "execution_count": null,
   "metadata": {
    "colab": {
     "base_uri": "https://localhost:8080/",
     "height": 468
    },
    "id": "Z01J2xT8z0Ut",
    "outputId": "ec5e7a32-61c4-4079-db75-31ee3df17bae"
   },
   "outputs": [],
   "source": [
    "plt.figure(figsize=(15, 5))\n",
    "\n",
    "plt.title(\"Гистограмма\")\n",
    "\n",
    "sns.histplot(data=arr, bins = 300)\n",
    "#data - наши данные, bins - количество корзин\n",
    "\n",
    "plt.show()"
   ]
  },
  {
   "cell_type": "markdown",
   "metadata": {
    "id": "4JKUb3Ipz0Ut"
   },
   "source": [
    "Создайте массив sizes, который будет состоять из 1e2, 1e3, 1e4, 1e5 (используйте `np.logspace()`). Числа должны быть целыми."
   ]
  },
  {
   "cell_type": "code",
   "execution_count": null,
   "metadata": {
    "colab": {
     "base_uri": "https://localhost:8080/"
    },
    "id": "Jp12jJmaz0Ut",
    "outputId": "94ea3083-5794-47b9-b12e-56a516b9a374"
   },
   "outputs": [],
   "source": [
    "sizes = np.logspace(start=2, stop=5, num = 4, dtype='int')\n",
    "print(sizes)"
   ]
  },
  {
   "cell_type": "markdown",
   "metadata": {
    "id": "4MibnJeDz0Ut"
   },
   "source": [
    "Постройте plt.subplots в виде строки из 4 графиков. Параметр `bins` укажите 100. На каждом графике отрисуйте гистограмму массива заданного размера из массива sizes. Подпишите, какой размер массивы к какому графику относится."
   ]
  },
  {
   "cell_type": "code",
   "execution_count": null,
   "metadata": {
    "colab": {
     "base_uri": "https://localhost:8080/",
     "height": 456
    },
    "id": "cXoY_4DZz0Uu",
    "outputId": "5ca1f9b7-c39e-4a7e-a9ce-259a2ff1f8ed"
   },
   "outputs": [],
   "source": [
    "fig, axs = plt.subplots(figsize=(20, 5), ncols=4)\n",
    "\n",
    "axs[0].set_title(\"Размер 100\" )\n",
    "axs[1].set_title(\"Размер 1000\" )\n",
    "axs[2].set_title(\"Размер 10000\" )\n",
    "axs[3].set_title(\"Размер 100000\" )\n",
    "\n",
    "sns.histplot(data=np.random.randint(a, b, size = sizes[0]), bins = 100, ax=axs[0])\n",
    "sns.histplot(data=np.random.randint(a, b, size = sizes[1]), bins = 100, ax=axs[1])\n",
    "sns.histplot(data=np.random.randint(a, b, size = sizes[2]), bins = 100, ax=axs[2])\n",
    "sns.histplot(data=np.random.randint(a, b, size = sizes[3]), bins = 100, ax=axs[3])\n",
    "\n",
    "#data - наши данные, bins - количество корзин\n",
    "\n",
    "plt.show()"
   ]
  },
  {
   "cell_type": "markdown",
   "metadata": {
    "id": "4dQw8U04z0Uu"
   },
   "source": [
    "На какое распределение похоже?\n",
    "\n",
    "**Ответ:** равномерное."
   ]
  },
  {
   "cell_type": "markdown",
   "metadata": {
    "id": "RnHKFL7Ez0Uu"
   },
   "source": [
    "## Задание 2*\n",
    "Напишите собственную реализацию нормального распределения. Создайте класс и определите в нем функцию _pdf. Напомню, что плотность нормального распределения расчитывается следующим образом:\n",
    "$$ \\frac{1}{\\sigma \\sqrt{2 \\pi}} exp \\left( -\\frac{(x-\\mu)^2}{2 \\sigma ^2}\\right)$$\n",
    "Для построения функции возьмите $\\mu$ = 0, $\\sigma$ = 1\n"
   ]
  },
  {
   "cell_type": "code",
   "execution_count": null,
   "metadata": {
    "id": "PAwO1dcdz0Uu"
   },
   "outputs": [],
   "source": [
    "class Norm():\n",
    "  def __init__(self, mu, sigma):\n",
    "    self.mu = mu\n",
    "    self.sigma = sigma\n",
    "\n",
    "  def _pdf(self, x):\n",
    "    value = 1/(sigma * math.sqrt(2*math.pi)) * math.exp(-(x - mu)**2/2*sigma**2)\n",
    "    return value\n",
    "\n",
    "  def generate_sample(self, sample_size):\n",
    "      start_time = time.time()\n",
    "      sample = [np.random.normal(self.mu, self.sigma) for i in range(sample_size)]\n",
    "      end_time = time.time()\n",
    "      t = end_time - start_time\n",
    "      return sample, t"
   ]
  },
  {
   "cell_type": "markdown",
   "metadata": {
    "id": "v68d1c4Az0Uu"
   },
   "source": [
    "Сгенерируйте выборку из 2000 элементов. Засеките время генерации выборки."
   ]
  },
  {
   "cell_type": "code",
   "execution_count": null,
   "metadata": {
    "colab": {
     "base_uri": "https://localhost:8080/"
    },
    "id": "CRdItQ1xz0Uu",
    "outputId": "18a8b471-06f9-441e-ec7e-569214978c16"
   },
   "outputs": [],
   "source": [
    "mu, sigma = 0, 1\n",
    "Normal_Distribution = Norm(mu, 1)\n",
    "\n",
    "sample_size = 2000\n",
    "generated_sample, t = Normal_Distribution.generate_sample(sample_size)\n",
    "\n",
    "print('Время генераиии выборки - ' + str(t))"
   ]
  },
  {
   "cell_type": "markdown",
   "metadata": {
    "id": "GLZyj5OCz0Uu"
   },
   "source": [
    "Постройте гистограмму для вашей выборки"
   ]
  },
  {
   "cell_type": "code",
   "execution_count": null,
   "metadata": {
    "colab": {
     "base_uri": "https://localhost:8080/",
     "height": 452
    },
    "id": "GJ_I1fckz0Uv",
    "outputId": "c26eadba-8d99-46be-9e95-a9475990823c"
   },
   "outputs": [],
   "source": [
    "sns.histplot(generated_sample, bins = 100)\n",
    "\n",
    "plt.title('Гистограмма сгенерированной выборки')\n",
    "\n",
    "plt.show()"
   ]
  },
  {
   "cell_type": "markdown",
   "metadata": {
    "id": "e1WxtZd8z0Uv"
   },
   "source": [
    "Сравните время работы вашей реализации и реализации из `scipy.stats`"
   ]
  },
  {
   "cell_type": "code",
   "execution_count": null,
   "metadata": {
    "id": "LTbYs57thFT4"
   },
   "outputs": [],
   "source": [
    "from scipy.stats import norm"
   ]
  },
  {
   "cell_type": "code",
   "execution_count": null,
   "metadata": {
    "colab": {
     "base_uri": "https://localhost:8080/"
    },
    "id": "POG2xzmtz0Uv",
    "outputId": "a18cf9f0-9fc0-4101-c62b-f5d6e1bd2f44"
   },
   "outputs": [],
   "source": [
    "start_time = time.time()\n",
    "scipy_sample = norm.rvs(loc = mu, scale = sigma, size = sample_size)\n",
    "end_time = time.time()\n",
    "scipy_t = end_time - start_time\n",
    "\n",
    "print('Время генераиии выборки классом Norm - ' + str(t))\n",
    "print('Время генераиии выборки scipy.stats - ' + str(scipy_t))"
   ]
  },
  {
   "cell_type": "markdown",
   "metadata": {
    "id": "moydpTdhhdob"
   },
   "source": [
    "Как видно, модуль `scipy.stats` генерирует выборку быстрее по сравнению с тем, что было написано ручками."
   ]
  },
  {
   "cell_type": "markdown",
   "metadata": {
    "id": "_QJ9NYHOz0Uv"
   },
   "source": [
    "Как, используя вашу функцию, можно создавать выборки для других значений $\\mu$ и $\\sigma$? Проиллюстрируйте."
   ]
  },
  {
   "cell_type": "code",
   "execution_count": null,
   "metadata": {
    "colab": {
     "base_uri": "https://localhost:8080/",
     "height": 430
    },
    "id": "F1EStpj-h4HI",
    "outputId": "4a684ee0-89e3-405c-baff-518b2cfa93e3"
   },
   "outputs": [],
   "source": [
    "mus = [0, 2, 1]\n",
    "sigmas = [1, 1, 1]\n",
    "\n",
    "for mu, sigma in zip(mus, sigmas):\n",
    "    Norm_Distribution = Norm(mu, sigma)\n",
    "\n",
    "    sample_size = 2000\n",
    "    generated_sample, _ = Norm_Distribution.generate_sample(sample_size)\n",
    "\n",
    "    sns.histplot(generated_sample, bins = 30, label=f'mu={mu}, sigma={sigma}')\n",
    "\n",
    "plt.show()"
   ]
  },
  {
   "cell_type": "markdown",
   "metadata": {
    "id": "bnqdieRGJhKN"
   },
   "source": [
    "## Ядерная оценка плотности"
   ]
  },
  {
   "cell_type": "markdown",
   "metadata": {
    "id": "iKx2QaiUz0Uv"
   },
   "source": [
    "KDE (kernel density estimation) - непараметричсекий способ оценивания случайной величины."
   ]
  },
  {
   "cell_type": "code",
   "execution_count": null,
   "metadata": {
    "id": "LrYWrEww-Yoc"
   },
   "outputs": [],
   "source": [
    "size = 100\n",
    "sample = sps.norm.rvs(size=size) #генерируем реализацию выборки из стандартного нормального распределения"
   ]
  },
  {
   "cell_type": "code",
   "execution_count": null,
   "metadata": {
    "colab": {
     "base_uri": "https://localhost:8080/",
     "height": 468
    },
    "id": "gIavTy4Ym8BW",
    "outputId": "1a09f941-0e4f-4572-f8c9-2fa266eacf47"
   },
   "outputs": [],
   "source": [
    "plt.figure(figsize=(15, 5))\n",
    "\n",
    "plt.title(\"Ядерная оценка плотности\")\n",
    "\n",
    "sns.kdeplot(data=sample, lw=3, label=\"Ядерная оценка\")\n",
    "\n",
    "plt.scatter(sample, np.zeros(size)+0.005, color='purple', label='Реализация выборки')\n",
    "\n",
    "plt.legend()\n",
    "plt.show()\n"
   ]
  },
  {
   "cell_type": "markdown",
   "metadata": {
    "id": "q0QSRuESpLqW"
   },
   "source": [
    "Сравним график ядерной оценки с графиком истинной плотности."
   ]
  },
  {
   "cell_type": "code",
   "execution_count": null,
   "metadata": {
    "colab": {
     "base_uri": "https://localhost:8080/",
     "height": 468
    },
    "id": "lLrLwEZooi2U",
    "outputId": "2bc8b935-0e4d-47a4-bae3-f92250eddad2"
   },
   "outputs": [],
   "source": [
    "plt.figure(figsize=(15, 5))\n",
    "\n",
    "plt.title(\"Ядерная оценка плотности\")\n",
    "\n",
    "sns.kdeplot(data=sample, label=\"Ядерная оценка\")\n",
    "\n",
    "plt.scatter(sample, np.zeros(size)+0.005, color='purple', label='Реализация выборки')\n",
    "\n",
    "plt.plot(grid, sps.norm.pdf(grid), color='crimson', label='Истинная плотность')\n",
    "\n",
    "\n",
    "plt.legend()\n",
    "plt.show()"
   ]
  },
  {
   "cell_type": "markdown",
   "metadata": {
    "id": "hHYYNWxtpIxH"
   },
   "source": [
    "Также метод histplot позволяет сразу строить и гистограмму, и ядерную оценку плотности."
   ]
  },
  {
   "cell_type": "code",
   "execution_count": null,
   "metadata": {
    "colab": {
     "base_uri": "https://localhost:8080/",
     "height": 468
    },
    "id": "f9P7Xzo6CiaT",
    "outputId": "0a053ba6-c8b4-478c-e5dd-ff552cbfda4c"
   },
   "outputs": [],
   "source": [
    "plt.figure(figsize=(15, 5))\n",
    "\n",
    "plt.title(\"Гистограмма и ядерная оценка\")\n",
    "\n",
    "sns.histplot(data=sample, kde=True)\n",
    "plt.show()"
   ]
  },
  {
   "cell_type": "markdown",
   "metadata": {
    "id": "biNvTtsMdVua"
   },
   "source": [
    "## Точечные оценки"
   ]
  },
  {
   "cell_type": "markdown",
   "metadata": {
    "id": "Yg03Sv72dYGQ"
   },
   "source": [
    "Рассмотрим **выборочное среднее**.\n",
    "\n",
    "$\\overline{X}  = \\sum\\limits_{i=1}^n X_i$\n",
    "\n",
    "Сгенерируем выборку из $\\mathcal{N}(3, 25)$ размера 1000:\n"
   ]
  },
  {
   "cell_type": "code",
   "execution_count": null,
   "metadata": {
    "id": "bC07Zl-ymRHq"
   },
   "outputs": [],
   "source": [
    "size = 1000\n",
    "sample = sps.norm(loc=3, scale=5).rvs(size=size) #генерируем реализацию выборки из стандартного нормального распределения"
   ]
  },
  {
   "cell_type": "markdown",
   "metadata": {
    "id": "Kg8OyCl4kduu"
   },
   "source": [
    "Посчитаем выборочное среднее"
   ]
  },
  {
   "cell_type": "code",
   "execution_count": null,
   "metadata": {
    "colab": {
     "base_uri": "https://localhost:8080/"
    },
    "id": "H_6Jzbgekf7A",
    "outputId": "a04af2b0-f6bf-42f8-c571-46ad39806d72"
   },
   "outputs": [],
   "source": [
    "mean = sample.sum() / size\n",
    "\n",
    "print(\"Выборочное среднее:\", mean)"
   ]
  },
  {
   "cell_type": "markdown",
   "metadata": {
    "id": "UuDo5eq3kwxU"
   },
   "source": [
    "Что хорошего может нам дать эта величина?\n",
    "\n",
    "Давайте посмотрим, как она ведет себя с ростом размера выборки!"
   ]
  },
  {
   "cell_type": "markdown",
   "metadata": {
    "id": "u06oQYXJf-SQ"
   },
   "source": [
    "Посчитаем выборочное среднее по всем префиксам выборки ($j \\in {1, \\ldots n}$):\n",
    "\n",
    "$(\\overline{X} )_j = \\sum\\limits_{i=1}^j X_i$"
   ]
  },
  {
   "cell_type": "code",
   "execution_count": null,
   "metadata": {
    "id": "0OVHcRE_dEw8"
   },
   "outputs": [],
   "source": [
    "means = sample.cumsum() / (np.arange(size) + 1)"
   ]
  },
  {
   "cell_type": "markdown",
   "metadata": {
    "id": "Rk8H0GWLgoU2"
   },
   "source": [
    "Построим график зависимости среднего от размера префикса:"
   ]
  },
  {
   "cell_type": "code",
   "execution_count": null,
   "metadata": {
    "colab": {
     "base_uri": "https://localhost:8080/",
     "height": 465
    },
    "id": "uvISjBYLgkvV",
    "outputId": "e583ace9-eb83-4bdd-c05b-780a46b6df63"
   },
   "outputs": [],
   "source": [
    "plt.figure(figsize=(15, 5))\n",
    "plt.plot(means, lw=3)\n",
    "plt.hlines(3, 0, size, alpha=0.5)\n",
    "plt.xlabel('Количество случайных величин')\n",
    "plt.ylabel('Значение среднего')\n",
    "plt.xlim((0, size));"
   ]
  },
  {
   "cell_type": "markdown",
   "metadata": {
    "id": "BzGC1yJQhik-"
   },
   "source": [
    "Но одного эксперимента мало, чтобы понять свойства вероятностных объектов. **Запомните это!**\n",
    "\n",
    "Повторим эксперимент 10 раз **независимо**."
   ]
  },
  {
   "cell_type": "code",
   "execution_count": null,
   "metadata": {
    "colab": {
     "base_uri": "https://localhost:8080/",
     "height": 1000
    },
    "id": "MbEZJk0Nhh_H",
    "outputId": "47c3ef72-01ca-4a9c-ef9e-5447510559bc"
   },
   "outputs": [],
   "source": [
    "plt.figure(figsize=(20, 15))\n",
    "\n",
    "for i in range(10):\n",
    "\n",
    "    # Генерация выборки и вычисление средних\n",
    "    sample = sps.norm(loc=3, scale=5).rvs(size=size)\n",
    "    means = sample.cumsum() / (np.arange(size) + 1)\n",
    "\n",
    "    # График\n",
    "    plt.subplot(5, 2, i+1)\n",
    "    plt.plot(means, lw=3)\n",
    "    plt.hlines(3, 0, size, alpha=0.5)\n",
    "    plt.xlabel('Количество случайных величин')\n",
    "    plt.ylabel('Значение среднего')\n",
    "    plt.xlim((-5, size))\n",
    "\n",
    "plt.tight_layout()"
   ]
  },
  {
   "cell_type": "markdown",
   "metadata": {
    "id": "J0yVmE8Ahd2r"
   },
   "source": [
    "Как видим, со временем график среднего приближается к значению параметра $a$ нормального распределения.\n",
    "\n",
    "Вспомним теорию вероятностей!\n",
    "\n",
    "## Закон больших чисел\n",
    "\n",
    "#### Формулировка\n",
    "\n",
    "Пусть $\\xi_1, ..., \\xi_n$ &mdash; независимые случайные величины из некоторого распределения, причем $\\mathsf{E}\\xi_i = a$. Тогда выполнена сходимость $$\\frac{\\xi_1 + ... + \\xi_n}{n} \\stackrel{п.н.}{\\longrightarrow} a.$$\n",
    "\n",
    "*Замечание 1.* Закон больших чисел имеет несколько формулировок. Данная формулировка часто называется *усиленным законом больших чисел*. В частности, усиленной она является, поскольку в отличии от \"простой\" версии она не требует условия на дисперсии и утверждает о более сильной сходимости \"почти наверное\".\n",
    "\n",
    "*Замечание 2.* Последовательность случайных величин $\\xi_1, \\xi_2, ...$ сходится почти наверное к случайной величине $\\xi$, если $\\mathsf{P}\\big(\\big\\{ \\omega \\in \\Omega\\:\\big|\\: \\xi_n(\\omega) \\to \\xi(\\omega)\\big\\}\\big) = 1$\n",
    "\n",
    "---\n",
    "\n",
    "####  Визуализация\n",
    "\n",
    "Убедимся в справедливости ЗБЧ, сгенерировав набор из случайных величин  $\\xi_1, ..., \\xi_{1000}$ и посчитав по нему среднее в зависимости от размера набора, то есть величины $S_{n} = \\frac{1}{n}\\sum\\limits_{i=1}^n \\xi_i$ для $1 \\leqslant n \\leqslant 1000$.\n",
    "\n",
    "Для примера рассмотрим бернуллиевское распределение.\n",
    "\n",
    "\n",
    "\n",
    "\n",
    "\n"
   ]
  },
  {
   "cell_type": "code",
   "execution_count": null,
   "metadata": {
    "id": "zVOk1J3AgvNy"
   },
   "outputs": [],
   "source": [
    "size = 1000\n",
    "samples_count = 500\n",
    "\n",
    "sample = sps.bernoulli(p=0.5).rvs(size=(samples_count, size))\n",
    "means = sample.cumsum(axis=1) / (np.arange(size) + 1)"
   ]
  },
  {
   "cell_type": "markdown",
   "metadata": {
    "id": "zHXLchVajcwN"
   },
   "source": [
    "Нарисуем траектории среднего для всех реализациий на одном графике."
   ]
  },
  {
   "cell_type": "code",
   "execution_count": null,
   "metadata": {
    "colab": {
     "base_uri": "https://localhost:8080/",
     "height": 619
    },
    "id": "2q1P2uuYz0U8",
    "outputId": "db9779ba-47b3-48c4-cccb-19b8a6db8d9e"
   },
   "outputs": [],
   "source": [
    "plt.figure(figsize=(15, 7))\n",
    "for i in range(samples_count):\n",
    "    plt.plot(np.arange(size) + 1, means[i], color='crimson')\n",
    "plt.xlabel('Количество случайных величин')\n",
    "plt.ylabel('Значение среднего')\n",
    "plt.xlim((0, size));"
   ]
  },
  {
   "cell_type": "markdown",
   "metadata": {
    "id": "k0GbdktGz0U8"
   },
   "source": [
    "В подобных \"тяжелых\" графиках нужно выставлять прозрачность объектов"
   ]
  },
  {
   "cell_type": "code",
   "execution_count": null,
   "metadata": {
    "colab": {
     "base_uri": "https://localhost:8080/",
     "height": 619
    },
    "id": "EhY7bRRDz0U8",
    "outputId": "49e5d978-886c-4e10-8f4d-bc6f330cc232"
   },
   "outputs": [],
   "source": [
    "plt.figure(figsize=(15, 7))\n",
    "for i in range(samples_count):\n",
    "    plt.plot(np.arange(size) + 1, means[i], color='crimson', alpha=0.05)\n",
    "plt.xlabel('Количество случайных величин')\n",
    "plt.ylabel('Значение среднего')\n",
    "plt.xlim((0, size));"
   ]
  },
  {
   "cell_type": "markdown",
   "metadata": {
    "id": "A5KyL5Itz0U9"
   },
   "source": [
    "Поставим ее еще меньше"
   ]
  },
  {
   "cell_type": "code",
   "execution_count": null,
   "metadata": {
    "colab": {
     "base_uri": "https://localhost:8080/",
     "height": 619
    },
    "id": "D3gsL52IjS7o",
    "outputId": "d6a9dd0d-7a3e-4271-fa34-a227abd1308c"
   },
   "outputs": [],
   "source": [
    "plt.figure(figsize=(15, 7))\n",
    "for i in range(samples_count):\n",
    "    plt.plot(np.arange(size) + 1, means[i], color='crimson', alpha=0.01)\n",
    "plt.xlabel('Количество случайных величин')\n",
    "plt.ylabel('Значение среднего')\n",
    "plt.xlim((0, size));"
   ]
  },
  {
   "cell_type": "markdown",
   "metadata": {
    "id": "AuSekXDDz0U9"
   },
   "source": [
    "**Вывод:** При достаточность большом количестве случайных величин значение среднего не сильно\n",
    "отклоняется от математического ожидания, причем чем больше случайных величин просуммированы, тем меньше отклонения. Данный эксперимент хорошо визуализирует закон больших чисел.\n",
    "\n",
    "\n",
    "Таким образом, в данном случае выборочное среднее -- \"хорошая оценка\", т.к. с ростом выборки его значение приближается к истинному значению параметра.\n",
    "\n",
    "\n",
    "Это  эксперимент намекает нам, что некоторые оценки могут быть \"хорошими\" в каком-лмбо смысле. О том, какие у оценок бывают \"хорошие\" свойства -- на следующих занятиях!"
   ]
  },
  {
   "cell_type": "markdown",
   "metadata": {
    "id": "Wd85KYWDz0U9"
   },
   "source": [
    "## Задание 3\n",
    "Проведите подобный эксперимент для ядерной оценки плотности.\n",
    "\n",
    "Сгенерируйте 100 выборок по 100 элементов из нормального распределения ($\\mu$=0, $\\sigma$=1)."
   ]
  },
  {
   "cell_type": "code",
   "execution_count": null,
   "metadata": {
    "colab": {
     "base_uri": "https://localhost:8080/"
    },
    "id": "0aOja9g3z0U9",
    "outputId": "1e070da9-38a6-4a74-c88c-10a2fd7067f7"
   },
   "outputs": [],
   "source": [
    "size = 100\n",
    "samples_count = 100\n",
    "sample = sps.norm.rvs(size=(samples_count, size))\n",
    "sample.shape"
   ]
  },
  {
   "cell_type": "markdown",
   "metadata": {
    "id": "AMNXO0f-z0U9"
   },
   "source": [
    "Отрисуйте их ядерные оценки плотности на одном графике.  На этом же графике отрисуйте плотность искомого распределения"
   ]
  },
  {
   "cell_type": "code",
   "execution_count": null,
   "metadata": {
    "colab": {
     "base_uri": "https://localhost:8080/",
     "height": 468
    },
    "id": "wAcoKflyz0U-",
    "outputId": "218f1555-aac9-4076-fd88-e418fd166564"
   },
   "outputs": [],
   "source": [
    "def nuclear_assessment(sample):\n",
    "  plt.figure(figsize=(15, 5))\n",
    "\n",
    "  plt.title(\"Ядерная оценка плотности\")\n",
    "\n",
    "  for i in sample:\n",
    "    sns.kdeplot(data=i, color = 'blue', alpha = 0.05, label=\"Ядерная оценка\")\n",
    "    plt.plot(grid, sps.norm.pdf(grid), color='crimson', label='Истинная плотность')\n",
    "\n",
    "  plt.show()\n",
    "\n",
    "nuclear_assessment(sample)"
   ]
  },
  {
   "cell_type": "markdown",
   "metadata": {
    "id": "cj3kMJ-Qz0U-"
   },
   "source": [
    "Увеличьте размер выборок до 1000 и повторите эксперимент."
   ]
  },
  {
   "cell_type": "code",
   "execution_count": null,
   "metadata": {
    "colab": {
     "base_uri": "https://localhost:8080/"
    },
    "id": "jS2yzlbf-9uE",
    "outputId": "bf343695-ba74-4f49-e6a7-7145e3ced170"
   },
   "outputs": [],
   "source": [
    "size = 1000\n",
    "samples_count = 100\n",
    "sample = sps.norm.rvs(size=(samples_count, size))\n",
    "sample.shape"
   ]
  },
  {
   "cell_type": "code",
   "execution_count": null,
   "metadata": {
    "colab": {
     "base_uri": "https://localhost:8080/",
     "height": 468
    },
    "id": "wX0JdUFEz0U-",
    "outputId": "2e4f0f32-33dc-4013-ffd7-a91f204e0d3f"
   },
   "outputs": [],
   "source": [
    "nuclear_assessment(sample)"
   ]
  },
  {
   "cell_type": "markdown",
   "metadata": {
    "id": "Eoau6s16z0U-"
   },
   "source": [
    "А теперь наоборот - поставьте размер выборки 100, а кол-во - 1000 и повторите эксперимент."
   ]
  },
  {
   "cell_type": "code",
   "execution_count": null,
   "metadata": {
    "colab": {
     "base_uri": "https://localhost:8080/"
    },
    "id": "R9vf8CO1z0U-",
    "outputId": "a28a7492-1445-4736-ab08-9574564f9d87"
   },
   "outputs": [],
   "source": [
    "size = 100\n",
    "samples_count = 1000\n",
    "sample = sps.norm.rvs(size=(samples_count, size))\n",
    "sample.shape"
   ]
  },
  {
   "cell_type": "code",
   "execution_count": null,
   "metadata": {
    "colab": {
     "base_uri": "https://localhost:8080/",
     "height": 468
    },
    "id": "yzk6giOT_NFq",
    "outputId": "008e9f72-ad84-4fc1-86ac-c866c77d84d5"
   },
   "outputs": [],
   "source": [
    "nuclear_assessment(sample)"
   ]
  }
 ],
 "metadata": {
  "colab": {
   "provenance": []
  },
  "kernelspec": {
   "display_name": "sber",
   "language": "python",
   "name": "python3"
  },
  "language_info": {
   "codemirror_mode": {
    "name": "ipython",
    "version": 3
   },
   "file_extension": ".py",
   "mimetype": "text/x-python",
   "name": "python",
   "nbconvert_exporter": "python",
   "pygments_lexer": "ipython3",
   "version": "3.10.4 (main, Mar 31 2022, 03:38:35) [Clang 12.0.0 ]"
  },
  "vscode": {
   "interpreter": {
    "hash": "415525cc3f40ad8355b7c2a7d3b034c5d7bb85ff256d91eaa0aa6b53328ab0d3"
   }
  }
 },
 "nbformat": 4,
 "nbformat_minor": 0
}
