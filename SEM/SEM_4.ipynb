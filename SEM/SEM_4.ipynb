{
 "cells": [
  {
   "cell_type": "markdown",
   "id": "0",
   "metadata": {
    "id": "4cae2085-9336-4cef-abfc-2120694cb6b7"
   },
   "source": [
    "## PyTorch и полносвязные нейронные сети\n",
    "\n",
    "![pytorch-logo.png](data:image/png;base64,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)"
   ]
  },
  {
   "cell_type": "markdown",
   "id": "1",
   "metadata": {
    "id": "f8fd46bd-e25f-459c-9b80-17ad9fba2f61"
   },
   "source": [
    "## 1. Установка PyTorch\n",
    "\n",
    "`conda install pytorch torchvision torchaudio pytorch-cuda=11.8 -c pytorch -c nvidia`\n",
    "\n",
    "В данном ноутбуке мы будем пользоваться фреймворком **PyTorch**, который предназначен для работы с нейронными сетями. Как установить `torch` можно прочитать <a href=\"http://pytorch.org/\" target=\"_blank\">на официальном сайте PyTorch</a>. Для этого выберите свою OS, и вам будет показана нужная команда для ввода в терминале. Больше подробностей о том, как работает `torch`, будет рассказано позднее."
   ]
  },
  {
   "cell_type": "code",
   "execution_count": null,
   "id": "2",
   "metadata": {
    "colab": {
     "base_uri": "https://localhost:8080/"
    },
    "id": "e1f9c9e8-e159-4889-8998-999f1a79ee43",
    "outputId": "ae045319-25f2-41fb-cc5b-ff8b37770bc1"
   },
   "outputs": [],
   "source": [
    "import numpy as np\n",
    "import pandas as pd\n",
    "\n",
    "import matplotlib.pyplot as plt\n",
    "import seaborn as sns\n",
    "from IPython.display import clear_output\n",
    "sns.set_theme(palette='Set2', font_scale=1.5)\n",
    "from sklearn.model_selection import train_test_split\n",
    "\n",
    "import torch\n",
    "from torch import nn, optim\n",
    "\n",
    "print(torch.__version__)"
   ]
  },
  {
   "cell_type": "markdown",
   "id": "3",
   "metadata": {
    "id": "1b56bd99-20fd-4c53-a949-f5dabda615ec"
   },
   "source": [
    "## 2. Простой пример обучения нейронной сети"
   ]
  },
  {
   "cell_type": "markdown",
   "id": "4",
   "metadata": {
    "id": "a03c37ac-cfba-4dd6-9ed7-904af0d213de"
   },
   "source": [
    "### 2.1 Цикл обучения модели\n",
    "\n",
    "Пусть задана нейронная сеть $f(x)$, параметризуемая обучаемыми параметрами $\\theta$. Для входных данных $x$ модель возвращает $\\widehat{y}=f(x)$. Для обучения модели необходимо задать оптимизируемую функцию (функцию ошибки, лосс) $L(y, \\widehat{y})$, которую следует минимизировать.\n",
    "\n",
    "\n",
    "Процесс обучения задается следующим образом.\n",
    " 1. **Прямой проход / Forward pass:** <br>\n",
    "     Считаем $\\widehat{y}=f(x)$ для входных данных $x$. <br>\n",
    " 2. **Вычисление оптимизируемой функции:**<br>\n",
    "     Вычисляем оптимизируемую функцию $L(y, \\widehat{y})$. <br>\n",
    " 3. **Обратный проход / Backward pass:** <br>\n",
    "     Считаем градиенты по всем обучаемым параметрам $\\frac{\\partial L}{\\partial \\theta}$. <br>\n",
    " 4. **Шаг оптимизации:** <br>\n",
    "     Делаем шаг градиентного спуска, обновляя все обучаемые параметры. <br>"
   ]
  },
  {
   "cell_type": "markdown",
   "id": "5",
   "metadata": {
    "id": "8bcc3f30-80e7-4646-bd88-30beecf26bef"
   },
   "source": [
    "### 2.2 Линейная регрессия"
   ]
  },
  {
   "cell_type": "markdown",
   "id": "6",
   "metadata": {
    "id": "830f1f63-f6db-4a15-9f81-48d8456e3239"
   },
   "source": [
    "Линейную регрессию можно представить как частный случай нейрона с тождественной функцией активации.\n",
    "\n",
    "Сделаем одномерную линейную регрессию на датасете <a href=\"http://lib.stat.cmu.edu/datasets/boston\" target=\"_blank\">boston</a>. Этот датасет представляет собой набор данных конца 70-х годов прошлого века для предсказания цены недвижимости в Бостоне.\n",
    "\n",
    "Скачиваем данные."
   ]
  },
  {
   "cell_type": "code",
   "execution_count": null,
   "id": "7",
   "metadata": {
    "id": "f4fdad4d-1ebe-4d34-9880-c4b3f1830838"
   },
   "outputs": [],
   "source": [
    "def load_boston(file_path='./boston.csv'):\n",
    "    # выделяем признаки и таргет\n",
    "    raw_df = pd.read_csv(file_path)\n",
    "    data = np.hstack([raw_df.values[::2, :], raw_df.values[1::2, :2]])\n",
    "    target = raw_df.values[1::2, 2]\n",
    "    return data, target"
   ]
  },
  {
   "cell_type": "code",
   "execution_count": null,
   "id": "8",
   "metadata": {
    "id": "d03059ac-d9c9-4359-bdaf-88af3cc48aa4"
   },
   "outputs": [],
   "source": [
    "data, target = load_boston()"
   ]
  },
  {
   "cell_type": "code",
   "execution_count": null,
   "id": "9",
   "metadata": {
    "colab": {
     "base_uri": "https://localhost:8080/"
    },
    "id": "bfc47eef",
    "outputId": "3599127c-72d3-45ba-94d5-33e4966df172"
   },
   "outputs": [],
   "source": [
    "data.shape, target.shape"
   ]
  },
  {
   "cell_type": "markdown",
   "id": "10",
   "metadata": {
    "id": "18a1bab8"
   },
   "source": [
    "Будем рассматривать зависимость таргета, т.е. медианной стоимости домов в тысячах долларов, от последнего признака, т.е. процента населения людей с низким уровнем дохода."
   ]
  },
  {
   "cell_type": "code",
   "execution_count": null,
   "id": "11",
   "metadata": {
    "colab": {
     "base_uri": "https://localhost:8080/",
     "height": 669
    },
    "id": "bf42229b-eaae-4b68-91b3-54d439f40a83",
    "outputId": "b63649af-1a31-416f-c48c-c109eba60d41"
   },
   "outputs": [],
   "source": [
    "plt.figure(figsize=(10, 7))\n",
    "plt.scatter(data[:, -1], target, alpha=0.7)\n",
    "plt.xlabel('% населения с низким уровнем дохода')\n",
    "plt.title('Медианная стоимость домов в тыс. $');"
   ]
  },
  {
   "cell_type": "markdown",
   "id": "12",
   "metadata": {
    "id": "85308151-389b-4005-b47f-e576d3f54521"
   },
   "source": [
    "В данном случае предсказание модели задается следующим образом: $$\\widehat{y}(x) = wx + b,$$\n",
    "где $w, b \\in \\mathbb{R}$ &mdash; обучаемые параметры модели. Это обычная линейная модель, и с ней мы уже работали ранее.\n"
   ]
  },
  {
   "cell_type": "markdown",
   "id": "13",
   "metadata": {
    "id": "a9aa826c-37fe-4364-91b0-5d3f556c5f7e"
   },
   "source": [
    "На практике для построения нейронных пользуются готовыми модулями. Для этого будем пользоваться `torch.nn`.\n",
    "\n",
    "Воспользуемся следующими модулями:\n",
    "\n",
    "* `nn.Sequential` &mdash; модуль для соединения модулей последовательно, друг за другом;\n",
    "* `nn.Linear` &mdash; модуль линейного слоя;\n",
    "\n",
    "В линейный слой нужно передать 2 параметра:\n",
    "* `in_features` &mdash; количество признаков на входе в линейный слой\n",
    "* `out_features` &mdash; количество признаков на выходе из линейного слоя\n",
    "\n",
    "Для нашей модели сделайте `in_features` = `out_features` = 1\n",
    "\n",
    "С тем как задавать нейронную сеть с помощью модуля Sequential можно ознакомиться по <a href=\"https://pytorch.org/docs/stable/generated/torch.nn.Sequential.html\" target=\"_blank\">ссылке</a>."
   ]
  },
  {
   "cell_type": "code",
   "execution_count": null,
   "id": "14",
   "metadata": {
    "colab": {
     "base_uri": "https://localhost:8080/"
    },
    "id": "ad5acf36-68f5-4e5b-b010-08eebc14ee35",
    "outputId": "7412533e-4ad2-44a0-8377-86770abe40e7"
   },
   "outputs": [],
   "source": [
    "model = nn.Sequential(\n",
    "    nn.Linear(in_features=1, out_features=1)\n",
    "    )\n",
    "model"
   ]
  },
  {
   "cell_type": "markdown",
   "id": "15",
   "metadata": {
    "id": "83fdd00f"
   },
   "source": [
    "Инициализируем веса модели нулевыми тензорами. Тензор в `pytorch` &mdash; практически полный аналог `numpy.array`, но с возможностью считать сложные производные и умножать матрицы параллельно на видеокарте. Мы пока работаем без ГПУ. По умолчанию веса генерируются случайным образом (подробнее <a href=\"https://pytorch.org/docs/stable/generated/torch.nn.Linear.html\" target=\"_blank\">тут</a>)."
   ]
  },
  {
   "cell_type": "code",
   "execution_count": null,
   "id": "16",
   "metadata": {
    "colab": {
     "base_uri": "https://localhost:8080/"
    },
    "id": "e711b5c7",
    "outputId": "384b6c00-8433-484d-c939-4f37de502dd9"
   },
   "outputs": [],
   "source": [
    "# Здесь на это можно и забить\n",
    "for p in model.parameters():\n",
    "    p.data = torch.FloatTensor([[0]])\n",
    "    print(p.data)"
   ]
  },
  {
   "cell_type": "markdown",
   "id": "17",
   "metadata": {
    "id": "4219d4c3-257b-431e-b577-f14be3759dee"
   },
   "source": [
    "Зададим признак $X$ и таргет $Y$ в виде `torch`-тензоров. Помимо этого для того, чтобы работать с нашей моделью, нам необходимо поменять размерность `x` и `y`."
   ]
  },
  {
   "cell_type": "code",
   "execution_count": null,
   "id": "18",
   "metadata": {
    "colab": {
     "base_uri": "https://localhost:8080/"
    },
    "id": "c522c6d2-37b8-4f37-84ec-1c5a6633a4fb",
    "outputId": "7dee9ed1-a24d-4884-d59c-d7cd52fbdfab"
   },
   "outputs": [],
   "source": [
    "x = torch.FloatTensor(data[:, -1]/10).reshape(-1, 1)\n",
    "y = torch.FloatTensor(target).reshape(-1, 1)\n",
    "\n",
    "x.shape, y.shape"
   ]
  },
  {
   "cell_type": "markdown",
   "id": "19",
   "metadata": {
    "id": "5c4adb23"
   },
   "source": [
    "Разбейте данные на тренировочную и валидационную выборки в соотношении 4:1"
   ]
  },
  {
   "cell_type": "code",
   "execution_count": null,
   "id": "20",
   "metadata": {
    "colab": {
     "base_uri": "https://localhost:8080/"
    },
    "id": "21fbeff0",
    "outputId": "c3eb3931-15e4-4420-96de-109301bc54f1"
   },
   "outputs": [],
   "source": [
    "X_train, X_val, y_train, y_val = train_test_split(x, y, test_size = 0.2, random_state = 42)\n",
    "print(X_train.shape, y_train.shape, X_val.shape, y_val.shape)"
   ]
  },
  {
   "cell_type": "markdown",
   "id": "21",
   "metadata": {
    "id": "947523c5-a0e6-4f15-9606-95ce42d115e6"
   },
   "source": [
    "Зададим оптимизируемую функцию / функцию ошибки / лосс. В нашем случае это будет MSE:\n",
    "\n",
    "$$\n",
    "\\mathrm{MSE}(\\widehat{y}, y) = \\frac{1}{n} \\sum_{i=1}^n \\left(\\widehat{y}_i - y_i\\right)^2.\n",
    "$$\n",
    "\n",
    "Воспользуемся реализацией из пакета PyTorch"
   ]
  },
  {
   "cell_type": "code",
   "execution_count": null,
   "id": "22",
   "metadata": {
    "id": "7448b5a2-a926-4a09-938c-18f5ed271e2b"
   },
   "outputs": [],
   "source": [
    "optim_func = nn.MSELoss()"
   ]
  },
  {
   "cell_type": "markdown",
   "id": "23",
   "metadata": {
    "id": "0bd33c56"
   },
   "source": [
    "Будем оптимизировать функцию ошибки с помощью метода `SGD` из `torch`, который реализует стохастический градиентный спуск. Он принимает на вход параметры модели, их мы можем получить, вызвав метод `parameters` у модели, и скорость обучения `lr`, которую мы обозначали ранее как $\\eta$. У оптимизатора есть возможность задать некоторые другие аргументы или вообще выбрать друго алгоритм оптимизации. Но об этом сильно позднее (а если очень интересно, то можно почитать  <a href=\"https://pytorch.org/docs/stable/optim.html\" target=\"_blank\">тут</a>).\n",
    "\n",
    "Установим скорость обучения на уровне $0.01$ для всех параметров сразу."
   ]
  },
  {
   "cell_type": "code",
   "execution_count": null,
   "id": "24",
   "metadata": {
    "id": "0fad0923"
   },
   "outputs": [],
   "source": [
    "optimizer = optim.SGD(model.parameters(), lr=0.01)"
   ]
  },
  {
   "cell_type": "markdown",
   "id": "25",
   "metadata": {
    "id": "574284b9"
   },
   "source": [
    "Обучим полученную модель на наших данных. Теперь обновления значений параметров происходят с помощью вызова `optimzer.step()`, а зануление градиентов &mdash; с помощью `optimizer.zero_grad()`."
   ]
  },
  {
   "cell_type": "code",
   "execution_count": null,
   "id": "26",
   "metadata": {
    "id": "a7bce416"
   },
   "outputs": [],
   "source": [
    "def show_progress(x, y, y_pred, loss):\n",
    "    '''\n",
    "    Визуализация процесса обучения.\n",
    "\n",
    "    x, y -- объекты и таргеты обучающей выборки;\n",
    "    y_pred -- предсказания модели;\n",
    "    loss -- текущее значение ошибки модели.\n",
    "    '''\n",
    "\n",
    "    # Открепим переменную от вычислительного графа перед отрисовкой графика\n",
    "    y_pred = y_pred.detach()\n",
    "\n",
    "    # Превратим тензор размерности 0 в число\n",
    "    loss = loss.item()\n",
    "\n",
    "    # Стираем предыдущий вывод в тот момент, когда появится следующий\n",
    "    clear_output(wait=True)\n",
    "\n",
    "    # Строим новый график\n",
    "    plt.figure(figsize=(10, 7))\n",
    "    plt.scatter(x, y, alpha=0.75)\n",
    "    plt.scatter(x, y_pred, color='orange', linewidth=5)\n",
    "    plt.xlabel('% населения с низким уровнем дохода')\n",
    "    plt.title('Медианная стоимость домов в тыс. $')\n",
    "    plt.show()\n",
    "\n",
    "    print(f\"MSE = {loss:.3f}\")"
   ]
  },
  {
   "cell_type": "code",
   "execution_count": null,
   "id": "27",
   "metadata": {
    "colab": {
     "base_uri": "https://localhost:8080/",
     "height": 687
    },
    "id": "95a1ebf1",
    "outputId": "9d427c5b-95a2-41da-f769-c8df33c50dbb"
   },
   "outputs": [],
   "source": [
    "num_iter = 1000\n",
    "for i in range(num_iter):\n",
    "    # Шаг 1.\n",
    "    # Forward pass: предсказание модели по обучающим данным\n",
    "    y_pred = model(X_train)\n",
    "\n",
    "    # Шаг 2.\n",
    "    # Вычисление оптимизируемой функции (MSE) по предсказаниям\n",
    "    loss = optim_func(y_pred, y_train)\n",
    "\n",
    "    # Шаг 3.\n",
    "    # Backward pass: вычисление градиентов оптимизируемой функции\n",
    "    # по всем параметрам модели\n",
    "    loss.backward()\n",
    "\n",
    "    # Шаг 4.\n",
    "    # Оптимизация: обновление параметров по формулам соответствующего\n",
    "    # метода оптимизации, используются вычисленные ранее градиенты\n",
    "    optimizer.step()\n",
    "\n",
    "    # Зануление градиентов\n",
    "    optimizer.zero_grad()\n",
    "\n",
    "    # График + вывод MSE через каждые 10 итераций\n",
    "    if (i + 1) % 10 == 0:\n",
    "        show_progress(X_train, y_train, y_pred, loss)"
   ]
  },
  {
   "cell_type": "markdown",
   "id": "28",
   "metadata": {
    "id": "3906c197"
   },
   "source": [
    "Посчитайте MSE на валидационной выборке"
   ]
  },
  {
   "cell_type": "code",
   "execution_count": null,
   "id": "29",
   "metadata": {
    "colab": {
     "base_uri": "https://localhost:8080/"
    },
    "id": "e3e0f268",
    "outputId": "441f7a0a-bb79-44cc-c8b7-074896795667"
   },
   "outputs": [],
   "source": [
    "print(f'Значение MSE на валидационной выборке: {optim_func(model(X_val), y_val).item():.3}')"
   ]
  },
  {
   "cell_type": "markdown",
   "id": "30",
   "metadata": {
    "id": "882919d1"
   },
   "source": [
    "### 2.3 Улучшение модели"
   ]
  },
  {
   "cell_type": "markdown",
   "id": "31",
   "metadata": {
    "id": "82ddf8eb"
   },
   "source": [
    "Попробуем усложнить модель, добавив еще один слой. Тем самым модель примет следующий вид\n",
    "\n",
    "$$\\widehat{y}(x) = w_2u(x) + b_2,$$\n",
    "\n",
    "$$u(x) = \\sigma(w_1x + b_1),$$\n",
    "\n",
    "$$\\sigma(x) = \\text{ReLU}(x) = \\begin{equation*}\\begin{cases}x, \\; x \\ge 0, \\\\ 0, \\; \\text{иначе,} \\end{cases} \\end{equation*}$$\n",
    "\n",
    "$w_1, b_1 \\in \\mathbb{R}$ &mdash; обучаемые параметры первого слоя, $w_2, b_2 \\in \\mathbb{R}$ &mdash; обучаемые параметры второго слоя, $\\sigma(x)$ &mdash; функция активации, в данном случае `ReLU`."
   ]
  },
  {
   "cell_type": "markdown",
   "id": "32",
   "metadata": {
    "id": "0a8bc6e7"
   },
   "source": [
    "Соберите все модули в одну модель. Теперь, помимо одного линейного слоя, у вас должны быть функция активации и второй линейный слой. Оставьте `in_features` = `out_features` = 1 для обоих линейных слоев."
   ]
  },
  {
   "cell_type": "code",
   "execution_count": null,
   "id": "33",
   "metadata": {
    "colab": {
     "base_uri": "https://localhost:8080/"
    },
    "id": "16c87853",
    "outputId": "e1c3ef09-a911-4f38-cbb6-e471beac53ad"
   },
   "outputs": [],
   "source": [
    "model = nn.Sequential(\n",
    "    nn.Linear(in_features = 1, out_features = 1),\n",
    "    nn.ReLU(),\n",
    "    nn.Linear(in_features = 1, out_features = 1)\n",
    ")\n",
    "\n",
    "for i in model.parameters():\n",
    "    i.data = torch.FloatTensor([[0]])\n",
    "\n",
    "print(model)"
   ]
  },
  {
   "cell_type": "markdown",
   "id": "34",
   "metadata": {
    "id": "440534b5"
   },
   "source": [
    "Инициализируем веса"
   ]
  },
  {
   "cell_type": "code",
   "execution_count": null,
   "id": "35",
   "metadata": {
    "colab": {
     "base_uri": "https://localhost:8080/"
    },
    "id": "da1952bc",
    "outputId": "904c64fe-e757-4120-969a-4c35cda1ce36"
   },
   "outputs": [],
   "source": [
    "for name, param in model.named_parameters():\n",
    "    param.data = torch.FloatTensor([[1]])\n",
    "    print(name)\n",
    "    print(param.data)"
   ]
  },
  {
   "cell_type": "markdown",
   "id": "36",
   "metadata": {
    "id": "f0aa6fa6"
   },
   "source": [
    "Имена `0.weight` и `0.bias` соответствуют весу $w_1$ и сдвигу $b_1$ первого слоя, аналогично, `2.weight` и `2.bias` соответствуют весу $w_2$ и сдвигу $b_2$ второго слоя. Заметим, что в названии параметров есть индексы $0$ и $2$, но нет индекса $1$, т.к. $0$-й и $2$-й модули в модели представлены линейными слоями, а $1$-й модуль &mdash; функцией активации, у которой нет обучаемых параметров."
   ]
  },
  {
   "cell_type": "markdown",
   "id": "37",
   "metadata": {
    "id": "2abb4ac4"
   },
   "source": [
    "Запустим модель на обучение. Реализуйте обучение по аналогии с предыдущим пунктом"
   ]
  },
  {
   "cell_type": "code",
   "execution_count": null,
   "id": "38",
   "metadata": {
    "colab": {
     "base_uri": "https://localhost:8080/",
     "height": 687
    },
    "id": "69ddd29f",
    "outputId": "67be2213-2e3a-4578-857a-dcfd04371e63"
   },
   "outputs": [],
   "source": [
    "optimizer = optim.SGD(model.parameters(), lr = 0.01)\n",
    "\n",
    "optim_func = nn.MSELoss()\n",
    "\n",
    "num_iter = 1000\n",
    "for i in range(num_iter):\n",
    "\n",
    "    y_pred = model(X_train)\n",
    "\n",
    "    loss = optim_func(y_pred, y_train)\n",
    "\n",
    "    loss.backward()\n",
    "\n",
    "    optimizer.step()\n",
    "\n",
    "    optimizer.zero_grad()\n",
    "\n",
    "    if (i + 1) % 10 == 0:\n",
    "        show_progress(X_train, y_train, y_pred, loss)"
   ]
  },
  {
   "cell_type": "markdown",
   "id": "39",
   "metadata": {
    "id": "959f8950"
   },
   "source": [
    "Какое значение MSE в этот раз получилось на валидации?"
   ]
  },
  {
   "cell_type": "code",
   "execution_count": null,
   "id": "40",
   "metadata": {
    "colab": {
     "base_uri": "https://localhost:8080/"
    },
    "id": "de181887",
    "outputId": "5debc07f-bc5e-4178-8b1c-86508924d1f8"
   },
   "outputs": [],
   "source": [
    "val_loss = optim_func(model(X_val), y_val).item()\n",
    "print(f'Значение MSE на валидационной выборке: {val_loss:.3}')"
   ]
  },
  {
   "cell_type": "markdown",
   "id": "41",
   "metadata": {
    "id": "fd569d70"
   },
   "source": [
    "**Выводы**\n",
    "\n",
    "Видно, что после улучшения модели значение MSE на валидационной выборке уменьшилось с 33.1 до 31.9. Поэтому можно сделать вывод о том, что изменения в архитектуре модели и в параметрах обучения, привели к улучшению."
   ]
  },
  {
   "cell_type": "markdown",
   "id": "42",
   "metadata": {
    "id": "4af14ff9"
   },
   "source": [
    "**Небольшое лирическое отступление**\n",
    "\n",
    "Что же может произойти, если мы инциализирум веса случайным образом? Давайте ещё посмотрим на функцию ReLU.\n",
    "$$\\sigma(x) = \\text{ReLU}(x) = \\begin{equation*}\\begin{cases}x, \\; x \\ge 0, \\\\ 0, \\; \\text{иначе} \\end{cases} \\end{equation*}$$\n",
    "\n",
    "Соответственно производная этой функции активации:\n",
    "$$\\sigma'(x) = \\begin{equation*}\\begin{cases}1, \\; x \\ge 0, \\\\ 0, \\; \\text{иначе} \\end{cases} \\end{equation*}$$\n",
    "\n",
    "При обновлении веса могут стать сильно отрицательными. Так как градиент ReLU для отрицательных значений нулевой – мы можем за все время обучения их ни разу не обновить. Этот эффект называется <a href=\"https://www.educative.io/answers/what-is-the-dying-relu-problem\" target=\"_blank\">dying ReLU problem</a>.\n",
    "\n",
    "Если интересно, можете попробовать позапускать обучение модели со случайными начальными весами и самим убедиться, что модель может и не обучиться..."
   ]
  },
  {
   "cell_type": "markdown",
   "id": "43",
   "metadata": {
    "id": "30d91c20"
   },
   "source": [
    "### 2.4 Ещё больше усложним модель"
   ]
  },
  {
   "cell_type": "markdown",
   "id": "44",
   "metadata": {
    "id": "d4838ec2"
   },
   "source": [
    "А теперь к предыдущей модели добавим ещё один слой активации и ещё один линейный слой. Здесь уже можете попробовать поварьировать параметры обучения. Если будете это делать, то не забудьте сделать отчет по вашим экспериментам"
   ]
  },
  {
   "cell_type": "markdown",
   "id": "45",
   "metadata": {
    "id": "ddf77e19"
   },
   "source": [
    "На практике обычно смотрят на то, как меняется лосс во время обучения. Реализуйте функцию, по аналогии с show_progress, которая будет отрисовывать не только предсказания модели, но еще и её лосс за все предыдущие итерации обучения. Не забудьте адаптировать шаблон функции обучения под эту задачу"
   ]
  },
  {
   "cell_type": "code",
   "execution_count": null,
   "id": "46",
   "metadata": {
    "id": "826226ec"
   },
   "outputs": [],
   "source": [
    "def show_progress(x, y, y_pred, losses):\n",
    "    '''\n",
    "    Визуализация процесса обучения.\n",
    "\n",
    "    x, y -- объекты и таргеты обучающей выборки;\n",
    "    y_pred -- предсказания модели;\n",
    "    losses -- значение ошибки модели со всех итераций обучения.\n",
    "    '''\n",
    "\n",
    "    # Открепим переменную от вычислительного графа перед отрисовкой графика\n",
    "    y_pred = y_pred.detach()\n",
    "\n",
    "    # Стираем предыдущий вывод в тот момент, когда появится следующий\n",
    "    clear_output(wait=True)\n",
    "\n",
    "    # Строим новый график\n",
    "    fig, ax = plt.subplots(2, 1, figsize = (10, 10))\n",
    "    # График предсказаний\n",
    "    ax[0].scatter(x, y, alpha=0.75)\n",
    "    ax[0].scatter(x, y_pred, color='orange', linewidth=5)\n",
    "    ax[0].set_xlabel('% населения с низким уровнем дохода')\n",
    "    ax[0].set_title('Медианная стоимость домов в тыс. $')\n",
    "\n",
    "    #Теперь добавляем график с лосс-функцией\n",
    "    ax[1].plot(losses, label = 'MSE Loss')\n",
    "\n",
    "    # Добавляем заголовок и подписи по осям\n",
    "    ax[1].set_xlabel('Итерации обучения')\n",
    "    ax[1].set_ylabel('Значение Loss')\n",
    "    ax[1].set_title('Динамика функции потерь')\n",
    "    ax[1].legend()\n",
    "\n",
    "    # Чтобы подписи не перекрывались\n",
    "    fig.tight_layout()\n",
    "\n",
    "    plt.show()\n",
    "\n",
    "    print(f\"MSE = {losses[-1]:.3f}\")"
   ]
  },
  {
   "cell_type": "markdown",
   "id": "47",
   "metadata": {
    "id": "b5ea97a9"
   },
   "source": [
    "По-хорошему, надо выводить изменения лосса как на тренировочной, так и на валидационной выборках, чтобы не допустить переобучения, но пока обойдемся лишь тестовой выборкой"
   ]
  },
  {
   "cell_type": "markdown",
   "id": "48",
   "metadata": {
    "id": "299f6f7d"
   },
   "source": [
    "Обучите модель"
   ]
  },
  {
   "cell_type": "code",
   "execution_count": null,
   "id": "49",
   "metadata": {
    "colab": {
     "base_uri": "https://localhost:8080/",
     "height": 1000
    },
    "id": "87dcef09",
    "outputId": "ba66c689-a91e-4ea7-9d03-3154809d0750"
   },
   "outputs": [],
   "source": [
    "for name, param in model.named_parameters():\n",
    "    param.data = torch.FloatTensor([[1]])\n",
    "    print(name)\n",
    "    print(param.data)\n",
    "\n",
    "optimizer = optim.SGD(model.parameters(), lr = 0.01)\n",
    "\n",
    "optim_func = nn.MSELoss()\n",
    "\n",
    "num_iter = 1000\n",
    "train_losses = []\n",
    "val_losses = []\n",
    "\n",
    "for i in range(num_iter):\n",
    "    y_pred_train = model(X_train)\n",
    "\n",
    "    loss_train = optim_func(y_pred_train, y_train)\n",
    "\n",
    "    loss_train.backward()\n",
    "\n",
    "    optimizer.step()\n",
    "\n",
    "    optimizer.zero_grad()\n",
    "\n",
    "    train_losses.append(loss_train.item())\n",
    "\n",
    "    y_pred_val = model(X_val)\n",
    "    loss_val = optim_func(y_pred_val, y_val)\n",
    "\n",
    "    val_losses.append(loss_val.item())\n",
    "\n",
    "    if (i + 1) % 10 == 0:\n",
    "        show_progress(X_train, y_train, y_pred_train, train_losses)\n",
    "\n",
    "print(f'Финальное значение MSE на тренировочной выборке: {train_losses[-1]:.3f}')\n",
    "print(f'Финальное значение MSE на валидационной выборке: {val_losses[-1]:.3f}')"
   ]
  },
  {
   "cell_type": "markdown",
   "id": "50",
   "metadata": {
    "id": "8cd08e1c"
   },
   "source": [
    "Не забываем про выводы)"
   ]
  },
  {
   "cell_type": "markdown",
   "id": "51",
   "metadata": {
    "id": "a1cde353"
   },
   "source": [
    "**Итоговый вывод:**\n",
    "\n",
    "1. Первоначальная модель, состоящая из одного линейного слоя, демонстрировала MSE на валидационной выборке в районе 33.1 до улучшения.\n",
    "\n",
    "2. Добавление слоя с функцией активации ReLU и второго линейного слоя помогло нам улучшить модель. В результате обучения значение MSE на валидационной выборке снизилось с 33.1 до 31.9.\n",
    "\n",
    "3. При добавлении ещё одного слоя с функцией активации и линейного слоя значение MSE на валидационной выборке уменьшилось, но осталось довольно высоким (37.070 на тренировочной выборке и 31.857 на валидационной). Возможно, это может свидетельствовать о переобучении."
   ]
  }
 ],
 "metadata": {
  "colab": {
   "provenance": []
  },
  "kernelspec": {
   "display_name": "Python 3 (ipykernel)",
   "language": "python",
   "name": "python3"
  },
  "language_info": {
   "codemirror_mode": {
    "name": "ipython",
    "version": 3
   },
   "file_extension": ".py",
   "mimetype": "text/x-python",
   "name": "python",
   "nbconvert_exporter": "python",
   "pygments_lexer": "ipython3",
   "version": "3.11.5"
  }
 },
 "nbformat": 4,
 "nbformat_minor": 5
}
