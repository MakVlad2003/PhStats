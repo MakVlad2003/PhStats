{
 "cells": [
  {
   "cell_type": "markdown",
   "metadata": {
    "id": "_fEdPfht9eoB"
   },
   "source": [
    "## Анализ временных рядов, часть 1"
   ]
  },
  {
   "cell_type": "markdown",
   "metadata": {
    "id": "OaZJB0a-9eoD"
   },
   "source": [
    "\n",
    "В данной задаче вы будете работать с данными температуре воздуха. Таблица содержит данные погоды примерно за 5 лет для городов США, Канады и Израиля.\n",
    "Файл `temperature.csv` содержит температуру в градусах Кельвина.\n",
    "\n",
    "\n"
   ]
  },
  {
   "cell_type": "code",
   "execution_count": null,
   "metadata": {
    "id": "A0OXxevF9eoD"
   },
   "outputs": [],
   "source": [
    "import pandas as pd\n",
    "import matplotlib.pyplot as plt\n",
    "from sklearn.linear_model import LinearRegression\n",
    "from sklearn.tree import DecisionTreeRegressor\n",
    "from sklearn.ensemble import RandomForestRegressor\n",
    "from sklearn.metrics import mean_absolute_error, mean_squared_error, mean_absolute_percentage_error"
   ]
  },
  {
   "cell_type": "markdown",
   "metadata": {
    "id": "dM_tUI7N9eoE"
   },
   "source": [
    "Загрузите таблицу. Обратиет внимание на параметр `parse_dates`, он используется для приведения столбца с датами к правильному типу данных."
   ]
  },
  {
   "cell_type": "code",
   "execution_count": null,
   "metadata": {
    "id": "GM9kYX1K9eoE"
   },
   "outputs": [],
   "source": [
    "df = pd.read_csv('temperature.csv', parse_dates=['datetime'])"
   ]
  },
  {
   "cell_type": "markdown",
   "metadata": {
    "id": "cEG1oDWx9eoF"
   },
   "source": [
    "Установим дату как индекс"
   ]
  },
  {
   "cell_type": "code",
   "execution_count": null,
   "metadata": {
    "colab": {
     "base_uri": "https://localhost:8080/",
     "height": 478
    },
    "id": "K2Ax1ArA9eoF",
    "outputId": "a9837517-4e41-404c-bfe7-cb8504da45de"
   },
   "outputs": [],
   "source": [
    "df = df.set_index('datetime')\n",
    "df.head()"
   ]
  },
  {
   "cell_type": "markdown",
   "metadata": {
    "id": "mzbOxm9Q9eoF"
   },
   "source": [
    "Посмотрим, как выглядят наши данные."
   ]
  },
  {
   "cell_type": "code",
   "execution_count": null,
   "metadata": {
    "colab": {
     "base_uri": "https://localhost:8080/",
     "height": 445
    },
    "id": "AvBJ_Y-S9eoF",
    "outputId": "10be32fa-9a68-408c-f2c0-21cc289edd33"
   },
   "outputs": [],
   "source": [
    "plt.figure(figsize=(15,5))\n",
    "plt.plot(df['Portland'], lw=0.5);"
   ]
  },
  {
   "cell_type": "markdown",
   "metadata": {
    "id": "Iw0WdTE-9eoG"
   },
   "source": [
    "Какие закономерности вы видите на графике?"
   ]
  },
  {
   "cell_type": "markdown",
   "metadata": {
    "id": "ehuB_gBK9eoG"
   },
   "source": [
    "**Ответ:**\n",
    "\n",
    "Данные представляют собой циклически повторяющиеся значения. В начале каждого года температура достигает своего минимума, а к середине года достигает максимума. Температурные показатели остаются в пределах определенного диапазона и повторяются из года в год. Таким образом, для прогнозирования таких данных можно применять решающие деревья и случайный лес.\n",
    "\n",
    "\n",
    "\n"
   ]
  },
  {
   "cell_type": "markdown",
   "metadata": {
    "id": "XKoZNGML9eoG"
   },
   "source": [
    "Посчитайте пропуски для каждого из городов."
   ]
  },
  {
   "cell_type": "code",
   "execution_count": null,
   "metadata": {
    "colab": {
     "base_uri": "https://localhost:8080/"
    },
    "id": "lO9vSuZz9eoH",
    "outputId": "37ee31cf-1835-4349-8364-c21183877987"
   },
   "outputs": [],
   "source": [
    "df.isna().sum()"
   ]
  },
  {
   "cell_type": "markdown",
   "metadata": {
    "id": "rpFOtvil9eoH"
   },
   "source": [
    "Выберите город с наименьшим количеством пропусков. Назовем этот город X."
   ]
  },
  {
   "cell_type": "code",
   "execution_count": null,
   "metadata": {
    "colab": {
     "base_uri": "https://localhost:8080/"
    },
    "id": "oIecycVT9eoH",
    "outputId": "42ff46bb-2e9a-48e1-bcdb-dd1fadbbe345"
   },
   "outputs": [],
   "source": [
    "X = df['Detroit']\n",
    "X.head()"
   ]
  },
  {
   "cell_type": "markdown",
   "metadata": {
    "id": "cA0SH2m19eoH"
   },
   "source": [
    "Если данные имеют пропуски в начале или в конце, то лучше обрезать данные. Остальные пропуски стоит заполнить предыдущим значением по дате. Для этого вам может помочь функция `pandas.DataFrame.fillna`."
   ]
  },
  {
   "cell_type": "code",
   "execution_count": null,
   "metadata": {
    "colab": {
     "base_uri": "https://localhost:8080/"
    },
    "id": "zZGjhKmG9eoH",
    "outputId": "ab7d6155-3d2d-4ab1-9779-ded320f346c2"
   },
   "outputs": [],
   "source": [
    "X = X.iloc[1:]\n",
    "X.shape"
   ]
  },
  {
   "cell_type": "markdown",
   "metadata": {
    "id": "zCdsOhQK9eoH"
   },
   "source": [
    "Для города X будем предсказывать температуру с помощью моделей машинного обучения.\n",
    "\n",
    "\n",
    "Разбейте данные на обучение и тест. Для тестовой выборки используйте последние **365 дней** из данных (не забывайте, что в данных представлены показатели за каждый час).\n"
   ]
  },
  {
   "cell_type": "code",
   "execution_count": null,
   "metadata": {
    "id": "KQysqq7A9eoI"
   },
   "outputs": [],
   "source": [
    "train = X[:-365*24]\n",
    "test = X[-365*24:]\n",
    "assert train.shape[0] + test.shape[0] == X.shape[0]"
   ]
  },
  {
   "cell_type": "markdown",
   "metadata": {
    "id": "5447KVXr9eoI"
   },
   "source": [
    "С форматом даты модели работать не умеют, поэтому нам необходимо описать дату признаками. Сделаем преобразование даты в признаки."
   ]
  },
  {
   "cell_type": "code",
   "execution_count": null,
   "metadata": {
    "id": "0X145F6w9eoI"
   },
   "outputs": [],
   "source": [
    "def create_date_features(date):\n",
    "    \"\"\"Создает фичи из даты\"\"\"\n",
    "    row = {}\n",
    "    row[\"dayofweek\"] = date.dayofweek\n",
    "    row[\"quarter\"] = date.quarter\n",
    "    row[\"month\"] = date.month\n",
    "    row[\"year\"] = date.year\n",
    "    row[\"dayofyear\"] = date.dayofyear\n",
    "    row[\"dayofmonth\"] = date.day\n",
    "    row[\"weekofyear\"] = date.weekofyear\n",
    "    return row\n",
    "\n",
    "def create_only_date_train_features(y_series):\n",
    "    \"\"\"\n",
    "    Создает обучающий датасет из признаков, полученных из дат для y_series\n",
    "    \"\"\"\n",
    "    time_features = pd.DataFrame(\n",
    "    [create_date_features(date) for date in y_series.index] )\n",
    "    return time_features, y_series"
   ]
  },
  {
   "cell_type": "code",
   "execution_count": null,
   "metadata": {
    "id": "uW3r5e5Q9eoI"
   },
   "outputs": [],
   "source": [
    "X_train, y_train = create_only_date_train_features(train)\n",
    "X_test, y_test = create_only_date_train_features(test)"
   ]
  },
  {
   "cell_type": "code",
   "execution_count": null,
   "metadata": {
    "colab": {
     "base_uri": "https://localhost:8080/",
     "height": 424
    },
    "id": "_Sv8ABlL9eoI",
    "outputId": "e477000d-2e3f-4867-9e78-e1e4fb158bea"
   },
   "outputs": [],
   "source": [
    "X_train"
   ]
  },
  {
   "cell_type": "markdown",
   "metadata": {
    "id": "JvqXSdiV9eoI"
   },
   "source": [
    "Постройте и обучите три модели:\n",
    "* модель линейной регрессии\n",
    "* решающего дерева\n",
    "* случайного леса."
   ]
  },
  {
   "cell_type": "code",
   "execution_count": null,
   "metadata": {
    "id": "7PR1Qjsq9eoJ"
   },
   "outputs": [],
   "source": [
    "lr = LinearRegression()\n",
    "tree = DecisionTreeRegressor()\n",
    "forest = RandomForestRegressor()\n",
    "\n",
    "models = [(lr, 'Linear Regression'), (tree, 'Decision Tree'), (forest, 'Random Forest')]\n",
    "\n",
    "for model, i in models:\n",
    "    model.fit(X_train, y_train)"
   ]
  },
  {
   "cell_type": "markdown",
   "metadata": {
    "id": "ZYGSt1Ca9eoJ"
   },
   "source": [
    "Посчитайте качество на тесте (MSE, MAE, MAPE).\n",
    "\n"
   ]
  },
  {
   "cell_type": "code",
   "execution_count": null,
   "metadata": {
    "colab": {
     "base_uri": "https://localhost:8080/"
    },
    "id": "fwYKM2ro9eoJ",
    "outputId": "19acdd94-2fad-44b7-ad08-7f9bff79ac91"
   },
   "outputs": [],
   "source": [
    "y_preds = []\n",
    "\n",
    "for model, name in models:\n",
    "    y_pred = model.predict(X_test)\n",
    "    y_preds.append(y_pred)\n",
    "\n",
    "    mse = mean_squared_error(y_test, y_pred)\n",
    "    mae = mean_absolute_error(y_test, y_pred)\n",
    "    mape = mean_absolute_percentage_error(y_test, y_pred)\n",
    "\n",
    "    print(f'{name}')\n",
    "    print(f'MSE: {mse.round(3)}')\n",
    "    print(f'MAE: {mae.round(3)}')\n",
    "    print(f'MAPE: {mape.round(3)}')\n",
    "    print()"
   ]
  },
  {
   "cell_type": "markdown",
   "metadata": {
    "id": "lk5nIYJp9eoJ"
   },
   "source": [
    "Визуализируйте результат."
   ]
  },
  {
   "cell_type": "code",
   "execution_count": null,
   "metadata": {
    "id": "QkUvQ_-29eoJ"
   },
   "outputs": [],
   "source": [
    "def plot_results(y_to_train, y_to_test, y_forecast, model_name):\n",
    "    \"\"\"\n",
    "    Функция для визуализации временного ряда и предсказания.\n",
    "    Параметры:\n",
    "        - y_to_train: pd.Series\n",
    "            Временной ряд, на котором обучалась модель.\n",
    "        - y_to_test: pd.Series\n",
    "            Временной ряд, который предсказывает модель.\n",
    "        - y_forecast: array\n",
    "            Предсказания модели.\n",
    "        - plot_conf_int: bool\n",
    "            Надо ли строить предсказательного интервал.\n",
    "        - left_bound: array\n",
    "            Левая граница предсказательного интервала.\n",
    "        - right_bound: array\n",
    "            Правая граница предсказательного интервала.\n",
    "    \"\"\"\n",
    "    plt.figure(figsize=(15, 5))\n",
    "    plt.title(f\"Показатели температуры для города Х \\n {model_name}\", fontsize=15)\n",
    "    plt.plot(y_to_train, label=\"train\")\n",
    "    plt.plot(y_to_test, label=\"test\")\n",
    "    plt.plot(y_to_test.index, y_forecast, label=\"prediction\")\n",
    "    plt.legend()\n",
    "    plt.show()"
   ]
  },
  {
   "cell_type": "code",
   "execution_count": null,
   "metadata": {
    "colab": {
     "base_uri": "https://localhost:8080/",
     "height": 493
    },
    "id": "4Xxr0kmn9eoK",
    "outputId": "5abaf1fb-767b-4dfe-9cd0-aff333384772"
   },
   "outputs": [],
   "source": [
    "plot_results(y_train, y_test, y_preds[0], models[0][1])"
   ]
  },
  {
   "cell_type": "code",
   "execution_count": null,
   "metadata": {
    "colab": {
     "base_uri": "https://localhost:8080/",
     "height": 493
    },
    "id": "kcH3gIIdGmOL",
    "outputId": "43bf8bb2-ffd1-4719-e841-7396a56da5de"
   },
   "outputs": [],
   "source": [
    "plot_results(y_train, y_test, y_preds[1], models[1][1])"
   ]
  },
  {
   "cell_type": "code",
   "execution_count": null,
   "metadata": {
    "colab": {
     "base_uri": "https://localhost:8080/",
     "height": 493
    },
    "id": "E8_Ut64uGqPp",
    "outputId": "ff6abe90-40c8-4b10-cad0-4147251d7922"
   },
   "outputs": [],
   "source": [
    "plot_results(y_train, y_test, y_preds[2], models[2][1])"
   ]
  },
  {
   "cell_type": "markdown",
   "metadata": {
    "id": "EV0lvHk69eoK"
   },
   "source": [
    "Сделайте выводы."
   ]
  },
  {
   "cell_type": "markdown",
   "metadata": {
    "id": "yg0aFQRw9eoK"
   },
   "source": [
    "**Вывод:**\n",
    "\n",
    "На метриках видно, что линейная регрессия показывает наихудшие результаты. Решающее дерево и случайный лес демонстрируют схожие показатели по метрикам и визуально на графике проявляют схожее поведение. Единственное различие заключается в том, что случайный лес выглядит немного более точным и лучше согласуется с реальными данными. В общем, можно сказать, что дерево и лес достаточно неплохо моделируют реальные данные."
   ]
  }
 ],
 "metadata": {
  "colab": {
   "provenance": []
  },
  "kernelspec": {
   "display_name": "Python 3",
   "language": "python",
   "name": "python3"
  },
  "language_info": {
   "codemirror_mode": {
    "name": "ipython",
    "version": 3
   },
   "file_extension": ".py",
   "mimetype": "text/x-python",
   "name": "python",
   "nbconvert_exporter": "python",
   "pygments_lexer": "ipython3",
   "version": "3.10.4"
  },
  "varInspector": {
   "cols": {
    "lenName": 16,
    "lenType": 16,
    "lenVar": 40
   },
   "kernels_config": {
    "python": {
     "delete_cmd_postfix": "",
     "delete_cmd_prefix": "del ",
     "library": "var_list.py",
     "varRefreshCmd": "print(var_dic_list())"
    },
    "r": {
     "delete_cmd_postfix": ") ",
     "delete_cmd_prefix": "rm(",
     "library": "var_list.r",
     "varRefreshCmd": "cat(var_dic_list()) "
    }
   },
   "types_to_exclude": [
    "module",
    "function",
    "builtin_function_or_method",
    "instance",
    "_Feature"
   ],
   "window_display": false
  }
 },
 "nbformat": 4,
 "nbformat_minor": 0
}
