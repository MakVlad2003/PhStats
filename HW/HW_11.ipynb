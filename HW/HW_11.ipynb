{
 "cells": [
  {
   "cell_type": "code",
   "execution_count": null,
   "metadata": {
    "id": "B3pa27S6-BSd"
   },
   "outputs": [],
   "source": [
    "import pandas as pd\n",
    "import matplotlib.pyplot as plt\n",
    "import numpy as np\n",
    "\n",
    "import warnings\n",
    "warnings.filterwarnings(\"ignore\", category = UserWarning)"
   ]
  },
  {
   "cell_type": "markdown",
   "metadata": {
    "id": "a_rU_Y3I-BSd"
   },
   "source": [
    "Импорты из sklearn:"
   ]
  },
  {
   "cell_type": "code",
   "execution_count": null,
   "metadata": {
    "id": "xi3Qu5lH-BSe"
   },
   "outputs": [],
   "source": [
    "from sklearn.metrics import mean_squared_error, mean_absolute_error, mean_absolute_percentage_error\n",
    "from sklearn.linear_model import Ridge\n",
    "from sklearn.ensemble import RandomForestRegressor\n",
    "from sklearn.preprocessing import StandardScaler\n",
    "from sklearn.model_selection import train_test_split\n",
    "from sklearn.linear_model import Ridge, Lasso, ElasticNet\n",
    "from sklearn.model_selection import GridSearchCV"
   ]
  },
  {
   "cell_type": "markdown",
   "metadata": {
    "id": "fa1JKEeJ-BSe"
   },
   "source": [
    "## Задача 1"
   ]
  },
  {
   "cell_type": "markdown",
   "metadata": {
    "id": "BrwBkNU2-BSe"
   },
   "source": [
    "Реализуйте функции:\n",
    "\n",
    "- скользящего среднего\n",
    "- экспоненциального сглаживания\n",
    "- двойного эскпоненциального сглаживания (метод Хольта)\n",
    "\n",
    "Визуализируйте результаты работы функций.\n",
    "\n",
    "\n"
   ]
  },
  {
   "cell_type": "markdown",
   "metadata": {
    "id": "52jaLJVT-BSf"
   },
   "source": [
    "### 0. Загрузка данных"
   ]
  },
  {
   "cell_type": "markdown",
   "metadata": {
    "id": "-0ZtbGVF-BSh"
   },
   "source": [
    "#### **Профиль биология**\n",
    "\n",
    "В этом домашнем задании мы будем работать с данными о сердцебиении человека во время сна. Скачать и изучить подробнее [здесь](https://www.kaggle.com/datasets/jacekmakola/goodnight1)."
   ]
  },
  {
   "cell_type": "code",
   "execution_count": null,
   "metadata": {
    "colab": {
     "base_uri": "https://localhost:8080/",
     "height": 565
    },
    "id": "XdJxwej--BSh",
    "outputId": "28c9fac8-96ca-4710-d1f8-06556b6954f7"
   },
   "outputs": [],
   "source": [
    "data = pd.read_csv('hrb_sample_1.csv')\n",
    "data"
   ]
  },
  {
   "cell_type": "markdown",
   "metadata": {
    "id": "bI7H1JDn-BSh"
   },
   "source": [
    "Формат данных достаточно специфичен. Очистим нашу таблицу от ненужной информации."
   ]
  },
  {
   "cell_type": "code",
   "execution_count": null,
   "metadata": {
    "colab": {
     "base_uri": "https://localhost:8080/",
     "height": 253
    },
    "id": "p4ONddiK-BSh",
    "outputId": "4a09ea39-e5a8-433e-d37c-5b9fc30dfcc1"
   },
   "outputs": [],
   "source": [
    "data = pd.DataFrame(data.values, columns=data.loc[1])\n",
    "data = data.drop(0)\n",
    "data = data.drop(1)\n",
    "data.tail()"
   ]
  },
  {
   "cell_type": "markdown",
   "metadata": {
    "id": "LdSyfr10-BSh"
   },
   "source": [
    "Уберем лишние колонки."
   ]
  },
  {
   "cell_type": "code",
   "execution_count": null,
   "metadata": {
    "id": "rGBrNZ0X-BSi"
   },
   "outputs": [],
   "source": [
    "data = data[['Time', 'HR (bpm)']]"
   ]
  },
  {
   "cell_type": "markdown",
   "metadata": {
    "id": "FFPg26wf-BSi"
   },
   "source": [
    "Колонку `Time` преобразуем к правильному типу данных и поставим вместо индексов."
   ]
  },
  {
   "cell_type": "code",
   "execution_count": null,
   "metadata": {
    "id": "H4HWj7Wd-BSi"
   },
   "outputs": [],
   "source": [
    "data[\"Time\"] = pd.to_datetime(data['Time'])\n",
    "data = data.set_index('Time')"
   ]
  },
  {
   "cell_type": "markdown",
   "metadata": {
    "id": "-x3CCsXL-BSi"
   },
   "source": [
    "Посмотрим, в каком формате хранятся данные о сердцебиении."
   ]
  },
  {
   "cell_type": "code",
   "execution_count": null,
   "metadata": {
    "colab": {
     "base_uri": "https://localhost:8080/"
    },
    "id": "_GSsjae9-BSi",
    "outputId": "e9ded7e7-34ad-45bc-cf10-ca4900bba359"
   },
   "outputs": [],
   "source": [
    "type(data['HR (bpm)'][0])"
   ]
  },
  {
   "cell_type": "markdown",
   "metadata": {
    "id": "HBW3nhWi-BSj"
   },
   "source": [
    "Переведите значения `HR (bpm)` к целым числам."
   ]
  },
  {
   "cell_type": "code",
   "execution_count": null,
   "metadata": {
    "id": "-pYUmboZ-BSj"
   },
   "outputs": [],
   "source": [
    "data['HR (bpm)'] = data['HR (bpm)'].astype(int)"
   ]
  },
  {
   "cell_type": "markdown",
   "metadata": {
    "id": "bBVe-B0r-BSj"
   },
   "source": [
    "Визуализируйте, как изменяется таргет с течением времени. Какие зависимости вы можете увидеть?"
   ]
  },
  {
   "cell_type": "code",
   "execution_count": null,
   "metadata": {
    "colab": {
     "base_uri": "https://localhost:8080/",
     "height": 487
    },
    "id": "ZK4tTaYw-BSj",
    "outputId": "d37c241d-a71a-41e4-d0fa-9edecd778374"
   },
   "outputs": [],
   "source": [
    "plt.figure(figsize = (15, 5))\n",
    "\n",
    "plt.plot(data['HR (bpm)'])\n",
    "\n",
    "plt.title('HR (bpm) с течением времени')\n",
    "plt.xlabel('Дата')\n",
    "plt.ylabel('HR (bpm)')\n",
    "\n",
    "plt.grid()\n",
    "plt.show()"
   ]
  },
  {
   "cell_type": "markdown",
   "metadata": {
    "id": "lLmH8SmrD__r"
   },
   "source": [
    "**На графике можно увидеть:**\n",
    "\n",
    "1. Периодические пики, которые могут быть связаны с физиологическими процессами, такими как резкие изменения активности или эмоционального состояния во время сна. Эти пики могут представлять собой моменты более интенсивного сердцебиения, например, во время сновидений.\n",
    "\n",
    "2. Визуально на графике можно заметить некоторый уровень шума, который обусловлен естественными физиологическими колебаниями сердцебиения во время сна. Этот шум может быть вызван различными факторами, такими как дыхание, движения и другие физиологические процессы.\n",
    "\n",
    "3. Можно заметить общий тренд изменения сердцебиения с течением времени. Например, если сердцебиение начинает резко возрастать или уменьшаться в определенный момент времени, это может быть связано с фазами сна или другими внешними факторами.\n",
    "\n"
   ]
  },
  {
   "cell_type": "markdown",
   "metadata": {
    "id": "8LLP9DtF-BSj"
   },
   "source": [
    "\n",
    "### 1. Скользящее среднее"
   ]
  },
  {
   "cell_type": "code",
   "execution_count": null,
   "metadata": {
    "id": "sLYTN664-BSj"
   },
   "outputs": [],
   "source": [
    "def moving_average(series:pd.Series, n:int)->pd.Series:\n",
    "    '''\n",
    "    series:pd.Series - исходные данные\n",
    "    n:int - величина скользящего окна\n",
    "\n",
    "    output:pd.Series - сглаженные данные\n",
    "    '''\n",
    "    output = series.rolling(n).mean()\n",
    "    return output"
   ]
  },
  {
   "cell_type": "markdown",
   "metadata": {
    "id": "B8w42qHM-BSk"
   },
   "source": [
    "Нарисуйте на одном графике исходные данные и обработанные скользящим средним. Рассмотрите минимум **два** разных `n` и обоснуйте свой выбор этих значений.\n",
    "\n",
    "*Замечание: при корректной реализации функции первые элементы превратятся в NaN, поэтому рисовать график нужно для `series[n:]`*"
   ]
  },
  {
   "cell_type": "code",
   "execution_count": null,
   "metadata": {
    "colab": {
     "base_uri": "https://localhost:8080/",
     "height": 487
    },
    "id": "VFKCUIrK-BSk",
    "outputId": "57deb1fe-69da-4d11-fc3e-176f3c5132da"
   },
   "outputs": [],
   "source": [
    "plt.figure(figsize = (15, 5))\n",
    "\n",
    "plt.plot(data['HR (bpm)'], label = 'До обработки')\n",
    "plt.plot(moving_average(data['HR (bpm)'], 50)[50:], label = 'После обработки скользящим средним (n = 50)')\n",
    "\n",
    "plt.title('HR (bpm) с течением времени, n = 50')\n",
    "plt.xlabel('Дата')\n",
    "plt.ylabel('HR (bpm)')\n",
    "\n",
    "plt.legend()\n",
    "plt.grid()\n",
    "plt.show()"
   ]
  },
  {
   "cell_type": "code",
   "execution_count": null,
   "metadata": {
    "colab": {
     "base_uri": "https://localhost:8080/",
     "height": 487
    },
    "id": "x49_dyc1GCJC",
    "outputId": "f9e4a074-d3b8-4a6c-cec9-618944cb1e86"
   },
   "outputs": [],
   "source": [
    "plt.figure(figsize = (15, 5))\n",
    "\n",
    "plt.plot(data['HR (bpm)'], label = 'До обработки')\n",
    "plt.plot(moving_average(data['HR (bpm)'], 100)[100:], label = 'После обработки скользящим средним (n = 100)')\n",
    "\n",
    "plt.title('HR (bpm) с течением времени, n = 100')\n",
    "plt.xlabel('Дата')\n",
    "plt.ylabel('HR (bpm)')\n",
    "\n",
    "plt.legend()\n",
    "plt.grid()\n",
    "plt.show()"
   ]
  },
  {
   "cell_type": "code",
   "execution_count": null,
   "metadata": {
    "colab": {
     "base_uri": "https://localhost:8080/",
     "height": 487
    },
    "id": "Iv_nH_ivGIwT",
    "outputId": "00c2d5f7-d9c3-45cb-e4aa-fa47cb1f8fad"
   },
   "outputs": [],
   "source": [
    "plt.figure(figsize = (15, 5))\n",
    "\n",
    "plt.plot(data['HR (bpm)'], label = 'До обработки')\n",
    "plt.plot(moving_average(data['HR (bpm)'], 150)[150:], label = 'После обработки скользящим средним (n = 150)')\n",
    "\n",
    "plt.title('HR (bpm) с течением времени, n = 150')\n",
    "plt.xlabel('Дата')\n",
    "plt.ylabel('HR (bpm)')\n",
    "\n",
    "plt.legend()\n",
    "plt.grid()\n",
    "plt.show()"
   ]
  },
  {
   "cell_type": "markdown",
   "metadata": {
    "id": "Zx2Y032IGNlE"
   },
   "source": [
    "**Вывод:**\n",
    "\n",
    "При выборе значения n для скользящего среднего необходимо учитывать баланс между сглаживанием данных и сохранением важных особенностей.\n",
    "\n",
    "Использование слишком большого значения n может привести к чрезмерному сглаживанию данных, что может скрыть важные временные особенности и детали. Напротив, слишком маленькое значение n может не обеспечить достаточного уровня сглаживания, что приведет к ненужному шуму на графике.\n",
    "\n",
    "Поэтому, исходя из графиков, оптимальным кажется значение **n = 50**, так как оно обеспечивает достаточное сглаживание данных, сохраняя при этом достаточно высокую чувствительность к временным особенностям."
   ]
  },
  {
   "cell_type": "markdown",
   "metadata": {
    "id": "GO1XgERr-BSk"
   },
   "source": [
    "### 2. Экспоненциальное сглаживание"
   ]
  },
  {
   "cell_type": "code",
   "execution_count": null,
   "metadata": {
    "id": "GW-bXUBO-BSk"
   },
   "outputs": [],
   "source": [
    "def exponential_smoothing(series: pd.Series, alpha: float) -> pd.Series:\n",
    "    '''\n",
    "    series: pd.Series - исходные данные\n",
    "    alpha: float - сглаживающий фактор\n",
    "    '''\n",
    "    output = np.empty_like(series, dtype=float)\n",
    "    output[0] = series[0]\n",
    "    for i in range(1, len(series)):\n",
    "        output[i] = alpha * series[i] + (1 - alpha) * output[i - 1]\n",
    "\n",
    "    return pd.Series(output, index=series.index)"
   ]
  },
  {
   "cell_type": "markdown",
   "metadata": {
    "id": "MLlgBim6-BSl"
   },
   "source": [
    "Нарисуйте на одном графике исходные данные и обработанные функцией экпоненциального сглаживания. Рассмотрите минимум **два** разных `alpha`. Следите за аккуратностью графика.\n"
   ]
  },
  {
   "cell_type": "code",
   "execution_count": null,
   "metadata": {
    "colab": {
     "base_uri": "https://localhost:8080/",
     "height": 487
    },
    "id": "EzSFlRbq-BSl",
    "outputId": "0d7f0c83-5dd2-43d8-9b80-e70a26b99375"
   },
   "outputs": [],
   "source": [
    "plt.figure(figsize = (15, 5))\n",
    "\n",
    "plt.plot(data['HR (bpm)'], label = 'До обработки')\n",
    "plt.plot(exponential_smoothing(data['HR (bpm)'], 0.001), label = r'После обработки экспоненциальным сглаживанием, $\\alpha$ = 0.001')\n",
    "\n",
    "plt.title('HR (bpm) с течением времени')\n",
    "plt.xlabel('Дата')\n",
    "plt.ylabel('HR (bpm)')\n",
    "\n",
    "plt.legend()\n",
    "plt.grid()\n",
    "plt.show()"
   ]
  },
  {
   "cell_type": "code",
   "execution_count": null,
   "metadata": {
    "colab": {
     "base_uri": "https://localhost:8080/",
     "height": 487
    },
    "id": "Nupn5LHEIyqy",
    "outputId": "efa003ec-cf09-4f07-fe9d-9a19c18a9ecb"
   },
   "outputs": [],
   "source": [
    "plt.figure(figsize = (15, 5))\n",
    "\n",
    "plt.plot(data['HR (bpm)'], label = 'До обработки')\n",
    "plt.plot(exponential_smoothing(data['HR (bpm)'], 0.01), label = r'После обработки экспоненциальным сглаживанием, $\\alpha$ = 0.01')\n",
    "\n",
    "plt.title('HR (bpm) с течением времени')\n",
    "plt.xlabel('Дата')\n",
    "plt.ylabel('HR (bpm)')\n",
    "\n",
    "plt.legend()\n",
    "plt.grid()\n",
    "plt.show()"
   ]
  },
  {
   "cell_type": "code",
   "execution_count": null,
   "metadata": {
    "colab": {
     "base_uri": "https://localhost:8080/",
     "height": 487
    },
    "id": "cwtZSEnuJGbw",
    "outputId": "59322ca4-5ee6-425f-b78c-fe24699e083a"
   },
   "outputs": [],
   "source": [
    "plt.figure(figsize = (15, 5))\n",
    "\n",
    "plt.plot(data['HR (bpm)'], label = 'До обработки')\n",
    "plt.plot(exponential_smoothing(data['HR (bpm)'], 0.1), label = r'После обработки экспоненциальным сглаживанием, $\\alpha$ = 0.1')\n",
    "\n",
    "plt.title('HR (bpm) с течением времени')\n",
    "plt.xlabel('Дата')\n",
    "plt.ylabel('HR (bpm)')\n",
    "\n",
    "plt.legend()\n",
    "plt.grid()\n",
    "plt.show()"
   ]
  },
  {
   "cell_type": "markdown",
   "metadata": {
    "id": "X-Eg0jmoJaDA"
   },
   "source": [
    "**Вывод:**\n",
    "\n",
    "При уменьшении значения параметра $\\alpha$ данные подвергаются более сильному сглаживанию. Например, для $\\alpha = 0.001$ график практически становится горизонтальной линией, что может привести к потере резких изменений и шума в данных. Для значения $\\alpha = 0.01$ наблюдается более умеренное сглаживание, при этом сохраняются общие тренды и основные особенности данных. Однако, даже при таком значении $\\alpha$ могут сохраняться некоторые шумы и мелкие детали. При использовании $\\alpha = 0.1$ данные все еще остаются относительно шумными, что может затруднить анализ и выявление основных трендов из-за сохранения большого количества деталей."
   ]
  },
  {
   "cell_type": "markdown",
   "metadata": {
    "id": "dJqUcN0f-BSl"
   },
   "source": [
    "### 3. Двойное экспоненциальное сглаживание (метод Хольта)"
   ]
  },
  {
   "cell_type": "code",
   "execution_count": null,
   "metadata": {
    "id": "cj8FDacg-BSl"
   },
   "outputs": [],
   "source": [
    "def double_exponential_smoothing(series: pd.Series, alpha: float, beta: float) -> pd.Series:\n",
    "    '''\n",
    "    series: pd.Series - исходные данные\n",
    "    alpha: float - коэффициент сглаживания уровня\n",
    "    beta: float - коэффициент сглаживания тренда\n",
    "    '''\n",
    "    output = [series[0]]\n",
    "    level = series[0]\n",
    "    trend = series[1] - series[0]\n",
    "\n",
    "    for n in range(1, len(series) + 1):\n",
    "        if n == 1:\n",
    "            level, trend = series[0], series[1] - series[0]\n",
    "        if n >= len(series):\n",
    "            value = output[-1]\n",
    "        else:\n",
    "            value = series[n]\n",
    "            last_level, level = level, alpha * value + (1 - alpha) * (level + trend)\n",
    "            trend = beta * (level - last_level) + (1 - beta) * trend\n",
    "            output.append(level + trend)\n",
    "\n",
    "    output = pd.Series(output, index = series.index)\n",
    "    return output"
   ]
  },
  {
   "cell_type": "markdown",
   "metadata": {
    "id": "7-LY6DMX-BSv"
   },
   "source": [
    "Нарисуйте на одном графике исходные данные и обработанные функцией двойного экпоненциального сглаживания. Рассмотрите минимум **три** разных пары `alpha` и `beta`. Следите за аккуратностью графика."
   ]
  },
  {
   "cell_type": "code",
   "execution_count": null,
   "metadata": {
    "colab": {
     "base_uri": "https://localhost:8080/",
     "height": 487
    },
    "id": "BA5XlW6R-BSv",
    "outputId": "af02c293-0214-465c-c051-dc0b26f58faf"
   },
   "outputs": [],
   "source": [
    "plt.figure(figsize = (15, 5))\n",
    "\n",
    "plt.plot(data['HR (bpm)'], label = 'До обработки')\n",
    "plt.plot(double_exponential_smoothing(data['HR (bpm)'], 0.1, 0.01), label = r\"После обработки метод Хольта, $\\alpha = 0.1$, $\\beta = 0.01$\")\n",
    "\n",
    "plt.title('HR (bpm) с течением времени')\n",
    "plt.xlabel('Дата')\n",
    "plt.ylabel('HR (bpm)')\n",
    "\n",
    "plt.legend()\n",
    "plt.grid()\n",
    "plt.show()"
   ]
  },
  {
   "cell_type": "code",
   "execution_count": null,
   "metadata": {
    "colab": {
     "base_uri": "https://localhost:8080/",
     "height": 487
    },
    "id": "GKHWAV2NMoxr",
    "outputId": "0539b3ee-f436-4619-a49c-5f0ed7c1fe0f"
   },
   "outputs": [],
   "source": [
    "plt.figure(figsize = (15, 5))\n",
    "\n",
    "plt.plot(data['HR (bpm)'], label = 'До обработки')\n",
    "plt.plot(double_exponential_smoothing(data['HR (bpm)'], 0.01, 0.01), label = r\"После обработки метод Хольта, $\\alpha = 0.01$, $\\beta = 0.01$\")\n",
    "\n",
    "plt.title('HR (bpm) с течением времени')\n",
    "plt.xlabel('Дата')\n",
    "plt.ylabel('HR (bpm)')\n",
    "\n",
    "plt.legend()\n",
    "plt.grid()\n",
    "plt.show()"
   ]
  },
  {
   "cell_type": "code",
   "execution_count": null,
   "metadata": {
    "colab": {
     "base_uri": "https://localhost:8080/",
     "height": 487
    },
    "id": "tdBdgY6jMpU4",
    "outputId": "0ae99e03-b039-40e4-ca64-5220d273b91b"
   },
   "outputs": [],
   "source": [
    "plt.figure(figsize = (15, 5))\n",
    "\n",
    "plt.plot(data['HR (bpm)'], label = 'До обработки')\n",
    "plt.plot(double_exponential_smoothing(data['HR (bpm)'], 0.01, 0.1), label = r\"После обработки метод Хольта, $\\alpha = 0.01$, $\\beta = 0.1$\")\n",
    "\n",
    "plt.title('HR (bpm) с течением времени')\n",
    "plt.xlabel('Дата')\n",
    "plt.ylabel('HR (bpm)')\n",
    "\n",
    "plt.legend()\n",
    "plt.grid()\n",
    "plt.show()"
   ]
  },
  {
   "cell_type": "markdown",
   "metadata": {
    "id": "ppf_BRgJOC_U"
   },
   "source": [
    "**Выводы:**\n",
    "\n",
    "При анализе результатов двойного экспоненциального сглаживания мы обратили внимание на важность выбора оптимальных значений параметров alpha и beta. Видно, что наилучшее приближение к исходным данным наблюдается при $\\alpha = 0.1$ и $\\beta = 0.01$, что позволило сохранить важные тренды данных, минимизируя при этом уровень шума.\n",
    "\n",
    "При использовании слишком маленьких значений $\\alpha$ и $\\beta$, таких как 0.01 для обоих параметров, данные были слишком сильно сглажены, что привело к потере важных трендов и основных особенностей ряда. С другой стороны, слишком большие значения $\\alpha$ и $\\beta$, например, 0.1 для обоих параметров, могут привести к сохранению слишком большого количества шума в данных и потере важных трендов."
   ]
  },
  {
   "cell_type": "markdown",
   "metadata": {
    "id": "pxnU880L-BSv"
   },
   "source": [
    "## Задача 2."
   ]
  },
  {
   "cell_type": "markdown",
   "metadata": {
    "id": "9bsJ0abm-BSw"
   },
   "source": [
    "Продолжайте работать с выбранными данными. Разбейте их таким образом, чтобы в тесте остались последние 20% измерений.\n",
    "\n"
   ]
  },
  {
   "cell_type": "code",
   "execution_count": null,
   "metadata": {
    "id": "FZnMp0KI-BSw"
   },
   "outputs": [],
   "source": [
    "test_size = int(len(data['HR (bpm)']) * 0.2)\n",
    "\n",
    "train = data['HR (bpm)'].iloc[:-test_size]\n",
    "test = data['HR (bpm)'].iloc[-test_size:]"
   ]
  },
  {
   "cell_type": "markdown",
   "metadata": {
    "id": "PoKlIKzO-BSw"
   },
   "source": [
    "### 1. Baseline\n",
    "\n",
    "В любой задаче машинного обучения сначала полезно строить простые модели, так называемые `baseline`. Сгенерируйте фичи из даты. Поясните свой выбор."
   ]
  },
  {
   "cell_type": "code",
   "execution_count": null,
   "metadata": {
    "id": "h4aWAQYG-BSw"
   },
   "outputs": [],
   "source": [
    "def create_date_features(date):\n",
    "    \"\"\"Создает фичи из даты\"\"\"\n",
    "    row = {}\n",
    "    row[\"hour\"] = date.hour\n",
    "    row[\"minute\"] = date.minute\n",
    "    row[\"second\"] = date.second\n",
    "    return row\n",
    "\n",
    "def create_only_date_train_features(y_series):\n",
    "    \"\"\"\n",
    "    Создает обучающий датасет из признаков, полученных из дат для y_series\n",
    "    \"\"\"\n",
    "    time_features = pd.DataFrame(\n",
    "        [create_date_features(date) for date in y_series.index]\n",
    "    )\n",
    "    return time_features, y_series"
   ]
  },
  {
   "cell_type": "code",
   "execution_count": null,
   "metadata": {
    "colab": {
     "base_uri": "https://localhost:8080/",
     "height": 427
    },
    "id": "c-ndJX3KQxI-",
    "outputId": "94601bab-ddfa-4048-c532-cce9fb36ed12"
   },
   "outputs": [],
   "source": [
    "X_train, y_train = create_only_date_train_features(data)\n",
    "X_test, y_test = create_only_date_train_features(test)\n",
    "display(X_train.head())\n",
    "display(y_train.head())"
   ]
  },
  {
   "cell_type": "markdown",
   "metadata": {
    "id": "Ba2FmoJw-BSw"
   },
   "source": [
    "**Ответ:**\n",
    "\n",
    "Поскольку модели машинного обучения не могут работать непосредственно с форматом даты, мы преобразовали даты из наших данных в более доступный для модели формат, предоставляя ей наиболее подробную информацию о времени в виде часов, минут и секунд.\n",
    "\n",
    "Таким образом, мы предоставляем модели наибольшую возможность для выявления и анализа временных трендов, что является ключевым аспектом в анализе данных о сердцебиении.\n",
    "\n",
    "Также мы учли особенности времени, заметив, что в данной задаче меняются не дни, а лишь часы, минуты и секунды. Это помогает модели правильно интерпретировать временные данные и более точно определять временные закономерности и тренды."
   ]
  },
  {
   "cell_type": "markdown",
   "metadata": {
    "id": "quPpyyx8-BSw"
   },
   "source": [
    "Обучите линейную регрессию с регуляризацией и случайный лес на ваших данных."
   ]
  },
  {
   "cell_type": "code",
   "execution_count": null,
   "metadata": {
    "id": "hr3ktnyf-BSw"
   },
   "outputs": [],
   "source": [
    "scaler = StandardScaler()\n",
    "X_train_scaled = scaler.fit_transform(X_train)\n",
    "X_test_scaled = scaler.transform(X_test)\n",
    "\n",
    "lr = Ridge()\n",
    "forest = RandomForestRegressor()\n",
    "\n",
    "lr.fit(X_train_scaled, y_train)\n",
    "forest.fit(X_train_scaled, y_train)\n",
    "\n",
    "lr_pred = lr.predict(X_test_scaled)\n",
    "forest_pred = forest.predict(X_test_scaled)"
   ]
  },
  {
   "cell_type": "markdown",
   "metadata": {
    "id": "GuVJPOdD-BSw"
   },
   "source": [
    "Визуализируйте полученные прогнозы."
   ]
  },
  {
   "cell_type": "code",
   "execution_count": null,
   "metadata": {
    "id": "ifKmhP-r-BSx"
   },
   "outputs": [],
   "source": [
    "def plot_results(y_to_train, y_to_test, y_forecast, model_name):\n",
    "    \"\"\"\n",
    "    Функция для визуализации временного ряда и предсказания.\n",
    "\n",
    "    Параметры:\n",
    "        - y_to_train: pd.Series\n",
    "            Временной ряд, на котором обучалась модель.\n",
    "        - y_to_test: pd.Series\n",
    "            Временной ряд, который предсказывает модель.\n",
    "        - y_forecast: array\n",
    "            Предсказания модели.\n",
    "        - plot_conf_int: bool\n",
    "            Надо ли строить предсказательного интервал.\n",
    "        - left_bound: array\n",
    "            Левая граница предсказательного интервала.\n",
    "        - right_bound: array\n",
    "            Правая граница предсказательного интервала.\n",
    "    \"\"\"\n",
    "\n",
    "    plt.figure(figsize = (15, 5))\n",
    "\n",
    "    plt.plot(y_to_train, label = \"train\")\n",
    "    plt.plot(y_to_test, label = \"test\")\n",
    "    plt.plot(y_to_test.index, y_forecast, label = \"prediction\")\n",
    "\n",
    "    plt.title(f'HR (bpm) с течением времени \\n {model_name}', fontsize = 15)\n",
    "    plt.xlabel('Дата')\n",
    "    plt.ylabel('HR (bpm)')\n",
    "\n",
    "    plt.legend()\n",
    "    plt.grid()\n",
    "    plt.show()"
   ]
  },
  {
   "cell_type": "code",
   "execution_count": null,
   "metadata": {
    "colab": {
     "base_uri": "https://localhost:8080/",
     "height": 1000
    },
    "id": "IobeP8-BTvQm",
    "outputId": "993cdf8a-38fa-4c27-ff76-710c4f3affb7"
   },
   "outputs": [],
   "source": [
    "plot_results(y_train, y_test, lr_pred, 'Ridge Regression')\n",
    "plot_results(y_train, y_test, forest_pred, 'Random Forest')"
   ]
  },
  {
   "cell_type": "markdown",
   "metadata": {
    "id": "2k7IMmnP-BSx"
   },
   "source": [
    "Посчитайте метрики."
   ]
  },
  {
   "cell_type": "code",
   "execution_count": null,
   "metadata": {
    "id": "KmSNWc-FdVqI"
   },
   "outputs": [],
   "source": [
    "compare_table = None"
   ]
  },
  {
   "cell_type": "code",
   "execution_count": null,
   "metadata": {
    "id": "bEvjLSWadTl7"
   },
   "outputs": [],
   "source": [
    "def add_results_in_comparison_table(\n",
    "    method: str, y_true, y_forecast\n",
    ") -> pd.DataFrame:\n",
    "    \"\"\"\n",
    "    Добавляет новую строчку в таблицу compare_table\n",
    "    с результатами текущей модели.\n",
    "\n",
    "    Если ранее модель была уже добавлена в таблицу,\n",
    "    то старая строчка перезапишется на новую.\n",
    "\n",
    "    Параметры:\n",
    "    - method: имя модели.\n",
    "    - y_true: истинные значения.\n",
    "    - y_forecast: предсказанные значения.\n",
    "    \"\"\"\n",
    "\n",
    "    # Обращаемся к глобальной переменной\n",
    "    global compare_table\n",
    "\n",
    "    # Считаем метрики\n",
    "    result_row = {\n",
    "        \"method\": method,\n",
    "        \"MSE\": mean_squared_error(y_true=y_true, y_pred=y_forecast),\n",
    "        \"MAE\": mean_absolute_error(y_true=y_true, y_pred=y_forecast),\n",
    "        \"MAPE\": mean_absolute_percentage_error(\n",
    "            y_true=y_true, y_pred=y_forecast\n",
    "        ),\n",
    "    }\n",
    "\n",
    "    # Записываем результат в таблицу\n",
    "    if compare_table is None:\n",
    "        compare_table = pd.DataFrame([result_row])\n",
    "    else:\n",
    "        if method in list(compare_table[\"method\"]):\n",
    "            compare_table = compare_table[compare_table[\"method\"] != method]\n",
    "\n",
    "        compare_table = pd.concat([compare_table, pd.DataFrame([result_row])])\n",
    "        compare_table.index = np.arange(len(compare_table))\n",
    "    return compare_table"
   ]
  },
  {
   "cell_type": "code",
   "execution_count": null,
   "metadata": {
    "colab": {
     "base_uri": "https://localhost:8080/",
     "height": 125
    },
    "id": "IkDaAHmtd_6p",
    "outputId": "a44fbb79-ee86-4c5e-ccac-fa32894bc947"
   },
   "outputs": [],
   "source": [
    "add_results_in_comparison_table('Simple Ridge Regression', y_test, lr_pred)\n",
    "add_results_in_comparison_table('Simple Random Forest', y_test, forest_pred)"
   ]
  },
  {
   "cell_type": "markdown",
   "metadata": {
    "id": "HnEQOAoZ-BSx"
   },
   "source": [
    "### 2. Рекурсивная стратегия\n",
    "\n",
    "Обучите линейную регрессию с регуляризацией и случайный лес используя рекурсивную стратегию.\n",
    "\n"
   ]
  },
  {
   "cell_type": "code",
   "execution_count": null,
   "metadata": {
    "id": "96rrz2tD-BSx"
   },
   "outputs": [],
   "source": [
    "def recursive_prediction(\n",
    "    model, test_dates, y_to_train, features_creation_function\n",
    "):\n",
    "    \"\"\"\n",
    "    Функция для рекурсивного предсказания для дат,\n",
    "    указанных в test_dates.\n",
    "\n",
    "    Параметры:\n",
    "        - model\n",
    "            МЛ-модель.\n",
    "        - test_dates\n",
    "            массив с датами, в которые надо сделать предсказания.\n",
    "        - features_creation_function\n",
    "            функция для создания тестовых признаков\n",
    "    \"\"\"\n",
    "    predictions = []\n",
    "    previous_y = list(y_to_train)\n",
    "\n",
    "    for date in test_dates:\n",
    "        row = features_creation_function(date, previous_y)\n",
    "        curr_test = pd.DataFrame([row])\n",
    "        curr_prediction = model.predict(curr_test)[0]\n",
    "        previous_y.append(curr_prediction)\n",
    "        predictions.append(curr_prediction)\n",
    "    return np.array(predictions)"
   ]
  },
  {
   "cell_type": "code",
   "execution_count": null,
   "metadata": {
    "id": "9KZk6ugYXysd"
   },
   "outputs": [],
   "source": [
    "ridge = Ridge()\n",
    "ridge.fit(X_train, y_train)\n",
    "\n",
    "ridge_pred = recursive_prediction(\n",
    "    ridge,\n",
    "    test.index,\n",
    "    train,\n",
    "    lambda date, previous_y: create_date_features(date),\n",
    ")\n",
    "\n",
    "rf = RandomForestRegressor()\n",
    "rf.fit(X_train, y_train)\n",
    "\n",
    "rf_pred = recursive_prediction(\n",
    "    rf,\n",
    "    test.index,\n",
    "    train,\n",
    "    lambda date, previous_y: create_date_features(date),\n",
    ")"
   ]
  },
  {
   "cell_type": "markdown",
   "metadata": {
    "id": "kCtzM0ra-BSx"
   },
   "source": [
    "Визуализируйте полученные прогнозы."
   ]
  },
  {
   "cell_type": "code",
   "execution_count": null,
   "metadata": {
    "colab": {
     "base_uri": "https://localhost:8080/",
     "height": 1000
    },
    "id": "8g5E-sE7-BSx",
    "outputId": "c5831608-b529-4fd0-c73b-b7ff99923645"
   },
   "outputs": [],
   "source": [
    "plot_results(y_train, y_test, ridge_pred, 'Ridge Regression')\n",
    "plot_results(y_train, y_test, rf_pred, 'Random Forest')"
   ]
  },
  {
   "cell_type": "markdown",
   "metadata": {
    "id": "uZN5F0id-BSx"
   },
   "source": [
    "Посчитайте метрики."
   ]
  },
  {
   "cell_type": "code",
   "execution_count": null,
   "metadata": {
    "colab": {
     "base_uri": "https://localhost:8080/",
     "height": 175
    },
    "id": "gY0YNdMc-BSy",
    "outputId": "acff6cab-223d-4103-ca70-7358b78c9a9e"
   },
   "outputs": [],
   "source": [
    "add_results_in_comparison_table('Recurcive Ridge Regression', y_test, ridge_pred)\n",
    "add_results_in_comparison_table('Recurcive Random Forest', y_test, rf_pred)"
   ]
  },
  {
   "cell_type": "markdown",
   "metadata": {
    "id": "zhMo_znQ-BSy"
   },
   "source": [
    "### 3. Временные сдвиги\n",
    "\n",
    "Поработаем еще с признаками. На этот раз добавим сдвиги по времени. Таким образом модель сможет использовать информацию из прошлого, для составления прогноза на будущее. Добавьте новые признаки к вашим данным."
   ]
  },
  {
   "cell_type": "code",
   "execution_count": null,
   "metadata": {
    "id": "T_tVnjg3-BSy"
   },
   "outputs": [],
   "source": [
    "def create_date_and_shifted_train_features(\n",
    "    y_series, minute_shifts=10, second_shifts=10\n",
    "):\n",
    "    \"\"\"\n",
    "    Создает обучающий датасет из признаков, полученных из дат\n",
    "    и значений ряда ранее.\n",
    "    При этом используются значения ряда со сдвигами\n",
    "    на неделю и год назад.\n",
    "\n",
    "    Параметры:\n",
    "        - y_series\n",
    "            временной ряд.\n",
    "        - minute_shifts\n",
    "            часовой сдвиг.\n",
    "        - second_shifts\n",
    "            секундный сдвиг.\n",
    "    \"\"\"\n",
    "\n",
    "    curr_df, y = create_only_date_train_features(y_series)\n",
    "    curr_df.index = y_series.index\n",
    "\n",
    "    # применяем сдвиг по минутам\n",
    "    for shift in range(1, minute_shifts + 1):\n",
    "        curr_df[f\"minute_shift_{shift}\"] = y_series.shift(\n",
    "            shift, axis=0\n",
    "        )\n",
    "\n",
    "    # применяем сдвиг по секундам\n",
    "    for shift in range(1, second_shifts + 1):\n",
    "        curr_df[f\"second_shift_{shift}\"] = y_series.shift(\n",
    "            shift * 60, axis=0\n",
    "        )\n",
    "\n",
    "    y = y_series\n",
    "\n",
    "    # удалим первые строчки с nan\n",
    "    drop_indices = curr_df.index[curr_df.isna().sum(axis=1) > 0]\n",
    "    curr_df = curr_df.drop(index=drop_indices)\n",
    "    y = y.drop(index=drop_indices)\n",
    "    return curr_df, y\n",
    "\n",
    "def date_and_shift_features_generator_for_test(date, previous_y):\n",
    "    \"\"\"Функция создания признаков из дат исдвигов ряда для тестовых дат\"\"\"\n",
    "\n",
    "    row = create_date_features(date)\n",
    "    for shift in range(1, MINUTE_SHIFT + 1):\n",
    "        row[f\"minute_shift_{shift}\"] = previous_y[-1 * shift]\n",
    "    for shift in range(1, SECOND_SHIFT + 1):\n",
    "        row[f\"second_shift_{shift}\"] = previous_y[-1 * shift * 60]\n",
    "    return row"
   ]
  },
  {
   "cell_type": "markdown",
   "metadata": {
    "id": "0-YuovVvgpgS"
   },
   "source": [
    "Задаим сдвиги:"
   ]
  },
  {
   "cell_type": "code",
   "execution_count": null,
   "metadata": {
    "id": "_8DipmyoggpI"
   },
   "outputs": [],
   "source": [
    "MINUTE_SHIFT = 5 # минутный сдвиг\n",
    "SECOND_SHIFT = 15  # секундный сдвиг"
   ]
  },
  {
   "cell_type": "markdown",
   "metadata": {
    "id": "RbpQxcwLgvUh"
   },
   "source": [
    "Получим новые признаки:"
   ]
  },
  {
   "cell_type": "code",
   "execution_count": null,
   "metadata": {
    "id": "r50d88Eggvs5"
   },
   "outputs": [],
   "source": [
    "X_train, y_train = create_date_and_shifted_train_features(\n",
    "    train,\n",
    "    minute_shifts=MINUTE_SHIFT,\n",
    "    second_shifts=SECOND_SHIFT,\n",
    ")"
   ]
  },
  {
   "cell_type": "code",
   "execution_count": null,
   "metadata": {
    "colab": {
     "base_uri": "https://localhost:8080/",
     "height": 460
    },
    "id": "iYbNzfa6g1Rt",
    "outputId": "04e0bf2c-e0b6-43c9-dac9-6bb4b54d58d0"
   },
   "outputs": [],
   "source": [
    "X_train.head(5)"
   ]
  },
  {
   "cell_type": "markdown",
   "metadata": {
    "id": "EJ9HNMG6-BSy"
   },
   "source": [
    "Обучите линейную регрессию с регуляризацией и случайный лес на обновленном датасете."
   ]
  },
  {
   "cell_type": "code",
   "execution_count": null,
   "metadata": {
    "colab": {
     "base_uri": "https://localhost:8080/",
     "height": 75
    },
    "id": "j_cTc1tK-BSy",
    "outputId": "b2beb79e-0ae9-47bd-b014-5d5d1d4bd54c"
   },
   "outputs": [],
   "source": [
    "shifted_ridge = Ridge()\n",
    "shifted_random_forest = RandomForestRegressor()\n",
    "\n",
    "shifted_ridge.fit(X_train, y_train)\n",
    "shifted_random_forest.fit(X_train, y_train)"
   ]
  },
  {
   "cell_type": "code",
   "execution_count": null,
   "metadata": {
    "id": "qAB_EkgOftsJ"
   },
   "outputs": [],
   "source": [
    "shifted_ridge_predictions = recursive_prediction(\n",
    "    shifted_ridge,\n",
    "    test.index,\n",
    "    train,\n",
    "    date_and_shift_features_generator_for_test,\n",
    ")\n",
    "\n",
    "shifted_random_forest_predictions = recursive_prediction(\n",
    "    shifted_random_forest,\n",
    "    test.index,\n",
    "    train,\n",
    "    date_and_shift_features_generator_for_test,\n",
    ")"
   ]
  },
  {
   "cell_type": "markdown",
   "metadata": {
    "id": "Np4tU6XH-BSy"
   },
   "source": [
    "Визуализируйте полученные прогнозы."
   ]
  },
  {
   "cell_type": "code",
   "execution_count": null,
   "metadata": {
    "colab": {
     "base_uri": "https://localhost:8080/",
     "height": 1000
    },
    "id": "vqyhIBY3-BSy",
    "outputId": "45aec7a1-5a52-4dc5-a581-5d668c844d2c"
   },
   "outputs": [],
   "source": [
    "plot_results(train, test, shifted_ridge_predictions, 'Ridge Regression')\n",
    "plot_results(train, test, shifted_random_forest_predictions, 'Random Forest')"
   ]
  },
  {
   "cell_type": "markdown",
   "metadata": {
    "id": "saB2HUsb-BSy"
   },
   "source": [
    "Посчитайте метрики."
   ]
  },
  {
   "cell_type": "code",
   "execution_count": null,
   "metadata": {
    "colab": {
     "base_uri": "https://localhost:8080/",
     "height": 238
    },
    "id": "GIPDhF2n-BSz",
    "outputId": "088c3738-f81b-470c-813c-5cbb8296638a"
   },
   "outputs": [],
   "source": [
    "add_results_in_comparison_table(\"Time Shift Ridge\", test, shifted_ridge_predictions)\n",
    "add_results_in_comparison_table(\"Time Shift Random Forest\", test, shifted_random_forest_predictions)"
   ]
  },
  {
   "cell_type": "markdown",
   "metadata": {
    "id": "Da4Ph-ex-BSz"
   },
   "source": [
    "Сделайте выводы по задаче."
   ]
  },
  {
   "cell_type": "markdown",
   "metadata": {
    "id": "UUUC0MaL-BSz"
   },
   "source": [
    "**Вывод:**\n",
    "\n",
    "Исходя из представленных результатов для различных методов моделирования временных рядов, можно сделать следующие выводы:\n",
    "\n",
    "1. **Простая Ridge регрессия и случайный лес:**\n",
    "\n",
    "Обе модели показали хорошие результаты по MSE и MAE. Однако случайный лес достиг более низкого значения MSE, что указывает на более точные предсказания этой модели.\n",
    "\n",
    "2. **Рекурсивное предсказание:**\n",
    "\n",
    "Использование рекурсивной стратегии предсказания для обеих моделей также показало хорошие результаты, хотя значения MSE и MAE немного выше, чем для простых моделей. Это может быть связано с увеличением ошибки при каждом последующем предсказании из-за накопления ошибок.\n",
    "\n",
    "3. **Сдвиг во времени:**\n",
    "\n",
    "Использование метода сдвига во времени привело к ухудшению результатов по сравнению с другими методами. Обе модели показали более высокие значения MSE и MAE, что может быть связано с тем, что модели не учитывают важные временные зависимости в данных.\n",
    "\n",
    "4. **Выбор модели:**\n",
    "\n",
    "Наилучшие результаты по MSE и MAE показала модель случайного леса как для простых методов, так и для рекурсивной стратегии. Это указывает на то, что случайный лес может быть более подходящей моделью для данной задачи прогнозирования временных рядов.\n",
    "\n",
    "5. **Значение MAPE:**\n",
    "\n",
    "Все модели показали очень низкие значения MAPE, что говорит о хорошей точности предсказаний относительно фактических значений временного ряда.\n",
    "\n",
    "**Итог:**\n",
    "\n",
    "Таким образом, на основании анализа результатов, для прогнозирования временных рядов лучше использовать модель случайного леса, особенно при рекурсивном методе предсказания."
   ]
  },
  {
   "cell_type": "markdown",
   "metadata": {
    "id": "i7gck9lk-BSz"
   },
   "source": [
    "## Задача 3."
   ]
  },
  {
   "cell_type": "markdown",
   "metadata": {
    "id": "V5EbdW6v-BSz"
   },
   "source": [
    "Используя функции, реализованные в задаче 1, добавьте сглаживание в ваш датасет. Поясните выбор функции сглаживания."
   ]
  },
  {
   "cell_type": "markdown",
   "metadata": {
    "id": "okFUEN5vEBAL"
   },
   "source": [
    "В данном случае выберем скользящее среднее, так как данный метод хорошо работает для уменьшения шума в данных, особенно если в данных присутствуют случайные колебания или выбросы. Оно помогает увидеть общий тренд данных, игнорируя краткосрочные флуктуации. Также при правильном выборе размера окна скользящего среднего мы можем сохранить общий тренд данных, что позволяет нам выявить долгосрочные изменения в сердцебиении человека во времени.\n",
    "\n",
    "Внесем некие поправки в функции, написанные ранее:"
   ]
  },
  {
   "cell_type": "code",
   "execution_count": null,
   "metadata": {
    "id": "RxDqhwFb-BSz"
   },
   "outputs": [],
   "source": [
    "def create_date_shifted_and_rolling_train_features(\n",
    "    y_series, minute_shifts=2, second_shifts=5\n",
    "):\n",
    "    \"\"\"\n",
    "    Создает обучающий датасет из признаков, полученных из дат\n",
    "    и значений ряда ранее.\n",
    "    Используются занчения ряда со сдвигами на неделю и год назад.\n",
    "    Также добавлены признаки скользящего среднего.\n",
    "\n",
    "    Параметры:\n",
    "        - y_series\n",
    "            временной ряд.\n",
    "        - minute_shifts\n",
    "            минутный сдвиг.\n",
    "        - second_shifts\n",
    "            секундный сдвиг.\n",
    "    \"\"\"\n",
    "\n",
    "    curr_df, y = create_date_and_shifted_train_features(\n",
    "        y_series,\n",
    "        minute_shifts=minute_shifts,\n",
    "        second_shifts=second_shifts,\n",
    "    )\n",
    "\n",
    "    # Важно! значения скользящего окна надо сдивнуть на 1 вправо,\n",
    "    # иначе вы будете использовать при обучении текущее значение ряда.\n",
    "    curr_df[\"rolling_mean\"] = (\n",
    "        y_series.rolling(minute_shifts, min_periods=1).mean().shift(1, axis=0)\n",
    "    )\n",
    "    curr_df[\"rolling_max\"] = (\n",
    "        y_series.rolling(minute_shifts, min_periods=1).max().shift(1, axis=0)\n",
    "    )\n",
    "    curr_df[\"rolling_min\"] = (\n",
    "        y_series.rolling(minute_shifts, min_periods=1).min().shift(1, axis=0)\n",
    "    )\n",
    "\n",
    "    # удалим первые строчки с nan\n",
    "    drop_indices = curr_df.index[curr_df.isna().sum(axis=1) > 0]\n",
    "    curr_df = curr_df.drop(index=drop_indices)\n",
    "    y = y.drop(index=drop_indices)\n",
    "    return curr_df, y\n",
    "\n",
    "def date_shifted_and_rolling_features_generator_for_test(date, previous_y):\n",
    "    \"\"\"Функция создания признаков из дат и сдвигов ряда для тестовых дат\"\"\"\n",
    "    row = date_and_shift_features_generator_for_test(date, previous_y)\n",
    "    row[\"rolling_mean\"] = np.mean(previous_y[-MINUTE_SHIFT:])\n",
    "    row[\"rolling_max\"] = np.max(previous_y[-MINUTE_SHIFT:])\n",
    "    row[\"rolling_min\"] = np.min(previous_y[-MINUTE_SHIFT:])\n",
    "    return row"
   ]
  },
  {
   "cell_type": "code",
   "execution_count": null,
   "metadata": {
    "id": "j0x3BCoIMPwH"
   },
   "outputs": [],
   "source": [
    "X_train, y_train = create_date_shifted_and_rolling_train_features(\n",
    "    train,\n",
    "    minute_shifts = MINUTE_SHIFT,\n",
    "    second_shifts = SECOND_SHIFT,\n",
    ")"
   ]
  },
  {
   "cell_type": "markdown",
   "metadata": {
    "id": "xEYqMZd0-BSz"
   },
   "source": [
    "Обучите линейную регрессию с регуляризацией и случайный лес на обновленном датасете."
   ]
  },
  {
   "cell_type": "code",
   "execution_count": null,
   "metadata": {
    "colab": {
     "base_uri": "https://localhost:8080/",
     "height": 75
    },
    "id": "-VBemzAmIaXH",
    "outputId": "7b2e682e-2f88-45b4-a3ed-cb2f799d8404"
   },
   "outputs": [],
   "source": [
    "ridge = Ridge()\n",
    "ridge.fit(X_train, y_train)\n",
    "\n",
    "random_forest = RandomForestRegressor()\n",
    "random_forest.fit(X_train, y_train)"
   ]
  },
  {
   "cell_type": "markdown",
   "metadata": {
    "id": "uw77zHUQ-BSz"
   },
   "source": [
    "Визуализируйте полученные прогнозы."
   ]
  },
  {
   "cell_type": "code",
   "execution_count": null,
   "metadata": {
    "id": "IC6PzilI-BS0"
   },
   "outputs": [],
   "source": [
    "ridge_pred = recursive_prediction(ridge, test.index, train, date_shifted_and_rolling_features_generator_for_test)\n",
    "random_forest_pred = recursive_prediction(random_forest, test.index, train, date_shifted_and_rolling_features_generator_for_test)"
   ]
  },
  {
   "cell_type": "code",
   "execution_count": null,
   "metadata": {
    "colab": {
     "base_uri": "https://localhost:8080/",
     "height": 1000
    },
    "id": "tbAuLmF5NYOr",
    "outputId": "77d0ef0e-c127-4e6c-c244-2564d56a7ec1"
   },
   "outputs": [],
   "source": [
    "plot_results(train, test, ridge_pred, 'Ridge Regression')\n",
    "plot_results(train, test, random_forest_pred, 'Random Forest')"
   ]
  },
  {
   "cell_type": "markdown",
   "metadata": {
    "id": "K-1ABH0f-BS0"
   },
   "source": [
    "Посчитайте метрики."
   ]
  },
  {
   "cell_type": "code",
   "execution_count": null,
   "metadata": {
    "colab": {
     "base_uri": "https://localhost:8080/",
     "height": 300
    },
    "id": "y-U02Pw0-BS0",
    "outputId": "9898aba3-6617-481b-b1f7-e9d9603c9850"
   },
   "outputs": [],
   "source": [
    "add_results_in_comparison_table(\"Ridge with window\", test, ridge_pred)\n",
    "add_results_in_comparison_table(\"Random Forest with window\", test, random_forest_pred)"
   ]
  },
  {
   "cell_type": "markdown",
   "metadata": {
    "id": "Xv53Rc2L-BS0"
   },
   "source": [
    "**Вывод:**\n",
    "\n",
    "1. Применение скользящего окна для сглаживания данных в данной задаче временных рядов не привело к значительному улучшению производительности моделей.\n",
    "\n",
    "2. Модели Ridge и Random Forest, обученные на данных с добавлением скользящего окна, показали незначительное ухудшение по метрикам MAE и MAPE по сравнению с моделями, обученными без использования скользящего окна.\n",
    "\n",
    "3. Это может указывать на то, что выбранный размер окна или другие параметры скользящего окна могут не быть оптимальными для данной задачи."
   ]
  },
  {
   "cell_type": "markdown",
   "metadata": {
    "id": "eOx6QmH2-BS0"
   },
   "source": [
    "## Задача 4.\n",
    "\n",
    "Вспомним, что при построении деревьев в задаче регрессии для каждого листа вычисляется среднее по всем обучающим объектам, которые попали в данный лист. Тем самым значение в листе лежит в пределах области значений таргета на обучении (не превосходит максимального, не меньше минимального). В связи с этим деревья не могут предсказывать значения за пределами этой области. Зависимости в задачах временных рядов не редко имеют некоторый тренд, например, значения на тестовой части временного ряда могут оказаться вне области значений обучающей части ряда. Это означает, что решающее дерево не сможет построить хороший прогноз временного ряда. Проблема также распространяется на случайный лес.\n",
    "\n",
    "В данной задаче вы реализуете другой способ прогнозирования временных рядов, который может решить эту проблему."
   ]
  },
  {
   "cell_type": "markdown",
   "metadata": {
    "id": "MdVavvK_-BS0"
   },
   "source": [
    "Исследуйте `Ridge`, `Lasso` и `ElasticNet` с различными параметрами на данных из предыдущей задачи. Подберите лучшую линейную модель."
   ]
  },
  {
   "cell_type": "markdown",
   "metadata": {
    "id": "DQdT0wDUKhWs"
   },
   "source": [
    "К решению задачи предлагаю подойти так:\n",
    "\n",
    "Так как Ridge соответствует ElasticNet при l1_ratio == 0, а Lasso соответсвует ElasticNet при l1_ratio == 1, то давайте исследуем только ElasticNet с изменяющимся параметром l1_ratio от нуля до 1.\n",
    "\n",
    "Сделаем поиск по сетке, тобы выбрать оптимальную модель."
   ]
  },
  {
   "cell_type": "code",
   "execution_count": null,
   "metadata": {
    "id": "KTw_x2uHSVO_"
   },
   "outputs": [],
   "source": [
    "parameters = {'alpha': [0.001, 0.01, 0.1, 1, 10, 100], 'l1_ratio': [0, 0.25, 0.5, 0.75, 1]}\n",
    "\n",
    "elasticnet = ElasticNet()\n",
    "\n",
    "grid_search = GridSearchCV(elasticnet, parameters, scoring='neg_mean_squared_error', cv=5)\n",
    "grid_search.fit(X_train, y_train)\n",
    "\n",
    "best_model = grid_search.best_estimator_"
   ]
  },
  {
   "cell_type": "markdown",
   "metadata": {
    "id": "CevGU9iT-BS1"
   },
   "source": [
    "Посчитайте остатки прогноза вашей модели на тренировочной выборке. Остатком является разность истинного значния и спрогнозированного."
   ]
  },
  {
   "cell_type": "code",
   "execution_count": null,
   "metadata": {
    "id": "KA_OL1xg-BS1"
   },
   "outputs": [],
   "source": [
    "best_model.fit(X_train, y_train)\n",
    "train_predictions = best_model.predict(X_train)\n",
    "train_residuals = y_train - train_predictions"
   ]
  },
  {
   "cell_type": "markdown",
   "metadata": {
    "id": "hjY2nuPS-BS1"
   },
   "source": [
    "Теперь сделаем необычный ход &mdash; научим случайный лес предсказывать ошибку линейной модели. Для этого за `Х` возьмем исходные признаки, а за `y` - вектор разностей, который вы посчитали в ячейке выше."
   ]
  },
  {
   "cell_type": "markdown",
   "metadata": {
    "id": "inPBKkgc-BS1"
   },
   "source": [
    "Предскажем ошибку линейной модели на тестовой выборке. Получим вектор предсказанных ошибок."
   ]
  },
  {
   "cell_type": "code",
   "execution_count": null,
   "metadata": {
    "colab": {
     "base_uri": "https://localhost:8080/",
     "height": 460
    },
    "id": "0QnXqjt9-BS1",
    "outputId": "4ac5ad24-b4b6-4276-bea7-4131b9b6c3d1"
   },
   "outputs": [],
   "source": [
    "errors_pred = random_forest.predict(X_test)"
   ]
  },
  {
   "cell_type": "markdown",
   "metadata": {
    "id": "M1VmXZCMUxAy"
   },
   "source": [
    "**НЕ УСПЕЛ РАЗОБРАТЬСЯ В ЧЕМ ОШИБКА**"
   ]
  },
  {
   "cell_type": "markdown",
   "metadata": {
    "id": "bWxzJVc3-BS1"
   },
   "source": [
    "Теперь сложим прогноз линейной модели для тестовой выборки и прогноз ошибок случайного леса для этой же тестовой выборки. Посчитайте метрики для полученного вектора."
   ]
  },
  {
   "cell_type": "code",
   "execution_count": null,
   "metadata": {
    "id": "HMbw5O9J-BS2"
   },
   "outputs": [],
   "source": [
    "mse_errors = mean_squared_error(train_residuals, errors_pred)\n",
    "mae_errors = mean_absolute_error(train_residuals, errors_pred)\n",
    "\n",
    "combined_predictions = test_predictions + errors_pred\n",
    "\n",
    "mse_combined = mean_squared_error(y_test, combined_predictions)\n",
    "mae_combined = mean_absolute_error(y_test, combined_predictions)"
   ]
  },
  {
   "cell_type": "markdown",
   "metadata": {
    "id": "Sjddcea4-BS2"
   },
   "source": [
    "Визуализируйте новый прогноз."
   ]
  },
  {
   "cell_type": "code",
   "execution_count": null,
   "metadata": {
    "id": "lnyO_mCc-BS2"
   },
   "outputs": [],
   "source": [
    "<...>"
   ]
  },
  {
   "cell_type": "markdown",
   "metadata": {
    "id": "auYKhqXy-BS2"
   },
   "source": [
    "Сделайте вывод."
   ]
  },
  {
   "cell_type": "markdown",
   "metadata": {
    "id": "LnuR6qJH-BS2"
   },
   "source": [
    "**Вывод:**<...>"
   ]
  },
  {
   "cell_type": "markdown",
   "metadata": {
    "id": "OkKkl9b4-BS2"
   },
   "source": [
    "Процедура, которую вы сейчас провели, называется **бустинг**. В этой модели последовательно объединяются деревья, которые учатся предсказывать ошибку предыдущего дерева. Благодаря такой схеме модели удается достичь высокого качества. Подробнее с бустингом мы ознакомимся в следующем семестре."
   ]
  }
 ],
 "metadata": {
  "colab": {
   "provenance": []
  },
  "kernelspec": {
   "display_name": "Python 3",
   "language": "python",
   "name": "python3"
  },
  "language_info": {
   "codemirror_mode": {
    "name": "ipython",
    "version": 3
   },
   "file_extension": ".py",
   "mimetype": "text/x-python",
   "name": "python",
   "nbconvert_exporter": "python",
   "pygments_lexer": "ipython3",
   "version": "3.11.5"
  },
  "varInspector": {
   "cols": {
    "lenName": 16,
    "lenType": 16,
    "lenVar": 40
   },
   "kernels_config": {
    "python": {
     "delete_cmd_postfix": "",
     "delete_cmd_prefix": "del ",
     "library": "var_list.py",
     "varRefreshCmd": "print(var_dic_list())"
    },
    "r": {
     "delete_cmd_postfix": ") ",
     "delete_cmd_prefix": "rm(",
     "library": "var_list.r",
     "varRefreshCmd": "cat(var_dic_list()) "
    }
   },
   "types_to_exclude": [
    "module",
    "function",
    "builtin_function_or_method",
    "instance",
    "_Feature"
   ],
   "window_display": false
  }
 },
 "nbformat": 4,
 "nbformat_minor": 0
}
