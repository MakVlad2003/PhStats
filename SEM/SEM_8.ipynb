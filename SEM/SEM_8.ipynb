{
 "cells": [
  {
   "cell_type": "code",
   "execution_count": null,
   "id": "0",
   "metadata": {
    "id": "d8af42d7"
   },
   "outputs": [],
   "source": [
    "import numpy as np\n",
    "import random\n",
    "import scipy.stats as sps\n",
    "import pandas as pd\n",
    "\n",
    "import matplotlib.pyplot as plt\n",
    "import seaborn as sns\n",
    "sns.set(font_scale=1.8)"
   ]
  },
  {
   "cell_type": "code",
   "execution_count": null,
   "id": "1",
   "metadata": {
    "id": "a33f628e"
   },
   "outputs": [],
   "source": [
    "# зафиксируем сид для воспроизводимости генерации\n",
    "SEED = 42\n",
    "np.random.seed(SEED)\n",
    "random.seed(SEED)"
   ]
  },
  {
   "cell_type": "markdown",
   "id": "2",
   "metadata": {
    "id": "b68a7039"
   },
   "source": [
    "# Проверка гипотез"
   ]
  },
  {
   "cell_type": "markdown",
   "id": "3",
   "metadata": {
    "id": "95148281"
   },
   "source": [
    "В данной задаче вам предлагается изучить основы работы с критериями при проверке различных гипотез."
   ]
  },
  {
   "cell_type": "markdown",
   "id": "4",
   "metadata": {
    "id": "c5872781"
   },
   "source": [
    "## Построение критерия\n",
    "\n",
    "Будем рассматривать выборку из нормального распределения $\\mathcal{N}(\\theta, 1)$. Необходимо провести проверку гипотезы равенства параметра распределения нулю с двусторонней альтернативой $\\mathsf{H}_0\\colon \\theta = 0$ vs. $\\mathsf{H}_1\\colon \\theta \\neq 0$.\n",
    "\n",
    "Как строить критерии в общем случае вы узнаете позже. А для начала попробуем построить критерий \"из здравого смысла\". На предыдущих лекциях вы учились строить доверительные интервалы для выборочного среднего, которое является асимптотически нормально оценкой матожидания случайной величины.\n",
    "\n",
    "В случае нормального распределения и известной $\\sigma = 1$ на лекции получали ТДИ с уровнем доверия $\\alpha_{int}$: $$\\left(\\overline{X} - \\frac{z_{\\frac{1+\\alpha_{int}}{2}}}{\\sqrt{n}}, \\overline{X} + \\frac{z_{\\frac{1+\\alpha_{int}}{2}}}{\\sqrt{n}}\\right)$$\n",
    "\n",
    "Здесь использован тот факт, что среднее $n$ случайных величин, полученных из $\\mathcal{N}(\\theta, 1)$, имеет нормальное распределение $\\mathcal{N}(\\theta, \\frac{1}{n})$."
   ]
  },
  {
   "cell_type": "markdown",
   "id": "5",
   "metadata": {
    "id": "6569666e"
   },
   "source": [
    "Зная этот факт, мы можем попробовать использовать следующий критерий для проверки гипотезы $\\mathsf{H}_0\\colon \\theta = 0$ vs. $\\mathsf{H}_1\\colon \\theta \\neq 0$:\n",
    "$$S=\\left\\{ 0 \\notin \\left(\\overline{X} - \\frac{z_{\\frac{1+\\alpha_{int}}{2}}}{\\sqrt{n}}, \\overline{X} + \\frac{z_{\\frac{1+\\alpha_{int}}{2}}}{\\sqrt{n}}\\right)\\right\\}$$\n",
    "\n",
    "Таким образом, при получении выборки $X$ проверка $\\mathsf{H}_0$ выглядит следующим образом:\n",
    "\n",
    "$$X \\in S  \\Leftrightarrow\t\\text{0 НЕ лежит в построенном доверительном интервале} \\Leftrightarrow \\mathsf{H}_0 \\text{ отвергается}$$\n",
    "$$X \\notin S  \\Leftrightarrow\t\\text{0 лежит в построенном доверительном интервале} \\Leftrightarrow \\mathsf{H}_0 \\text{ НЕ отвергается}$$\n",
    "\n",
    "Однако, для корректного использования данного критерия необходимо верно подобрать значение $\\alpha_{int}$.\n",
    "\n",
    "**Вопрос**: Какую величину мы ограничиваем при построении критерия? Какое $\\alpha_{int}$ нам нужно взять, чтобы проверить гипотезу на уровне значимости $\\alpha=0.05$?\n",
    "\n",
    "*Подсказка*: $\\alpha_{int}$ определяет вероятность лежать в доверительном интервале"
   ]
  },
  {
   "cell_type": "markdown",
   "id": "6",
   "metadata": {
    "id": "c29439fb"
   },
   "source": [
    "**Ответ**:\n",
    "\n",
    "При построении критерия мы ограничиваем доверительный интервал для среднего значения выборки.\n",
    "\n",
    "$\\alpha_{int} = 0.95$"
   ]
  },
  {
   "cell_type": "markdown",
   "id": "7",
   "metadata": {
    "id": "a29b89d3"
   },
   "source": [
    "## Ошибки при проверке гипотез\n",
    "\n",
    "Рассмотрим следующую выборку из нормального распределения $\\mathcal{N}(0, 1)$. Проверьте, выполняется ли для нее придуманный нами критерий."
   ]
  },
  {
   "cell_type": "code",
   "execution_count": null,
   "id": "8",
   "metadata": {
    "id": "7a9d8c4f"
   },
   "outputs": [],
   "source": [
    "sample = [-0.82899501, -0.56018104,  0.74729361,  0.61037027, -0.02090159,\n",
    "          0.11732738,  1.2776649 , -0.59157139,  0.54709738, -0.20219265,\n",
    "          -0.2176812 ,  1.09877685,  0.82541635,  0.81350964,  1.30547881,\n",
    "          0.02100384,  0.68195297, -0.31026676,  0.32416635, -0.13014305,\n",
    "          0.09699596,  0.59515703, -0.81822068,  2.09238728, -1.00601738,\n",
    "          -1.21418861,  1.15811087,  0.79166269,  0.62411982,  0.62834551]"
   ]
  },
  {
   "cell_type": "code",
   "execution_count": null,
   "id": "9",
   "metadata": {
    "colab": {
     "base_uri": "https://localhost:8080/"
    },
    "id": "47856055",
    "outputId": "24e69cde-3c3e-4919-dce1-e08d455df56b"
   },
   "outputs": [],
   "source": [
    "n = 30\n",
    "alpha = 0.05\n",
    "z = sps.norm.ppf(1 - alpha/2)\n",
    "\n",
    "theta_hat = np.mean(sample)\n",
    "theta_hat - z  / np.sqrt(n), theta_hat + z / np.sqrt(n)"
   ]
  },
  {
   "cell_type": "markdown",
   "id": "10",
   "metadata": {
    "id": "208392db"
   },
   "source": [
    "Отвергается ли гипотеза $\\mathsf{H}_0$ для данной выборки?\n",
    "\n",
    "**Ответ**: не отвергается\n",
    "\n",
    "Почему это произошло и как называется такая ошибка?"
   ]
  },
  {
   "cell_type": "markdown",
   "id": "11",
   "metadata": {
    "id": "29429bca"
   },
   "source": [
    "**Ответ**:\n",
    "\n",
    "так как $X \\notin S$, это не ошибка"
   ]
  },
  {
   "cell_type": "markdown",
   "id": "12",
   "metadata": {
    "id": "80a8283e"
   },
   "source": [
    "Теперь рассмотрим выборку, сгенерированную из нормального распределения $\\mathcal{N}(0.5, 1)$. Так как $\\theta \\neq 0$ наш критерий не должен выполняться. Проверьте, дейстивительно ли это так."
   ]
  },
  {
   "cell_type": "code",
   "execution_count": null,
   "id": "13",
   "metadata": {
    "id": "df7947d1"
   },
   "outputs": [],
   "source": [
    "sample = [ 0.12452627,  0.95075805,  0.77166076, -1.45365582, -0.49410224,\n",
    "          1.66660296, -0.93194618, -0.42985368,  0.27260541,  1.46066343,\n",
    "          -1.31198164,  0.20520295,  3.19213611,  0.55957285,  0.50613194,\n",
    "          0.05689217, -0.8558408 ,  0.12584525,  0.73918692, -0.05739113,\n",
    "          0.76803961,  0.32823556,  0.05156772, -0.0566054 ,  0.60217298,\n",
    "          2.21606323, -1.02851902, -0.56797192, -0.64263642,  0.95315636]"
   ]
  },
  {
   "cell_type": "code",
   "execution_count": null,
   "id": "14",
   "metadata": {
    "colab": {
     "base_uri": "https://localhost:8080/"
    },
    "id": "a2a3fe3c",
    "outputId": "d877b638-8eb9-4b14-860b-1d9086437a34"
   },
   "outputs": [],
   "source": [
    "n = 30\n",
    "\n",
    "theta_hat = np.mean(sample)\n",
    "theta_hat - z  / np.sqrt(n), theta_hat + z  / np.sqrt(n)"
   ]
  },
  {
   "cell_type": "markdown",
   "id": "15",
   "metadata": {
    "id": "82d9c79e"
   },
   "source": [
    "Отвергается ли гипотеза $\\mathsf{H}_0$ для данной выборки?\n",
    "\n",
    "**Ответ**: не отвергается\n",
    "\n",
    "Почему так произошло и как называетcя такая ошибка?\n"
   ]
  },
  {
   "cell_type": "markdown",
   "id": "16",
   "metadata": {
    "id": "76ec760e"
   },
   "source": [
    "**Ответ**:\n",
    "\n",
    "Из-за того, что истинное значение параметра $\\theta$ отлично от нуля $\\theta \\neq 0$, гипотеза $H_0: \\theta = 0$ должна быть отвергнута. Однако, по результатам применения нашего критерия гипотеза не была отвергнута. Такая ситуация характеризуется ошибкой второго рода, которая заключается в том, что мы не отвергли неверную нулевую гипотезу, когда на самом деле она должна была быть отвергнута."
   ]
  },
  {
   "cell_type": "markdown",
   "id": "17",
   "metadata": {
    "id": "a64abbc6"
   },
   "source": [
    "## Мощность критерия\n",
    "\n",
    "Теперь попробуем аналитически вывести мощность получившегося критерия. Для этого вспомним, что мощность является вероятностью выполнения критерия (т.е. $X \\in S$) в случае заведомой верности альтернативной гипотезы $\\mathsf{H}_1\\colon \\theta \\neq 0$.\n",
    "\n",
    "Для выборки из нормального распределения $\\mathcal{N}(\\theta, 1)$ посчитаем вероятность того, что $0$ не попадает в доверительный интервал $\\left(\\overline{X} - \\frac{z_{\\frac{1+\\alpha_{int}}{2}}}{\\sqrt{n}}, \\overline{X} + \\frac{z_{\\frac{1+\\alpha_{int}}{2}}}{\\sqrt{n}}\\right)$.\n",
    "\n",
    "$$P\\left( 0 \\notin \\left(\\overline{X} - \\frac{z_{\\frac{1+\\alpha_{int}}{2}}}{\\sqrt{n}}, \\overline{X} + \\frac{z_{\\frac{1+\\alpha_{int}}{2}}}{\\sqrt{n}}\\right)\\right) = P\\left( \\overline{X} \\notin \\left(- \\frac{z_{\\frac{1+\\alpha_{int}}{2}}}{\\sqrt{n}}, \\frac{z_{\\frac{1+\\alpha_{int}}{2}}}{\\sqrt{n}}\\right)\\right) = 1 - P\\left( \\overline{X} \\in \\left(- \\frac{z_{\\frac{1+\\alpha_{int}}{2}}}{\\sqrt{n}}, \\frac{z_{\\frac{1+\\alpha_{int}}{2}}}{\\sqrt{n}}\\right)\\right)$$\n",
    "\n",
    "Как уже упоминалось в задании выше, $\\overline{X}$ имеет распределение $\\mathcal{N}(\\theta, \\frac{1}{n})$. Зная этот факт, мы можем посчитать вероятность попасть в данный интервал с помощью функции распределения $F$ нормального распределения $\\mathcal{N}(\\theta, \\frac{1}{n})$. Введем также следующие обозначения: $\\alpha = 1-\\alpha_{int}$, $c=\\frac{z_{1-\\frac{\\alpha}{2}}}{\\sqrt{n}}$.\n",
    "\n",
    "$$P\\left( \\overline{X} \\leq - c\\right) = F(-c)$$\n",
    "$$P\\left( \\overline{X} \\leq c\\right) = F(c)$$\n",
    "$$P\\left( \\overline{X} \\in \\left(- c, c\\right)\\right) = F(c)-F(-c)$$\n",
    "\n",
    "И, следовательно, мощность нашего критерия принимает следующий вид: $$\\beta = 1 - F(с) +F(-с)$$\n",
    "\n",
    "где $F$ - функция распределения $\\overline{X}$."
   ]
  },
  {
   "cell_type": "markdown",
   "id": "18",
   "metadata": {
    "id": "b54726bc"
   },
   "source": [
    "Постройте график полученной мощности критерия для $\\theta \\in [-1, 1]$ при условии, что мы работаем с выборками из 30 элементов и уровнем значимости $0.05$."
   ]
  },
  {
   "cell_type": "code",
   "execution_count": null,
   "id": "19",
   "metadata": {
    "id": "33cc25e8"
   },
   "outputs": [],
   "source": [
    "# Функция для вычисления мощности построенного критерия\n",
    "def get_power(theta, n, c):\n",
    "    \"\"\"\n",
    "    param theta: значение параметра\n",
    "    param n: количество элементов выборки\n",
    "    param с: критическое значение\n",
    "\n",
    "    return beta - мощность критерия\n",
    "    \"\"\"\n",
    "    c = np.abs(c)\n",
    "\n",
    "    # Для подсчета значений функции распределения из beta вам понадобятся функции cdf и sf для распределений из scipy.stats\n",
    "    # ! Не забывайте, что параметр scale нормального распределения sps.norm принимает корень из дисперсии !\n",
    "    beta = 1 - sps.norm(loc = theta, scale = 1/np.sqrt(n)).cdf(c) + sps.norm(loc = theta, scale = 1/np.sqrt(n)).cdf(-c)\n",
    "\n",
    "    return beta"
   ]
  },
  {
   "cell_type": "code",
   "execution_count": null,
   "id": "20",
   "metadata": {
    "colab": {
     "base_uri": "https://localhost:8080/",
     "height": 447
    },
    "id": "acc085c9",
    "outputId": "a18b09ec-79b7-4a87-9c53-b9e7ed1cf882"
   },
   "outputs": [],
   "source": [
    "n = 30\n",
    "alpha = 0.05\n",
    "\n",
    "# Зададим сетку параметров theta\n",
    "grid = np.linspace(-1, 1, 200)\n",
    "\n",
    "c = sps.norm().ppf(1 - alpha/2)/np.sqrt(n)\n",
    "powers = get_power(grid, n, c)\n",
    "plt.plot(grid, powers)\n",
    "plt.show()"
   ]
  },
  {
   "cell_type": "markdown",
   "id": "21",
   "metadata": {
    "id": "8527da80"
   },
   "source": [
    "Какой вывод можно сделать из графика? Как изменяется значение мощности при удалении от точки $\\theta = 0$?"
   ]
  },
  {
   "cell_type": "markdown",
   "id": "22",
   "metadata": {
    "id": "9650b412"
   },
   "source": [
    "**Ответ**:\n",
    "\n",
    "При увеличении расстояния от точки $\\theta = 0$ мощность теста увеличивается, что означает, что вероятность отвергнуть нулевую гипотезу $H_0$ возрастает. Однако, при значении $\\theta = 0$ тест не будет отвергать нулевую гипотезу."
   ]
  },
  {
   "cell_type": "markdown",
   "id": "23",
   "metadata": {
    "id": "c158dfe5"
   },
   "source": [
    "## P-value\n",
    "\n",
    "На лекции вы узнали про p-value &mdash; это минимальный уровень значимости, при котором гипотеза еще может быть отвергнута:\n",
    "\n",
    "$$pvalue = min\\left\\{ \\alpha| X \\in S\\right\\}$$\n",
    "\n",
    "В нашем случае можно формула принимает следующий вид:\n",
    "$$pvalue = min\\left\\{ \\alpha\\:\\bigg|\\:0 \\notin \\left(\\overline{X} - \\frac{z_{1-\\frac{\\alpha}{2}}}{\\sqrt{n}}, \\overline{X} + \\frac{z_{1-\\frac{\\alpha}{2}}}{\\sqrt{n}}\\right)\\right\\}$$"
   ]
  },
  {
   "cell_type": "markdown",
   "id": "24",
   "metadata": {
    "id": "b4f10ece"
   },
   "source": [
    "Для имеющейся выборки постройте график факта отвержения нулевой гипотезы нашим критерием в зависимости от уровня значимости $\\alpha \\in (0, 1)$."
   ]
  },
  {
   "cell_type": "code",
   "execution_count": null,
   "id": "25",
   "metadata": {
    "id": "2d4ae8e4"
   },
   "outputs": [],
   "source": [
    "# Функция определяющая факт отвержения гипотезы\n",
    "# Выводит 0, если гипотеза была отвергнута, 1 - в противном случае\n",
    "def criterion(sample, alpha=0.05):\n",
    "    t = np.mean(sample)\n",
    "    n = len(sample)\n",
    "    z = sps.norm.ppf(1 - alpha/2)\n",
    "    return 1 - int(t - z  / np.sqrt(n) < 0 < t + z / np.sqrt(n))"
   ]
  },
  {
   "cell_type": "code",
   "execution_count": null,
   "id": "26",
   "metadata": {
    "colab": {
     "base_uri": "https://localhost:8080/",
     "height": 464
    },
    "id": "01a57b1a",
    "outputId": "17bc077d-8aed-47cb-c58c-75feddf968cd"
   },
   "outputs": [],
   "source": [
    "sample = [ 0.12452627,  0.95075805,  0.77166076, -1.45365582, -0.49410224,\n",
    "          1.66660296, -0.93194618, -0.42985368,  0.27260541,  1.46066343,\n",
    "          -1.31198164,  0.20520295,  3.19213611,  0.55957285,  0.50613194,\n",
    "          0.05689217, -0.8558408 ,  0.12584525,  0.73918692, -0.05739113,\n",
    "          0.76803961,  0.32823556,  0.05156772, -0.0566054 ,  0.60217298,\n",
    "          2.21606323, -1.02851902, -0.56797192, -0.64263642,  0.95315636]\n",
    "\n",
    "# Задаем сетку параметров alpha\n",
    "alphas = np.linspace(0, 1, 2000)\n",
    "\n",
    "# Создаем массив, в который будет записывать результат проверки гипотезы в зависимости от alpha\n",
    "is_rejected = []\n",
    "for alpha in alphas:\n",
    "  is_rejected.append(criterion(sample, alpha))\n",
    "\n",
    "plt.plot(alphas, is_rejected)"
   ]
  },
  {
   "cell_type": "markdown",
   "id": "27",
   "metadata": {
    "id": "e508146d"
   },
   "source": [
    "Выведите полученное значение p-value."
   ]
  },
  {
   "cell_type": "code",
   "execution_count": null,
   "id": "28",
   "metadata": {
    "colab": {
     "base_uri": "https://localhost:8080/"
    },
    "id": "d30f5653",
    "outputId": "ae9aa03f-25ab-47c3-e957-1190277c6b92"
   },
   "outputs": [],
   "source": [
    "alphas[is_rejected.index(1)]"
   ]
  },
  {
   "cell_type": "markdown",
   "id": "29",
   "metadata": {
    "id": "5d2cd160"
   },
   "source": [
    "# Критерий Вальда\n",
    "\n",
    "Вы провели эксперимент и получили данные из экспоненциального распределения."
   ]
  },
  {
   "cell_type": "code",
   "execution_count": null,
   "id": "30",
   "metadata": {
    "id": "288bb6c8"
   },
   "outputs": [],
   "source": [
    "sample = [0.11731702, 0.75253036, 0.32918642, 0.22823564, 0.04240622,\n",
    "          0.04239907, 0.01495969, 0.50280772, 0.22977054, 0.30781252,\n",
    "          0.00519983, 0.87588937, 0.44660739, 0.05967191, 0.05016975,\n",
    "          0.05065286, 0.09068843, 0.18598196, 0.14138427, 0.08605575,\n",
    "          0.23659272, 0.03755863, 0.08637888, 0.1140693 , 0.15223367,\n",
    "          0.384484  , 0.05568397, 0.18050729, 0.22437618, 0.01189096]"
   ]
  },
  {
   "cell_type": "markdown",
   "id": "31",
   "metadata": {
    "id": "3750724e"
   },
   "source": [
    "Вы хотите проверить, является ли это распределение с параметром $\\lambda=2$. Используя Критерий Вальда, сделайте вывод по данному предположению.\n",
    "\n",
    "## Двусторонняя альтернатива\n",
    "$X_1, ... X_n$ - выборка из распределения $Exp(\\theta)$.  \n",
    "Проверьте гипотезу $\\mathsf{H}_0\\colon \\theta = 2$ vs. $\\mathsf{H}_1\\colon \\theta \\neq 2$"
   ]
  },
  {
   "cell_type": "markdown",
   "id": "32",
   "metadata": {
    "id": "8c7b51b5"
   },
   "source": [
    "Из лекции вы узнали про критерий Вальда.\n",
    "Для случая двусторонней альтернативы $\\mathsf{H}_1\\colon \\theta \\neq \\theta_0$ критерий имел следующий вид:\n",
    "$$\\large{S = \\left\\{ \\left|\\sqrt{n} \\frac{\\hat{\\theta} - \\theta_0}{\\hat{\\sigma}} \\right| > z_{1 - \\frac{\\alpha}{2}} \\right\\}}$$\n",
    "\n",
    "где $\\hat{\\theta}$ &mdash; асимптотически нормальная оценка $\\theta$ с асимптотической дисперсией $\\sigma^2(\\theta)$,\n",
    "$\\hat{\\sigma}$ &mdash; состоятельная оценка $\\sigma(\\theta)$.  \n",
    "\n",
    "Эквивалентный асимптотичсекий доверительный интервал для параметра $\\theta$ уровня доверия $1-\\alpha$\n",
    "$$C = \\left( \\hat{\\theta} - \\frac{z_{1-\\alpha/2} \\hat{\\sigma}}{\\sqrt{n}}, \\hat{\\theta} + \\frac{z_{1-\\alpha/2} \\hat{\\sigma}}{\\sqrt{n}}\\right)$$\n",
    "\n",
    "На первой лекции вы получали, что $\\frac{1}{\\overline{X}}$ &mdash; АНО для параметра $\\theta$ c асимптотической дисперсией $\\theta^2$\n",
    "\n",
    "**Выпишите состоятельную оценку дисперсии и статистику критерия Вальда**\n"
   ]
  },
  {
   "cell_type": "markdown",
   "id": "33",
   "metadata": {
    "id": "2c159233"
   },
   "source": [
    "**Ответ:**  \n",
    "\n",
    "$\\hat{\\sigma}^2 = \\sigma^2(\\hat{\\theta}) = \\frac{1}{\\overline{X}^2}$"
   ]
  },
  {
   "cell_type": "markdown",
   "id": "34",
   "metadata": {
    "id": "2bc773b6"
   },
   "source": [
    "Первым шагом необходимо выставить уровень значимости, поставим $\\alpha = 0.05$"
   ]
  },
  {
   "cell_type": "code",
   "execution_count": null,
   "id": "35",
   "metadata": {
    "id": "be5cf61a"
   },
   "outputs": [],
   "source": [
    "alpha = 0.05\n",
    "theta = 2 # тета из основной гипотезы\n",
    "n = len(sample)"
   ]
  },
  {
   "cell_type": "markdown",
   "id": "36",
   "metadata": {
    "id": "70d59930"
   },
   "source": [
    "Посчитаем квантиль (критическое значение)"
   ]
  },
  {
   "cell_type": "code",
   "execution_count": null,
   "id": "37",
   "metadata": {
    "id": "79975154"
   },
   "outputs": [],
   "source": [
    "z = sps.norm.ppf(1 - alpha/2)"
   ]
  },
  {
   "cell_type": "markdown",
   "id": "38",
   "metadata": {
    "id": "8b7347e7"
   },
   "source": [
    "Посчитайте статистику, которую будете сравнивать с критическим значением. Выведите значение полученной статистики."
   ]
  },
  {
   "cell_type": "code",
   "execution_count": null,
   "id": "39",
   "metadata": {
    "colab": {
     "base_uri": "https://localhost:8080/"
    },
    "id": "e9151269",
    "outputId": "c93ea7a5-b199-496a-bba9-c0922f40daf3"
   },
   "outputs": [],
   "source": [
    "estimator = 1 / np.array(sample).mean()\n",
    "std = 1 / np.array(sample).mean()\n",
    "statistic = abs(np.sqrt(n) * (estimator - theta) / std)\n",
    "statistic"
   ]
  },
  {
   "cell_type": "markdown",
   "id": "40",
   "metadata": {
    "id": "053913f7"
   },
   "source": [
    "Сравним модуль статистики с критическим значением"
   ]
  },
  {
   "cell_type": "code",
   "execution_count": null,
   "id": "41",
   "metadata": {
    "colab": {
     "base_uri": "https://localhost:8080/"
    },
    "id": "abe37363",
    "outputId": "09f877d9-1f14-4ca7-dbc9-7081cd9275e2"
   },
   "outputs": [],
   "source": [
    "np.absolute(statistic) > z"
   ]
  },
  {
   "cell_type": "markdown",
   "id": "42",
   "metadata": {
    "id": "5b1c2f50"
   },
   "source": [
    "**Какой вывод можно сделать?**"
   ]
  },
  {
   "cell_type": "markdown",
   "id": "43",
   "metadata": {
    "id": "4818ef91"
   },
   "source": [
    "**Вывод:**\n",
    "\n",
    "Получается, что $X \\in S$. Значит мы отвергаем $H_0$ и тем самым отвергаем гипотезу $\\theta = 2$"
   ]
  },
  {
   "cell_type": "markdown",
   "id": "44",
   "metadata": {
    "id": "5ee180af"
   },
   "source": [
    "Посчитайте доверительный интервал"
   ]
  },
  {
   "cell_type": "code",
   "execution_count": null,
   "id": "45",
   "metadata": {
    "colab": {
     "base_uri": "https://localhost:8080/"
    },
    "id": "72dda5b6",
    "outputId": "69ac4648-ffd4-4a86-8c3f-0acf443dcf99"
   },
   "outputs": [],
   "source": [
    "C = (estimator - z * std / np.sqrt(n), estimator + z * std / np.sqrt(n))\n",
    "C"
   ]
  },
  {
   "cell_type": "markdown",
   "id": "46",
   "metadata": {
    "id": "74da1af1"
   },
   "source": [
    "**Какой вывод можно сделать?**"
   ]
  },
  {
   "cell_type": "markdown",
   "id": "47",
   "metadata": {
    "id": "7c3aa8c2"
   },
   "source": [
    "**Вывод:**\n",
    "\n",
    "Интервал оценки от 3.19 до 6.74, что представляет собой значительный разброс и может не обеспечивать точности оценки."
   ]
  },
  {
   "cell_type": "markdown",
   "id": "48",
   "metadata": {
    "id": "19db4215"
   },
   "source": [
    "На лекции вы узнали про p-value &mdash; это вероятность получить при справедливости $H_0$ такое значение статистики $t = T(x)$ или еще более экстремальное, то есть в случае двустороннего критерия\n",
    "$$p(x) = \\mathsf{P}_0(T(X) \\geq|t|) + \\mathsf{P}_0(T(X) \\leq -|t|)$$\n",
    "Посчитайте p-value. Для этого можно использовать функции из библиотеки `scipy.stats`."
   ]
  },
  {
   "cell_type": "code",
   "execution_count": null,
   "id": "49",
   "metadata": {
    "colab": {
     "base_uri": "https://localhost:8080/"
    },
    "id": "3c1d41a6",
    "outputId": "38ca6608-a70a-4d5f-83f2-8acbb1023aa8"
   },
   "outputs": [],
   "source": [
    "p_value = 2 * sps.norm.sf(statistic)\n",
    "p_value"
   ]
  },
  {
   "cell_type": "markdown",
   "id": "50",
   "metadata": {
    "id": "7516f137"
   },
   "source": [
    "Оформите подсчет статистики и  p-value в виде одной функции."
   ]
  },
  {
   "cell_type": "code",
   "execution_count": null,
   "id": "51",
   "metadata": {
    "id": "f5377845"
   },
   "outputs": [],
   "source": [
    "def wald_test_two_sided(sample, theta, estimation_theta, estimation_sigma):\n",
    "    \"\"\"\n",
    "    param sample: реализация выборки\n",
    "    param theta: истинное значение параметра\n",
    "    param estimation_theta: оценка параметра\n",
    "    param estimation_sigma: оценка асимптотической дисперсии оценки estimation_sigma\n",
    "\n",
    "    return statistic\n",
    "    return p_value\n",
    "    return conf_int - доверительный интервал\n",
    "    \"\"\"\n",
    "    alpha = 0.05\n",
    "\n",
    "    estimator = 1 / np.array(sample).mean()\n",
    "    std = 1 / np.array(sample).mean()\n",
    "    z = sps.norm.ppf(1 - alpha/2)\n",
    "\n",
    "    statistic = abs(np.sqrt(n) * (estimator - theta) / std)\n",
    "    conf_int = (estimator - z * std / np.sqrt(n), estimator + z * std / np.sqrt(n))\n",
    "    p_value = 2 * sps.norm.sf(statistic)\n",
    "\n",
    "    return statistic, p_value, conf_int"
   ]
  },
  {
   "cell_type": "markdown",
   "id": "52",
   "metadata": {
    "id": "6b69bc02"
   },
   "source": [
    "Теперь посмотрим на выборку меньших размеров"
   ]
  },
  {
   "cell_type": "code",
   "execution_count": null,
   "id": "53",
   "metadata": {
    "id": "edab7886"
   },
   "outputs": [],
   "source": [
    "sample_cut = [0.11731702, 0.75253036, 0.32918642, 0.22823564, 0.04240622,\n",
    "        0.04239907, 0.01495969, 0.50280772, 0.22977054, 0.30781252]"
   ]
  },
  {
   "cell_type": "markdown",
   "id": "54",
   "metadata": {
    "id": "a1e23fef"
   },
   "source": [
    "Выведите статистику, p-value и доверительный интервал. Какой вывод можно сделать из полученных значений?"
   ]
  },
  {
   "cell_type": "code",
   "execution_count": null,
   "id": "55",
   "metadata": {
    "colab": {
     "base_uri": "https://localhost:8080/"
    },
    "id": "62b0c429",
    "outputId": "5904fc9e-f302-4663-83b9-897f11bc740b"
   },
   "outputs": [],
   "source": [
    "theta = 1 / np.array(sample_cut).mean()\n",
    "estimation_theta = 1 / np.array(sample_cut).mean()\n",
    "estimation_sigma = 1 / np.array(sample_cut).mean()\n",
    "\n",
    "statistic, p_value, conf_int = wald_test_two_sided(sample_cut, theta, estimation_theta, estimation_sigma)\n",
    "\n",
    "print(\"Статистика:\", statistic)\n",
    "print(\"p-value:\", p_value)\n",
    "print(\"Доверительный интервал:\", conf_int)"
   ]
  },
  {
   "cell_type": "markdown",
   "id": "56",
   "metadata": {
    "id": "b3d3d8f5"
   },
   "source": [
    "**Вывод:**\n",
    "\n",
    "1. Статистика теста равна 0.0. Получается, что оценка параметра и его истинное значение совпадают или очень близки друг к другу.\n",
    "\n",
    "2. p-value равно 1.0. Это означает, что нет статистически значимых доказательств в пользу отклонения нулевой гипотезы. В данном случае нулевая гипотеза обычно заключается в том, что оценка параметра равна его истинному значению. Таким образом, у нас нет оснований отклонить нулевую гипотезу.\n",
    "\n",
    "3. Доверительный интервал (2.501, 5.289) указывает на то, что с 95% вероятностью истинное значение параметра лежит в этом интервале.\n",
    "\n",
    "**Итог:**\n",
    "\n",
    "Оценка параметра, полученная на основе данной выборки, достаточно близка к его истинному значению. Также не существует статистически значимых доказательств в пользу того, что оценка параметра значимо отличается от его истинного значения."
   ]
  }
 ],
 "metadata": {
  "colab": {
   "provenance": []
  },
  "kernelspec": {
   "display_name": "Python 3 (ipykernel)",
   "language": "python",
   "name": "python3"
  },
  "language_info": {
   "codemirror_mode": {
    "name": "ipython",
    "version": 3
   },
   "file_extension": ".py",
   "mimetype": "text/x-python",
   "name": "python",
   "nbconvert_exporter": "python",
   "pygments_lexer": "ipython3",
   "version": "3.9.6"
  }
 },
 "nbformat": 4,
 "nbformat_minor": 5
}
