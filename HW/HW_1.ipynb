{
 "cells": [
  {
   "cell_type": "code",
   "execution_count": null,
   "id": "0",
   "metadata": {
    "id": "201535e099620c9e",
    "jupyter": {
     "outputs_hidden": false
    }
   },
   "outputs": [],
   "source": [
    "import pandas as pd\n",
    "import numpy as np\n",
    "import scipy.stats as sps\n",
    "import matplotlib.pyplot as plt\n",
    "import seaborn as sns\n",
    "from scipy.stats import norm\n",
    "sns.set(style='white')\n",
    "\n",
    "%matplotlib inline"
   ]
  },
  {
   "cell_type": "markdown",
   "id": "1",
   "metadata": {
    "id": "86baa84724f44155",
    "jupyter": {
     "outputs_hidden": false
    }
   },
   "source": [
    "Для выполнения задания вы можете установить свою палитру цветов при отрисовке графиков с помощью кода ниже. Если введете несуществующее имя, то вам напечатается список возможных палитр. Также вы можете устанавливать свои цвета конкретным объектам на графиках, обычно это делается с помощью аргумента `color`."
   ]
  },
  {
   "cell_type": "code",
   "execution_count": null,
   "id": "2",
   "metadata": {
    "id": "c4b46d031f2067f0",
    "jupyter": {
     "outputs_hidden": false
    }
   },
   "outputs": [],
   "source": [
    "sns.set_palette('Set2')"
   ]
  },
  {
   "cell_type": "markdown",
   "id": "3",
   "metadata": {
    "id": "dc45818ba6e1aabb",
    "jupyter": {
     "outputs_hidden": false
    }
   },
   "source": [
    "<b><i><font color=\"blue\">Легкая часть</font></i></b>\n",
    "\n",
    "### Задача 1\n",
    "Изобразите график параметрически заданной функции. Переменные необходимо задавать с помощью Numpy.\n",
    "\n",
    "$$ x=\\alpha\\times\\left(\\cos t+\\frac{cos(\\beta t)}{\\beta}\\right)$$\n",
    "\n",
    "$$y=\\alpha\\times\\left(\\sin t−\\frac{sin(\\beta t)}{\\beta}\\right)$$\n",
    "\n",
    "$$t∈[0;20π]$$\n",
    "\n",
    "1. Реализуйте функции $x(t, \\alpha, \\beta)$ и $y(t, \\alpha, \\beta)$"
   ]
  },
  {
   "cell_type": "code",
   "execution_count": null,
   "id": "4",
   "metadata": {
    "id": "92d2c2014ca1c2d9",
    "jupyter": {
     "outputs_hidden": false
    }
   },
   "outputs": [],
   "source": [
    "t = np.linspace(0, 20 * np.pi, 1000)\n",
    "\n",
    "def X (t, a, b):\n",
    "  return np.array(a * (np.cos(t) + (np.cos(b * t)/b)))\n",
    "\n",
    "def Y (t, a, b):\n",
    "  return np.array(a * (np.sin(t) - (np.sin(b * t)/b)))"
   ]
  },
  {
   "cell_type": "markdown",
   "id": "5",
   "metadata": {
    "id": "fe87111deb25b35a",
    "jupyter": {
     "outputs_hidden": false
    }
   },
   "source": [
    "2. Постройте график в осях $x$ и $y$ при $\\alpha=4$ и $\\beta=1.1$. Подпишите оси."
   ]
  },
  {
   "cell_type": "code",
   "execution_count": null,
   "id": "6",
   "metadata": {
    "colab": {
     "base_uri": "https://localhost:8080/",
     "height": 482
    },
    "id": "d0e2bebef19a02e8",
    "jupyter": {
     "outputs_hidden": false
    },
    "outputId": "3254068f-7ac9-411e-b607-caf3b81dc431"
   },
   "outputs": [],
   "source": [
    "a, b = 4, 1.1\n",
    "\n",
    "plt.plot(X(t, a, b), Y(t, a, b))\n",
    "\n",
    "plt.xlabel('x')\n",
    "plt.ylabel('y')\n",
    "plt.title(fr'$\\alpha = {a}$, $\\beta = {b}$')\n",
    "\n",
    "plt.grid()\n",
    "plt.show()"
   ]
  },
  {
   "cell_type": "markdown",
   "id": "7",
   "metadata": {
    "id": "68dc5613c723e494",
    "jupyter": {
     "outputs_hidden": false
    }
   },
   "source": [
    "3. Постройте графики для различных значений $\\alpha$ и $\\beta$.  \n",
    "- $\\alpha$ : [2, 4, 6, 8, 10]  \n",
    "- $\\beta$ : [1.2, 1.8, 2, 5, 10]  \n",
    "\n",
    "У вас должна получиться сетка 5х5 графиков. На каждом графике укажите параметры $\\alpha$ и $\\beta$."
   ]
  },
  {
   "cell_type": "code",
   "execution_count": null,
   "id": "8",
   "metadata": {
    "colab": {
     "base_uri": "https://localhost:8080/",
     "height": 1000
    },
    "id": "92e68d3275f94a38",
    "jupyter": {
     "outputs_hidden": false
    },
    "outputId": "b09d5089-8c3b-4e49-ec21-e1f6a48dd2a7"
   },
   "outputs": [],
   "source": [
    "a = np.array([2, 4, 6, 8, 10])\n",
    "b = np.array([1.2, 1.8, 2, 5, 10])\n",
    "\n",
    "fig, axis = plt.subplots(5, 5, figsize=(30, 30))\n",
    "\n",
    "for i in range(5):\n",
    "  for j in range(5):\n",
    "    axis[i, j].plot(X(t, a[i], b[j]), Y(t, a[i], b[j]))\n",
    "    axis[i, j].set_title(fr'$\\alpha = {a[i]}$, $\\beta = {b[j]}$')\n",
    "    axis[i, j].grid()\n",
    "    axis[i, j].set_xlabel('x')\n",
    "    axis[i, j].set_ylabel('y')\n",
    "\n",
    "plt.show()"
   ]
  },
  {
   "cell_type": "markdown",
   "id": "9",
   "metadata": {
    "id": "175af4df8208c92e",
    "jupyter": {
     "outputs_hidden": false
    }
   },
   "source": [
    "### Задача 2\n",
    "\n",
    "Для выполнения задания выберите любой профиль, в течении 1-2 недель его можно поменять.\n",
    "\n",
    "**Профиль биология**\n",
    "\n",
    "Скачайте <a href=\"https://www.kaggle.com/ruslankl/mice-protein-expression\n",
    "\">датасет</a> с данными об экспрессии белков у белых мышей. Данный датасет состоит из таблицы значений уровней экспрессии 77 различных белков в мозге у мышей. Каждая строка соответствует одной особи, каждый столбец соответствует одному белку. На столбцы Genotype, Treatment и подобные пока не обращаем внимания.\n",
    "\n",
    "Для исследования рекомендуется выбрать столбцы 'ITSN1_N', 'DYRK1A_N', 'pBRAF_N', 'pCREB_N', но можно взять и другие.\n",
    "\n",
    "**Профиль физика**\n",
    "\n",
    "Скачайте <a href=\"https://www.kaggle.com/fedesoriano/cern-electron-collision-data\n",
    "\">датасет</a> с данными о столкновении электронов на Большом Адронном Коллайдере.\n",
    "\n",
    "Данный датасет  содержит информацию о событиях столкновения двух электронов. Он состоит из таблицы различных параметров столкновений. Каждая строка соответствует одному столкновению, каждый столбец соответствует одному параметру. Например, в столбцах E1, E2 записаны значения энергии сталкивающихся электронов, в столбцах px1, py1, pz1, px2, py2, pz2 — значения моментов импульса, в столбцах Q1, Q2 $-$ заряды электронов.\n",
    "\n",
    "Для исследования рекомендуется выбрать столбцы 'E2', 'px2', 'eta2', 'phi2'. Все эти столбцы — некоторые параметры второго электрона. Можно взять и другие столбцы.\n",
    "\n",
    "----\n",
    "\n",
    "Чтобы скачать данные, зарегистрируйтесь на сайте, после нажмите download на странице датасета и распакуйте скачанный архив. Вы получите файл формата `csv`.\n",
    "\n",
    "Если вы работаете в Google Colab, можно загрузить полученный файл в разделе \"Файлы\" (значок папки) на левой панели."
   ]
  },
  {
   "cell_type": "code",
   "execution_count": null,
   "id": "10",
   "metadata": {
    "colab": {
     "base_uri": "https://localhost:8080/"
    },
    "id": "JtBhA_Wn_6X0",
    "outputId": "f4d36cca-6a8c-4e0b-afe4-77dfd0390315"
   },
   "outputs": [],
   "source": [
    "!unzip /content/archive.zip"
   ]
  },
  {
   "cell_type": "code",
   "execution_count": null,
   "id": "11",
   "metadata": {
    "colab": {
     "base_uri": "https://localhost:8080/"
    },
    "id": "nVmyFOE_ASux",
    "outputId": "0abe1f91-61c2-4ca6-bfdf-0c5fc22453b3"
   },
   "outputs": [],
   "source": [
    "!ls"
   ]
  },
  {
   "cell_type": "code",
   "execution_count": null,
   "id": "12",
   "metadata": {
    "id": "65c4a2ada4a16c1e",
    "jupyter": {
     "outputs_hidden": false
    }
   },
   "outputs": [],
   "source": [
    "# эта функция читает данные, в кавычках укажите путь к файлу на вашем компьютере или в Colab\n",
    "df = pd.read_csv(\"./Data_Cortex_Nuclear.csv\")\n",
    "#df = pd.read_csv(\"./dielectron.csv\")"
   ]
  },
  {
   "cell_type": "markdown",
   "id": "13",
   "metadata": {
    "id": "f8bbf2f6361e2e8c",
    "jupyter": {
     "outputs_hidden": false
    }
   },
   "source": [
    "Посмотрим на первые строки этой таблицы."
   ]
  },
  {
   "cell_type": "code",
   "execution_count": null,
   "id": "14",
   "metadata": {
    "colab": {
     "base_uri": "https://localhost:8080/",
     "height": 236
    },
    "id": "bd02d2cc29656a22",
    "jupyter": {
     "outputs_hidden": false
    },
    "outputId": "f54155a0-d881-440d-c91e-1ce9fa636a69"
   },
   "outputs": [],
   "source": [
    "df.head()"
   ]
  },
  {
   "cell_type": "markdown",
   "id": "15",
   "metadata": {
    "id": "4955c2f7b37949af",
    "jupyter": {
     "outputs_hidden": false
    }
   },
   "source": [
    "Выберите несколько (3-6) столбцов для анализа значений в них."
   ]
  },
  {
   "cell_type": "code",
   "execution_count": null,
   "id": "16",
   "metadata": {
    "colab": {
     "base_uri": "https://localhost:8080/"
    },
    "id": "MG6A8EAhAhWb",
    "outputId": "26f78f1b-b692-41c0-acf2-727e8d8c1976"
   },
   "outputs": [],
   "source": [
    "df.columns"
   ]
  },
  {
   "cell_type": "code",
   "execution_count": null,
   "id": "17",
   "metadata": {
    "id": "af078646c72e3409",
    "jupyter": {
     "outputs_hidden": false
    }
   },
   "outputs": [],
   "source": [
    "# укажите столбцы данных\n",
    "# Пример: columns = ['ITSN1_N', ...]\n",
    "columns = ['P3525_N', 'ITSN1_N', 'BDNF_N', 'NR1_N', 'NR2A_N', 'pAKT_N']\n",
    "\n",
    "df_chosen_columns = df[columns]\n",
    "\n",
    "#Одномерный массив значений одного признака (например, 'math score') можно получить так:\n",
    "#df_chosen_columns['math score']"
   ]
  },
  {
   "cell_type": "markdown",
   "id": "18",
   "metadata": {
    "id": "d43e696ea3fe1c34",
    "jupyter": {
     "outputs_hidden": false
    }
   },
   "source": [
    "#### Гистограммы\n",
    "\n",
    "Для каждого из выбранных признаков нарисуйте гистограмму распределения. Для этого воспользуйтесь функцией `matplotlib.pyplot.hist`.\n",
    "\n",
    "*Примечание.* В анализе данных обычно используется слово \"признак\" для обозначения исследуемого свойства объекта. Например, для биологического датасета признаком является белок.\n"
   ]
  },
  {
   "cell_type": "code",
   "execution_count": null,
   "id": "19",
   "metadata": {
    "colab": {
     "base_uri": "https://localhost:8080/",
     "height": 511
    },
    "id": "9bc617e7870601d3",
    "jupyter": {
     "outputs_hidden": false
    },
    "outputId": "f8337dcb-7971-498c-d434-54f473e8e55e"
   },
   "outputs": [],
   "source": [
    "fig, axis = plt.subplots(1, len(columns), figsize=(30, 6))\n",
    "\n",
    "for i, column in enumerate(columns):\n",
    "    axis[i].hist(df[column], bins=20)\n",
    "    axis[i].set_title(column)\n",
    "\n",
    "plt.show()"
   ]
  },
  {
   "cell_type": "markdown",
   "id": "20",
   "metadata": {
    "id": "51cba22c05b7f99b",
    "jupyter": {
     "outputs_hidden": false
    }
   },
   "source": [
    "Выбросы — значения, которые сильно отличаются от большинства значений выборки. Они могут возникать из-за ошибки измерения, из-за необычной природы входных данных, но также могут быть и частью распределения.\n",
    "\n",
    "По гистограммам предположите, в каких из исследуемых признаков могут быть выбросы?"
   ]
  },
  {
   "cell_type": "markdown",
   "id": "21",
   "metadata": {
    "id": "504a5b73d161e27f",
    "jupyter": {
     "outputs_hidden": false
    }
   },
   "source": [
    "**Ответ:** В P3525_N, ITSN1_N, NR1_N, NR2A_N, pAKT_N имеются незначительные маленькие отстоящие от основного распределения пики, которые можно отнести к выбросам."
   ]
  },
  {
   "cell_type": "markdown",
   "id": "22",
   "metadata": {
    "id": "59323313c3f47905",
    "jupyter": {
     "outputs_hidden": false
    }
   },
   "source": [
    "Выбросы могут сильно портить внешний вид графика.\n",
    "\n",
    "Продемонстрируем это на примере. Сгенерируем выборку размера 1000 из стандартного нормального распределения и построим по ней гистограмму. В библиотеке `scipy` это можно сделать с помощью метода `rvs`"
   ]
  },
  {
   "cell_type": "code",
   "execution_count": null,
   "id": "23",
   "metadata": {
    "colab": {
     "base_uri": "https://localhost:8080/",
     "height": 527
    },
    "id": "64a820aa4491e56e",
    "jupyter": {
     "outputs_hidden": false
    },
    "outputId": "ca85f2bf-7d85-4e83-f046-58d40afc5150"
   },
   "outputs": [],
   "source": [
    "sample = sps.norm.rvs(size=1000)\n",
    "\n",
    "plt.figure(figsize=(15, 6))\n",
    "plt.hist(sample, bins=20, range=(-3, 4));"
   ]
  },
  {
   "cell_type": "markdown",
   "id": "24",
   "metadata": {
    "id": "ab3637f37a437eed",
    "jupyter": {
     "outputs_hidden": false
    }
   },
   "source": [
    "Как видим, большая часть значений находятся в промежутке от -3 до 3.\n",
    "\n",
    "Теперь добавим выброс — очень большое значение, которое могло появиться, например, в результате ошибок измерения. Допустим, что выброс — первое измерение."
   ]
  },
  {
   "cell_type": "code",
   "execution_count": null,
   "id": "25",
   "metadata": {
    "colab": {
     "base_uri": "https://localhost:8080/",
     "height": 527
    },
    "id": "1163c28a5a462e3d",
    "jupyter": {
     "outputs_hidden": false
    },
    "outputId": "c433b601-fe17-4f3a-8c9d-6b7ce88803c4"
   },
   "outputs": [],
   "source": [
    "outlier = 50\n",
    "sample[0] = outlier\n",
    "\n",
    "plt.figure(figsize=(15, 6))\n",
    "plt.hist(sample, bins=20);"
   ]
  },
  {
   "cell_type": "markdown",
   "id": "26",
   "metadata": {
    "id": "a170e0917f646a07",
    "jupyter": {
     "outputs_hidden": false
    }
   },
   "source": [
    "По такому графику уже нельзя сделать предположение о распределении выборки.\n",
    "Также обратите внимание, что большая часть графика пустая, что говорит о неинформативности данного графика.\n",
    "\n",
    "Эту проблему с графиками можно решить с помощью параметра `range`, который определяет, в каких границах строится гистограмма."
   ]
  },
  {
   "cell_type": "code",
   "execution_count": null,
   "id": "27",
   "metadata": {
    "colab": {
     "base_uri": "https://localhost:8080/",
     "height": 527
    },
    "id": "61817ae89a502a2b",
    "jupyter": {
     "outputs_hidden": false
    },
    "outputId": "8f58d41c-baed-46b0-a0da-0ff5882c8461"
   },
   "outputs": [],
   "source": [
    "plt.figure(figsize=(15, 6))\n",
    "plt.hist(sample, bins=20, range=(-3, 4));"
   ]
  },
  {
   "cell_type": "markdown",
   "id": "28",
   "metadata": {
    "id": "b8180b9ba9ec6054",
    "jupyter": {
     "outputs_hidden": false
    }
   },
   "source": [
    "Проделайте то же самое с теми столбцам, в которых, как вы считаете, есть выбросы.\n",
    "\n",
    "В словаре `ranges_without_outliers` укажите, в каких пределах, по вашему мнению, стоит нарисовать гистограмму распределения для каждого признака."
   ]
  },
  {
   "cell_type": "markdown",
   "id": "29",
   "metadata": {
    "id": "63fb7d4eb289623c",
    "jupyter": {
     "outputs_hidden": false
    }
   },
   "source": [
    "Пример заполнения словаря на ячейке ниже.\n",
    "\n",
    "Здесь мы считаем, что для признака `column1` большая часть значений находится в промежутке от -1 до 5, а все значения за пределами этого промежутка — выбросы.\n",
    "Мы хотим нарисовать информативный график для гистограммы значений признака `column1`, поэтому гистограмму будем строить только на основе значений из промежутка (-1, 5)\n",
    "\n",
    "Аналогично для признака `column2`"
   ]
  },
  {
   "cell_type": "code",
   "execution_count": null,
   "id": "30",
   "metadata": {
    "id": "5050aefab7459e21",
    "jupyter": {
     "outputs_hidden": false
    }
   },
   "outputs": [],
   "source": [
    "ranges_without_outliers_example = {\n",
    "    'column1' : (-1, 5),\n",
    "    'column2' : (0, 3)\n",
    "}"
   ]
  },
  {
   "cell_type": "markdown",
   "id": "31",
   "metadata": {
    "id": "b8f70ad1495a45ea",
    "jupyter": {
     "outputs_hidden": false
    }
   },
   "source": [
    "Аналогично определите интервалы для исследуемых признаков"
   ]
  },
  {
   "cell_type": "code",
   "execution_count": null,
   "id": "32",
   "metadata": {
    "colab": {
     "base_uri": "https://localhost:8080/",
     "height": 511
    },
    "id": "a88a60ea8661023e",
    "jupyter": {
     "outputs_hidden": false
    },
    "outputId": "fe0858de-dd01-4db6-a5a6-f7c22534341b"
   },
   "outputs": [],
   "source": [
    "ranges_without_outliers = {\n",
    "    'P3525_N': (0.2, 0.4),\n",
    "    'ITSN1_N': (0.3, 0.8),\n",
    "    'NR1_N': (1, 3.2),\n",
    "    'NR2A_N': (2.2, 5.7),\n",
    "    'pAKT_N': (0.15, 0.3),\n",
    "}\n",
    "\n",
    "fig, axes = plt.subplots(1, len(ranges_without_outliers), figsize=(30, 6))\n",
    "\n",
    "for i, (column, column_range) in enumerate(ranges_without_outliers.items()):\n",
    "    axes[i].hist(df[column], range=column_range, bins=20)\n",
    "    axes[i].set_title(column + ' distribution')\n",
    "\n",
    "plt.show()"
   ]
  },
  {
   "cell_type": "markdown",
   "id": "33",
   "metadata": {
    "id": "f89ece0299361714",
    "jupyter": {
     "outputs_hidden": false
    }
   },
   "source": [
    "**Сделайте выводы**\n",
    "\n",
    "Изменилась ли форма распределений, стали ли графики информативнее?"
   ]
  },
  {
   "cell_type": "markdown",
   "id": "34",
   "metadata": {
    "id": "dc48111bcb7d9578",
    "jupyter": {
     "outputs_hidden": false
    }
   },
   "source": [
    "**Ответ:** Заметно, что новые графики стали более информатиными и содержательными по сравнению с предыдущими. Они позволяют лучше выделить характерные особенности данных, хотя некоторые \"выдающиеся\", скажем так, значения все еще остаются заметными."
   ]
  },
  {
   "cell_type": "markdown",
   "id": "35",
   "metadata": {
    "id": "54a7b1b500ab2f68",
    "jupyter": {
     "outputs_hidden": false
    }
   },
   "source": [
    "#### Ядерные оценки плотности\n",
    "\n",
    "Иногда гистограммы недостаточно, чтобы понять, какое у распределение у элементов выборки. В таких случаях можно использовать ядерные оценки плотности.\n",
    "\n",
    "В библиотеке `seaborn` они представлены функциями `distplot` (в версиях до `0.11.1`), `kdeplot` (начиная с версии `0.11.1`)"
   ]
  },
  {
   "cell_type": "code",
   "execution_count": null,
   "id": "36",
   "metadata": {
    "colab": {
     "base_uri": "https://localhost:8080/",
     "height": 36
    },
    "id": "547dbc45ab9fa2d4",
    "jupyter": {
     "outputs_hidden": false
    },
    "outputId": "c7c6c327-23ef-4413-e42e-3fc174f2d021"
   },
   "outputs": [],
   "source": [
    "sns.__version__"
   ]
  },
  {
   "cell_type": "markdown",
   "id": "37",
   "metadata": {
    "id": "127e87215d0946cf",
    "jupyter": {
     "outputs_hidden": false
    }
   },
   "source": [
    "Пример для нормального распределения с выбросом."
   ]
  },
  {
   "cell_type": "code",
   "execution_count": null,
   "id": "38",
   "metadata": {
    "colab": {
     "base_uri": "https://localhost:8080/",
     "height": 718
    },
    "id": "5d68e2300d258d2b",
    "jupyter": {
     "outputs_hidden": false
    },
    "outputId": "2e39c5e7-4a1d-462c-c0b3-4663b61df8ee"
   },
   "outputs": [],
   "source": [
    "plt.figure(figsize=(15, 6))\n",
    "sns.distplot(sample, bins=20);"
   ]
  },
  {
   "cell_type": "markdown",
   "id": "39",
   "metadata": {
    "id": "15ea4f1942074d04",
    "jupyter": {
     "outputs_hidden": false
    }
   },
   "source": [
    "Видно, что, даже несмотря на \"хвост\", плотность основной части данных довольно похожа на плотность нормального распределения. Теперь нарисуем этот же график для выборки без выброса.\n",
    "\n",
    "Для наглядности на этом же графике нарисуем плотность стандартного нормального распределения. В библиотеке `scipy` плотность распределения называется `pdf`."
   ]
  },
  {
   "cell_type": "code",
   "execution_count": null,
   "id": "40",
   "metadata": {
    "colab": {
     "base_uri": "https://localhost:8080/",
     "height": 740
    },
    "id": "679c8b86efffc381",
    "jupyter": {
     "outputs_hidden": false
    },
    "outputId": "74f7a88c-18c4-4cdf-b4cd-cac7de4c4501"
   },
   "outputs": [],
   "source": [
    "# уберем выброс\n",
    "sample_wo_ourliers = sample[1:]\n",
    "\n",
    "# сетка от -4 до 4 из 1000 значений\n",
    "grid = np.linspace(-4, 4, 1000)\n",
    "# считаем значения функции в выборке\n",
    "norm_pdf_values = sps.norm.pdf(grid)\n",
    "\n",
    "# отрисовка графика\n",
    "plt.figure(figsize=(15, 6))\n",
    "sns.distplot(sample_wo_ourliers, bins=20, kde_kws={\"label\": \"KDE\", \"linewidth\": 2})\n",
    "plt.plot(grid, norm_pdf_values, label='Плотность $\\\\mathcal{N}(0,1)$', lw=2)\n",
    "plt.title('Сравнение оценки плотности с истинной')\n",
    "plt.legend();"
   ]
  },
  {
   "cell_type": "markdown",
   "id": "41",
   "metadata": {
    "id": "2b5c4cf25846d073",
    "jupyter": {
     "outputs_hidden": false
    }
   },
   "source": [
    "Однако ядерные оценки плотности тоже не универсальны.\n",
    "Рассмотрим пример экспоненциального распределения.\n",
    "\n",
    "Сгенерируйте выборку размера 100 из экспоненциального распределения $\\textit{Exp(1)}$. Для этого воспользуйтесь функцией `sps.expon.rvs`."
   ]
  },
  {
   "cell_type": "code",
   "execution_count": null,
   "id": "42",
   "metadata": {
    "id": "6a274f3577a98811",
    "jupyter": {
     "outputs_hidden": false
    }
   },
   "outputs": [],
   "source": [
    "sample = sps.expon.rvs(size = 100)"
   ]
  },
  {
   "cell_type": "markdown",
   "id": "43",
   "metadata": {
    "id": "456f8bf228cea1b0",
    "jupyter": {
     "outputs_hidden": false
    }
   },
   "source": [
    "Посчитайте значения плотности этого распределения на промежутке от 0 до 6."
   ]
  },
  {
   "cell_type": "code",
   "execution_count": null,
   "id": "44",
   "metadata": {
    "colab": {
     "base_uri": "https://localhost:8080/"
    },
    "id": "80624fc5e1543cf2",
    "jupyter": {
     "outputs_hidden": false
    },
    "outputId": "f89d1835-3b9d-4707-b2ea-b639b8303f7a"
   },
   "outputs": [],
   "source": [
    "x = np.linspace(0, 6, 1000)\n",
    "pdf_val = sps.expon.pdf(x)\n",
    "print(pdf_val)"
   ]
  },
  {
   "cell_type": "markdown",
   "id": "45",
   "metadata": {
    "id": "8bf82a1b38b582e",
    "jupyter": {
     "outputs_hidden": false
    }
   },
   "source": [
    "Нарисуйте гистограмму и ядерную оценку плотности для выборки из сгененированного экспоненциального распределения."
   ]
  },
  {
   "cell_type": "code",
   "execution_count": null,
   "id": "46",
   "metadata": {
    "colab": {
     "base_uri": "https://localhost:8080/",
     "height": 480
    },
    "id": "2ab8a80ba9d739b5",
    "jupyter": {
     "outputs_hidden": false
    },
    "outputId": "edb9e21d-bee5-4845-bcc8-4c02f3f2f855"
   },
   "outputs": [],
   "source": [
    "plt.hist(sample, bins = 20, density = True, alpha = 0.7, label = 'Гистограмма')\n",
    "sns.kdeplot(sample, label = 'KDE')\n",
    "\n",
    "plt.xlabel('Значения')\n",
    "plt.ylabel('Плотность')\n",
    "plt.title('Гистограмма и KDE')\n",
    "\n",
    "plt.legend()\n",
    "plt.show()"
   ]
  },
  {
   "cell_type": "markdown",
   "id": "47",
   "metadata": {
    "id": "b3a2b9ed00a4f5c6",
    "jupyter": {
     "outputs_hidden": false
    }
   },
   "source": [
    "Как вы думаете, почему ядерная оценка плотности так плохо приближает реальную плотность распределения?\n",
    "\n",
    "**Ответ:** Возможно что из-за недостаточного объема данных или наличия выбросов (что видно из гистограммы)."
   ]
  },
  {
   "cell_type": "markdown",
   "id": "48",
   "metadata": {
    "id": "aefffd0a1238ea23",
    "jupyter": {
     "outputs_hidden": false
    }
   },
   "source": [
    "Нарисуйте гистограммы и ядерные оценки плотности для исследуемых признаков"
   ]
  },
  {
   "cell_type": "code",
   "execution_count": null,
   "id": "49",
   "metadata": {
    "colab": {
     "base_uri": "https://localhost:8080/",
     "height": 1000
    },
    "id": "a6fe56a769800739",
    "jupyter": {
     "outputs_hidden": false
    },
    "outputId": "c6627c44-28d4-4fc5-f523-e3d5e627017e"
   },
   "outputs": [],
   "source": [
    "for column, column_range in ranges_without_outliers.items():\n",
    "    plt.figure(figsize=(15, 6))\n",
    "\n",
    "    # фильтрация значений внутри заданного промежутка\n",
    "    filtered_values = df[(df[column] >= column_range[0]) & (df[column] <= column_range[1])][column]\n",
    "\n",
    "    sns.distplot(filtered_values, bins = 20)\n",
    "\n",
    "    plt.title('Оценка распределения ' + column)\n",
    "    plt.xlabel('Значения')\n",
    "    plt.ylabel('Плотность')\n",
    "\n",
    "    plt.show()"
   ]
  },
  {
   "cell_type": "markdown",
   "id": "50",
   "metadata": {
    "id": "ea2e8698ef3e0113",
    "jupyter": {
     "outputs_hidden": false
    }
   },
   "source": [
    "**Сделайте выводы.** Какой из двух видов графиков более нагляден для данных выборки? Какими свойствами должно обладать распределение признака, чтобы ядерная оценка плотности, полученная по выборке, была похожа на настоящую плотность?"
   ]
  },
  {
   "cell_type": "markdown",
   "id": "51",
   "metadata": {
    "id": "76d08123b9be5f94",
    "jupyter": {
     "outputs_hidden": false
    }
   },
   "source": [
    "**Вывод:** Так как мы работаем с дискретным набором данный, то гистограмма показалась мне более информативной. Также явно видно, какие значения чаще встречаются. Хотя KDE позволяет выделить особенности распределения.\n",
    "Для того, тобы KDE, полученная по выборке, была похожа на насточщую плотность, распределение признака должно обладать такими свойствами, как: непрерывность, большой объем данных и отсутсвие выбросов."
   ]
  },
  {
   "cell_type": "markdown",
   "id": "52",
   "metadata": {
    "id": "4f7a9fbf4017d23a",
    "jupyter": {
     "outputs_hidden": false
    }
   },
   "source": [
    "Здесь мы \"избавились\" от выбросов для того, чтобы понять, как распределена бОльшая часть выборки.\n",
    "\n",
    "Но нужно понимать, что избавляться от выбросов при анализе данных стоит не всегда.\n",
    "Прежде, чем удалять выбросы из выборки, хорошо бы понимать:\n",
    "1. **Какая цель исследования**. Например, если мы хотим узнать, как хорошо \"средний\" студент МФТИ решает задачи по теории вероятностей, результаты лучших студентов на потоке не сильно проясняют ситуацию и затрудняют анализ. Такие результаты нужно выкинуть. Если же надо отобрать студентов на стажировку для аналитиков данных, хорошие результаты не только не нужно отсеивать, но и нужно анализировать дополнительно.\n",
    "2. **Почему** отличающееся значение могло появиться в выборке. Это случайность / ошибка в измерениях / следствие какого-то еще фактора? Возможно, удаление отличающегося элемента лишит нас важных знаний о природе исследуемых данных.\n",
    "\n"
   ]
  },
  {
   "cell_type": "markdown",
   "id": "53",
   "metadata": {
    "id": "37aaaf42fc4d6ba4",
    "jupyter": {
     "outputs_hidden": false
    }
   },
   "source": [
    "**Приведите примеры исследований**, в которых нужно/не нужно удалять выбросы в данных:\n",
    "\n",
    "**Нужно удалять выбросы:**\n",
    "\n",
    "1) В финансовом анализе, так как возможны аномальные рыночные условия, которые будут мешать при построении моделей и предсказаний.\n",
    "\n",
    "2) Всякие промышленные процессы, где выбросы могут быть связаны с дефектами оборудования или другими любыми проблемами при производстве.\n",
    "\n",
    "3) В медицинских данных. Хотя, на мой взгляд, это зависит от конкретной задачи. Конечно, работая с данными экспрессии генов, это было необходимо для построения более точной модели в будущем. Но если же мы рассматриваем, например, данные об уровне боли у пациентов после операции, то нам будет важно обратить внимание на все факторы, вызывающие боль (что может как раз и являться выбросом).\n",
    "\n",
    "**Не нужно удалять выбросы:**\n",
    "\n",
    "1) В логистике, например данные, связанные с авариями, строительством дорог и т.д., что может повлиять на планирование будющей инфраструктуры и т.д.\n",
    "\n",
    "2) В социологических исследованиях, так как могут быть потеряны интересные таргетные группы."
   ]
  },
  {
   "cell_type": "markdown",
   "id": "54",
   "metadata": {
    "id": "e68558bbb07b2be1",
    "jupyter": {
     "outputs_hidden": false
    }
   },
   "source": [
    "**Сделайте выводы по всей задаче:**\n",
    "\n",
    "1. Гистограмма хорошо подходит для анализа дискретного набора данных. С помощью нее легко увидеть какие значения чаще всего встречаются. Также она хорошо подходит для анализа большиз объемов данных.\n",
    "\n",
    "2. KDE позволяет увидеть непрерывные распределения данных без зависимости от выбора интервалов (преимущество передгистограммой, так как при ее построении мы должны указывать значение bins, т.е. интервала). Также KDE позволяет выделить особенности распределения.\n",
    "\n",
    "3. При анализе данных необходимо учитывать выбросы и исходя из задачи делать выводы об их важности."
   ]
  },
  {
   "cell_type": "markdown",
   "id": "55",
   "metadata": {
    "id": "e225181827844121",
    "jupyter": {
     "outputs_hidden": false
    }
   },
   "source": [
    "### Задача 3\n",
    "\n",
    "В этой задаче нужно визуализировать *центральную предельную теорему*.\n",
    "\n",
    "\n",
    "\n",
    "*a).* Пусть $\\xi_1, ..., \\xi_n$ — независимые случайные величины из распределения $Exp(\\lambda)$. Согласно центральной предельной теореме выполнена сходимость $Z_n = \\frac{X_n - \\mathsf{E}X_n}{\\sqrt{\\mathsf{D}X_n}} \\stackrel{d}{\\to} \\mathcal{N}(0, 1)$, где $X_n = \\sum\\limits_{i=1}^n \\xi_i$. Вам нужно убедиться в этом, сгенерировав множество наборов случайных величин и посчитав по каждому из наборов величину $Z_n$ в зависимости от размера набора.\n",
    "\n",
    "Сгенерируйте 500 наборов случайных величин $\\xi_1^j, ..., \\xi_{300}^j$ из распределения $Exp(1)$."
   ]
  },
  {
   "cell_type": "code",
   "execution_count": null,
   "id": "56",
   "metadata": {
    "colab": {
     "base_uri": "https://localhost:8080/"
    },
    "id": "102d19524560a895",
    "jupyter": {
     "outputs_hidden": false
    },
    "outputId": "ef43323f-379e-4b9c-d81f-6107449635fb"
   },
   "outputs": [],
   "source": [
    "size = 300  # размер выборки\n",
    "samples_count = 1000 # количество выборок\n",
    "\n",
    "sample = sps.expon.rvs(size = (samples_count, size))\n",
    "print(sample)"
   ]
  },
  {
   "cell_type": "markdown",
   "id": "57",
   "metadata": {
    "id": "7ba8d90d172f1a1b",
    "jupyter": {
     "outputs_hidden": false
    }
   },
   "source": [
    "По каждому из них посчитайте сумму $X_{jn} = \\sum\\limits_{i=1}^n \\xi_i^j$ для $1 \\leqslant n \\leqslant 300$, то есть сумма первых $n$ величин $j$-го набора."
   ]
  },
  {
   "cell_type": "code",
   "execution_count": null,
   "id": "58",
   "metadata": {
    "colab": {
     "base_uri": "https://localhost:8080/"
    },
    "id": "3ec97a1af7e88f71",
    "jupyter": {
     "outputs_hidden": false
    },
    "outputId": "814fd6bf-e17d-41b1-b30f-a3bd5d16e697"
   },
   "outputs": [],
   "source": [
    "sums = np.cumsum(sample, axis = 1)\n",
    "print(sums)"
   ]
  },
  {
   "cell_type": "markdown",
   "id": "59",
   "metadata": {
    "id": "a55a25e43ceba861",
    "jupyter": {
     "outputs_hidden": false
    }
   },
   "source": [
    "Для этого среднего посчитайте величину $Z_{jn} = \\frac{X_{jn} - \\mathsf{E}X_{jn}}{\\sqrt{\\mathsf{D}X_{jn}}}$.\n",
    "\n",
    "*Подсказка: можно воспользоваться возможностями библиотеки `numpy`.*"
   ]
  },
  {
   "cell_type": "code",
   "execution_count": null,
   "id": "60",
   "metadata": {
    "colab": {
     "base_uri": "https://localhost:8080/"
    },
    "id": "db9eb686927357",
    "jupyter": {
     "outputs_hidden": false
    },
    "outputId": "188446be-8131-458d-d696-cf0d00cad305"
   },
   "outputs": [],
   "source": [
    "Z_jn = np.zeros((samples_count, size))\n",
    "\n",
    "for i in range(samples_count):\n",
    "    X = sums[i, :]\n",
    "    n = np.arange(1, size + 1)\n",
    "\n",
    "    D = n\n",
    "    E = n\n",
    "\n",
    "    Z_jn[i, :] = (X - E) / np.sqrt(D)\n",
    "\n",
    "print(Z_jn)"
   ]
  },
  {
   "cell_type": "markdown",
   "id": "61",
   "metadata": {
    "id": "a33ecd5bcd2cf82c",
    "jupyter": {
     "outputs_hidden": false
    }
   },
   "source": [
    "Для каждого $j$ нанесите на один график зависимость $Z_{jn}$ от $n$ с помощью `plt.plot`. Каждая кривая должна быть нарисована *одним цветом* с прозрачностью `alpha=0.05`. Сходятся ли значения $Z_{jn}$ к какой-либо константе?"
   ]
  },
  {
   "cell_type": "code",
   "execution_count": null,
   "id": "62",
   "metadata": {
    "colab": {
     "base_uri": "https://localhost:8080/",
     "height": 482
    },
    "id": "14ffd9de409ec7c8",
    "jupyter": {
     "outputs_hidden": false
    },
    "outputId": "19905eef-f7f9-4d48-8def-1aeb1dec876e"
   },
   "outputs": [],
   "source": [
    "for j in range(samples_count):\n",
    "    plt.plot(np.arange(1, size + 1), Z_jn[j, :], alpha = 0.05, color = 'blue')\n",
    "\n",
    "plt.xlabel('n')\n",
    "plt.ylabel(r'$Z_{jn}$')\n",
    "plt.title(r'Зависимость $Z_{jn}$ от n для каждого j')\n",
    "\n",
    "plt.grid()\n",
    "plt.show()"
   ]
  },
  {
   "cell_type": "markdown",
   "id": "63",
   "metadata": {
    "id": "6693c3c8d14e9f19",
    "jupyter": {
     "outputs_hidden": false
    }
   },
   "source": [
    "\n",
    "Для $n=300$ по набору случайных величин $Z_{1,300}, ..., Z_{500,300}$ постройте гистограмму. Похожа ли она на плотность распределения $\\mathcal{N}(0, 1)$, которую тоже постройте на том же графике? Не забудьте сделать легенду (подписи на графиках, см. семинар и туториалы)."
   ]
  },
  {
   "cell_type": "code",
   "execution_count": null,
   "id": "64",
   "metadata": {
    "colab": {
     "base_uri": "https://localhost:8080/",
     "height": 484
    },
    "id": "28fc89fb4b59bc08",
    "jupyter": {
     "outputs_hidden": false
    },
    "outputId": "ee8a821a-1efa-4edb-fe8d-18331197533f"
   },
   "outputs": [],
   "source": [
    "Z_300 = Z_jn[:, 299]\n",
    "\n",
    "plt.hist(Z_300, bins = 30, density = True, alpha = 0.7, label = 'Гистограмма')\n",
    "\n",
    "x = np.linspace(-3, 3, 1000)\n",
    "plt.plot(x, norm.pdf(x, loc = 0, scale = 1), label = 'N(0, 1)')\n",
    "\n",
    "plt.xlabel(r'$Z_{300}$')\n",
    "plt.ylabel('Плотность')\n",
    "plt.title(r'Гистограмма для $Z_{300}$ и N(0, 1)')\n",
    "\n",
    "plt.legend()\n",
    "plt.grid()\n",
    "plt.show()"
   ]
  },
  {
   "cell_type": "markdown",
   "id": "65",
   "metadata": {
    "id": "12dec92075dc9729",
    "jupyter": {
     "outputs_hidden": false
    }
   },
   "source": [
    "\n",
    "\n",
    "\n",
    "\n",
    "\n",
    "*b).* Выполните те же действия для распределения $Pois(1)$.\n",
    "\n",
    "\n",
    "Сделайте вывод о смысле центральной предельной теоремы. Подтверждают ли сделанные эксперименты теоретические свойства?"
   ]
  },
  {
   "cell_type": "code",
   "execution_count": null,
   "id": "66",
   "metadata": {
    "colab": {
     "base_uri": "https://localhost:8080/"
    },
    "id": "l-kPEWMwO8Vr",
    "outputId": "b7f1f6fb-c6fc-49c7-8565-214b8f5e4afc"
   },
   "outputs": [],
   "source": [
    "size_poiss = 300  # размер выборки\n",
    "samples_count_poiss = 500 # количество выборок\n",
    "\n",
    "sample_poiss = sps.poisson.rvs(mu = 1, size = (samples_count_poiss, size_poiss))\n",
    "print(sample_poiss)"
   ]
  },
  {
   "cell_type": "code",
   "execution_count": null,
   "id": "67",
   "metadata": {
    "colab": {
     "base_uri": "https://localhost:8080/"
    },
    "id": "0tIXGqwiPASt",
    "outputId": "36d0d557-7257-4f2c-c0bd-63d4e172ee48"
   },
   "outputs": [],
   "source": [
    "sums_poiss = np.cumsum(sample_poiss, axis = 1)\n",
    "print(sums)"
   ]
  },
  {
   "cell_type": "code",
   "execution_count": null,
   "id": "68",
   "metadata": {
    "colab": {
     "base_uri": "https://localhost:8080/"
    },
    "id": "-hUwJ9a1PFgE",
    "outputId": "f173e403-13b1-49b4-ae32-39fb18e02f5e"
   },
   "outputs": [],
   "source": [
    "Z_jn_poiss = np.zeros((samples_count, size_poiss))\n",
    "\n",
    "for i in range(samples_count):\n",
    "    X = sums[i, :]\n",
    "    n = np.arange(1, size_poiss + 1)\n",
    "\n",
    "    D_poiss = n\n",
    "    E_poiss = n\n",
    "\n",
    "    Z_jn_poiss[i, :] = (X - E_poiss) / np.sqrt(D_poiss)\n",
    "\n",
    "print(Z_jn_poiss)"
   ]
  },
  {
   "cell_type": "code",
   "execution_count": null,
   "id": "69",
   "metadata": {
    "colab": {
     "base_uri": "https://localhost:8080/",
     "height": 482
    },
    "id": "0KyLXOELPGAw",
    "outputId": "695ea627-5d2e-4114-96cc-d351a1ca782e"
   },
   "outputs": [],
   "source": [
    "for j in range(samples_count_poiss):\n",
    "    plt.plot(np.arange(1, size + 1), Z_jn_poiss[j, :], alpha = 0.05, color = 'blue')\n",
    "\n",
    "plt.xlabel('n')\n",
    "plt.ylabel(r'$Z_{jn}$')\n",
    "plt.title(r'Зависимость $Z_{jn}$ от n для каждого j')\n",
    "\n",
    "plt.grid()\n",
    "plt.show()"
   ]
  },
  {
   "cell_type": "code",
   "execution_count": null,
   "id": "70",
   "metadata": {
    "colab": {
     "base_uri": "https://localhost:8080/",
     "height": 484
    },
    "id": "z89POsZsPIy1",
    "outputId": "3ecaea52-fe91-4853-9e9c-a40e22c0ae79"
   },
   "outputs": [],
   "source": [
    "Z_300_poiss = Z_jn_poiss[:, 299]\n",
    "\n",
    "plt.hist(Z_300_poiss, bins = 30, density = True, alpha = 0.7, label = 'Гистограмма')\n",
    "\n",
    "x = np.linspace(-3, 3, 1000)\n",
    "plt.plot(x, norm.pdf(x, loc = 0, scale = 1), label = 'N(0, 1)')\n",
    "\n",
    "plt.xlabel(r'$Z_{300}$')\n",
    "plt.ylabel('Плотность')\n",
    "plt.title(r'Гистограмма для $Z_{300}$ и N(0, 1)')\n",
    "\n",
    "plt.legend()\n",
    "plt.grid()\n",
    "plt.show()"
   ]
  },
  {
   "cell_type": "markdown",
   "id": "71",
   "metadata": {
    "id": "0Q-aiX7KUqr8"
   },
   "source": [
    "**Вывод:** На данных примерах нам удалось наглядно продемонстрировать ЦПТ, т.е. мы увидели, что если у нас есть много независимых случайных величин, то сумма или среднее этих величин будет приближаться к нормальному распределению $N(0,1)$, даже если сами эти величины имеют разные распределения."
   ]
  },
  {
   "cell_type": "markdown",
   "id": "72",
   "metadata": {
    "id": "4137b9376a8ff1d6",
    "jupyter": {
     "outputs_hidden": false
    }
   },
   "source": [
    "<b><i><font color=\"orange\">Сложная часть</font></i></b>\n",
    "\n",
    "### Задача 4:\n",
    "\n",
    "Ссылка на контест в боте."
   ]
  },
  {
   "cell_type": "markdown",
   "id": "73",
   "metadata": {
    "id": "54819d2e18fc260a",
    "jupyter": {
     "outputs_hidden": false
    }
   },
   "source": [
    "### Задача 5:\n",
    "\n",
    "Ссылка на контест в боте.\n"
   ]
  }
 ],
 "metadata": {
  "colab": {
   "provenance": []
  },
  "kernelspec": {
   "display_name": "Python 3 (ipykernel)",
   "language": "python",
   "name": "python3"
  },
  "language_info": {
   "codemirror_mode": {
    "name": "ipython",
    "version": 3
   },
   "file_extension": ".py",
   "mimetype": "text/x-python",
   "name": "python",
   "nbconvert_exporter": "python",
   "pygments_lexer": "ipython3",
   "version": "3.11.5"
  }
 },
 "nbformat": 4,
 "nbformat_minor": 5
}
