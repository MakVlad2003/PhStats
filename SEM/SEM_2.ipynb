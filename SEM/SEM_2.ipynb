{
 "cells": [
  {
   "cell_type": "code",
   "execution_count": null,
   "metadata": {
    "id": "8JlOdESNuJ1C"
   },
   "outputs": [],
   "source": [
    "import numpy as np\n",
    "import pandas as pd\n",
    "\n",
    "import matplotlib.pyplot as plt\n",
    "import seaborn as sns\n",
    "sns.set(font_scale=1.3)"
   ]
  },
  {
   "cell_type": "markdown",
   "metadata": {
    "id": "FQysyWdCuJ1E"
   },
   "source": [
    "### Линейная регрессия: практика\n",
    "Перед началом работы догрузим необходимые нам функции\n",
    "\n"
   ]
  },
  {
   "cell_type": "code",
   "execution_count": null,
   "metadata": {
    "id": "JMEKxeA4uJ1F"
   },
   "outputs": [],
   "source": [
    "from sklearn.datasets import load_diabetes\n",
    "from sklearn.model_selection import train_test_split\n",
    "from sklearn.linear_model import LinearRegression"
   ]
  },
  {
   "cell_type": "markdown",
   "metadata": {
    "id": "A008UXmcuJ1G"
   },
   "source": [
    "Рассмотрим данные исследования 2004 года о зависимости риска развития диабета от пола, возраста, индекса массы тела, среднего кровяного давления и других показателей.\n",
    "\n"
   ]
  },
  {
   "cell_type": "markdown",
   "metadata": {
    "id": "4duH9s9QuJ1G"
   },
   "source": [
    "#### Загрузка данных"
   ]
  },
  {
   "cell_type": "code",
   "execution_count": null,
   "metadata": {
    "colab": {
     "base_uri": "https://localhost:8080/",
     "height": 206
    },
    "id": "_6d1KbzBuJ1G",
    "outputId": "e3af5072-008e-4fbd-dc10-d62a2d219633"
   },
   "outputs": [],
   "source": [
    "data = load_diabetes()\n",
    "df = pd.DataFrame(data.data, columns = data.feature_names)\n",
    "df.head()"
   ]
  },
  {
   "cell_type": "markdown",
   "metadata": {
    "id": "Gl2WIaTWuJ1H"
   },
   "source": [
    "Функция `sklearn.datasets.load_diabetes()` возвращает словарь. В поле `data` записана матрица регрессоров, в которой данные предварительно центрированы и нормированы. В поле `target` записана мера прогрессирования заболевания в течении года. В поле `DESCR` можно прочитать подробнее о данных."
   ]
  },
  {
   "cell_type": "markdown",
   "metadata": {
    "id": "4uWT1Nu4uJ1H"
   },
   "source": [
    "Посмотрим на описание датасета."
   ]
  },
  {
   "cell_type": "code",
   "execution_count": null,
   "metadata": {
    "colab": {
     "base_uri": "https://localhost:8080/"
    },
    "id": "_DWPzTQuuJ1H",
    "outputId": "80fd0295-57c9-4810-8147-0730709126f5"
   },
   "outputs": [],
   "source": [
    "print(data['DESCR'])"
   ]
  },
  {
   "cell_type": "markdown",
   "metadata": {
    "id": "iuzp_G-DuJ1I"
   },
   "source": [
    "Поле `data` содержит матрицу размера 442 $\\times$ 10, где 442 — количество пациентов, а 10 — количество признаков (возраст, пол, и т.д.).\n",
    "Строки матрицы соответствуют пациентам, столбцы — признакам."
   ]
  },
  {
   "cell_type": "code",
   "execution_count": null,
   "metadata": {
    "colab": {
     "base_uri": "https://localhost:8080/"
    },
    "id": "CuJhgD_OuJ1I",
    "outputId": "6377ecb8-0d26-4b0b-ca24-dcb9a3bade67"
   },
   "outputs": [],
   "source": [
    "data['data'].shape"
   ]
  },
  {
   "cell_type": "markdown",
   "metadata": {
    "id": "z4iE0G2buJ1J"
   },
   "source": [
    "Целевая переменная $-$ мера прогрессирования заболевания в течении года."
   ]
  },
  {
   "cell_type": "code",
   "execution_count": null,
   "metadata": {
    "colab": {
     "base_uri": "https://localhost:8080/"
    },
    "id": "ePqSbgH2uJ1J",
    "outputId": "3eb16e49-fb55-4944-c1ce-fceb9c020f72"
   },
   "outputs": [],
   "source": [
    "data['target'].shape"
   ]
  },
  {
   "cell_type": "markdown",
   "metadata": {
    "id": "xbzq8rvquJ1J"
   },
   "source": [
    "Создайте матрицу регрессоров $X$ (data) и столбец наблюдений $y$ (целевая переменная)."
   ]
  },
  {
   "cell_type": "code",
   "execution_count": null,
   "metadata": {
    "colab": {
     "base_uri": "https://localhost:8080/"
    },
    "id": "510mNxe8uJ1J",
    "outputId": "e9d988ef-3363-4839-f5cd-9df023c352a7"
   },
   "outputs": [],
   "source": [
    "X, y = df.values, data.target\n",
    "\n",
    "print(X.shape, y.shape)"
   ]
  },
  {
   "cell_type": "markdown",
   "metadata": {
    "id": "i4hrSz3QuJ1J"
   },
   "source": [
    "#### Обучение моделей\n",
    "\n",
    "Разбейте данные случайно на две части — обучающую и тестовую в соотношении 80:20.\n",
    "\n",
    "Если что-то забыли или что-то не понятно, можно почитать справку: https://scikit-learn.org/stable/modules/generated/sklearn.model_selection.train_test_split.html"
   ]
  },
  {
   "cell_type": "markdown",
   "metadata": {
    "id": "AefTLYzHuJ1K"
   },
   "source": [
    "При разбиении датасета стоит зафиксировать случайность для воспроизводимости результатов, поставив `random_state=42` в функцию разбиения (можете ставить любое число, необязательно именно 42)"
   ]
  },
  {
   "cell_type": "code",
   "execution_count": null,
   "metadata": {
    "colab": {
     "base_uri": "https://localhost:8080/"
    },
    "id": "iY1QWczGuJ1K",
    "outputId": "4f81706c-91ee-42a3-c885-0fd8ec38b64c"
   },
   "outputs": [],
   "source": [
    "X_train, X_test, y_train, y_test = train_test_split(X, y, test_size = 0.2, random_state = 42)\n",
    "\n",
    "print(X_train.shape, X_test.shape, y_train.shape, y_test.shape)"
   ]
  },
  {
   "cell_type": "markdown",
   "metadata": {
    "id": "FQk1AV_6uJ1K"
   },
   "source": [
    "Заведите модель линейной регрессии из `sklearn` и обучите ее по обучающей части данных."
   ]
  },
  {
   "cell_type": "code",
   "execution_count": null,
   "metadata": {
    "colab": {
     "base_uri": "https://localhost:8080/",
     "height": 74
    },
    "id": "TYfIrsPouJ1K",
    "outputId": "6dc3cd7f-bfe0-46a9-9ec6-f9a6c5d63832"
   },
   "outputs": [],
   "source": [
    "model = LinearRegression(fit_intercept = True)  # объявляем модель\n",
    "model.fit(X_train, y_train)  # обучаем"
   ]
  },
  {
   "cell_type": "markdown",
   "metadata": {
    "id": "KA6EqnKvuJ1K"
   },
   "source": [
    "Посмотрите на результат обучения. Выведите коэффициенты перед признаками и свободный коэффициент."
   ]
  },
  {
   "cell_type": "code",
   "execution_count": null,
   "metadata": {
    "colab": {
     "base_uri": "https://localhost:8080/"
    },
    "id": "XJNSE_z1uJ1K",
    "outputId": "c98c0689-7ab9-44e7-ec67-08c43c1aa247"
   },
   "outputs": [],
   "source": [
    "print(\"Веса: \", model.coef_)\n",
    "print(\"Свободный член: \", model.intercept_)"
   ]
  },
  {
   "cell_type": "markdown",
   "metadata": {
    "id": "EFo1BxdruJ1K"
   },
   "source": [
    "Выполните предсказание модели на тестовой выборке."
   ]
  },
  {
   "cell_type": "code",
   "execution_count": null,
   "metadata": {
    "id": "SMFRoAoXuJ1L"
   },
   "outputs": [],
   "source": [
    "y_pred = model.predict(X_test)"
   ]
  },
  {
   "cell_type": "markdown",
   "metadata": {
    "id": "3ihsL6SyuJ1L"
   },
   "source": [
    "Реализуйте метрики MSE, MAE, MAPE без использования `sklearn` и других готовых реализаций."
   ]
  },
  {
   "cell_type": "markdown",
   "metadata": {
    "id": "mwifE8KkuJ1L"
   },
   "source": [
    "Пусть $Y_1, ..., Y_n$ &mdash; истинные значения, а $\\widehat{Y}_1, ..., \\widehat{Y}_n$ &mdash; предсказания.\n",
    "\n",
    "\n",
    "Метрика MSE (mean squared error) определяется как\n",
    "$$MSE = \\frac{1}{n}\\sum_{i=1}^n \\left(Y_i - \\widehat{Y}_i\\right)^2.$$"
   ]
  },
  {
   "cell_type": "markdown",
   "metadata": {
    "id": "V9x6tx_uuJ1L"
   },
   "source": [
    "Метрика **MAE** (*mean absolute error*), определяемая как\n",
    "$$MAE = \\frac{1}{n}\\sum_{i=1}^n \\left|Y_i - \\widehat{Y}_i\\right|.$$"
   ]
  },
  {
   "cell_type": "markdown",
   "metadata": {
    "id": "8GuWHRUeuJ1L"
   },
   "source": [
    "Метрика **MAPE** (*mean absolute percentage error*), определяемая как\n",
    "$$MAPE = 100\\% \\cdot \\frac{1}{n}\\sum_{i=1}^n \\frac{\\left|Y_i - \\widehat{Y}_i\\right|}{Y_i}.$$\n"
   ]
  },
  {
   "cell_type": "code",
   "execution_count": null,
   "metadata": {
    "id": "CFUqBbrTuJ1L"
   },
   "outputs": [],
   "source": [
    "def mean_squared_error(y_true, y_pred):\n",
    "    return sum([(y_pred[i] - y_true[i])**2 for i in range(len(y_pred))])/len(y_pred)\n",
    "\n",
    "def mean_absolute_error(y_true, y_pred):\n",
    "    return sum([abs(y_pred[i] - y_true[i]) for i in range(len(y_pred))])/len(y_pred)\n",
    "\n",
    "def mean_absolute_percentage_error(y_true, y_pred):\n",
    "    return sum([abs(y_pred[i] - y_true[i])/y_true[i] for i in range(len(y_pred))])/len(y_pred) * 100"
   ]
  },
  {
   "cell_type": "markdown",
   "metadata": {
    "id": "zpYh1uOLuJ1M"
   },
   "source": [
    "Посчитайте MSE, MAE, MAPE на тестовой выборке и выведите с точностью до трех знаков после запятой."
   ]
  },
  {
   "cell_type": "code",
   "execution_count": null,
   "metadata": {
    "colab": {
     "base_uri": "https://localhost:8080/"
    },
    "id": "yIQszHqhuJ1M",
    "outputId": "66f23516-32ad-47d8-e739-134f25451e39"
   },
   "outputs": [],
   "source": [
    "MSE = mean_squared_error(y_test, y_pred)\n",
    "MAE = mean_absolute_error(y_test, y_pred)\n",
    "MAPE = mean_absolute_percentage_error(y_test, y_pred)\n",
    "\n",
    "print(f'MSE: {MSE:.3f}')\n",
    "print(f'MAE: {MAE:.3f}')\n",
    "print(f'MAPE: {MAPE:.3f}')"
   ]
  },
  {
   "cell_type": "markdown",
   "metadata": {
    "id": "2mOQ_M6-uJ1M"
   },
   "source": [
    "### Различные разбиения"
   ]
  },
  {
   "cell_type": "markdown",
   "metadata": {
    "id": "mUhemTMpuJ1M"
   },
   "source": [
    "Разбейте данные на тренировочную и тестовую выборки еще раз: измените пераметр `random_state`. Для каждого из разбиений обучите модель и получите метрики качества. Меняются ли эти метрики, если менять разбиение данных?"
   ]
  },
  {
   "cell_type": "code",
   "execution_count": null,
   "metadata": {
    "id": "s2SW07lfuJ1M"
   },
   "outputs": [],
   "source": [
    "mse = []\n",
    "mae = []\n",
    "mape = []\n",
    "for state in [1, 495, 324, 8, 0, 900]:\n",
    "\n",
    "    # разбиение данных\n",
    "    X_train, X_test, y_train, y_test = train_test_split(X, y, test_size = 0.2, random_state = state)\n",
    "\n",
    "    # обучение модели\n",
    "    model = LinearRegression(fit_intercept = True)\n",
    "    model.fit(X_train, y_train)\n",
    "\n",
    "    # предсказание модели\n",
    "    y_pred = model.predict(X_test)\n",
    "\n",
    "    # подсчет метрики на тестовой выборке\n",
    "    mse.append(mean_squared_error(y_test, y_pred))\n",
    "    mae.append(mean_absolute_error(y_test, y_pred))\n",
    "    mape.append(mean_absolute_percentage_error(y_test, y_pred))"
   ]
  },
  {
   "cell_type": "code",
   "execution_count": null,
   "metadata": {
    "colab": {
     "base_uri": "https://localhost:8080/"
    },
    "id": "SMAiF0UquJ1M",
    "outputId": "4b5b0225-a311-4f02-d42a-822ee1f83e88"
   },
   "outputs": [],
   "source": [
    "mse, mae, mape"
   ]
  },
  {
   "cell_type": "markdown",
   "metadata": {
    "id": "IZoUunhpuJ1N"
   },
   "source": [
    "**Вывод:** выбор случайного разбиения данных влияет на оценки производительности модели."
   ]
  }
 ],
 "metadata": {
  "colab": {
   "provenance": []
  },
  "kernelspec": {
   "display_name": "sber",
   "language": "python",
   "name": "python3"
  },
  "language_info": {
   "codemirror_mode": {
    "name": "ipython",
    "version": 3
   },
   "file_extension": ".py",
   "mimetype": "text/x-python",
   "name": "python",
   "nbconvert_exporter": "python",
   "pygments_lexer": "ipython3",
   "version": "3.11.6"
  }
 },
 "nbformat": 4,
 "nbformat_minor": 0
}
