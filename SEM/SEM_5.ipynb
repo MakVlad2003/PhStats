{
 "cells": [
  {
   "cell_type": "markdown",
   "metadata": {
    "id": "UHnthIXoGzmy"
   },
   "source": [
    "## Свойства оценок"
   ]
  },
  {
   "cell_type": "code",
   "execution_count": null,
   "metadata": {
    "id": "ndEYtj3bcRhF"
   },
   "outputs": [],
   "source": [
    "import numpy as np\n",
    "import matplotlib.pyplot as plt\n",
    "from matplotlib.lines import Line2D\n",
    "import scipy.stats as sps\n",
    "import seaborn as sns\n",
    "sns.set(font_scale=1.5)"
   ]
  },
  {
   "cell_type": "markdown",
   "metadata": {
    "id": "aiqNNbQdcRhQ"
   },
   "source": [
    "###   1. Несмещенность оценок\n",
    "\n",
    "Пусть $X_1, ..., X_n$ &mdash; выборка из распределения $U[0, \\theta]$. Рассмотрим оценки $X_{(n)}, \\frac{n+1}{n}X_{(n)}, 2\\overline{X}$ параметра $\\theta$.\n",
    "Как известно из теории, оценки $\\frac{n+1}{n}X_{(n)}, 2\\overline{X}$ являются *несмещенными*. В то время как, оценка  $X_{(n)}$ таким ствойством не обладает. Давайте визуализируем данные свойства оценок."
   ]
  },
  {
   "cell_type": "markdown",
   "metadata": {
    "id": "AQHcmOr8cRhQ"
   },
   "source": [
    "Реализуем выборку из равномерного распределения размером `sample_size`=100."
   ]
  },
  {
   "cell_type": "code",
   "execution_count": null,
   "metadata": {
    "id": "5JoJRXcEcRhQ"
   },
   "outputs": [],
   "source": [
    "sample_size = 100\n",
    "X = sps.uniform.rvs(size = sample_size)"
   ]
  },
  {
   "cell_type": "markdown",
   "metadata": {
    "id": "b4wmITktcRhR"
   },
   "source": [
    "В этом случае мы сгенерировали выборку из распределения $U[0, 1]$.\n"
   ]
  },
  {
   "cell_type": "markdown",
   "metadata": {
    "id": "eTSaPvKIcRhR"
   },
   "source": [
    "Реализуйте три функции, каждая из которых на вход берет несколько выборок, а на выход выдает массив оценок  \n",
    "(первая функция - $X_{(n)}$, вторая функция - $\\frac{n+1}{n}X_{(n)}$, третья функция - $2\\overline{X}$)  для каждой выборки."
   ]
  },
  {
   "cell_type": "code",
   "execution_count": null,
   "metadata": {
    "id": "yhU9CTfGcRhR"
   },
   "outputs": [],
   "source": [
    "def estimate_X_n(X):\n",
    "    \"\"\"\n",
    "    Принимает на вход массив размером (n_samples, sample_size), выдает массив оценок размера (n_samples,)\n",
    "    \"\"\"\n",
    "    return np.max(X, axis = 1)\n",
    "\n",
    "def estimate_X_n_corrected(X):\n",
    "    \"\"\"\n",
    "    Принимает на вход массив размером (n_samples, sample_size), выдает массив оценок размера (n_samples,)\n",
    "    \"\"\"\n",
    "    n_samples, sample_size = X.shape\n",
    "    return (sample_size + 1) / sample_size * np.max(X, axis = 1)\n",
    "\n",
    "def estimate_2_mean(X):\n",
    "    \"\"\"\n",
    "    Принимает на вход массив размером (n_samples, sample_size), выдает массив оценок размера (n_samples,)\n",
    "    \"\"\"\n",
    "    return 2 * np.mean(X, axis = 1)"
   ]
  },
  {
   "cell_type": "markdown",
   "metadata": {
    "id": "khGxlI4mcah4"
   },
   "source": [
    "Проверим, что ваши функции реализованы корректно (ячейка не должна выдавать ошибок)."
   ]
  },
  {
   "cell_type": "code",
   "execution_count": null,
   "metadata": {
    "id": "gdlAXYgIcRhR"
   },
   "outputs": [],
   "source": [
    "X = np.array([[1, 3, 3902, 6], [2, 5, 69751, 89]])\n",
    "\n",
    "assert(sum(estimate_X_n(X) != np.array(( 3902, 69751))) == 0)\n",
    "assert(sum(estimate_X_n_corrected(X) != np.array((4877.5 ,87188.75))) == 0)\n",
    "assert(sum(estimate_2_mean(X) != np.array([ 1956. , 34923.5])) == 0)"
   ]
  },
  {
   "cell_type": "markdown",
   "metadata": {
    "id": "A808SaBDcWYU"
   },
   "source": [
    "Зададим список оценок и разные параметры для отрисовки графика"
   ]
  },
  {
   "cell_type": "code",
   "execution_count": null,
   "metadata": {
    "id": "rWZsy0TacRhR"
   },
   "outputs": [],
   "source": [
    "estimators = [\n",
    "    (estimate_X_n, r'$X_{(n)}$', 'blue', 0.0),\n",
    "    (estimate_X_n_corrected, r'$\\frac{n+1}{n}X_{(n)}$', 'purple', 0.1),\n",
    "    (estimate_2_mean, r'$2\\overline{X}$', 'green', 0.2)\n",
    "]"
   ]
  },
  {
   "cell_type": "markdown",
   "metadata": {
    "id": "XUWdaQC8cRhS"
   },
   "source": [
    "Мы хотим понять, являются ли оценки параметра $\\theta$ смещенными, для этого нам нужно провести множество экспериментов (сгенерировать выборку много раз, так как при каждой генерации получаются разные числа).\n",
    "\n",
    " Создадим 500 выборок размера `sample_size`."
   ]
  },
  {
   "cell_type": "code",
   "execution_count": null,
   "metadata": {
    "colab": {
     "base_uri": "https://localhost:8080/"
    },
    "id": "bhigGySjcRhS",
    "outputId": "14fa8050-78fb-44ca-dd7b-38bad3de9e0c"
   },
   "outputs": [],
   "source": [
    "sample_count = 500\n",
    "sample_size = 100\n",
    "X = sps.uniform.rvs(0, 1, size = (sample_count, sample_size))\n",
    "X.shape"
   ]
  },
  {
   "cell_type": "markdown",
   "metadata": {
    "id": "I1C4B5FdcRhS"
   },
   "source": [
    "Визуализируем полученные оценки на одном графике. Звездочками обозначим средние значения по 500 экспериментам для каждой оценки."
   ]
  },
  {
   "cell_type": "code",
   "execution_count": null,
   "metadata": {
    "colab": {
     "base_uri": "https://localhost:8080/",
     "height": 263
    },
    "id": "iN84F-yscRhS",
    "outputId": "eacfc4c4-ba22-4ec4-f6ff-7b5c97dfd4ef"
   },
   "outputs": [],
   "source": [
    "plt.figure(figsize=(15, 0.7*len(estimators)))\n",
    "for estimator, name, color, y in estimators:\n",
    "    E = estimator(X)\n",
    "    plt.scatter(E, np.zeros(sample_count) + y, alpha=0.1,\n",
    "                    s=100, color=color, label=name)\n",
    "    plt.scatter(E.mean(), y, marker='*', s=300,\n",
    "                    color='w', edgecolors='black')\n",
    "\n",
    "    plt.vlines(1, -1, 1, color='r')\n",
    "    plt.title('Размер выборки = %d' % sample_size)\n",
    "    plt.yticks([])\n",
    "    plt.legend()\n",
    "    plt.xlim((0.8, 1.2))\n",
    "    plt.ylim((-0.1, 0.1 * len(estimators)))"
   ]
  },
  {
   "cell_type": "markdown",
   "metadata": {
    "id": "NEF4fWrlcRhS"
   },
   "source": [
    "Напишите функцию построения таких графиков в общем виде: на вход функция может получать любые распределения (`distributions`) и любые оценки (`estimators`)."
   ]
  },
  {
   "cell_type": "code",
   "execution_count": null,
   "metadata": {
    "id": "3zTglaMCcRhS"
   },
   "outputs": [],
   "source": [
    "def est_plot(distribution, estimators, sample_size, sample_count):\n",
    "    '''\n",
    "    Построение графика разброса реализаций оценок и их средних значений.\n",
    "\n",
    "    distribution -- распределение формата scipy.stats\n",
    "    estimators -- список оценок и параметров для отрисовки графиков\n",
    "    sample_size -- размер выборок\n",
    "    sample_count -- количество генерируемых выборок\n",
    "    '''\n",
    "    X = distribution.rvs(size = (sample_count, sample_size))\n",
    "\n",
    "    for estimator, name, color, y in estimators:\n",
    "        E = estimator(X)\n",
    "        plt.scatter(E, np.zeros(sample_count) + y, alpha = 0.1, s = 100, color = color, label = name)\n",
    "        plt.scatter(E.mean(), y, marker = '*', s = 300, color = 'w', edgecolors = 'black')\n",
    "\n",
    "        plt.vlines(1, -1, 1, color = 'r')\n",
    "        plt.title('Размер выборки = %d' % sample_size)\n",
    "        plt.yticks([])\n",
    "        plt.legend()\n",
    "        plt.xlim((0.8, 1.2))\n",
    "        plt.ylim((-0.1, 0.1 * len(estimators)))\n",
    "\n",
    "    plt.show()"
   ]
  },
  {
   "cell_type": "markdown",
   "metadata": {
    "id": "AnM9dP-5cRhT"
   },
   "source": [
    "Постройте три графика, аналогичных верхнему, для разных размеров выборок (10, 100, 500).\n"
   ]
  },
  {
   "cell_type": "code",
   "execution_count": null,
   "metadata": {
    "colab": {
     "base_uri": "https://localhost:8080/",
     "height": 1000
    },
    "id": "m0LVdT1OcRhT",
    "outputId": "ea08b5f3-4b56-4c8c-9d77-b692a0312980"
   },
   "outputs": [],
   "source": [
    "sample_count = 500  # количество экспериментов\n",
    "sample_size_list = [10, 100, 500] # размеры выборок\n",
    "\n",
    "for sample_size in sample_size_list:\n",
    "    distribution = sps.uniform\n",
    "    est_plot(distribution, estimators, sample_size, sample_count)"
   ]
  },
  {
   "cell_type": "markdown",
   "metadata": {
    "id": "-_E243uTcRhT"
   },
   "source": [
    "**2.** Изучим поведение среднего оценок из первого пункта при росте размера $n$ выборки. Для вычисления зависимости нужно один раз сгенерировать выборки из п. 1.1 достаточно большого размера и посчитать оценки по префиксам, используя функции из `numpy`. Какие из оценок являются асимптотически несмещёнными (т.е. $\\forall \\theta \\in \\Theta\\colon \\mathsf{E}_\\theta \\widehat{\\theta} \\to \\theta$ при $n\\to +\\infty$)?"
   ]
  },
  {
   "cell_type": "code",
   "execution_count": null,
   "metadata": {
    "id": "LAlpptyocRhT"
   },
   "outputs": [],
   "source": [
    "def mean_plot(distribution, estimators, n_grid, sample_count):\n",
    "    '''\n",
    "    distribution -- распределение формата scipy.stats\n",
    "    estimators -- список оценок и параметров для отрисовки графиков\n",
    "    n_grid -- массив значений размера выборки\n",
    "    sample_count -- количество генерируемых выборок\n",
    "    '''\n",
    "    estim_1, estim_2, estim_3 = estimators[0], estimators[1], estimators[2]\n",
    "    X = distribution.rvs(size = (sample_count, int(n_grid[-1])))\n",
    "\n",
    "    for sample_size in n_grid:\n",
    "        sample_size = int(sample_size)\n",
    "        estim_1 = np.append(estim_1, np.mean(estimate_X_n(X[:, :sample_size])))\n",
    "        estim_2 = np.append(estim_2, np.mean(estimate_X_n_corrected(X[:, :sample_size])))\n",
    "        estim_3 = np.append(estim_3, np.mean(estimate_2_mean(X[:, :sample_size])))\n",
    "\n",
    "    plt.plot(n_grid, estim_1, label=r'$X_{(n)}$', color = 'blue', alpha=1)\n",
    "    plt.plot(n_grid, estim_2, label=r'$\\frac{n+1}{n}X_{(n)}$', color = 'purple', alpha=1)\n",
    "    plt.plot(n_grid, estim_3, label=r'$2\\overline{X}$', color = 'green', alpha=1)\n",
    "\n",
    "    plt.title('Среднее оценок')\n",
    "    plt.xlabel('Значение оценки')\n",
    "    plt.ylabel('Размер выборки')\n",
    "\n",
    "    plt.legend()\n",
    "\n",
    "    plt.show()"
   ]
  },
  {
   "cell_type": "code",
   "execution_count": null,
   "metadata": {
    "colab": {
     "base_uri": "https://localhost:8080/",
     "height": 499
    },
    "id": "qBFolVF4cRhU",
    "outputId": "7d740b11-55f7-432b-e87a-5387ce85fd46"
   },
   "outputs": [],
   "source": [
    "n_grid = np.linspace(10, 300, 100)\n",
    "estimators = np.array([[], [], []])\n",
    "mean_plot(sps.uniform, estimators, n_grid, sample_count)"
   ]
  },
  {
   "cell_type": "markdown",
   "metadata": {
    "id": "dyeHuG9SdNKW"
   },
   "source": [
    "**Вывод.** Несмещенность &mdash; свойство оценки в среднем быть равной параметру, который она оценивает. Иначе говоря, при бесконечном повторении эксперимента в среднем оценка будет равна истинному значению параметра.\n",
    "Проведенные эксперименты подтверждают свойство несмещенности &mdash; среднее значение несмещенных оценок $\\frac{n}{n-1}X_{(n)}$ и $2\\overline{X}$ оказались примерно равны истинному значению параметра в отличии от смещенной оценки $X_{(n)}$. Кроме того, можно заметить, что для смещенной оценки $X_{(n)}$ смещение уменьшается с ростом размера выборки, иначе говоря, она является *асимптотически несмещенной*.\n",
    "\n",
    "В лабораторных работах скорректированные оценки используют, т.к. число опытов часто мало и $n$ нельзя считать достаточно большим. В таком случае отличие между несмещенными оценками и асимптотически несмещенными оценками становится существенным."
   ]
  },
  {
   "cell_type": "markdown",
   "metadata": {
    "id": "YPI81HOzGznb"
   },
   "source": [
    "### 2. Состоятельность оценок\n",
    "\n",
    "Пусть $X_1, ..., X_n$ &mdash; выборка из распределения $Exp(\\theta)$. Как известно из теории, оценка $\\widehat{\\theta} = 1/\\overline{X}$ является *состоятельной* и *асимтотически нормальной* оценкой параметра $\\theta$ с асимптотической дисперсией $\\theta^2$. В этой задаче вам необходимо визуализировать данные свойства.\n"
   ]
  },
  {
   "cell_type": "markdown",
   "metadata": {
    "id": "OXLFU280Gznb"
   },
   "source": [
    "Зададим параметры эксперимента\n"
   ]
  },
  {
   "cell_type": "code",
   "execution_count": null,
   "metadata": {
    "id": "GUQhiUd9Gznc"
   },
   "outputs": [],
   "source": [
    "theta = 2  # истинное значение параметра\n",
    "sample_size = 300  # размер выборок\n",
    "sample_count = 500  # количество выборок\n",
    "n_range = (np.arange(sample_size) + 1)  # размеры подвыборок"
   ]
  },
  {
   "cell_type": "markdown",
   "metadata": {
    "id": "7HjXCVQpGznd"
   },
   "source": [
    "Сгенерируем множество выборок из распределения $Exp(\\theta)$ (количество выборок - `sample_count`, размер каждой выборки - `sample_size`)"
   ]
  },
  {
   "cell_type": "code",
   "execution_count": null,
   "metadata": {
    "id": "Vo253ZQ-Gznd"
   },
   "outputs": [],
   "source": [
    "# генерируем множество выборок,\n",
    "# параметр theta является обратным к параметру масштаба\n",
    "samples = sps.expon.rvs(scale = 1/theta, size = (sample_count, sample_size))"
   ]
  },
  {
   "cell_type": "markdown",
   "metadata": {
    "id": "UCCeRTnOGzne"
   },
   "source": [
    "Вычислим оценки в зависимости от размера выборки, усредняем по последней оси"
   ]
  },
  {
   "cell_type": "code",
   "execution_count": null,
   "metadata": {
    "id": "A3PHoe32Gzne"
   },
   "outputs": [],
   "source": [
    "estimation = 1 / (np.cumsum(samples, axis = 1) / n_range)"
   ]
  },
  {
   "cell_type": "markdown",
   "metadata": {
    "id": "LycjU8i0Gzn9"
   },
   "source": [
    "Визуализируем для каждой выборки все оценки в зависимости от размера выборки.\n",
    "\n",
    "Что можно сказать о состоятельности данной оценки?"
   ]
  },
  {
   "cell_type": "code",
   "execution_count": null,
   "metadata": {
    "id": "FAXFzTGdGzn-"
   },
   "outputs": [],
   "source": [
    "def est_plot(estimation, sample_count, sample_size, left=None, right=None, xlim = sample_size):\n",
    "    '''\n",
    "    estimation -- массив оценок от размера выборки\n",
    "    sample_count -- количество генерируемых выборок\n",
    "    sample_size -- размер каждой выборки\n",
    "    left, rigth -- границы доверительного интеравала, нужны будут далее\n",
    "    xlim = область по x\n",
    "    '''\n",
    "    plt.figure(figsize=(15, 7))\n",
    "    for i in range(sample_count):\n",
    "        plt.plot(np.arange(sample_size) + 1, estimation[i], color='blue', alpha=0.05)\n",
    "    if type(left) and type(right) is np.ndarray:\n",
    "\n",
    "        plt.plot(np.arange(sample_size) + 1, left, color='black')\n",
    "        plt.plot(np.arange(sample_size) + 1, right, color='black')\n",
    "        labels = [r'$\\hat{\\theta}$', r'$\\theta$',\n",
    "                  'Границы доверительного интервала']\n",
    "        handels = [Line2D([0], [0], color='blue', lw=2),\n",
    "                   Line2D([0], [0], color='red', lw=2),\n",
    "                   Line2D([0], [0], color='black', lw=2)]\n",
    "\n",
    "    else:\n",
    "        labels = [r'$\\hat{\\theta}$', r'$\\theta$']\n",
    "        handels = [Line2D([0], [0], color='blue', lw=2),\n",
    "                   Line2D([0], [0], color='red', lw=2),]\n",
    "\n",
    "    plt.hlines(theta, 0 ,sample_size, color='red')\n",
    "\n",
    "    plt.title('Поведение оценки для разных реализаций')\n",
    "    plt.xlabel('Размер выборки')\n",
    "    plt.ylim((0, 5))\n",
    "    plt.legend(handels, labels)\n",
    "    plt.xlim((0, xlim));"
   ]
  },
  {
   "cell_type": "code",
   "execution_count": null,
   "metadata": {
    "colab": {
     "base_uri": "https://localhost:8080/",
     "height": 670
    },
    "id": "uvep-QuVGzn_",
    "outputId": "5c639069-79d6-49d5-e32f-b044d4166269"
   },
   "outputs": [],
   "source": [
    "est_plot(estimation, sample_count, sample_size)"
   ]
  },
  {
   "cell_type": "markdown",
   "metadata": {
    "id": "uMpnhqx8GzoA"
   },
   "source": [
    "**Вывод:**\n",
    "\n",
    "**Ответ:**\n",
    "\n",
    "Оценка параметра считается состоятельной, если с увеличением размера выборки она вероятно стремится к истинному значению этого параметра. В данном случае, оценка параметра $\\theta = 2$ считается состоятельной, поскольку при увеличении размера выборки она вероятно приближается к значению 2 и отклонение от этого значения остается невеликим."
   ]
  },
  {
   "cell_type": "markdown",
   "metadata": {
    "id": "NbLn26P3GzoB"
   },
   "source": [
    "### 3. Асимптотическая нормальность оценки"
   ]
  },
  {
   "cell_type": "markdown",
   "metadata": {
    "id": "z4uvnDSmGzoB"
   },
   "source": [
    "Добавим доверительный интервал для нашей оценки.\n",
    "\n",
    "Свойство *асимптотической нормальности* говорит о том, что с вероятностью около 0.95 при больших размерах выборки значение оценки отклоняется от истинного значения параметра не более чем на $2\\theta\\left/\\sqrt{n}\\right.$. Добавте интервалы в функцию, чтобы на рисунок добавился доверительный интервал."
   ]
  },
  {
   "cell_type": "code",
   "execution_count": null,
   "metadata": {
    "id": "DMZCXlwYGzoE"
   },
   "outputs": [],
   "source": [
    "right = theta + 2 * theta/(np.arange(1, samples.shape[1] + 1)**0.5)\n",
    "left = theta - 2 * theta/(np.arange(1, samples.shape[1] + 1)**0.5)"
   ]
  },
  {
   "cell_type": "code",
   "execution_count": null,
   "metadata": {
    "colab": {
     "base_uri": "https://localhost:8080/",
     "height": 670
    },
    "id": "KDUPLBKgGzoQ",
    "outputId": "f8cca525-9bb7-4422-d6e0-f574a89221df"
   },
   "outputs": [],
   "source": [
    "est_plot(estimation, sample_count, sample_size, left = left, right = right)"
   ]
  },
  {
   "cell_type": "markdown",
   "metadata": {
    "id": "F55No3sEGzo5"
   },
   "source": [
    "**Вывод:**\n",
    "\n",
    "Практически все голубые линии нашей оценки (если оценивать по насыщенности цвета) оказываются внутри доверительного интервала при увеличении значений n."
   ]
  },
  {
   "cell_type": "markdown",
   "metadata": {
    "id": "PGqx7iO0Gzo6"
   },
   "source": [
    "Приблизим этот график в области малых размеров выборки (до 50). Какой вывод вы можете сделать?"
   ]
  },
  {
   "cell_type": "code",
   "execution_count": null,
   "metadata": {
    "colab": {
     "base_uri": "https://localhost:8080/",
     "height": 670
    },
    "id": "ls6hyEPWGzo6",
    "outputId": "a1dd9948-d0f8-42d2-f79c-2fd3917ecdb5"
   },
   "outputs": [],
   "source": [
    "est_plot(estimation, sample_count, sample_size, left = left, right = right, xlim = 50)"
   ]
  },
  {
   "cell_type": "markdown",
   "metadata": {
    "id": "6IOzIRqXGzo7"
   },
   "source": [
    "**Вывод:**\n",
    "\n",
    "Видно, что при значениях n < 50 оценка может значительно выходить за пределы доверительного интервала. Однако, как видно из предыдущего графика, ситуация корректируется при увеличении размера выборки."
   ]
  }
 ],
 "metadata": {
  "colab": {
   "provenance": []
  },
  "kernelspec": {
   "display_name": "Python 3 (ipykernel)",
   "language": "python",
   "name": "python3"
  },
  "language_info": {
   "codemirror_mode": {
    "name": "ipython",
    "version": 3
   },
   "file_extension": ".py",
   "mimetype": "text/x-python",
   "name": "python",
   "nbconvert_exporter": "python",
   "pygments_lexer": "ipython3",
   "version": "3.9.7"
  },
  "varInspector": {
   "cols": {
    "lenName": 16,
    "lenType": 16,
    "lenVar": 40
   },
   "kernels_config": {
    "python": {
     "delete_cmd_postfix": "",
     "delete_cmd_prefix": "del ",
     "library": "var_list.py",
     "varRefreshCmd": "print(var_dic_list())"
    },
    "r": {
     "delete_cmd_postfix": ") ",
     "delete_cmd_prefix": "rm(",
     "library": "var_list.r",
     "varRefreshCmd": "cat(var_dic_list()) "
    }
   },
   "types_to_exclude": [
    "module",
    "function",
    "builtin_function_or_method",
    "instance",
    "_Feature"
   ],
   "window_display": false
  },
  "vscode": {
   "interpreter": {
    "hash": "415525cc3f40ad8355b7c2a7d3b034c5d7bb85ff256d91eaa0aa6b53328ab0d3"
   }
  }
 },
 "nbformat": 4,
 "nbformat_minor": 0
}
