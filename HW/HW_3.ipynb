{
 "cells": [
  {
   "cell_type": "code",
   "execution_count": null,
   "metadata": {
    "id": "LdTxtY4-JuvO"
   },
   "outputs": [],
   "source": [
    "import numpy as np\n",
    "import pandas as pd\n",
    "import matplotlib.pyplot as plt\n",
    "\n",
    "from sklearn.model_selection import train_test_split\n",
    "from sklearn.linear_model import LogisticRegression\n",
    "from sklearn.metrics import accuracy_score, mean_squared_error, mean_absolute_error, mean_absolute_percentage_error\n",
    "from sklearn.linear_model import Ridge, Lasso, ElasticNet\n",
    "from sklearn.linear_model import LinearRegression\n",
    "from sklearn.preprocessing import StandardScaler\n",
    "\n",
    "from sklearn.model_selection import GroupShuffleSplit\n",
    "\n",
    "import warnings\n",
    "import seaborn as sns\n",
    "sns.set_theme(palette='Set2')\n",
    "warnings.filterwarnings(\"ignore\")"
   ]
  },
  {
   "cell_type": "markdown",
   "metadata": {
    "id": "yJaCsT28JuvP"
   },
   "source": [
    "#### <b><font color=\"blue\">Легкая часть</font></b>\n",
    "\n",
    "### Задача 1\n",
    "\n",
    "\n",
    "#### 1. Загрузка данных и предобработка\n",
    "\n",
    "#### *Профиль биология*\n",
    "\n",
    "Загрузите [данные](https://miptstats.github.io/courses/ad_mipt.html) по предсказанию рака груди. Поодробнее о них можно почитать в [источнике](https://www.kaggle.com/datasets/marshuu/breast-cancer).\n"
   ]
  },
  {
   "cell_type": "code",
   "execution_count": null,
   "metadata": {
    "colab": {
     "base_uri": "https://localhost:8080/"
    },
    "id": "OPF-o4KxKMib",
    "outputId": "cef16056-a6a2-4a67-b642-a9bcbdf11d74"
   },
   "outputs": [],
   "source": [
    "!unzip /content/data_hw4.zip"
   ]
  },
  {
   "cell_type": "code",
   "execution_count": null,
   "metadata": {
    "colab": {
     "base_uri": "https://localhost:8080/"
    },
    "id": "BNVm1wCUKbEU",
    "outputId": "8b107ec9-b47c-4678-d60f-81f3f1b6accb"
   },
   "outputs": [],
   "source": [
    "!ls"
   ]
  },
  {
   "cell_type": "code",
   "execution_count": null,
   "metadata": {
    "colab": {
     "base_uri": "https://localhost:8080/",
     "height": 223
    },
    "id": "AZ-TRkOvJuvP",
    "outputId": "90a5225e-8d42-4af2-9620-8673f3869048"
   },
   "outputs": [],
   "source": [
    "data = pd.read_csv('/content/data_hw4/breast_cancer_disbalances.csv')\n",
    "data.head()"
   ]
  },
  {
   "cell_type": "markdown",
   "metadata": {
    "id": "HzkcAKmfJuvQ"
   },
   "source": [
    "Проверьте, имеются ли в ваших данных пропуски. Если да, то удалите их.\n"
   ]
  },
  {
   "cell_type": "code",
   "execution_count": null,
   "metadata": {
    "colab": {
     "base_uri": "https://localhost:8080/"
    },
    "id": "LuzPDTKxJuvQ",
    "outputId": "c393a7c1-0bdc-4e69-e520-57887637daab"
   },
   "outputs": [],
   "source": [
    "data.isna().sum()"
   ]
  },
  {
   "cell_type": "markdown",
   "metadata": {
    "id": "oTpEfFrEJuvQ"
   },
   "source": [
    "Библиотека `pandas` позволяет строить графики `matplotlib` для своих объектов `DataFrame` ([подробнее](https://pandas.pydata.org/docs/reference/api/pandas.DataFrame.plot.html)). Посмотрим, как распределены значения признака `Bare Nuclei` для разных классов:"
   ]
  },
  {
   "cell_type": "code",
   "execution_count": null,
   "metadata": {
    "colab": {
     "base_uri": "https://localhost:8080/",
     "height": 480
    },
    "id": "XBpx7hjtJuvR",
    "outputId": "8438e72d-c5e5-4b4a-cc0c-148bba0ede9d"
   },
   "outputs": [],
   "source": [
    "fig, axs = plt.subplots(1, 2, figsize=(10, 5))\n",
    "data.groupby(\"Class\")['Bare Nuclei'].hist(ax=axs[0], alpha=0.5)\n",
    "data.groupby(\"Class\")['Bare Nuclei'].plot(kind='kde', ax=axs[1])\n",
    "axs[0].set_title('Гистограмма для Bare Nuclei', fontsize=20)\n",
    "axs[1].set_title('KDE для Bare Nuclei', fontsize=20);"
   ]
  },
  {
   "cell_type": "markdown",
   "metadata": {
    "id": "Z3ErUfGzJuvR"
   },
   "source": [
    "Чем отличаются способы построения ЯОП и гистограммы? Какую информацию о наших данных можно извлечь из каждого графика?"
   ]
  },
  {
   "cell_type": "markdown",
   "metadata": {
    "id": "gSDd46kLJuvR"
   },
   "source": [
    "**Ответ:**\n",
    "\n",
    "1. Гистограмма - столбчатая диаграмма, где по оси x отложены значения переменной, а по оси y - относительная частота наблюдений в каждом интервале. При построении требуется выбор числа интервалов, что влияет на восприятие распределения в данных.\n",
    "\n",
    "2. ЯОП - позволяет оценить форму распределения и концентрацию данных в различных частях ОДЗ. При построении требуется выбор ширины ядра, что вляиет на восприятие распределения. Основынм плюсом является то, что по сравнению с гистограммой, ЯОП предоставляет более гладкую оценку плотности.\n",
    "\n",
    "3. Из гистограммы и ЯОП явно виден дисбаланас классов. Из гистограммы это следует из того, то оранжевых данных больше, чем зеленых, а из ЯОП - пик одноко класса намного выше другого.\n",
    "\n",
    "\n"
   ]
  },
  {
   "cell_type": "markdown",
   "metadata": {
    "id": "FbEhu2o3JuvS"
   },
   "source": [
    "Постройте гистограммы и ядерные оценки плотности для всех признаков из датасета отдельно для каждого класса. `Class` — целевая переменная. Можно это сделать, опираясь на код выше, а можно воспользоваться параметром `hue` у функции [`sns.histplot`](https://seaborn.pydata.org/generated/seaborn.histplot.html) или другим методом, который вам нравится. Не забывайте подписывать, к чему относится каждый график."
   ]
  },
  {
   "cell_type": "code",
   "execution_count": null,
   "metadata": {
    "colab": {
     "base_uri": "https://localhost:8080/",
     "height": 1000
    },
    "id": "uTfOGLNHJuvS",
    "outputId": "8ac99556-c2ac-409a-c12c-8c7a4528e1e8"
   },
   "outputs": [],
   "source": [
    "for feature in data.columns[:-1]:\n",
    "  fig, axs = plt.subplots(1, 2, figsize = (12, 5))\n",
    "  plt.subplots_adjust(wspace = 0.5)\n",
    "\n",
    "  sns.histplot(data = data, x = feature, hue = 'Class', alpha = 0.5, ax = axs[0])\n",
    "  axs[0].set_title(f'Гистограмма для {feature}', fontsize = 10)\n",
    "\n",
    "  sns.kdeplot(data = data, x = feature, hue = 'Class', common_norm = True, ax = axs[1])\n",
    "  axs[1].set_title(f'KDE для {feature}', fontsize = 10)"
   ]
  },
  {
   "cell_type": "markdown",
   "metadata": {
    "id": "eNjCzBDbJuvS"
   },
   "source": [
    "Какие выводы вы можете сделать из полученных графиков?"
   ]
  },
  {
   "cell_type": "markdown",
   "metadata": {
    "id": "fSKoeaGfJuvT"
   },
   "source": [
    "**Вывод:**\n",
    "\n",
    "1) Во всех графиках виден дисбаланс между классами.\n",
    "\n",
    "2) Из KDE сложно установить тип распределения.\n",
    "\n",
    "3) Также видно, что для некоторых приззнаков, максимумы распредения плотности совпадают (конкретнее для Mitoses, Normal Nucleoli, Bare Nuclei, Marginal Adhesion (но тут плохо видно)."
   ]
  },
  {
   "cell_type": "markdown",
   "metadata": {
    "id": "UcHLrz33JuvT"
   },
   "source": [
    "**Это не конец задачи! Переходите к пункту 2!**"
   ]
  },
  {
   "cell_type": "markdown",
   "metadata": {
    "id": "irjD3gPWJuvT"
   },
   "source": [
    "#### *Профиль физика*\n",
    "\n",
    "Загрузите данные по бинарной классификации астероидов в зависимости от различных параметров с <a href=\"https://miptstats.github.io/courses/ad_mipt.html\">сайта</a>.\n",
    "\n",
    "Вашей целевой переменной будет являться столбец `pha`. Более подробно ознакомить с датасетом вы можете также [здесь](https://www.kaggle.com/datasets/sakhawat18/asteroid-dataset/data). Можно заметить, что наш датасет сильно меньше по размерам, чем оригинал. Это сделано намеренно."
   ]
  },
  {
   "cell_type": "code",
   "execution_count": null,
   "metadata": {
    "id": "L2gHd7OTJuvT"
   },
   "outputs": [],
   "source": [
    "data = pd.read_csv('dataset_savaged.csv')\n",
    "data.info()"
   ]
  },
  {
   "cell_type": "markdown",
   "metadata": {
    "id": "-XL2IXsxJuvT"
   },
   "source": [
    "Библиотека `pandas` позволяет строить графики `matplotlib` для своих объектов `DataFrame` ([подробнее](https://pandas.pydata.org/docs/reference/api/pandas.DataFrame.plot.html)). Посмотрим, как распределены значения признака `rms` для разных классов:"
   ]
  },
  {
   "cell_type": "code",
   "execution_count": null,
   "metadata": {
    "id": "oFTlh2F-JuvU"
   },
   "outputs": [],
   "source": [
    "fig, axs = plt.subplots(1, 2, figsize=(15, 7))\n",
    "data.groupby(\"pha\")['rms'].hist(ax=axs[0], alpha=0.5)\n",
    "data.groupby(\"pha\")['rms'].plot(kind='kde', ax=axs[1])\n",
    "axs[0].set_title('Гистограмма для rms', fontsize=20)\n",
    "axs[1].set_title('KDE для rms', fontsize=20);"
   ]
  },
  {
   "cell_type": "markdown",
   "metadata": {
    "id": "zCISYA2kJuvU"
   },
   "source": [
    "Чем отличаются способы построения ЯОП и гистограммы? Какую информацию о наших данных можно извлечь из каждого графика?"
   ]
  },
  {
   "cell_type": "markdown",
   "metadata": {
    "id": "uWuUpyGzJuvU"
   },
   "source": [
    "**Ответ:** <...>"
   ]
  },
  {
   "cell_type": "markdown",
   "metadata": {
    "id": "vGPmUXCeJuvU"
   },
   "source": [
    "Постройте гистограммы и ядерные оценки плотности для указанных ниже признаков отдельно для каждого класса. `Class` — целевая переменная. Можно это сделать, опираясь на код выше, а можно воспользоваться параметром `hue` у функции [`sns.histplot`](https://seaborn.pydata.org/generated/seaborn.histplot.html) или другим методом, который вам нравится. Не забывайте подписывать, к чему относится каждый график."
   ]
  },
  {
   "cell_type": "code",
   "execution_count": null,
   "metadata": {
    "id": "Z2asdrkMJuvU"
   },
   "outputs": [],
   "source": [
    "features = ['epoch', 'ma', 'tp', 'rms']\n",
    "<...>"
   ]
  },
  {
   "cell_type": "markdown",
   "metadata": {
    "id": "7BXGxiZjJuvU"
   },
   "source": [
    "Какие выводы вы можете сделать из полученных графиков?"
   ]
  },
  {
   "cell_type": "markdown",
   "metadata": {
    "id": "Es0yTKq-JuvV"
   },
   "source": [
    "**Вывод:**<...>"
   ]
  },
  {
   "cell_type": "markdown",
   "metadata": {
    "id": "vHuvduHXJuvV"
   },
   "source": [
    "#### 2. Обучение модели\n",
    "\n",
    "Продолжайте использовать выбранные вами данные."
   ]
  },
  {
   "cell_type": "markdown",
   "metadata": {
    "id": "_jNi7vL9JuvV"
   },
   "source": [
    "Создайте массив признаков и массив таргета. Разбейте ваши данные на обучающую и тестовую выборки в отношении 7:3.\n"
   ]
  },
  {
   "cell_type": "code",
   "execution_count": null,
   "metadata": {
    "colab": {
     "base_uri": "https://localhost:8080/"
    },
    "id": "4M6Ba7jLJuvV",
    "outputId": "75c18e93-146b-42c8-8246-9d242b1eba05"
   },
   "outputs": [],
   "source": [
    "X = data.drop('Class', axis = 1)\n",
    "y = data['Class']\n",
    "X_train, X_test, y_train, y_test = train_test_split(X, y, test_size = 0.3, random_state = 42)\n",
    "print(X_train.shape, y_train.shape, X_test.shape, y_test.shape)"
   ]
  },
  {
   "cell_type": "markdown",
   "metadata": {
    "id": "8Affdf2PJuvV"
   },
   "source": [
    "Примените стандартизацию к обучающей и тестовой выборкам, используя класс <a href=\"https://scikit-learn.org/stable/modules/generated/sklearn.preprocessing.StandardScaler\">`StandardScaler`</a>."
   ]
  },
  {
   "cell_type": "code",
   "execution_count": null,
   "metadata": {
    "id": "NdZD-HH6JuvV"
   },
   "outputs": [],
   "source": [
    "scaler = StandardScaler()\n",
    "\n",
    "X_train = scaler.fit_transform(X_train)\n",
    "X_test = scaler.transform(X_test)"
   ]
  },
  {
   "cell_type": "markdown",
   "metadata": {
    "id": "HnSh0IreJuvW"
   },
   "source": [
    "Объясните, что делает `StandardScaler` и почему его нельзя обучать на тестовой выборке?"
   ]
  },
  {
   "cell_type": "markdown",
   "metadata": {
    "id": "JSa7A0xFJuvW"
   },
   "source": [
    "**Ответ:**\n",
    "\n",
    "$StandardScaler = \\frac{x_{ij} - \\bar{x_j}}{\\sigma_j}$. Из формулы видно, что данный метод выполняет стандартизацию признаков путем усреднения удаления среднего значения и масштабирования к единичной диспресии. Этот метод позволяет сделать признаки независимыми от единиц измерения, тем самым обеспечивая более стабильное обучение нашей модели.\n",
    "\n",
    "Данный метод нельхя применять к тестовой выборке, так как сам процесс масштабирования будет нацелен не на те данные, точнее на конкретные характеристики из тестовой выборки. В этом случае мы будем использовать информацию из тестовой выборки для преобразованных данных что может привести, к так называемой, утечке данных из тестового набора в процессе обучения."
   ]
  },
  {
   "cell_type": "markdown",
   "metadata": {
    "id": "08bpbAjAJuvW"
   },
   "source": [
    "Обучите модель логистической регрессии."
   ]
  },
  {
   "cell_type": "code",
   "execution_count": null,
   "metadata": {
    "colab": {
     "base_uri": "https://localhost:8080/",
     "height": 74
    },
    "id": "uVoO90RqJuvW",
    "outputId": "23943444-74ef-474d-b340-cbfb8f3d45c7"
   },
   "outputs": [],
   "source": [
    "model = LogisticRegression(fit_intercept = True)\n",
    "\n",
    "model.fit(X_train, y_train)"
   ]
  },
  {
   "cell_type": "markdown",
   "metadata": {
    "id": "jmjwW_SpJuvW"
   },
   "source": [
    "Сделайте предсказание для тестовой выборки и оцените качества полученного предсказания, рассмотрите метрики: `accuracy_score`, `precision` и `recall`.\n",
    "\n",
    "Если названия ваших классов отличаются от 0 и 1, то надо использовать аргумент `pos_label`."
   ]
  },
  {
   "cell_type": "code",
   "execution_count": null,
   "metadata": {
    "id": "1cCe65UhK_PQ"
   },
   "outputs": [],
   "source": [
    "from sklearn.metrics import precision_score, recall_score"
   ]
  },
  {
   "cell_type": "code",
   "execution_count": null,
   "metadata": {
    "colab": {
     "base_uri": "https://localhost:8080/"
    },
    "id": "PkvVQcglJuvX",
    "outputId": "dbf059c0-1a29-4dd7-f231-769f23c7f30f"
   },
   "outputs": [],
   "source": [
    "y_pred = model.predict(X_test)\n",
    "\n",
    "accuracy = accuracy_score(y_test, y_pred)\n",
    "# Будем считать, что 2 - положительный класс, тот что менее выражен\n",
    "precision = precision_score(y_test, y_pred, pos_label = 2)\n",
    "recall = recall_score(y_test, y_pred, pos_label = 2)\n",
    "\n",
    "print(f'Accuracy: {accuracy:.4f}')\n",
    "print(f'Precision: {precision:.4f}')\n",
    "print(f'Recall: {recall:.4f}')"
   ]
  },
  {
   "cell_type": "markdown",
   "metadata": {
    "id": "UeUikTYSJuvX"
   },
   "source": [
    "Можем ли порадоваться таким результатам? Вернемся к гистограммам и сделаем вывод, почему метрики оказались такими большими."
   ]
  },
  {
   "cell_type": "markdown",
   "metadata": {
    "id": "3u81Y8DiLayW"
   },
   "source": [
    "**Ответ:**\n",
    "\n",
    "При анализе гистограмм и KDE был отмесен дисбаланс междк классами 2 и 4."
   ]
  },
  {
   "cell_type": "markdown",
   "metadata": {
    "id": "tIeLk6LJJuvX"
   },
   "source": [
    "#### 3. Учтём дисбаланс классов\n",
    "Давайте посмотрим на распределение наших данных по целевой переменной по всему датасету, тренировочной и тестовой выборках:"
   ]
  },
  {
   "cell_type": "code",
   "execution_count": null,
   "metadata": {
    "colab": {
     "base_uri": "https://localhost:8080/",
     "height": 496
    },
    "id": "ujix6PB2Juvd",
    "outputId": "e58fb04c-d17b-417f-adf4-df52e5e68517"
   },
   "outputs": [],
   "source": [
    "original = data['Class'].value_counts() # Колонка таргета из изначального датасета\n",
    "train = y_train.value_counts() # Колонка таргета из тренировочного датасета\n",
    "test = y_test.value_counts() # Колонка таргета из тестового датасета\n",
    "\n",
    "fig, axes = plt.subplots(1, 3, figsize=(15, 5))\n",
    "sns.barplot(x=original.index, y=original.values, ax=axes[0], palette=['blue'])\n",
    "axes[0].set_title('Распределение классов в data')\n",
    "axes[0].set_ylabel('Количество')\n",
    "\n",
    "sns.barplot(x=train.index, y=train.values, ax=axes[1], palette=['green'])\n",
    "axes[1].set_title('Распределение классов в train')\n",
    "\n",
    "sns.barplot(x=test.index, y=test.values, ax=axes[2], palette=['orange'])\n",
    "axes[2].set_title('Распределение классов в test')\n",
    "\n",
    "plt.show()"
   ]
  },
  {
   "cell_type": "markdown",
   "metadata": {
    "id": "ByFsHpRlJuve"
   },
   "source": [
    "Видно, что в данных есть сильный перекос — классы представлены неравномерно. Как и почему это повлияло на наши результаты?"
   ]
  },
  {
   "cell_type": "markdown",
   "metadata": {
    "id": "s-yAMbLaJuve"
   },
   "source": [
    "**Ответ:**\n",
    "\n",
    "1. Метрика Accuracy безумно большая (что довольно обманчиво на первый взгляд). В случае дисбаланса между классами, если модель предсказывает преимущественно 4-ый класс, Accuracy может быть высоким. Но это не гарантирует, что модель хорошо работает для 2-го класса.\n",
    "\n",
    "2. Что касается метрик Precision и Recall, то могут быть более информативными в данном случае. Если интересует именно положительный класс (тот что менее выражен), то Recall становится ключевой метрикой, так как она измеряет способность модели обнаруживать положительные случаи.\n",
    "\n",
    "3. Исходя из 1 и 2 пункта можно сделать вывод о том, что в случае доминирования 4-го класса, модель может быть склонна к заучиванию особенностей этого класса, игнорируя при этом особенности другого класса. Как следствие, это привело к тому, что модель плохо справляется с предсказанием 2-го класса.\n"
   ]
  },
  {
   "cell_type": "markdown",
   "metadata": {
    "id": "OnZZA25NJuve"
   },
   "source": [
    "Есть много способов борьбы с этим. Можно искусственно сгенерировать данные нужного класса или урезать другой класс. Однако сегодня мы воспользуемся ***взвешенной*** логистической регрессией. Суть метода заключается в том, чтобы вручную поставить веса для классов, исходя из их предполагаемой природы: важность разных классов, цена ошибки в реальной жизни (например, что хуже: предсказать наличие рака, если он есть или нет?) и представленность данных.\n",
    "\n",
    "Функция потерь &mdash; в нашем случае логарифм функции правдоводобия &mdash; для взвешенной логистической регресси будет записана как:\n",
    "\n",
    "$$\n",
    "L(y, \\widehat{y}) = \\sum_{i=1}^{N} w_{y_i} \\cdot \\left[ y_i \\cdot \\log(\\sigma(\\widehat{y}_i)) + (1 - y_i) \\cdot \\log(1 - \\sigma(\\widehat{y}_i)) \\right]\n",
    "$$\n",
    "\n",
    "где:\n",
    "\n",
    "\n",
    "- $ y_i $ - истинный класс для образца  $i$\n",
    "- $ \\widehat{y}_i $ - предсказанный класс для образца $i$\n",
    "- $ w_{y_i} $ - вес класса\n",
    "\n",
    "\n",
    "\n",
    "Давайте реализуем этот метод. Допишите код и в качестве весов класса  поставьте соотношение их представленности. Выведите подсчет количества экземпляров каждого класса и посчитайте их соотношение."
   ]
  },
  {
   "cell_type": "code",
   "execution_count": null,
   "metadata": {
    "colab": {
     "base_uri": "https://localhost:8080/"
    },
    "id": "2SSPZuGGJuve",
    "outputId": "8678c67d-1a8c-42b1-a610-fa44d78fcab2"
   },
   "outputs": [],
   "source": [
    "threshold = y_train.value_counts(normalize = True)[2]\n",
    "class_weights = {2: threshold, 4: 1 - threshold}\n",
    "# если использовать class_weights = 'balanced', модель сама подсчитает веса\n",
    "\n",
    "weighted_model = LogisticRegression(class_weight = class_weights)\n",
    "\n",
    "print(\"Количество экземпляров каждого класса в тренировочной выборке:\")\n",
    "print(y_train.value_counts())\n",
    "print(\"Соотношение классов в тренировочной выборке:\")\n",
    "print(y_train.value_counts(normalize = True))"
   ]
  },
  {
   "cell_type": "markdown",
   "metadata": {
    "id": "-vN-Cd4UJuvf"
   },
   "source": [
    "Посчитайте метрики качества. `Accuracy` посчитайте двумя способами: без учёта и [с учётом весов](https://scikit-learn.org/stable/modules/generated/sklearn.metrics.balanced_accuracy_score.html)."
   ]
  },
  {
   "cell_type": "code",
   "execution_count": null,
   "metadata": {
    "colab": {
     "base_uri": "https://localhost:8080/"
    },
    "id": "OXwcWXXfJuvf",
    "outputId": "d1e61459-e962-4e1f-90d1-02c7d90058df"
   },
   "outputs": [],
   "source": [
    "unweighted_model = LogisticRegression()\n",
    "\n",
    "unweighted_model.fit(X_train, y_train)\n",
    "\n",
    "y_pred_unweighted = unweighted_model.predict(X_test)\n",
    "\n",
    "accuracy = accuracy_score(y_test, y_pred_unweighted)\n",
    "precision = precision_score(y_test, y_pred_unweighted, pos_label = 2)\n",
    "recall = recall_score(y_test, y_pred_unweighted, pos_label = 2)\n",
    "\n",
    "print(\"Метрики качества без учета весов:\")\n",
    "print(f\"accuracy = {accuracy:.4f} \\nprecision = {precision:.4f} \\nrecall = {recall:.4f}\")\n",
    "\n",
    "# Создаем модель с автоматическим подсчетом весов ('balanced')\n",
    "weighted_model_auto = LogisticRegression(class_weight = 'balanced')\n",
    "\n",
    "weighted_model_auto.fit(X_train, y_train)\n",
    "\n",
    "y_pred_weighted_auto = weighted_model_auto.predict(X_test)\n",
    "\n",
    "accuracy_auto = accuracy_score(y_test, y_pred_weighted_auto)\n",
    "precision_auto = precision_score(y_test, y_pred_weighted_auto, pos_label = 2)\n",
    "recall_auto = recall_score(y_test, y_pred_weighted_auto, pos_label = 2)\n",
    "\n",
    "print(\"\\nМетрики качества с учетом весов (автоматический подсчет):\")\n",
    "print(f\"accuracy = {accuracy_auto:.4f} \\nprecision = {precision_auto:.4f} \\nrecall = {recall_auto:.4f}\")"
   ]
  },
  {
   "cell_type": "markdown",
   "metadata": {
    "id": "jj5L629TJuvf"
   },
   "source": [
    "Как изменилось качество нашей модели? Почему надо учитывать несбалансированность данных?\n",
    "\n",
    "Сделайте общий вывод по задаче."
   ]
  },
  {
   "cell_type": "markdown",
   "metadata": {
    "id": "3BMgofB7Juvf"
   },
   "source": [
    "**Вывод:**\n",
    "\n",
    "I. С учетом весов модель стала более сбалансированной в предсказании положительного класса 2, что видно, исходя из значений Precision и Recall. Видно, Recall вырос с 0.9254 до 0.9851. Из этого можно сделать вывод о том, что модель стала лучше выявлять положительные случаи.\n",
    "\n",
    "II. Несбалансированные данные могут привести к плохим результатам (как мы увидели, подсчитав метрики). Исходя из данной задачи можно сделать вывод, что это очень важно учитывать при решении задачи классификации. Так же стоит отметить, что в случае с логистической регрессией, учет весов классов может помочь модели лучше обучиться менее выраженному классу, что в результате повышает качество предсказания для него.\n",
    "\n",
    "**Общий вывод:**\n",
    "\n",
    "I. В задаче классификации с несбалансированными данными важно учитывать веса классов для более корректного обучения модели.\n",
    "\n",
    "II. Также мы можем сделать вывод о том, что метрики качества, такие как Precision и Recall, могут быть более информативными, чем Accuracy, в случае с задачей, связанной с дисбалансом классов."
   ]
  },
  {
   "cell_type": "markdown",
   "metadata": {
    "id": "sh5B1d-iJuvg"
   },
   "source": [
    "### Задача 2\n"
   ]
  },
  {
   "cell_type": "markdown",
   "metadata": {
    "id": "iAxX84weJuvg"
   },
   "source": [
    "\n",
    "\n",
    "Вам предлагается изучить и сравнить свойства линейных регрессионных моделей: обычной и с регуляризациями &mdash; `Lasso`, `Ridge`, `Elastic Net`.  \n",
    "\n",
    "При выполнении задания воспользуйтесь готовыми реализациями методов в `sklearn`. Функции, описанные ниже, пригодятся вам во втором пункте этого задания."
   ]
  },
  {
   "cell_type": "code",
   "execution_count": null,
   "metadata": {
    "id": "ihc_ISVMJuvg"
   },
   "outputs": [],
   "source": [
    "def calculate_coef(model, X, y, log_min, log_max,\n",
    "               num):\n",
    "    \"\"\"\n",
    "    Данная функция считает коэффициенты для признаков\n",
    "    при различных значениях параметра регуляризации.\n",
    "\n",
    "    :param model: регрессионная модель\n",
    "    :param X: матрица регрессоров\n",
    "    :param y: вектор целевой переменной\n",
    "    :param log_min, log_max: логарифмы левой и правой границ диапазона для коэффициента регуляризации\n",
    "    :param num: число точек из диапазона\n",
    "\n",
    "    :return coefs: коэффициенты модели\n",
    "    \"\"\"\n",
    "\n",
    "    alphas = np.logspace(log_min, log_max, num) # сетка параметров\n",
    "    coefs = [] # коэффициенты моделей\n",
    "    for a in alphas:\n",
    "        if 'l1_ratio' in model.get_params(): # для ElasticNet\n",
    "            # равномерно распределим alpha по обоим коэффициентам\n",
    "            a *= 3/2\n",
    "            model.set_params(alpha=a) # переопределяем параметры модели\n",
    "        else:\n",
    "            model.set_params(alpha=a)\n",
    "        model.fit(X, y)\n",
    "        # отбираем только первые 20 признаков для ускорения работы кода\n",
    "        coefs.append(model.coef_[:20])\n",
    "    return coefs\n",
    "\n",
    "def draw_track(coefs, log_min, log_max,\n",
    "               num, title='', figsize=(10, 5)):\n",
    "\n",
    "    \"\"\"\n",
    "    Данная функция строит график зависимости значений\n",
    "    коэффициентов модели от параметра регуляризации.\n",
    "\n",
    "    :param coefs: коэффициенты модели\n",
    "    :param log_min, log_max: логарифмы левой и правой границ диапазона для коэффициента регуляризации\n",
    "    :param num: число точек из диапазона\n",
    "    :param title: название графика\n",
    "    :param figsize: размеры рисунка\n",
    "\n",
    "    :return coefs: коэффициенты модели\n",
    "    \"\"\"\n",
    "    alphas = np.logspace(log_min, log_max, num) # сетка параметров\n",
    "\n",
    "    plt.figure(figsize=figsize)\n",
    "    ax = plt.gca() # используется для получения текущего экземпляра axes\n",
    "    ax.hlines(0, 10 ** log_min, 10 ** log_max, linewidth=15, alpha=0.15)\n",
    "    ind = 1\n",
    "    for coef in np.array(coefs).T:\n",
    "        label = r'$\\theta_{' + str(ind) + '}$'\n",
    "        ax.plot(alphas, coef, linewidth=2, label=label) # рисуем коэффициенты в зависимости от alpha\n",
    "        ind += 1\n",
    "\n",
    "    ax.set_xscale('log') # логарифмическая шкала\n",
    "    ax.set_xlim(ax.get_xlim()[::-1])  # обратить ось\n",
    "    plt.xlabel('Параметр регуляризации', fontsize=19)\n",
    "    plt.ylabel('Значения коэффициентов', fontsize=19)\n",
    "    plt.title(title, fontsize=22)\n",
    "    plt.legend(loc='upper left', fontsize=8)\n",
    "    plt.axis('tight')\n",
    "    plt.show()"
   ]
  },
  {
   "cell_type": "markdown",
   "metadata": {
    "id": "igELTCv5Juvg"
   },
   "source": [
    "#### 1. Загрузка данных\n",
    "\n",
    "#### *Профиль биология*\n",
    "\n",
    "Скачайте данные с [сайта](https://miptstats.github.io/courses/ad_mipt.html). Оригинал вместе с описанием можно найти [здесь](https://archive.ics.uci.edu/ml/datasets/Parkinsons+Telemonitoring). Сами данные лежат в `Data Folder`. Файл `.data` можно читать с помощью `read_csv`. В этой задаче мы хотим предсказать уровень выраженности болезни Паркинсона в зависимости от параметров речи пациента. В датасете есть записи о 42 пациентах, для каждого некотрое количество записей."
   ]
  },
  {
   "cell_type": "code",
   "execution_count": null,
   "metadata": {
    "colab": {
     "base_uri": "https://localhost:8080/"
    },
    "id": "SYdtOVBVJuvh",
    "outputId": "b287a77c-d540-4cc4-b139-d5137106a977"
   },
   "outputs": [],
   "source": [
    "data = pd.read_csv('/content/data_hw4/parkinsons_updrs.data', sep=',')\n",
    "data.info()"
   ]
  },
  {
   "cell_type": "markdown",
   "metadata": {
    "id": "W43nQG8dJuvh"
   },
   "source": [
    "Нас интересует предсказание `total_UPDRS` &mdash; степени заболевания. Для корректной постановки задачи удалите из данных столбец `motor_UPDRS`, так как это тоже мера тяжести заболевания, но лишь в аспекте моторных нарушений. Будем предсказывать значение `total_UPDRS` в зависимости от остальных признаков.\n",
    "\n",
    "Также обратите внимане, что в данных есть группы (пациенты). Колонку `subject#` следует использовать не в качестве признака, а в качестве группы. Разделите данные на признаки $X$, таргет $y$ и массив номеров групп."
   ]
  },
  {
   "cell_type": "code",
   "execution_count": null,
   "metadata": {
    "id": "2ET5msHtJuvh"
   },
   "outputs": [],
   "source": [
    "data.drop('motor_UPDRS', axis = 1, inplace = True)\n",
    "X = data.drop('total_UPDRS', axis = 1)\n",
    "y = data['total_UPDRS']"
   ]
  },
  {
   "cell_type": "markdown",
   "metadata": {
    "id": "iKaMlFbDJuvi"
   },
   "source": [
    "Разбейте данные на обучающую и тестовую выборки в соотношении 7:3. Здесь не подойдет стандартный метод `test_train_split`, так как в данных есть группы. *Нельзя допускать, чтобы разные записи для одного пациента попали в разные подвыборки*.\n",
    "\n",
    "**Также, выведите что-либо, подтверждающее данное свойство.**\n",
    "\n"
   ]
  },
  {
   "cell_type": "code",
   "execution_count": null,
   "metadata": {
    "colab": {
     "base_uri": "https://localhost:8080/"
    },
    "id": "Eq0n5R9nJuvi",
    "outputId": "b479e9dc-f368-481b-cd36-b204b86586de"
   },
   "outputs": [],
   "source": [
    "groups = data[\"subject#\"]\n",
    "gss = GroupShuffleSplit(n_splits = 1, test_size = 0.3, random_state = 42)\n",
    "train_index, test_index = next(gss.split(X, y, groups = groups))\n",
    "\n",
    "X_train, X_test = X.iloc[train_index], X.iloc[test_index]\n",
    "y_train, y_test = y.iloc[train_index], y.iloc[test_index]\n",
    "\n",
    "# Давайте выведем уникальные номера пациентов в обучающей выборке, чтобы подтвердить, что данные пациента остаются в одной выборке\n",
    "print(\"Номера пациентов в обучающей выборке:\")\n",
    "print(*groups.iloc[train_index].unique())\n",
    "\n",
    "print(\"\\nНомера пациентов в тестовой выборке:\")\n",
    "print(*groups.iloc[test_index].unique())"
   ]
  },
  {
   "cell_type": "markdown",
   "metadata": {
    "id": "Lk4TWFZ_Juvi"
   },
   "source": [
    "Далее везде, вплоть до сравнения моделей в задаче 3, используйте обучающую выборку.\n",
    "\n",
    "**Переходите к пункту 2.**"
   ]
  },
  {
   "cell_type": "markdown",
   "metadata": {
    "id": "Vsg2TbVUJuvj"
   },
   "source": [
    "#### *Профиль физика*\n",
    "\n",
    "Загрузите данные с <a href=\"https://miptstats.github.io/courses/ad_mipt.html\">сайта</a>. Данные были предобработаны и сокращены для более быстрой работы алгоритмов предсказания, так как в этом задании их будет большое кол-во. С исходными данными вы можете ознакомиться <a href=\"https://www.kaggle.com/datasets/burakhmmtgl/energy-molecule\">здесь</a>.\n",
    "\n",
    "В таблице находятся записи в кулоновской матрице в сжатом виде, которые действуют как молекулярные признаки. 0-я колонка — это Pubchem Id, по этому числу вы можете понять, для какой молекулы приведены числа. Этот столбец возьмем в качестве индекса строк. Последний столбец `Eat` — это энергия распыления, рассчитанная путем моделирования с использованием пакета Quantum Espresso. Этот столбец и является целевой переменной.\n",
    "\n",
    "*Для интересующихся: cнижение размерности пространства признаков проводилось с помощью <a href=\"https://scikit-learn.org/stable/modules/generated/sklearn.decomposition.PCA.html\">метода главных компонент</a>*."
   ]
  },
  {
   "cell_type": "code",
   "execution_count": null,
   "metadata": {
    "id": "WopK-rbhJuvj"
   },
   "outputs": [],
   "source": [
    "data = pd.read_csv('physics_data.csv', index_col=0)\n",
    "data.head()"
   ]
  },
  {
   "cell_type": "markdown",
   "metadata": {
    "id": "q5F5lo8kJuvj"
   },
   "source": [
    "Разделите данные на признаки $X$ и целевые переменные $y$. **Для дальнейших заданий оставьте 20 признаков.**"
   ]
  },
  {
   "cell_type": "code",
   "execution_count": null,
   "metadata": {
    "id": "Q6BSwKimJuvj"
   },
   "outputs": [],
   "source": [
    "<...>"
   ]
  },
  {
   "cell_type": "markdown",
   "metadata": {
    "id": "0WG5abCZJuvj"
   },
   "source": [
    "Разделите выборку в отношении 7:3. Далее везде, вплоть до сравнения моделей, используйте обучающую выборку."
   ]
  },
  {
   "cell_type": "code",
   "execution_count": null,
   "metadata": {
    "id": "GNEjXTjTJuvj"
   },
   "outputs": [],
   "source": [
    "X_train, X_test, y_train, y_test = <...>"
   ]
  },
  {
   "cell_type": "markdown",
   "metadata": {
    "id": "9r7g101IJuvk"
   },
   "source": [
    "Далее везде, вплоть до сравнения моделей в задаче 3, используйте обучающую выборку.\n"
   ]
  },
  {
   "cell_type": "markdown",
   "metadata": {
    "id": "--rJ0ZwYJuvk"
   },
   "source": [
    "#### 2. Влияние регуляризации на коэффициенты моделей\n",
    "\n",
    "Примените стандартизацию к обучающей и тестовой выборкам, используя класс <a href=\"https://scikit-learn.org/stable/modules/generated/sklearn.preprocessing.StandardScaler\">`StandardScaler`</a>."
   ]
  },
  {
   "cell_type": "code",
   "execution_count": null,
   "metadata": {
    "id": "15Q18fz_Juvk"
   },
   "outputs": [],
   "source": [
    "scaler = StandardScaler()\n",
    "\n",
    "X_train_std_scal = scaler.fit_transform(X_train)\n",
    "X_test_std_scal = scaler.transform(X_test)"
   ]
  },
  {
   "cell_type": "markdown",
   "metadata": {
    "id": "tcBL26a4Juvk"
   },
   "source": [
    "\n",
    "Исследуйте зависимость значений коэффициентов от параметра регуляризации `alpha` для Ridge, Lasso, Elastic регрессий. Используйте функции `calculate_coefs` и `draw_track`, реализованные в самом начале этой задачи."
   ]
  },
  {
   "cell_type": "markdown",
   "metadata": {
    "id": "TTL3MD3SJuvk"
   },
   "source": [
    "Нарисуйте графики. Предложите диапазоны значений, где стоило бы искать оптимальные параметры регуляризации."
   ]
  },
  {
   "cell_type": "code",
   "execution_count": null,
   "metadata": {
    "colab": {
     "base_uri": "https://localhost:8080/",
     "height": 1000
    },
    "id": "45A6NHrnJuvk",
    "outputId": "4e984586-5e81-431b-c3ef-009e1610a61f"
   },
   "outputs": [],
   "source": [
    "# Ridge регрессия\n",
    "# инициализация и обучение моддели\n",
    "ridge_model = Ridge()\n",
    "\n",
    "# коэффициенты регрессии\n",
    "ridge_coefs = calculate_coef(ridge_model, X_train_std_scal, y_train, -5, 5, 100)\n",
    "\n",
    "# отрисовка\n",
    "draw_track(ridge_coefs, -5, 5, 100, 'Ridge Regression')\n",
    "\n",
    "\n",
    "# Lasso регрессия\n",
    "lasso_model = Lasso()\n",
    "lasso_coefs = calculate_coef(lasso_model, X_train_std_scal, y_train, -5, 5, 100)\n",
    "draw_track(lasso_coefs, -5, 5, 100, 'Lasso Regression')\n",
    "\n",
    "# Elastic регрессия\n",
    "elastic_model = ElasticNet(l1_ratio = 0.5)  # установите какое-то значение l1_ratio\n",
    "elastic_coefs = calculate_coef(elastic_model, X_train_std_scal, y_train, -5, 5, 100)\n",
    "draw_track(elastic_coefs, -5, 5, 100, 'Elastic Net Regression')"
   ]
  },
  {
   "cell_type": "markdown",
   "metadata": {
    "id": "lLAPwhHNJuvl"
   },
   "source": [
    "**Ответ:**\n",
    "\n",
    "Оптимальные диапазоны для значения параметра регуляризации $\\alpha$ могут явно зависеть от конкретных данных. Но я бы предположил, что для начала стоит начать с диапазона [-5, 5], так как логарифм от этого значения будет варьироваться в широком диапазоне. При необходимости, можно расширить или уменьшить этот диапазон в зависимости от полученных результатов. Но исходя из полученных рафиков данного диапазона более чем достаточно."
   ]
  },
  {
   "cell_type": "markdown",
   "metadata": {
    "id": "TDYHpIARJuvl"
   },
   "source": [
    "Посмотрите, как выглядят графики без стандартизации. Почему так происходит?"
   ]
  },
  {
   "cell_type": "markdown",
   "metadata": {
    "id": "peTdmfd3Juvl"
   },
   "source": [
    "**Ответ:**\n",
    "\n",
    "Возможно основной проблемой является мультиколлинеарность. Без стандартизации разные признаки могут взаимодействовать друг с другом, и это может привести к плохой оценке коэффициентов.\n",
    "\n",
    "Также стоит учесть вариант того что признаки могут иметь разный масштаб, ведь в этом случае коэффициенты регрессии будут зависеть от конкретной шкалы для каждого произнака."
   ]
  },
  {
   "cell_type": "markdown",
   "metadata": {
    "id": "y6vxrXaEJuvl"
   },
   "source": [
    "#### <b><font color=\"orange\">Сложная часть</font></b>\n",
    "### Задача 3\n",
    "\n",
    "\n",
    "Эта задание является продолжением предыдущего. Здесь не нужно загружать новые данные, продолжайте работать с выбранными вами данными.\n",
    "\n",
    "**1.** Для Elastic исследуйте зависимость от параметра `l1_ratio`. Постройте график изменения весов признаков в зависимости от `l1_ratio` для первых 20 признаков из датасета."
   ]
  },
  {
   "cell_type": "code",
   "execution_count": null,
   "metadata": {
    "colab": {
     "base_uri": "https://localhost:8080/",
     "height": 593
    },
    "id": "J_EKwCUhJuvl",
    "outputId": "19f5d26f-366e-45c0-f06e-66f9c01eab8e"
   },
   "outputs": [],
   "source": [
    "grid = np.linspace(0, 1, 100)\n",
    "coefs = []\n",
    "model = ElasticNet(alpha = 1.0, l1_ratio = 0.5)\n",
    "\n",
    "for l1_ratio in grid:\n",
    "    model.set_params(l1_ratio = l1_ratio) # Задайте новый параметр модели\n",
    "    model.fit(X_train_std_scal, y_train) # Обучите\n",
    "    coefs.append(model.coef_.copy()) # Добавьте в список\n",
    "\n",
    "# Для визуализации можно использовать код из функции draw_track\n",
    "draw_track(coefs, -5, 5, 100, title = 'ElasticNet Coefficients', figsize = (12, 6))"
   ]
  },
  {
   "cell_type": "markdown",
   "metadata": {
    "id": "XubBZOxiJuvl"
   },
   "source": [
    "Предложите диапазоны значений, где стоило бы искать оптимальные параметры регуляризации."
   ]
  },
  {
   "cell_type": "markdown",
   "metadata": {
    "id": "r4VloSLAJuvm"
   },
   "source": [
    "**Вывод:**\n",
    "\n",
    "В контескте данной задачи отметим, что:\n",
    "\n",
    "1) $\\alpha$ - параметр отвечает за силу регуляризации. В прошлом семинаре мы пришли к выводу, что чем больше значение $\\alpha$, тем сильнее проявляется регуляризация, а это в свою очередь приводит к уменьшению абсолютных значений весов признаков. Низкие же значения $\\alpha$ позволяют модели иметь более сложные веса признаков.\n",
    "\n",
    "2) l1_ratio - параметр, который определяет соотношение между Lasso и Ridge регуляризацией. В случае, когда l1_ratio равно 0, это эквивалентно только Ridge, а когда l1_ratio равно 1, это эквивалентно только Lasso. Промежуточные значения l1_ratio комбинируют обе регуляризации.\n",
    "\n",
    "Т.о. исходя из полученных грфаиков можно предложить использовать для параметра $\\alpha$ диапазон от 0.01 до 1 с логарифмическим шагом. Для l1_ratio можно предложить равномерное распределение от 0.1 до 0.9.\n",
    "\n",
    "Вообще, это можно ручками не подбирать, а использовать просто метод кросс-валидации :)\n"
   ]
  },
  {
   "cell_type": "markdown",
   "metadata": {
    "id": "J_BC3my8Juvm"
   },
   "source": [
    "**2.** Проиллюстрируйте, как меняется качество предсказания моделей при изменении параметра `alpha`. Возьмите `Ridge`, `Lasso` и 3 `ElasticNet` с разными фиксированными значениями `l1_ratio` &mdash; вы будете исследовать 5 моделей с регуляризацией и 1 без нее."
   ]
  },
  {
   "cell_type": "markdown",
   "metadata": {
    "id": "UKcvh_CRJuvm"
   },
   "source": [
    "***Физика:*** Для этого задания возьмите полный датасет &mdash; все 300 признаков."
   ]
  },
  {
   "cell_type": "code",
   "execution_count": null,
   "metadata": {
    "id": "hJMvS8abJuvm"
   },
   "outputs": [],
   "source": [
    "linreg_model = LinearRegression()\n",
    "linreg_model.fit(X_train, y_train)\n",
    "y_linreg_pred = linreg_model.predict(X_test)"
   ]
  },
  {
   "cell_type": "markdown",
   "metadata": {
    "id": "dq_KlIjvJuvm"
   },
   "source": [
    "Сначала посчитайте ошибки для линейной регрессии без регуляризации."
   ]
  },
  {
   "cell_type": "code",
   "execution_count": null,
   "metadata": {
    "id": "14F5XKc_Juvn"
   },
   "outputs": [],
   "source": [
    "linreg = {}\n",
    "linreg['MSE'] = mean_squared_error(y_test, y_linreg_pred)\n",
    "linreg['MAE'] = mean_absolute_error(y_test, y_linreg_pred)\n",
    "linreg['MAPE'] = mean_absolute_percentage_error(y_test, y_linreg_pred)"
   ]
  },
  {
   "cell_type": "markdown",
   "metadata": {
    "id": "15BhU3bWJuvn"
   },
   "source": [
    "Допишите функцию для отрисовки изменения величины ошибки от параметра регуляризации."
   ]
  },
  {
   "cell_type": "code",
   "execution_count": null,
   "metadata": {
    "id": "J6gzehHwJuvn"
   },
   "outputs": [],
   "source": [
    "def draw_errors(error, error_name, alphas):\n",
    "\n",
    "    \"\"\"\n",
    "    Функция строит график зависимости величины ошибки от параметра alpha для разных моделей\n",
    "\n",
    "    :param error: функция, вычисляющая ошибку\n",
    "    :param error_name: имя функции, вычисляющей ошибку (одно из 'MSE', 'MAE', 'MAPE')\n",
    "    :param alphas: массив величин alpha\n",
    "    \"\"\"\n",
    "    arr = [] # массив ошибок\n",
    "    for a in alphas:\n",
    "        tmp = [] # массив ошибок\n",
    "        models = [\n",
    "            Ridge(alpha = a),\n",
    "            Lasso(alpha = a),\n",
    "            ElasticNet(alpha = a, l1_ratio = 0.2),\n",
    "            ElasticNet(alpha = a, l1_ratio = 0.5),\n",
    "            ElasticNet(alpha = a, l1_ratio = 0.8),\n",
    "            linreg_model\n",
    "        ]\n",
    "        for model in models:\n",
    "\n",
    "            # обучение модели и предсказание\n",
    "            model.fit(X_train_std_scal, y_train)\n",
    "            y_pred = model.predict(X_test_std_scal)\n",
    "            tmp.append(error(y_test, y_pred))\n",
    "        arr.append(tmp)\n",
    "\n",
    "    arr = np.array(arr)\n",
    "    plt.figure(figsize=(10, 6), dpi=100)\n",
    "\n",
    "    names = ['Ridge (l1_ratio = 1)', 'Lasso', 'ElasticNet (l1_ratio = 0.2)', 'ElasticNet (l1_ratio = 0.5)', 'ElasticNet (l1_ratio = 0.8)', 'No regularization']\n",
    "    for i in range(5):\n",
    "        plt.plot(alphas, arr[:, i], label=names[i]) # рисуем ошибки в зависимости от alpha\n",
    "\n",
    "    # прерывистой линией рисуем ошибки логрега без регуляризации\n",
    "    plt.hlines(linreg[error_name], alphas[0], alphas[-1], color='black', label = 'No regularization', linestyles='dashed')\n",
    "    plt.xlabel('Параметр регуляризации')\n",
    "    plt.ylabel(error_name)\n",
    "    plt.xscale('log')\n",
    "    plt.legend()"
   ]
  },
  {
   "cell_type": "markdown",
   "metadata": {
    "id": "vSEGzOrNJuvn"
   },
   "source": [
    "Постройте графики для MSE, MAE и MAPE. Возьмите предложенный массив `alphas`."
   ]
  },
  {
   "cell_type": "code",
   "execution_count": null,
   "metadata": {
    "id": "AlNEhEP4Juvn"
   },
   "outputs": [],
   "source": [
    "alphas = np.logspace(-2, 8, 20)"
   ]
  },
  {
   "cell_type": "code",
   "execution_count": null,
   "metadata": {
    "colab": {
     "base_uri": "https://localhost:8080/",
     "height": 1000
    },
    "id": "42nr5CXoJuvo",
    "outputId": "f92489c7-a727-4f5d-fbf9-8198412d779a"
   },
   "outputs": [],
   "source": [
    "# вложите в функции метрики\n",
    "draw_errors(mean_squared_error, 'MSE', alphas)\n",
    "draw_errors(mean_absolute_error, 'MAE', alphas)\n",
    "draw_errors(mean_absolute_percentage_error, 'MAPE', alphas)"
   ]
  },
  {
   "cell_type": "markdown",
   "metadata": {
    "id": "lGziVFxnJuvo"
   },
   "source": [
    "Оцените по графикам, в каких диапазонах достигается наилучшее качетсво предсказания моделей. Постройте графики для более узкого диапазона, чтобы сравнить модели более детально."
   ]
  },
  {
   "cell_type": "code",
   "execution_count": null,
   "metadata": {
    "colab": {
     "base_uri": "https://localhost:8080/",
     "height": 1000
    },
    "id": "2i4920xPJuvo",
    "outputId": "d232f65e-2eaf-4292-e369-bb6bc2d97286"
   },
   "outputs": [],
   "source": [
    "# Более узкий диапазон alpha\n",
    "alphas_ = np.logspace(-2, 2, 10)\n",
    "\n",
    "# Построим графики для более узкого диапазона\n",
    "draw_errors(mean_squared_error, 'MSE', alphas_)\n",
    "draw_errors(mean_absolute_error, 'MAE', alphas_)\n",
    "draw_errors(mean_absolute_percentage_error, 'MAPE', alphas_)"
   ]
  },
  {
   "cell_type": "markdown",
   "metadata": {
    "id": "XCXKAKLQJuvo"
   },
   "source": [
    "**3.** Сделайте общий вывод по задаче.\n",
    "\n",
    "Укажите: в чем разница между `L1` и `L2` регуляризациями, как реализуется регуляризация в `ElasticNet`, что такое `l1-ratio` и зачем нужен, как это видно в наших графиках. (Своими словами)"
   ]
  },
  {
   "cell_type": "markdown",
   "metadata": {
    "id": "1uJPEWV_Juvo"
   },
   "source": [
    "**Вывод:**\n",
    "\n",
    "**Разница между L1 и L2 регуляризациями:**\n",
    "\n",
    "1) L1 регуляризация штрафует модель за слишком большие значения коэффициентов. Как следствие, это приводит к отбору нужных признаков. Она добавляет сумму абсолютных значений коэффициентов к функции потерь.\n",
    "\n",
    "2) L2 регуляризация также штрафует за большие значения коэффициентов, но использует сумму квадратов коэффициентов. В отличие от L1, она обычно не приводит к полному исключению признаков.\n",
    "\n",
    "**Регуляризация в ElasticNet:**\n",
    "\n",
    "ElasticNet представляет собой комбинацию L1 и L2 регуляризаций. Она добавляет как штраф за сумму абсолютных значений коэффициентов, так и за сумму квадратов коэффициентов. Это позволяет учитывать как отбор признаков, так и устойчивость к мультиколлинеарности.\n",
    "\n",
    "**l1-ratio в ElasticNet:**\n",
    "\n",
    "l1-ratio в ElasticNet - параметр, который управляет балансом между L1 и L2 регуляризаций. Когда l1-ratio равно 0, это соответствует чистой L2 регуляризации, а когда 1 - чистой L1 регуляризации. Промежуточные значения соответствуют комбинированной регуляризации.\n",
    "\n",
    "**Вывод из графиков:**\n",
    "\n",
    "Графики зависимости значений коэффициентов от параметра регуляризации alpha и l1-ratio иллюстрируют, как регуляризация влияет на веса модели. Увеличение alpha усиливает регуляризацию, что может привести к уменьшению весов модели.\n",
    "Изменение l1-ratio в ElasticNet также влияет на форму графика, что приводит к более осознанному отбору признаков и устойчивостью к мультиколлинеарности, как было отмесено ранее.\n",
    "\n",
    "**Итог:**\n",
    "\n",
    "В целом, регуляризация важна для решения проблемы  переобучения и улучшения качества нашей модели. Выбор между L1, L2 и их комбинацией зависит от конкретного типа задачи."
   ]
  },
  {
   "cell_type": "markdown",
   "metadata": {
    "id": "VMG7yYpqJuvp"
   },
   "source": [
    "## Задача 4\n",
    "\n",
    "\n",
    "Регуляризацию спользуют не только в задачах регрессии, но и в задачах классификации.\n",
    "\n",
    "Пусть дана выборка $(x_1, Y_1), ..., (x_n, Y_n)$, где $x_i = (x_{i1}, ..., x_{id}) \\in \\mathscr{X}$ и случайный класс $Y_i \\sim Bern\\left(\\sigma (\\theta^T x_i)\\right)$. В задаче логистической регрессии максимизируется функция *правдоподобия*, а точнее - ее логарифм.\n",
    "$$L_Y (\\theta)= \\prod\\limits_{i=1}^n \\sigma (\\theta^T x_i)^{Y_i} \\left(1 - \\sigma (\\theta^T x_i)\\right)^{1-Y_i}$$\n",
    "\n",
    "$$\\ell_Y(\\theta) = \\log L_Y(\\theta)$$\n",
    "\n",
    "$$\\ell_Y(\\theta) \\longrightarrow \\max_\\theta.$$\n",
    "Регуляризация заключается в искусственном усечении значений вектора оценок коэффициентов путем добавления его нормы к оптимизируемому функционалу. В случае логистической регрессии мы максимизируем функцию правдоподобия, поэтому норма добавляется со знаком минус. Тем самым решается задача\n",
    "$$\\ell_Y(\\theta) - \\lambda \\|\\theta\\|^2\\longrightarrow \\max_\\theta,$$\n",
    "где $\\lambda > 0$ &mdash; гиперпараметр модели, то есть число, которое задается пользователем. Мы получили логистическую регрессию c **$l_2$-регуляризацией**.\n",
    "\n",
    "*Замечание.* Такая модель дает некоторое *другое приближение* неизвестной зависимости. Но неправильно думать, что она не может дать \"правильный\" ответ, потому такого понятия как \"правильный ответ\" в подобных задачах не существует. Можно получить только *более качественное приближение*,согласно выбранной метрике."
   ]
  },
  {
   "cell_type": "markdown",
   "metadata": {
    "id": "-f2hXynLJuvp"
   },
   "source": [
    "Выведите формулу поиска оценки коэффициентов методом *градиентного подъёма* и *стохастического градиентного подъёма* для\n",
    "- модели логистической регрессии без регуляризации\n",
    "- модели логистической регрессии c ridge-регуляризацией"
   ]
  },
  {
   "cell_type": "markdown",
   "metadata": {
    "id": "Vm2008nC_zdc"
   },
   "source": [
    "![photo_2024-03-01_20-10-56.jpg](data:image/jpeg;base64,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)"
   ]
  }
 ],
 "metadata": {
  "colab": {
   "provenance": []
  },
  "kernelspec": {
   "display_name": "Python 3 (ipykernel)",
   "language": "python",
   "name": "python3"
  },
  "language_info": {
   "codemirror_mode": {
    "name": "ipython",
    "version": 3
   },
   "file_extension": ".py",
   "mimetype": "text/x-python",
   "name": "python",
   "nbconvert_exporter": "python",
   "pygments_lexer": "ipython3",
   "version": "3.11.7"
  }
 },
 "nbformat": 4,
 "nbformat_minor": 4
}
