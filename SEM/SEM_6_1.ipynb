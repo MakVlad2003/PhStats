{
 "cells": [
  {
   "cell_type": "code",
   "execution_count": null,
   "id": "0",
   "metadata": {
    "id": "00ac8c58"
   },
   "outputs": [],
   "source": [
    "import numpy as np\n",
    "import matplotlib.pyplot as plt\n",
    "import seaborn as sns\n",
    "import scipy\n",
    "import scipy.stats as sps\n",
    "import pandas as pd\n",
    "\n",
    "\n",
    "red = '#FF3300'\n",
    "blue = '#0099CC'\n",
    "green = '#00CC66'\n",
    "\n",
    "sns.set_style(\"whitegrid\")"
   ]
  },
  {
   "cell_type": "markdown",
   "id": "1",
   "metadata": {
    "id": "509a33ef"
   },
   "source": [
    "## Выборочные квантили\n",
    "\n",
    "### Загрузка данных"
   ]
  },
  {
   "cell_type": "markdown",
   "id": "2",
   "metadata": {
    "id": "749c2b5a"
   },
   "source": [
    "В данной задаче вы изучите структуру графика `boxplot` и познакомитесь с выборочными квантилями.\n",
    "\n",
    "Загрузите данные экспрессии белков у белых мышей и оставьте следующие белки для анализа:\n",
    "* `pCAMKII_N`\n",
    "* `pELK_N`\n",
    "* `ARC_N`"
   ]
  },
  {
   "cell_type": "code",
   "execution_count": null,
   "id": "3",
   "metadata": {
    "colab": {
     "base_uri": "https://localhost:8080/",
     "height": 342
    },
    "id": "a091b36a",
    "outputId": "76811272-56d9-4865-df58-dc9523262b19"
   },
   "outputs": [],
   "source": [
    "data = pd.read_csv('Data_Cortex_Nuclear_quantilie.csv')\n",
    "data.head()"
   ]
  },
  {
   "cell_type": "markdown",
   "id": "4",
   "metadata": {
    "id": "O1ZZtdshI18G"
   },
   "source": [
    "### Подсчет выборочных квантилей"
   ]
  },
  {
   "cell_type": "markdown",
   "id": "5",
   "metadata": {
    "id": "Y0gi0f0vHcMD"
   },
   "source": [
    "Для посчета выборочных квантилей в библиотеке `numpy` есть функция `numpy.quantile`. На вход ей передается исследуемый массив и значение квантиля.\n",
    "\n",
    "Посчитайте с помощью этой функции выборочную медиану для признака `pCAMKII_N`"
   ]
  },
  {
   "cell_type": "code",
   "execution_count": null,
   "id": "6",
   "metadata": {
    "colab": {
     "base_uri": "https://localhost:8080/"
    },
    "id": "QcZWSaq5Hb1N",
    "outputId": "b5978064-bf26-41f5-f52c-7021a1f010e3"
   },
   "outputs": [],
   "source": [
    "median = np.nanquantile(data['pCAMKII_N'], 0.5)\n",
    "print(\"Выборочная медиана:\", median)"
   ]
  },
  {
   "cell_type": "markdown",
   "id": "7",
   "metadata": {
    "id": "wd2O-WTWH1LE"
   },
   "source": [
    "Функция должна вернуть `nan`. Проверьте столбец на наличие пропусков, выведите их количество"
   ]
  },
  {
   "cell_type": "code",
   "execution_count": null,
   "id": "8",
   "metadata": {
    "colab": {
     "base_uri": "https://localhost:8080/"
    },
    "id": "cRoB-wxwH8pG",
    "outputId": "e87b5c03-e4a5-4387-de38-574288d5ef6d"
   },
   "outputs": [],
   "source": [
    "missing = data['pCAMKII_N'].isnull().sum()\n",
    "print(\"Количество пропусков:\", missing)"
   ]
  },
  {
   "cell_type": "markdown",
   "id": "9",
   "metadata": {
    "id": "EE23bJxeIDvB"
   },
   "source": [
    "Получите значение выборочной медианы, удалив пропуски"
   ]
  },
  {
   "cell_type": "code",
   "execution_count": null,
   "id": "10",
   "metadata": {
    "colab": {
     "base_uri": "https://localhost:8080/"
    },
    "id": "QJY6D9ySIPiD",
    "outputId": "b19fec06-78e1-4f44-ff6a-3bb2012c9527"
   },
   "outputs": [],
   "source": [
    "median_without_nan = np.nanmedian(data['pCAMKII_N'])\n",
    "print(\"Выборочная медиана без пропусков:\", median_without_nan)"
   ]
  },
  {
   "cell_type": "markdown",
   "id": "11",
   "metadata": {
    "id": "Z8Z_ttL4Ical"
   },
   "source": [
    "Для работы с пропущенными значениями в `numpy` есть специальная функция `numpy.nanquantile`\n",
    "\n",
    "Посчитайте значение выборочной медианы с использованием этой функции (пропуски не удаляйте) и сравните ответы"
   ]
  },
  {
   "cell_type": "code",
   "execution_count": null,
   "id": "12",
   "metadata": {
    "colab": {
     "base_uri": "https://localhost:8080/"
    },
    "id": "Boh9tF2BItoY",
    "outputId": "62dda77b-9e7e-4694-81f4-913ee4f1c2ae"
   },
   "outputs": [],
   "source": [
    "median_with_nanquantile = np.nanquantile(data['pCAMKII_N'], 0.5)\n",
    "print(\"Выборочная медиана с использованием np.nanquantile:\", median_with_nanquantile)"
   ]
  },
  {
   "cell_type": "markdown",
   "id": "13",
   "metadata": {
    "id": "3d131c40"
   },
   "source": [
    "### Визуализация квантилей и изучение boxplot"
   ]
  },
  {
   "cell_type": "markdown",
   "id": "14",
   "metadata": {
    "id": "cc50bdd9"
   },
   "source": [
    "Допишите функцию для совместной визуализации `boxplot` и гистограммы с нанесенными на нее квантилями"
   ]
  },
  {
   "cell_type": "code",
   "execution_count": null,
   "id": "15",
   "metadata": {
    "id": "bee2a340"
   },
   "outputs": [],
   "source": [
    "def draw_quintiles(data, alphas, ymax=0.4):\n",
    "    '''\n",
    "    data: pd.Series - столбец из рассматриваемого признака\n",
    "    alphas: list[float] - массив из значений интересуемых квантилей, которые будут отрисованы\n",
    "    ymax: float - максимальное значение для вертикальных линий на гистограмме\n",
    "    '''\n",
    "    title = data.name\n",
    "    f, (ax_box, ax_hist) = plt.subplots(2, sharex=True, gridspec_kw={\"height_ratios\": (.15, .85)},figsize=(14, 8))\n",
    "    f.suptitle(f\"Распределение {title}\")\n",
    "\n",
    "    sns.boxplot(x=data, ax=ax_box, color=blue)\n",
    "\n",
    "    for alpha in alphas:\n",
    "        nearest = np.nanquantile(data, alpha)\n",
    "        ax_hist.vlines(nearest, 0, ymax, color=\"red\", label=f'{alpha} квантиль')\n",
    "    sns.histplot(data=data, kde=True, ax=ax_hist, stat='density')\n",
    "\n",
    "    plt.legend()\n",
    "    plt.show()"
   ]
  },
  {
   "cell_type": "markdown",
   "id": "16",
   "metadata": {
    "id": "hWeX-C-oJb91"
   },
   "source": [
    "Какие квантили соответствуют границам \"ящика с усами\"? Допишите их и нарисуйте графики для разных признаков"
   ]
  },
  {
   "cell_type": "code",
   "execution_count": null,
   "id": "17",
   "metadata": {
    "id": "f44bcd96"
   },
   "outputs": [],
   "source": [
    "alphas = [0.25, 0.75]"
   ]
  },
  {
   "cell_type": "code",
   "execution_count": null,
   "id": "18",
   "metadata": {
    "colab": {
     "base_uri": "https://localhost:8080/",
     "height": 776
    },
    "id": "690d434e",
    "outputId": "21e2169c-e3f8-4314-c9e8-8de53cd4c4cc"
   },
   "outputs": [],
   "source": [
    "draw_quintiles(data.pCAMKII_N, alphas)"
   ]
  },
  {
   "cell_type": "code",
   "execution_count": null,
   "id": "19",
   "metadata": {
    "colab": {
     "base_uri": "https://localhost:8080/",
     "height": 776
    },
    "id": "04c85afc",
    "outputId": "ae58766b-5b78-41b9-ef5d-577ae4b59c50"
   },
   "outputs": [],
   "source": [
    "draw_quintiles(data.ARC_N, alphas, 25)"
   ]
  },
  {
   "cell_type": "code",
   "execution_count": null,
   "id": "20",
   "metadata": {
    "colab": {
     "base_uri": "https://localhost:8080/",
     "height": 776
    },
    "id": "2d55053a",
    "outputId": "c8525bac-3f2b-4783-d5b2-304ca3720731"
   },
   "outputs": [],
   "source": [
    "draw_quintiles(data.pELK_N, alphas, 1.7)"
   ]
  },
  {
   "cell_type": "markdown",
   "id": "21",
   "metadata": {
    "id": "27ca18ef"
   },
   "source": [
    "Сделайте вывод"
   ]
  },
  {
   "cell_type": "markdown",
   "id": "22",
   "metadata": {
    "id": "e79d92cb"
   },
   "source": [
    "**Ответ:** Из трех графиков видно, что признак pELK_N имеет выбросы. Это видно по кружочкам, которые находятся за границей boxplot и по гистограмме."
   ]
  },
  {
   "cell_type": "markdown",
   "id": "23",
   "metadata": {
    "id": "a9bedfbe"
   },
   "source": [
    "###  Сравнение медианы и среднего"
   ]
  },
  {
   "cell_type": "markdown",
   "id": "24",
   "metadata": {
    "id": "263be1d8"
   },
   "source": [
    "Постройте гистограммы для каждой выборки, отметьте на них положение среднего и медианы. Объясните причины полученных расхождений (в случае их наличия)"
   ]
  },
  {
   "cell_type": "code",
   "execution_count": null,
   "id": "25",
   "metadata": {
    "colab": {
     "base_uri": "https://localhost:8080/",
     "height": 619
    },
    "id": "13ef6b0c",
    "outputId": "f63a23b7-e4e7-4fd4-d5cf-d1fe3a3864c5"
   },
   "outputs": [],
   "source": [
    "plt.figure(figsize=(14,7))\n",
    "sns.histplot(data['pELK_N'],kde=True)\n",
    "\n",
    "median_value = np.nanmedian(data['pELK_N'])\n",
    "mean_value = np.nanmean(data['pELK_N'])\n",
    "\n",
    "plt.vlines(median_value, 0, 120, color=red,label=r'$\\hat{\\mu}$')\n",
    "plt.vlines(mean_value, 0, 120, color='black',label=r'$\\overline{X}$')\n",
    "plt.legend();"
   ]
  },
  {
   "cell_type": "markdown",
   "id": "26",
   "metadata": {
    "id": "55194462"
   },
   "source": [
    "**Ответ:** Несовпадение связано как раз-таки с выбросами (ассиметричность данных), т.е. видно наличие длинного правого хвоста. Т.о. можно сденлать вывод о ттом что среднее очень сильно зависит от выбросов."
   ]
  },
  {
   "cell_type": "code",
   "execution_count": null,
   "id": "27",
   "metadata": {
    "colab": {
     "base_uri": "https://localhost:8080/",
     "height": 619
    },
    "id": "69eaf503",
    "outputId": "965a897b-96f6-4137-d79c-4cf36d38624b"
   },
   "outputs": [],
   "source": [
    "plt.figure(figsize=(14,7))\n",
    "sns.histplot(data['ARC_N'],kde=True)\n",
    "\n",
    "median_value = np.nanmedian(data['ARC_N'])\n",
    "mean_value = np.nanmean(data['ARC_N'])\n",
    "\n",
    "plt.vlines(median_value, 0, 120, color=red,label=r'$\\hat{\\mu}$')\n",
    "plt.vlines(mean_value, 0, 120, color='black',label=r'$\\overline{X}$')\n",
    "plt.legend();"
   ]
  },
  {
   "cell_type": "markdown",
   "id": "28",
   "metadata": {
    "id": "4eae1803"
   },
   "source": [
    "**Ответ:** Видно, что распределение данных близко к симметричному, в данном случае распределение похоже на нормальное."
   ]
  },
  {
   "cell_type": "code",
   "execution_count": null,
   "id": "29",
   "metadata": {
    "colab": {
     "base_uri": "https://localhost:8080/",
     "height": 619
    },
    "id": "a7245a97",
    "outputId": "7fc63c1a-59fc-4ed9-ffae-17ffcf4eb5d1"
   },
   "outputs": [],
   "source": [
    "plt.figure(figsize=(14,7))\n",
    "sns.histplot(data['pCAMKII_N'],kde=True)\n",
    "median_value = np.nanmedian(data['pCAMKII_N'])\n",
    "mean_value = np.nanmean(data['pCAMKII_N'])\n",
    "\n",
    "plt.vlines(median_value, 0, 120, color=red,label=r'$\\hat{\\mu}$')\n",
    "plt.vlines(mean_value, 0, 120, color='black',label=r'$\\overline{X}$')\n",
    "plt.legend();"
   ]
  },
  {
   "cell_type": "markdown",
   "id": "30",
   "metadata": {
    "id": "a5352de6"
   },
   "source": [
    "**Ответ:** Здесь же несовпадение напрямую связано с ассиметричностью данных. Можно сделать вывод о том, что среднее более чувствительно к ассиметричным данным и смещается в сторону более крупных значений."
   ]
  },
  {
   "cell_type": "markdown",
   "id": "31",
   "metadata": {
    "id": "ea92c8b8"
   },
   "source": [
    "###  Устранение выбросов"
   ]
  },
  {
   "cell_type": "markdown",
   "id": "32",
   "metadata": {
    "id": "f4f1bf9e"
   },
   "source": [
    "Межквантильным размахом `IQR` называется расстояние между первым и третьем квартилем. Выбросами же принято счиать наблюдения которые находятся за пределами первого или же третьего квантиля на расстоянии более $1.5  \\times \\text{IQR}$.\n",
    "Выберете признак с наиболее характерными выбросами, удалите их."
   ]
  },
  {
   "cell_type": "code",
   "execution_count": null,
   "id": "33",
   "metadata": {
    "id": "c66caee8"
   },
   "outputs": [],
   "source": [
    "Q1 = data['pELK_N'].quantile(0.25)\n",
    "Q3 = data['pELK_N'].quantile(0.75)\n",
    "IQR = Q3 - Q1\n",
    "no_outliers = data.pELK_N[(Q1 - 1.5*IQR < data.pELK_N) &  (data.pELK_N < Q3 + 1.5*IQR)]"
   ]
  },
  {
   "cell_type": "markdown",
   "id": "34",
   "metadata": {
    "id": "31ee78ac"
   },
   "source": [
    "Выведите гистограмму обработанной выборки и отметьте на нем положения среднего и медианы"
   ]
  },
  {
   "cell_type": "code",
   "execution_count": null,
   "id": "35",
   "metadata": {
    "colab": {
     "base_uri": "https://localhost:8080/",
     "height": 619
    },
    "id": "f15904fe",
    "outputId": "e361a18f-5e9f-446b-fa6f-953ae86bb8af"
   },
   "outputs": [],
   "source": [
    "plt.figure(figsize=(14,7))\n",
    "sns.histplot(no_outliers, kde=True)\n",
    "median_value = np.median(no_outliers)\n",
    "mean_value = np.mean(no_outliers)\n",
    "\n",
    "plt.vlines(median_value, 0, 120, color=red,label=r'$\\hat{\\mu}$')\n",
    "plt.vlines(mean_value, 0, 120, color='black',label=r'$\\overline{X}$')\n",
    "plt.xlim(0.6, 2.2)\n",
    "plt.legend();"
   ]
  },
  {
   "cell_type": "markdown",
   "id": "36",
   "metadata": {
    "id": "75544fa7"
   },
   "source": [
    "А теперь постройте график на неотфильтрованный данных (как в предыдущем пункте). Для наглядности сравнения поставьте соответствующие границы для оси Ox."
   ]
  },
  {
   "cell_type": "code",
   "execution_count": null,
   "id": "37",
   "metadata": {
    "colab": {
     "base_uri": "https://localhost:8080/",
     "height": 619
    },
    "id": "e318ad7e",
    "outputId": "203ce5fe-c774-4de4-840f-00692bd19706"
   },
   "outputs": [],
   "source": [
    "plt.figure(figsize=(14,7))\n",
    "sns.histplot(data['pELK_N'],kde=True)\n",
    "median_value = np.nanmedian(data['pELK_N'])\n",
    "mean_value = np.nanmean(data['pELK_N'])\n",
    "\n",
    "plt.vlines(median_value, 0, 120, color=red,label=r'$\\hat{\\mu}$')\n",
    "plt.vlines(mean_value, 0, 120, color='black',label=r'$\\overline{X}$')\n",
    "plt.xlim(0.6, 2.2)\n",
    "plt.legend();"
   ]
  },
  {
   "cell_type": "markdown",
   "id": "38",
   "metadata": {
    "id": "0489ee0a"
   },
   "source": [
    "Объясните изменение положения оценок"
   ]
  },
  {
   "cell_type": "markdown",
   "id": "39",
   "metadata": {
    "id": "d843f7b5"
   },
   "source": [
    "**Ответ:**\n",
    "\n",
    "1. **До удаления выбросов**:\n",
    "   - Гистограмма данных `pELK_N` имеет некоторую асимметрию и не является строго нормальным распределением.\n",
    "   - Медиана отстоит левее, чем среднее значение, и разброс между ними больше. Это может быть вызвано влиянием выбросов, которые смещают среднее вправо.\n",
    "\n",
    "2. **После удаления выбросов**:\n",
    "   - Гистограмма обработанной выборки стала ближе к нормальному распределению.\n",
    "   - Медиана по-прежнему отстоит левее, чем среднее, но разброс между ними уменьшился. Это свидетельствует о том, что удаление выбросов сделало распределение более симметричным и уменьшило влияние выбросов на среднее значение.\n",
    "\n",
    "**Итог:** Удаление выбросов привело к изменению характеристик распределения данных и повлияло на положение медианы и среднего значения, сделав их более близкими друг к другу."
   ]
  }
 ],
 "metadata": {
  "colab": {
   "provenance": []
  },
  "kernelspec": {
   "display_name": "Python 3 (ipykernel)",
   "language": "python",
   "name": "python3"
  },
  "language_info": {
   "codemirror_mode": {
    "name": "ipython",
    "version": 3
   },
   "file_extension": ".py",
   "mimetype": "text/x-python",
   "name": "python",
   "nbconvert_exporter": "python",
   "pygments_lexer": "ipython3",
   "version": "3.9.7"
  }
 },
 "nbformat": 4,
 "nbformat_minor": 5
}
