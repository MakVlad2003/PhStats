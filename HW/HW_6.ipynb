{
 "cells": [
  {
   "cell_type": "code",
   "execution_count": null,
   "metadata": {
    "id": "7gPw9jdG-CQy"
   },
   "outputs": [],
   "source": [
    "import numpy as np\n",
    "import scipy.stats as sps\n",
    "import matplotlib.pyplot as plt\n",
    "import pandas as pd\n",
    "import seaborn as sns\n",
    "sns.set_theme(font_scale=1.3, palette='Set2')\n",
    "\n",
    "red = '#FF3300'\n",
    "blue = '#0099CC'\n",
    "green = '#00CC66'\n",
    "\n",
    "%matplotlib inline"
   ]
  },
  {
   "cell_type": "markdown",
   "metadata": {
    "id": "AeuvB-PP0hMr"
   },
   "source": [
    "# Теоретическая часть\n",
    "\n",
    "### <b><font color=\"blue\">Легкая часть</font></b>\n",
    "\n",
    "## Задача 1\n",
    "\n",
    "В условиях задач 2, 3 и 6 из предыдущего домашнего задания постройте асимптотические доверительные интервалы, которые можно использовать на практике (в формулах не должно быть $\\theta$).\n",
    "\n",
    "2.   $X_1,  ..., X_n \\sim N(\\theta, \\sigma^2)$\n",
    "\n",
    "$\\widehat{\\theta} = \\overline{X}$ - АНО с $\\sigma^2(\\theta) = \\sigma^2$\n",
    "\n",
    "$S^2$ - состоятельная оценкка с $D(X) = \\sigma^2$\n",
    "\n",
    "АДИ: $$(\\overline{X} \\pm \\frac{z_{\\frac{1 + \\alpha}{2}}}{\\sqrt{n}} \\cdot S)$$\n",
    "4.   $X_1,  ..., X_n \\sim U(0, \\theta)$\n",
    "\n",
    "$\\widehat{\\theta} = 2\\overline{X}$ - АНО с $\\sigma^2(\\theta) = \\sigma^2/3$\n",
    "\n",
    "$\\widehat{\\sigma} = \\frac{\\widehat{\\theta}}{\\sqrt{3}}$ - состоятельная оценкка\n",
    "\n",
    "АДИ: $$(2\\overline{X} \\pm \\frac{z_{\\frac{1 + \\alpha}{2}}}{\\sqrt{n}} \\cdot \\frac{2\\overline{X}}{\\sqrt{3}})$$\n",
    "6.   $X_1,  ..., X_n \\sim N(a, \\sigma^2)$\n",
    "\n",
    "Так как $\\sigma$ - известно, то АДИ: $$(\\overline{X} \\pm \\frac{z_{\\frac{1 + \\alpha}{2}}}{\\sqrt{n}} \\cdot \\sigma)$$\n"
   ]
  },
  {
   "cell_type": "markdown",
   "metadata": {
    "id": "Y7EXXyAedmnl"
   },
   "source": [
    "# Практическая часть\n",
    "\n",
    "### <b><font color=\"blue\">Легкая часть</font></b>\n",
    "\n",
    "## Задача 2\n",
    "\n",
    "**1.** Загрузите с помощью `pandas` из файла `airquality.csv` данные о качестве воздуха в Нью-Йорке с мая по сентябрь 1973 года по дням. Данные содержат измерения нескольких величин, описания которых можно прочитать [по ссылке](https://www.rdocumentation.org/packages/datasets/versions/3.5.1/topics/airquality)."
   ]
  },
  {
   "cell_type": "code",
   "execution_count": null,
   "metadata": {
    "colab": {
     "base_uri": "https://localhost:8080/",
     "height": 206
    },
    "id": "seDa5zH4-CQz",
    "outputId": "54b477a1-8548-4cf7-bf89-093caa6d1d88"
   },
   "outputs": [],
   "source": [
    "df = pd.read_csv('airquality.csv')\n",
    "df.head()"
   ]
  },
  {
   "cell_type": "markdown",
   "metadata": {
    "id": "otHqk1QMdmnl"
   },
   "source": [
    "Выведите описательные статистики (метод `describe`) для всех признаков, для которых это имеет смысл.  Округлите до второго знака после запятой."
   ]
  },
  {
   "cell_type": "code",
   "execution_count": null,
   "metadata": {
    "colab": {
     "base_uri": "https://localhost:8080/",
     "height": 300
    },
    "id": "0PPxBXbudmnl",
    "outputId": "ef79ce16-f279-476d-8d74-7772f26602b0"
   },
   "outputs": [],
   "source": [
    "features = ['Ozone', 'Solar.R', 'Wind', 'Temp']\n",
    "df[features].describe().round(2)"
   ]
  },
  {
   "cell_type": "markdown",
   "metadata": {
    "id": "_R3FJZ_Idmnl"
   },
   "source": [
    "Что можно сказать о наличии в данных выбросов, сравнивая выборочную медиану и выборочное среднее?"
   ]
  },
  {
   "cell_type": "markdown",
   "metadata": {
    "id": "4i4ipxYHdmnl"
   },
   "source": [
    "**Ответ:**\n",
    "\n",
    "По различиям между выборочной медианой и выборочным средним для каждого признака можно предположить наличие выбросов."
   ]
  },
  {
   "cell_type": "markdown",
   "metadata": {
    "id": "KLyLkbSHdmnm"
   },
   "source": [
    "**2.** Теперь для каждого параметра постройте график ящиков с усами (`boxplot`), в котором ось `x` соответствует номеру месяца, а ось `y` — значениям параметра (т.е. свой ящик для каждого месяца). Используйте функцию `seaborn.boxplot`."
   ]
  },
  {
   "cell_type": "code",
   "execution_count": null,
   "metadata": {
    "colab": {
     "base_uri": "https://localhost:8080/",
     "height": 1000
    },
    "id": "A1xluGjedmnm",
    "outputId": "2fab305f-4908-4b7b-c517-fe4619bdadb9"
   },
   "outputs": [],
   "source": [
    "fig, ax = plt.subplots(2, 2, figsize = (15, 12))\n",
    "\n",
    "for i in range(len(features)):\n",
    "    f = features[i]\n",
    "    a = ax[i // 2][i % 2]\n",
    "    sns.boxplot(data = df, x = 'Month', y = f, ax = a)\n",
    "\n",
    "plt.show()"
   ]
  },
  {
   "cell_type": "markdown",
   "metadata": {
    "id": "xbvDPHetdmnm"
   },
   "source": [
    "Опишите структуру `boxplot`. Какие выводы можно сделать в данном случае?"
   ]
  },
  {
   "cell_type": "markdown",
   "metadata": {
    "id": "xqxWjlB9dmnm"
   },
   "source": [
    "**Ответ:**\n",
    "\n",
    "Внутри каждого ящика на графике представлена медиана значений параметра. Границы ящика отображают интерквантильный размах, то есть расстояние между первым и третьим квантилями ($\\hat{u}{\\frac{1}{4}}, \\hat{u}{\\frac{3}{4}}$).\n",
    "\n",
    "Границы усов определяются как $\\hat{u}{\\frac{1}{4}} - 1.5(\\hat{u}{\\frac{3}{4}} - \\hat{u}{\\frac{1}{4}})$ и $\\hat{u}{\\frac{3}{4}} + 1.5(\\hat{u}{\\frac{3}{4}} - \\hat{u}{\\frac{1}{4}})$,\n",
    "\n",
    "где $\\hat{u}_p$ - выборочный p-квантиль. Круги за усами обозначают выбросы.\n",
    "\n",
    "Из графиков видно, что количество выбросов сильно варьируется в зависимости от параметра и месяца. Например, показания озона имеют наибольшее количество выбросов, особенно в 9 месяце. В то же время, солнечная радиация имеет широкий разброс значений без значительного количества выбросов. Значения скорости ветра довольно плотно сгруппированы, и медиана практически не меняется от месяца к месяцу, что отражает схожесть средних значений."
   ]
  },
  {
   "cell_type": "markdown",
   "metadata": {
    "id": "VRh7si3Idmnm"
   },
   "source": [
    "**3.** Для параметра с наибольшим числом наблюдений, признанных выбросами, посчитайте и сравните:\n",
    "- выборочное среднее;\n",
    "- выборочную медиану;"
   ]
  },
  {
   "cell_type": "code",
   "execution_count": null,
   "metadata": {
    "colab": {
     "base_uri": "https://localhost:8080/"
    },
    "id": "WU8-PUoodmnm",
    "outputId": "b72e768e-8587-4a86-dddc-61f00503639b"
   },
   "outputs": [],
   "source": [
    "print('Среднее: ' + str(round(df['Ozone'].mean(), 1)))\n",
    "print('Медиана: ' + str(df['Ozone'].median()))"
   ]
  },
  {
   "cell_type": "markdown",
   "metadata": {
    "id": "C1fClGGudmnm"
   },
   "source": [
    "Какими свойствами статистик вызваны наблюдаемые различия?"
   ]
  },
  {
   "cell_type": "markdown",
   "metadata": {
    "id": "X_aSzxJWdmnm"
   },
   "source": [
    "**Ответ:** Это вызвано тем, что выбросы, находятся в области с высокими значениями, что увеличивает среднее значение, но не влияет существенно на медиану. Поэтому наблюдаемые различия между средним и медианой обусловлены влиянием выбросов, и показывают, что озон как параметр имеет асимметричное распределение с тяжелым хвостом вправо."
   ]
  },
  {
   "cell_type": "markdown",
   "metadata": {
    "id": "F6DVuXufdmnm"
   },
   "source": [
    "При подсчете этих статистик обычно предполагается, что наблюдения независимы. Выполнено ли это свойство в данном случае?"
   ]
  },
  {
   "cell_type": "markdown",
   "metadata": {
    "id": "3K3grmkRdmnm"
   },
   "source": [
    "**Ответ:** В данном случае, наблюдения могут быть связаны с временными зависимостями, т.е. измерения параметров воздуха в различные месяцы могут быть взаимосвязаны из-за сезонных изменений, погодных условий и других факторов. Это может привести к нарушению предположения о независимости наблюдений."
   ]
  },
  {
   "cell_type": "markdown",
   "metadata": {
    "id": "Ul_Ck_fddmnm"
   },
   "source": [
    "А оно часто бывает выполнено? Как это можно проверить? Что бывает, когда оно нарушается? Какие есть количественные меры зависимости между признаками? Ответы на эти вопросы вы узнаете далее, но задуматься и порассуждать полезно уже сейчас."
   ]
  },
  {
   "cell_type": "markdown",
   "metadata": {
    "id": "lBUbjOTpdmnm"
   },
   "source": [
    "**Ответ:**\n",
    "\n",
    "Зависимость между наблюдениями часто бывает. Её можно проверить визуальным анализом или корреляционным анализом.\n",
    "\n",
    "Когда предположение о независимости нарушается, это может привести к неправильным выводам в статистических тестах.\n",
    "\n",
    "Количественные меры зависимости включают коэффициенты корреляции, автокорреляции и ковариации."
   ]
  },
  {
   "cell_type": "markdown",
   "metadata": {
    "id": "m09j0YQKdmnm"
   },
   "source": [
    "Сделайте выводы о полезности робастных статистик, методах визуального анализа и о наличии независимых одинаково распределённых случайных величин в реальном мире.\n",
    "\n"
   ]
  },
  {
   "cell_type": "markdown",
   "metadata": {
    "id": "sZH5a416dmnn"
   },
   "source": [
    "**Вывод:**\n",
    "\n",
    "Робастные статистики полезны для анализа данных в реальном мире, где присутствуют выбросы и нарушения предположений о распределениях. Визуальный анализ помогает обнаруживать закономерности и аномалии в данных. Однако в реальном мире найти полностью независимые и одинаково распределенные случайные величины часто бывает сложно из-за наличия скрытых зависимостей или факторов."
   ]
  },
  {
   "cell_type": "markdown",
   "metadata": {
    "id": "gvdlrqIcdmnn"
   },
   "source": [
    "## Задача 3"
   ]
  },
  {
   "cell_type": "markdown",
   "metadata": {
    "id": "ufyAl93edmnn"
   },
   "source": [
    "Постройте плотность стандартного **нормального распределения** и стандартного **распределения Коши**. Видим, что распределение Коши обладает более тяжелыми хвостами, нежели нормальное."
   ]
  },
  {
   "cell_type": "code",
   "execution_count": null,
   "metadata": {
    "colab": {
     "base_uri": "https://localhost:8080/",
     "height": 581
    },
    "id": "mhRfFR-Admnn",
    "outputId": "3abf498b-6683-410f-8b3f-18c43724eb28"
   },
   "outputs": [],
   "source": [
    "x = np.linspace(-10, 10, 1000)\n",
    "\n",
    "pdf_normal = sps.norm.pdf(x)\n",
    "pdf_cauchy = sps.cauchy.pdf(x)\n",
    "\n",
    "plt.figure(figsize = (10, 6))\n",
    "plt.plot(x, pdf_normal, label = r'$\\mathcal{N}(0, 1)$')\n",
    "plt.plot(x, pdf_cauchy, label = 'Коши')\n",
    "\n",
    "plt.title(r'Плотность распределения')\n",
    "plt.xlabel('Значение')\n",
    "plt.ylabel('Плотность вероятности')\n",
    "\n",
    "plt.legend()\n",
    "plt.grid(True)\n",
    "plt.show()"
   ]
  },
  {
   "cell_type": "markdown",
   "metadata": {
    "id": "4eAdHmv4dmnn"
   },
   "source": [
    "Сгенерируйте $10^5$ выборок размера 30 из стандартного **нормального распределения**."
   ]
  },
  {
   "cell_type": "code",
   "execution_count": null,
   "metadata": {
    "id": "PF0opboydmnn"
   },
   "outputs": [],
   "source": [
    "sample_count = 10**5\n",
    "sample_size = 30\n",
    "\n",
    "X_norm = sps.norm().rvs(size = (sample_count, sample_size))"
   ]
  },
  {
   "cell_type": "markdown",
   "metadata": {
    "id": "6NaEbk87dmnn"
   },
   "source": [
    "По каждой выборке из 30 элементов посчитайте выборочные средние. Далее по ним постройте гистограмму и плотность стандартного нормального распределения. Какой вывод вы можете сделать из полученного графика?"
   ]
  },
  {
   "cell_type": "code",
   "execution_count": null,
   "metadata": {
    "colab": {
     "base_uri": "https://localhost:8080/",
     "height": 585
    },
    "id": "GkOyoJEDdmnn",
    "outputId": "06341b55-78e2-4780-e468-c4f1b7630b87"
   },
   "outputs": [],
   "source": [
    "sample_means = np.mean(X_norm, axis = 1)\n",
    "\n",
    "plt.figure(figsize = (10, 6))\n",
    "plt.hist(sample_means, bins = 100, density = True, alpha = 0.6, color = 'b', label = 'Выборочные средние')\n",
    "\n",
    "x = np.linspace(-1, 1, 1000)\n",
    "pdf_norm = sps.norm.pdf(x, loc = 0, scale = np.sqrt(1/sample_size))\n",
    "plt.plot(x, pdf_norm, 'r', label = r'Плотность $\\mathcal{N}(0, 1)$')\n",
    "\n",
    "plt.title(r'Гистограмма выборочных средних и плотность $\\mathcal{N}(0, 1)$')\n",
    "plt.xlabel('Значение')\n",
    "plt.ylabel('Плотность вероятности')\n",
    "\n",
    "plt.legend()\n",
    "plt.grid(True)\n",
    "plt.show()"
   ]
  },
  {
   "cell_type": "markdown",
   "metadata": {
    "id": "3b5GG50Kdmnn"
   },
   "source": [
    "**Вывод:**\n",
    "\n",
    "Стандартное нормальное распределение обладает свойством устойчивости, что означает, что выборочное среднее из выборок, взятых из этого распределения, само имеет стандартное нормальное распределение. Это свойство подтверждается графиком, на котором видно, что гистограмма выборочных средних имеет форму, очень близкую к плотности стандартного нормального распределения.\n",
    "\n",
    "Также, при работе с выборками размером 30 элементов, важно учитывать изменение дисперсии. В данном случае, дисперсия выборочных средних уменьшается в 30 раз по сравнению с дисперсией исходного распределения, что обеспечивает более компактный разброс значений выборочных средних вокруг среднего значения."
   ]
  },
  {
   "cell_type": "markdown",
   "metadata": {
    "id": "9VfAy9Pndmnn"
   },
   "source": [
    "Сгенерируем $10^5$ выборок размера 30 из стандартного **распределения Коши**."
   ]
  },
  {
   "cell_type": "code",
   "execution_count": null,
   "metadata": {
    "id": "L_AgujgEdmno"
   },
   "outputs": [],
   "source": [
    "sample_count = 10**5\n",
    "sample_size = 30\n",
    "\n",
    "X_cauchy = sps.cauchy().rvs(size = (sample_count, sample_size))"
   ]
  },
  {
   "cell_type": "markdown",
   "metadata": {
    "id": "Tlg9yUFodmno"
   },
   "source": [
    "Построим аналогичный график."
   ]
  },
  {
   "cell_type": "code",
   "execution_count": null,
   "metadata": {
    "colab": {
     "base_uri": "https://localhost:8080/",
     "height": 581
    },
    "id": "pzasjaNwdmno",
    "outputId": "d3ef3bcf-86ff-43c8-ff6c-4706ce657830"
   },
   "outputs": [],
   "source": [
    "sample_means = np.mean(X_cauchy, axis = 1)\n",
    "\n",
    "plt.figure(figsize = (10, 6))\n",
    "plt.hist(sample_means, bins = 100, density = True, range=(-15, 15), alpha = 0.6, color = 'b', label = 'Выборочные средние')\n",
    "\n",
    "x = np.linspace(-15, 15, 1000)\n",
    "pdf_norm = sps.cauchy.pdf(x)\n",
    "plt.plot(x, pdf_norm, 'r', label = 'Коши')\n",
    "\n",
    "plt.title('Гистограмма выборочных средних и плотность распределения Коши')\n",
    "plt.xlabel('Значение')\n",
    "plt.ylabel('Плотность вероятности')\n",
    "\n",
    "plt.legend()\n",
    "plt.grid(True)\n",
    "\n",
    "plt.xlim(-15, 15)\n",
    "plt.show()"
   ]
  },
  {
   "cell_type": "markdown",
   "metadata": {
    "id": "HwTui1Mydmno"
   },
   "source": [
    "Сравните графики для нормального распределения и для Коши, опишите ваше сравнение в выводе по задаче."
   ]
  },
  {
   "cell_type": "markdown",
   "metadata": {
    "id": "IeuQs_4idmno"
   },
   "source": [
    "**Вывод:**\n",
    "\n",
    "Оба распределения, нормальное и распределение Коши, сохраняют свои характеристики при формировании выборочных средних из выборок, что подтверждается наблюдаемыми на графиках стандартных распределений. Однако, в случае распределения Коши, важно учитывать настройку параметров при отображении гистограммы ($range$), чтобы исключить искажения, вызванные отдельными выбросами на числовой оси."
   ]
  },
  {
   "cell_type": "markdown",
   "metadata": {
    "id": "79RYJExflty3"
   },
   "source": [
    "\n",
    "## Задание 4"
   ]
  },
  {
   "cell_type": "markdown",
   "metadata": {
    "id": "ihVX1fK6J1LC"
   },
   "source": [
    "\n",
    "**Профиль Физика**\n",
    "\n",
    "Скачайте <a target=\"_blank\" href=\"https://www.kaggle.com/datasets/fedesoriano/cern-electron-collision-data\">данные</a> столкновениях частиц и оставьте следующие признаки:\n",
    "* `E1`, `E2` &mdash; полная энергия электронов (ГэВ);\n",
    "* `M` &mdash; инвариантная масса двух электронов (ГэВ).\n",
    "\n",
    "Датасет большой, поэтому для ускорения расчетов можно взять подвыборку размера ~ 1000\n",
    "\n",
    "**Профиль Биология**\n",
    "\n",
    "Скачайте <a target=\"_blank\" href=\"https://www.kaggle.com/datasets/ruslankl/mice-protein-expression\">данные</a> экспрессии белков у белых мышей и оставьте следующие белки для анализа:\n",
    "* `ITSN1_N`\n",
    "* `DYRK1A_N`\n",
    "* `ELK_N`\n",
    "\n",
    "\n",
    "\n",
    "\n",
    "**1.** Постройте для каждого из них гистограммы. Что можно сказать о характере распределения?\n"
   ]
  },
  {
   "cell_type": "code",
   "execution_count": null,
   "metadata": {
    "colab": {
     "base_uri": "https://localhost:8080/",
     "height": 1000
    },
    "id": "BVqfYy_uJ1LC",
    "outputId": "5c34dbd6-885e-45b3-aa3e-03a8e7af15ec"
   },
   "outputs": [],
   "source": [
    "df = pd.read_csv(\"Data_Cortex_Nuclear.csv\")\n",
    "\n",
    "columns = ['ITSN1_N', 'DYRK1A_N', 'ELK_N']\n",
    "target_df = df[columns]\n",
    "\n",
    "plt.figure(figsize = (15, 6))\n",
    "\n",
    "for column in columns:\n",
    "    plt.figure(figsize = (8, 6))\n",
    "    target_df[column].hist(bins = 50, density = True, alpha = 0.6, color = 'b')\n",
    "    plt.title(f'Distribution of {column}')\n",
    "    plt.xlabel('Value')\n",
    "    plt.ylabel('Frequency')\n",
    "    plt.grid(True)\n",
    "    plt.show()"
   ]
  },
  {
   "cell_type": "markdown",
   "metadata": {
    "id": "Q4P9Psgw-CQ8"
   },
   "source": [
    "**Ответ:**\n",
    "\n",
    "Во всех случаях форма распределений напоминает нормальное распределение, но наблюдается небольшое смещение максимумов влево от центра. Возможно, имеются выбросы, которые могут влиять на общий вид данных."
   ]
  },
  {
   "cell_type": "markdown",
   "metadata": {
    "id": "bJogcYgZJ1LC"
   },
   "source": [
    "**2.** Пусть есть выборка $X_1, ..., X_n$. Опишите процедуру бутстрепа построения доверительного интервала для величины $\\theta = \\mathsf{E} X_1$. Рассмотрите три типа  бутстрепных доверительных интервалов.\n",
    "Выпишите соответствующие формулы."
   ]
  },
  {
   "cell_type": "markdown",
   "metadata": {
    "id": "rV1s6u9M-CQ8"
   },
   "source": [
    "**Описание**:\n",
    "\n",
    "1. Генерируем B новых выборок путем случайного выбора с возвращением n элементов из исходной выборки.\n",
    "\n",
    "2. Для каждой из полученных выборок вычисляем статистику T (например, выборочное среднее), получая выборку статистик размера B.\n",
    "\n",
    "3. Используем эту выборку статистик для оценки бутстрепной дисперсии: $\\hat{v}_{boot} = \\frac{1}{B} \\sum \\limits_{b=1}^{B}T_b^{*^2} - (\\frac{1}{B} \\sum \\limits_{b=1}^{B}T_b^*)^2$.\n",
    "\n",
    "Бутстрепные ДИ:\n",
    "- Нормальный: $$(\\hat{\\theta} - z_{(1 + \\alpha)/2}\\sqrt{\\hat{v}_{boot}}, \\quad \\hat{\\theta} + z_{(1 + \\alpha)/2}\\sqrt{\\hat{v}_{boot}})$$\n",
    "- Центральный: $$(2\\hat{\\theta} - \\theta^*_{(\\lceil B(1 + \\alpha)/2 \\rceil},  \\quad  2\\hat{\\theta} - \\theta^*_{(\\lfloor B(1 - \\alpha)/2 \\rfloor})$$\n",
    "- Квантильный: $$(\\theta^*_{(\\lfloor B(1 - \\alpha)/2 \\rfloor}, \\quad  \\theta^*_{(\\lceil B(1 + \\alpha)/2 \\rceil})$$\n"
   ]
  },
  {
   "cell_type": "markdown",
   "metadata": {
    "id": "IC0GsEQb-CQ8"
   },
   "source": [
    "**3.** Реализуйте функцию вычисления выборки оценок $\\theta^*_1, \\ldots \\theta^*_B$ для оценки $\\widehat \\theta$ методом бутстрепа. Функция должна принимать на вход выборку и количество бутстрепных выборок $B$.\n",
    "\n",
    "Для ускорения расчетов можете использовать broadcasting (не является обязательным требованием). Учите, что в таком случае внутри функции у вас могут получиться очень большие матрицы, из-за которых может кончиться оперативная память."
   ]
  },
  {
   "cell_type": "code",
   "execution_count": null,
   "metadata": {
    "id": "IGg8gzQoJ1LD"
   },
   "outputs": [],
   "source": [
    "def bootstrap(sample, B=100_000):\n",
    "    '''\n",
    "    Считает бутстрепные оценки для исходной выборки\n",
    "\n",
    "    :param sample: исходная выборка\n",
    "    :param B: количество бутстрепных\n",
    "    :return bootstrap_estimations: оценки по бутстрепным выборкам\n",
    "    '''\n",
    "    n = len(sample)\n",
    "    bootstrap_estimations = np.zeros(B)\n",
    "\n",
    "    for i in range(B):\n",
    "        bootstrap_sample = np.random.choice(sample, size = n, replace = True)\n",
    "        bootstrap_estimations[i] = np.mean(bootstrap_sample)\n",
    "\n",
    "    return bootstrap_estimations"
   ]
  },
  {
   "cell_type": "markdown",
   "metadata": {
    "id": "UQHY3qUd-CQ9"
   },
   "source": [
    "**4.** Реализуйте три типа бутстрепных доверительных интервалы в виде функций, принимающих на вход выборку оценок, полученных с помощью бутстрепа. Реализовывать вычисление бутстрепных интервалов для подвыборок размера от 1 до n не нужно, только для всей выборки."
   ]
  },
  {
   "cell_type": "code",
   "execution_count": null,
   "metadata": {
    "id": "ZkGyCboK-CQ9"
   },
   "outputs": [],
   "source": [
    "def bootstrap_normal_confidence_interval(theta, bootstrap_estimations, alpha=0.95):\n",
    "    '''\n",
    "    Считает левую и правую границу нормального бутстрепного интервала\n",
    "\n",
    "    :param theta: оценка параметра\n",
    "    :param bootstrap_estimations: массив бутстрепных оценок\n",
    "    :return left: левая граница бутстрепного интервала\n",
    "    :return right: правая граница бутстрепного интервала\n",
    "    '''\n",
    "    v_boot = np.mean(np.square(bootstrap_estimations)) - np.square(np.mean(bootstrap_estimations))\n",
    "    z = sps.norm().ppf((1 + alpha) / 2)\n",
    "\n",
    "    left = theta - z * np.sqrt(v_boot)\n",
    "    right = theta + z * np.sqrt(v_boot)\n",
    "\n",
    "    return round(left, 4), round(right, 4)\n",
    "\n",
    "\n",
    "def bootstrap_central_confidence_interval(theta, bootstrap_estimations, alpha=0.95):\n",
    "    '''\n",
    "    Считает левую и правую границу центрального бутстрепного интервала\n",
    "\n",
    "    :param theta: оценка параметра\n",
    "    :param bootstrap_estimations: массив бутстрепных оценок\n",
    "    :return left: левая граница бутстрепного интервала\n",
    "    :return right: правая граница бутстрепного интервала\n",
    "    '''\n",
    "    up_ind = np.ceil(len(bootstrap_estimations) * (1 + alpha) / 2).astype('int64')\n",
    "    down_ind = int(len(bootstrap_estimations) * (1 - alpha) / 2)\n",
    "\n",
    "    up = np.sort(bootstrap_estimations)[up_ind - 1]\n",
    "    down = np.sort(bootstrap_estimations)[down_ind - 1]\n",
    "\n",
    "    left = 2 * theta - up\n",
    "    right = 2 * theta - down\n",
    "\n",
    "    return round(left, 4), round(right, 4)\n",
    "\n",
    "\n",
    "def bootstrap_quantile_confidence_interval(theta, bootstrap_estimations, alpha=0.95):\n",
    "    '''\n",
    "    Считает левую и правую границу квантильного бутстрепного интервала\n",
    "\n",
    "    :param theta: оценка параметра\n",
    "    :param bootstrap_estimations: массив бутстрепных оценок\n",
    "    :return left: левая граница бутстрепного интервала\n",
    "    :return right: правая граница бутстрепного интервала\n",
    "    '''\n",
    "    up_ind = np.ceil(len(bootstrap_estimations) * (1 + alpha) / 2).astype('int64')\n",
    "    down_ind = int(len(bootstrap_estimations) * (1 - alpha) / 2)\n",
    "\n",
    "    up = np.sort(bootstrap_estimations)[up_ind - 1]\n",
    "    down = np.sort(bootstrap_estimations)[down_ind - 1]\n",
    "\n",
    "    left = down\n",
    "    right = up\n",
    "\n",
    "    return round(left, 4), round(right, 4)"
   ]
  },
  {
   "cell_type": "markdown",
   "metadata": {
    "id": "gYXTFfX5-CQ9"
   },
   "source": [
    "**5.** Для каждого признака постройте бутстрепные доверительные интервалы для $\\theta = \\mathsf{E} X_1$ и сравните их."
   ]
  },
  {
   "cell_type": "code",
   "execution_count": null,
   "metadata": {
    "colab": {
     "base_uri": "https://localhost:8080/"
    },
    "id": "wXA6YbVN-CQ9",
    "outputId": "3628e2fa-1aa2-4973-fd12-41574a98daa8"
   },
   "outputs": [],
   "source": [
    "dat = pd.DataFrame(index = ['normal', 'central', 'quantile', 'theta', 'interval_length'], columns=df.columns)\n",
    "\n",
    "for column in columns:\n",
    "    print()\n",
    "    print(f'Доверительные интервалы для {column}: \\n')\n",
    "    sample = df[column].dropna().values\n",
    "    bootstrap_estimations = bootstrap(sample)\n",
    "\n",
    "    theta = np.mean(sample)\n",
    "\n",
    "    interval_length = lambda interval: interval[1] - interval[0]\n",
    "\n",
    "    normal_interval = bootstrap_normal_confidence_interval(theta, bootstrap_estimations)\n",
    "    central_interval = bootstrap_central_confidence_interval(theta, bootstrap_estimations)\n",
    "    quantile_interval = bootstrap_quantile_confidence_interval(theta, bootstrap_estimations)\n",
    "\n",
    "    print(f'Нормальный : {normal_interval}')\n",
    "    print(f'Центральный: {central_interval}')\n",
    "    print(f'Квантильный: {quantile_interval}')\n",
    "\n",
    "    dat[column]['normal'] = normal_interval\n",
    "    dat[column]['central'] = central_interval\n",
    "    dat[column]['quantile'] = quantile_interval\n",
    "    dat[column]['theta'] = theta\n",
    "    dat[column]['interval_length'] = interval_length(normal_interval)"
   ]
  },
  {
   "cell_type": "markdown",
   "metadata": {
    "id": "kT_9wv1F-CQ9"
   },
   "source": [
    "**Вывод:**\n",
    "\n",
    "В этом конкретном случае, объем каждой выборки достаточно велик (более 1000 элементов), что приводит к примерно одинаковым результатам для всех трех методов оценки доверительных интервалов. Их различия становятся заметными только на третьем знаке после запятой."
   ]
  },
  {
   "cell_type": "markdown",
   "metadata": {
    "id": "rGJt2ABcdmno"
   },
   "source": [
    "Визуализируйте бутстрепные интервалы для каждого признака. Для этого сгенерируйте выборку $X_1, ... X_{N}, N = 100$ и постройте график доверительных интервалов уровня доверия $0.95$, вычисленных для всех подвыборок размера $n$ вида $X_1, ... X_n$, $1 \\le n \\le 100$, используя написанную ниже функцию"
   ]
  },
  {
   "cell_type": "code",
   "execution_count": null,
   "metadata": {
    "id": "P0VuPFabdmno"
   },
   "outputs": [],
   "source": [
    "def draw_confidence_interval(\n",
    "    left,\n",
    "    right,\n",
    "    estimation=None,\n",
    "    sample=None,\n",
    "    ylim=(None, None),\n",
    "    estim_label = '',\n",
    "    sample_label='',\n",
    "    color=None,\n",
    "    interval_label=None\n",
    "):\n",
    "    '''\n",
    "    Рисует доверительный интервал и оценку в зависимости от размера выборки.\n",
    "\n",
    "    :param left: левые границы интервалов (в зависимости от n)\n",
    "    :param right: правые границы интервалов (в зависимости от n)\n",
    "    :param estimation: оценки (в зависимости от n)\n",
    "    :param sample: выборка\n",
    "    :param ylim: ограничение вертикальной оси\n",
    "    :param estim_label: подпись к оценке\n",
    "    :param sample_label: подпись к выборке\n",
    "    :param color: цвет, которым будет отображен доверительный интервал\n",
    "    '''\n",
    "\n",
    "    n = len(left)\n",
    "    x = np.arange(1, n + 1)\n",
    "\n",
    "    plt.figure(figsize = (10, 6))\n",
    "    plt.fill_between(x, left, right, color = color, alpha = 0.3, label = interval_label)\n",
    "\n",
    "    if estimation is not None:\n",
    "        plt.plot(x, estimation, color = 'red', label=estim_label)\n",
    "\n",
    "    plt.xlabel('Sample Size')\n",
    "    plt.ylabel('Estimate')\n",
    "    plt.title('Bootstrap Confidence Intervals')\n",
    "\n",
    "    plt.legend()\n",
    "    plt.ylim(ylim)\n",
    "    plt.grid(True)\n",
    "    plt.show()"
   ]
  },
  {
   "cell_type": "markdown",
   "metadata": {
    "id": "U487k8MMdmno"
   },
   "source": [
    "**Решение:**"
   ]
  },
  {
   "cell_type": "code",
   "execution_count": null,
   "metadata": {
    "colab": {
     "base_uri": "https://localhost:8080/",
     "height": 581
    },
    "id": "_ED1hwAn-CQ-",
    "outputId": "51d31baa-37ce-41ef-d6f1-59ff3d712562"
   },
   "outputs": [],
   "source": [
    "N = 100\n",
    "sample = sps.norm.rvs(loc = 0, scale = 1, size = N)\n",
    "\n",
    "sample_sizes = np.arange(1, N + 1)\n",
    "\n",
    "bootstrap_estimations = [bootstrap(sample[:i]) for i in sample_sizes]\n",
    "normal_intervals = [bootstrap_normal_confidence_interval(np.mean(sample[:j]), bootstrap_estimations[i]) for i, j in enumerate(sample_sizes)]\n",
    "\n",
    "left_intervals = [interval[0] for interval in normal_intervals]\n",
    "right_intervals = [interval[1] for interval in normal_intervals]\n",
    "\n",
    "draw_confidence_interval(left_intervals, right_intervals, sample = sample,\n",
    "                         estim_label = 'Estimate',\n",
    "                         sample_label = 'Sample',\n",
    "                         color = 'b',\n",
    "                         interval_label = 'Доверительный интервал')"
   ]
  },
  {
   "cell_type": "markdown",
   "metadata": {
    "id": "NH_KHLdvdmnp"
   },
   "source": [
    "**Вывод:**\n",
    "\n",
    "1.   По мере увеличения размера выборки от 1 до 100, ширина доверительного интервала снижается. Это происходит потому, что с увеличением размера выборки уменьшается дисперсия оценки параметра.\n",
    "\n",
    "2.   При увеличении размера выборки интервалы становятся более стабильными и уменьшаются в размере. Это свидетельствует о том, что бутстрепные оценки дают более точные результаты при больших объемах выборки."
   ]
  },
  {
   "cell_type": "markdown",
   "metadata": {
    "id": "l6bdmGSmdmnp"
   },
   "source": [
    "### <b><font color=\"orange\">Сложная часть</font></b>\n",
    "\n",
    "## Задача 5\n",
    "\n",
    "\n",
    "Предлагается изучить некоторые свойства распределения Коши с параметром сдвига $\\theta$, обладающего плотностью распределения $p_{\\theta}(x) = \\frac{1}{\\pi \\left(1 + \\left(x- \\theta\\right)^2\\right)}$.\n",
    "\n",
    "На высоте 1 метр от точки $\\theta$ находится источник $\\gamma$-излучения,\n",
    "причем направления траекторий $\\gamma$-квантов случайны, т.е. равномерно распределены по полуокружности. Тогда $X_i, i=1,...,n$ — зарегистрированные координаты точек пересечения $\\gamma$-квантов с поверхностью детекторной плоскости — образуют выборку из распределения Коши со сдвигом $\\theta$."
   ]
  },
  {
   "cell_type": "markdown",
   "metadata": {
    "id": "mq2fyOwYdmnp"
   },
   "source": [
    "**1.** На отрезке $[-7, 7]$ постройте плотность стандартного нормального распределения и стандартного распределения Коши. Не забудьте добавить легенду. Сделайте выводы о сходствах и различиях распределений"
   ]
  },
  {
   "cell_type": "markdown",
   "metadata": {
    "id": "WhGiXTBtdmnp"
   },
   "source": [
    "**Решение:**"
   ]
  },
  {
   "cell_type": "code",
   "execution_count": null,
   "metadata": {
    "colab": {
     "base_uri": "https://localhost:8080/",
     "height": 662
    },
    "id": "DTBQ6I5_dmnp",
    "outputId": "aa4d3daa-bc9a-418c-ff07-ab9521755b36"
   },
   "outputs": [],
   "source": [
    "x = np.linspace(-7, 7, 300)\n",
    "\n",
    "X_normal = sps.norm().pdf(x)\n",
    "X_cauchy = sps.cauchy().pdf(x)\n",
    "\n",
    "plt.figure(figsize = (15, 7))\n",
    "\n",
    "plt.plot(x, X_normal, label = r'$\\mathcal{N}(0, 1)$')\n",
    "plt.plot(x, X_cauchy, label = 'Коши')\n",
    "\n",
    "plt.title(r'Плотность $\\mathcal{N}(0, 1)$ и распределения Коши')\n",
    "plt.xlabel('x')\n",
    "plt.ylabel('Плотность вероятности')\n",
    "\n",
    "plt.legend()\n",
    "plt.xlim(-7, 7)\n",
    "plt.grid(True)\n",
    "plt.show()"
   ]
  },
  {
   "cell_type": "markdown",
   "metadata": {
    "id": "PAVbe6Rxdmnp"
   },
   "source": [
    "**Вывод:**\n",
    "\n",
    "Стандартное нормальное распределение быстро убывает к нулю по мере удаления от среднего значения, в то время как у стандартного распределения Коши наблюдаются длинные и тяжелые хвосты, что означает медленное убывание вероятности при удалении от среднего значения."
   ]
  },
  {
   "cell_type": "markdown",
   "metadata": {
    "id": "3Gp-IU6Cdmnp"
   },
   "source": [
    "**2.** Чему равна асимптотическая дисперсия $\\sigma_{\\alpha}^2$ усеченного среднего $\\overline{X}_{\\alpha}$, где $0 < \\alpha < 1/2$, для распределения Коши? Помочь в ее вычислении может теорема, упомянутая на лекциях. Посчитайте асимптотическую дисперсию аналитически. Постройте график зависимости асимптотической дисперсии $\\sigma_{\\alpha}^2$ усеченного среднего $\\overline{X}_{\\alpha}$, где $0 < \\alpha < 1/2$, от $\\alpha$.\n",
    "\n",
    "Настройте видимую область графика по оси *y* так, чтобы четко была отображена информативная часть графика. Отметьте на графике минимум функции."
   ]
  },
  {
   "cell_type": "markdown",
   "metadata": {
    "id": "-uagNttDdmnp"
   },
   "source": [
    "**Решение:**\n",
    "\n",
    "**Th:** $\\sqrt{n} (\\overline{X_{\\alpha}} - \\theta) \\xrightarrow[n \\to \\infty]{d_{\\theta}} \\mathcal{N}(0, \\sigma^2_{\\alpha})$, где $\\sigma^2_{\\alpha} = \\frac{2}{(1 - 2\\alpha)^2} [\\alpha u^2_{1 - \\alpha} + \\int\\limits_{0}^{u_{1 - \\alpha}} x^2 p_0(x)dx]$.\n",
    "\n",
    "Для распределения Коши, обратная функция распределения определяется как:\n",
    "\n",
    "$u_{\\alpha} = F^{-1}(\\alpha) = \\tan[\\pi(\\alpha - 1/2)]$.\n",
    "\n",
    "Используя плотность $p_0(x) = \\frac{1}{\\pi (1 + x^2)}$, интеграл из выражения для дисперсии:\n",
    "\n",
    "$\\int\\limits_{0}^{u_{1 - \\alpha}} x^2 p_0(x)dx = \\frac{1}{\\pi} \\int\\limits_{0}^{u_{1 - \\alpha}} \\frac{x^2}{1 + x^2}dx = \\frac{1}{\\pi} \\int\\limits_{0}^{u_{1 - \\alpha}} (1 - \\frac{1}{1 - x^2})dx = \\frac{1}{\\pi} (u_{1 - \\alpha} - \\arctan(u_{1 - \\alpha}))$.\n",
    "\n",
    "Таким образом, итоговая дисперсия:\n",
    "\n",
    "$\\sigma^2_{\\alpha} = \\frac{2}{(1 - 2\\alpha)^2} [\\alpha \\tan^2[\\pi(0.5 - \\alpha)] + \\frac{1}{\\pi} (\\tan[\\pi(0.5 - \\alpha)] - \\pi(0.5 - \\alpha))], \\alpha \\in (0, \\frac{1}{2})$."
   ]
  },
  {
   "cell_type": "code",
   "execution_count": null,
   "metadata": {
    "colab": {
     "base_uri": "https://localhost:8080/",
     "height": 601
    },
    "id": "g6bmbCG8dmnp",
    "outputId": "833fcd4b-0e3e-4a0c-ef15-8465126c9efb"
   },
   "outputs": [],
   "source": [
    "def asymptotic_variance(alpha):\n",
    "    \"\"\"\n",
    "    Функция для вычисления асимптотической дисперсии усеченного среднего для распределения Коши.\n",
    "    Аргументы:\n",
    "    alpha (float или массив): Параметр уровня усечения.\n",
    "    Возвращает:\n",
    "    float или массив: Значения асимптотической дисперсии для соответствующих значений alpha.\n",
    "    \"\"\"\n",
    "    k = 2 / ((1 - 2 * alpha)**2)\n",
    "    b = alpha * (np.tan(np.pi * (0.5 - alpha))**2)\n",
    "    c = 1 / np.pi * (np.tan(np.pi * (0.5 - alpha)) - np.pi * (0.5 - alpha))\n",
    "    return k * (b + c)\n",
    "\n",
    "def find_minimum_variance(alpha_values, variance_values):\n",
    "    \"\"\"\n",
    "    Функция для поиска минимальной дисперсии и соответствующего параметра уровня усечения.\n",
    "    Аргументы:\n",
    "    alpha_values (массив): Значения параметра уровня усечения.\n",
    "    variance_values (массив): Значения асимптотической дисперсии.\n",
    "    Возвращает:\n",
    "    float, float: Параметр уровня усечения и соответствующая минимальная дисперсия.\n",
    "    \"\"\"\n",
    "    min_variance_index = np.argmin(variance_values)\n",
    "    min_variance_alpha = alpha_values[min_variance_index]\n",
    "    min_variance = variance_values[min_variance_index]\n",
    "    return min_variance_alpha, min_variance\n",
    "\n",
    "alpha_values = np.linspace(0, 0.49, 1000)\n",
    "variance_values = asymptotic_variance(alpha_values)\n",
    "min_variance_alpha, min_variance = find_minimum_variance(alpha_values, variance_values)\n",
    "\n",
    "plt.figure(figsize = (10, 6))\n",
    "plt.plot(alpha_values, variance_values, label = 'Асимптотическая дисперсия')\n",
    "plt.scatter(min_variance_alpha, min_variance, color = 'b', label = 'Минимум дисперсии')\n",
    "plt.xlim(0.05, 0.5)\n",
    "plt.ylim(2, 8)\n",
    "plt.xlabel(r'$\\alpha$')\n",
    "plt.ylabel(r'$\\sigma^2_{\\alpha}$')\n",
    "plt.legend()\n",
    "\n",
    "print('Минимальная дисперсия: ', round(min_variance, 2))\n",
    "print('Параметр минимальной дисперсии: ', round(min_variance_alpha, 2))\n",
    "\n",
    "plt.show()"
   ]
  },
  {
   "cell_type": "markdown",
   "metadata": {
    "id": "B2OazB7zdmnp"
   },
   "source": [
    "При каком значении $\\alpha$ асимптотическая дисперсия $\\sigma^2_{\\alpha}$ минимальна и чему она равна? Ответ можно найти численно."
   ]
  },
  {
   "cell_type": "markdown",
   "metadata": {
    "id": "kRC95q3idmnp"
   },
   "source": [
    "**Ответ:**\n",
    "\n",
    "При $\\alpha = 0.38$ дисперсия минимальна и равна 2.28"
   ]
  },
  {
   "cell_type": "markdown",
   "metadata": {
    "id": "9s0X0NSTdmnp"
   },
   "source": [
    "**3.** Сгенерируйте выборку $X = \\left(X_1, \\dots, X_{1000} \\right)$ из стандартного распределения Коши. Для всех $n \\leqslant 1000$ по первым $n$ элементам выборки $X_1, \\dots, X_n$ вычислите значения следующих оценок:\n",
    "- $\\overline{X}$  —  выборочное среднее;\n",
    "- $\\overline{X}_{\\alpha}$ —  усеченное среднее, где $\\alpha$ &mdash; значение, на котором достигается минимум $\\sigma^2_{\\alpha}$;\n",
    "- $\\widehat{\\mu}$ —  выборочная медиана;\n",
    "\n",
    "На графиках изобразите зависимость значений **всех оценок** от $n$ для одной реализации выборки, а на другом графики траекторий по нескольким реализациям.\n",
    "\n",
    "Постройте также график, на котором изобразите значения MSE для каждой оценки от размера выборки $n$.\n",
    "\n",
    "*Указание:* $MSE_{\\widehat{\\theta}}(\\theta) = (\\widehat{\\theta} - \\theta)^2$. В качестве $\\theta$ возьмите истинное значение для стандартного распределения Коши. Для подсчета усеченного среднего можно использовать функцию `scipy.stats.trim_mean`.\n",
    "\n",
    "Сравните асимптотические дисперсии оценок. Сделайте вывод.\n",
    "\n",
    "**Решение:**"
   ]
  },
  {
   "cell_type": "code",
   "execution_count": null,
   "metadata": {
    "colab": {
     "base_uri": "https://localhost:8080/",
     "height": 659
    },
    "id": "l8ggXnc8dmnp",
    "outputId": "9f23d969-10c5-4b23-9788-6a0243f2daa8"
   },
   "outputs": [],
   "source": [
    "size = 1000\n",
    "X_cauchy = sps.cauchy().rvs(size)\n",
    "alpha = 0.38\n",
    "\n",
    "sample_indices = np.arange(size) + 1\n",
    "cumulative_sum = np.cumsum(X_cauchy)\n",
    "sample_sizes = np.expand_dims(sample_indices, axis = 1)\n",
    "\n",
    "mean = cumulative_sum / sample_indices\n",
    "trim_mean = np.array([sps.trim_mean(X_cauchy[:i+1], alpha) for i in range(size)])\n",
    "median = np.array([np.median(X_cauchy[:i+1]) for i in range(size)])\n",
    "\n",
    "plt.figure(figsize = (15, 7))\n",
    "plt.plot(sample_indices, mean, label = 'Выборочное среднее')\n",
    "plt.plot(sample_indices, trim_mean, label = 'Усечённое среднее')\n",
    "plt.plot(sample_indices, median, label = 'Выборочная медиана')\n",
    "\n",
    "plt.xlabel('Размер выборки')\n",
    "plt.ylabel('Значение')\n",
    "plt.title('Сравнение выборочного среднего, усечённого среднего и выборочной медианы')\n",
    "\n",
    "plt.legend()\n",
    "plt.grid(True)\n",
    "plt.show()"
   ]
  },
  {
   "cell_type": "code",
   "execution_count": null,
   "metadata": {
    "colab": {
     "base_uri": "https://localhost:8080/",
     "height": 648
    },
    "id": "2PcZAk2pjjfI",
    "outputId": "51ab4977-d0da-424a-b7be-80b0e48cce51"
   },
   "outputs": [],
   "source": [
    "sizes = (300, 1000)\n",
    "X_cauchy = sps.cauchy().rvs(size = sizes)\n",
    "alpha = 0.38\n",
    "\n",
    "sample_indices = np.arange(sizes[-1]) + 1\n",
    "cumulative_sum = np.cumsum(X_cauchy, axis = 1)\n",
    "\n",
    "means = cumulative_sum / (np.expand_dims(sample_indices, axis = 0))\n",
    "trim_means = np.array([sps.trim_mean(X[:, :i+1], alpha, axis = 1) for i in range(sizes[-1])])\n",
    "medians = np.array([np.median(X_cauchy[:, :i+1], axis = 1) for i in range(sizes[-1])])\n",
    "\n",
    "plt.figure(figsize = (15, 7))\n",
    "plt.plot(sample_indices, means.T, color='b', alpha = 0.08)\n",
    "\n",
    "plt.title('Выборочные средние множества реализаций')\n",
    "plt.xlabel('Размер выборки')\n",
    "plt.ylabel('Выборочное среднее')\n",
    "\n",
    "plt.xlim(0, sizes[-1])\n",
    "plt.show()"
   ]
  },
  {
   "cell_type": "code",
   "execution_count": null,
   "metadata": {
    "colab": {
     "base_uri": "https://localhost:8080/",
     "height": 657
    },
    "id": "nkYVVZS8kd7Y",
    "outputId": "a5d9172a-c53f-4fcf-a558-2b5f5f10f7bc"
   },
   "outputs": [],
   "source": [
    "sample_indices = np.arange(sizes[-1]) + 1\n",
    "trim_means = np.array([sps.trim_mean(X_cauchy[:, :i+1], alpha, axis = 1) for i in range(sizes[-1])])\n",
    "\n",
    "plt.figure(figsize = (15, 7))\n",
    "plt.plot(sample_indices, trim_means, color='b', alpha = 0.05)\n",
    "\n",
    "plt.title('Усечённые средние множества реализаций')\n",
    "plt.xlabel('Размер выборки')\n",
    "plt.ylabel('Усечённое среднее')\n",
    "\n",
    "plt.ylim(-50, 50)\n",
    "plt.xlim(0, 200)\n",
    "plt.show()"
   ]
  },
  {
   "cell_type": "code",
   "execution_count": null,
   "metadata": {
    "colab": {
     "base_uri": "https://localhost:8080/",
     "height": 654
    },
    "id": "hlLLJqralItB",
    "outputId": "31d06c08-968c-49e1-9f49-2eaa1ce6b1dc"
   },
   "outputs": [],
   "source": [
    "sample_indices = np.arange(sizes[-1]) + 1\n",
    "medians = np.array([np.median(X_cauchy[:, :i+1], axis = 1) for i in range(sizes[-1])])\n",
    "\n",
    "plt.figure(figsize = (15, 7))\n",
    "plt.plot(sample_indices, medians, color = 'b', alpha = 0.05)\n",
    "\n",
    "plt.title('Медианы множества реализаций')\n",
    "plt.xlabel('Размер выборки')\n",
    "plt.ylabel('Медиана')\n",
    "\n",
    "plt.ylim(-50, 50)\n",
    "plt.xlim(0, sizes[-1])\n",
    "plt.show()"
   ]
  },
  {
   "cell_type": "code",
   "execution_count": null,
   "metadata": {
    "colab": {
     "base_uri": "https://localhost:8080/",
     "height": 581
    },
    "id": "IsabarsrleIb",
    "outputId": "01f25414-5b04-4bec-b246-07c360027b9d"
   },
   "outputs": [],
   "source": [
    "def mse(estimation, theta = 0):\n",
    "    return np.square(estimation - theta)\n",
    "\n",
    "mse_m = mse(mean)\n",
    "mse_tm = mse(trim_mean)\n",
    "mse_med = mse(median)\n",
    "\n",
    "ns = np.arange(size) + 1\n",
    "\n",
    "plt.figure(figsize=(14, 6))\n",
    "\n",
    "plt.plot(ns, mse_m,   label = 'Выборочное среднее')\n",
    "plt.plot(ns, mse_tm,  label = 'Усечённое среднее' )\n",
    "plt.plot(ns, mse_med, label = 'Выборочная медиана')\n",
    "\n",
    "plt.xlim(0, size)\n",
    "\n",
    "plt.title('MSE оценок')\n",
    "plt.xlabel('Размер выборки')\n",
    "\n",
    "plt.legend()\n",
    "plt.show()"
   ]
  },
  {
   "cell_type": "markdown",
   "metadata": {
    "id": "H52WcqUTdmnp"
   },
   "source": [
    "**Вывод:**\n",
    "\n",
    "Из-за отсутствия определенного математического ожидания у распределения Коши выборочное среднее является неустойчивым и чувствительным к выбросам при любом размере выборки. Однако медиана и усеченное среднее быстро приближаются к целевому значению, несмотря на наличие выбросов, что делает их более надежными оценками центральной тенденции."
   ]
  },
  {
   "cell_type": "markdown",
   "metadata": {
    "id": "559cd2b7"
   },
   "source": [
    "## Задача 6\n",
    "Асимпотические доверительные интервалы ничего не могут гарантировать на малых размерах выборки.\n",
    "В этой задаче вам предстоит иллюстрировать этот факт, посчитав реальный уровень доверия для интервалов.\n",
    "\n",
    "**Реальный уровень доверия (оценка доли покрытия интервалом)**  - доля случаев попадания истинного значения параметра в доверительный интервал.\n",
    "\n",
    "*Пример:* вы проводите 100 экспериментов (создаете 100 выборок), для каждой выборки рассчитываете АДИ для параметра $\\theta$. Истинный параметр попадает в 93 интервала из 100, значит реальный уровень доверия в этом случае будет 0.93.\n",
    "\n",
    "**Важно:** при такой оценке реального уровня доверия вы используете метод Монте-Карло. Погрешность этого метода составляет $\\sim \\frac{1}{\\sqrt{n}}$, где $n$ - количество выборок, по которым осуществляется оценка.\n",
    "\n",
    "*Вопрос:* какое $n$ нужно брать, если вы хотите оценить реальный уровень доверия с точностью до 2 знаков ($\\delta = 0.01$)?\n",
    "\n",
    "**Ответ:** $n \\geq 10 000$\n"
   ]
  },
  {
   "cell_type": "markdown",
   "metadata": {
    "id": "7ed1a76a"
   },
   "source": [
    "Сгенерируйте набор выборок из нормального распределения $\\mathcal{N}(\\theta, 1)$ при $\\theta=0$"
   ]
  },
  {
   "cell_type": "code",
   "execution_count": null,
   "metadata": {
    "id": "88d51f9d"
   },
   "outputs": [],
   "source": [
    "theta = 0  # истинное значение параметра\n",
    "sample_size = 300\n",
    "sample_count = 10000\n",
    "X = sps.norm.rvs(loc = theta, scale = 1, size = (sample_count, sample_size))"
   ]
  },
  {
   "cell_type": "markdown",
   "metadata": {
    "id": "39078460"
   },
   "source": [
    "Рассмотрим $\\hat{\\theta} = \\overline{X}$.\n",
    "\n",
    "Напоминание из теории:\n",
    "$$\\hat{\\theta} - \\frac{z_{\\frac{1+\\alpha}{2}}\\hat{\\sigma}}{\\sqrt{n}} < \\theta < \\hat{\\theta} + \\frac{z_{\\frac{1+\\alpha}{2}}\\hat{\\sigma}}{\\sqrt{n}}$$"
   ]
  },
  {
   "cell_type": "markdown",
   "metadata": {
    "id": "c2ac931d"
   },
   "source": [
    "Посчитайте $z$ (используйте функцию `.ppf`)"
   ]
  },
  {
   "cell_type": "code",
   "execution_count": null,
   "metadata": {
    "colab": {
     "base_uri": "https://localhost:8080/"
    },
    "id": "96775728",
    "outputId": "cef1a1bb-d535-4bb7-acf1-18a64d1fda0d"
   },
   "outputs": [],
   "source": [
    "alpha = 0.95\n",
    "z = sps.norm.ppf(1 - (1 -alpha)/2)\n",
    "print(z)"
   ]
  },
  {
   "cell_type": "markdown",
   "metadata": {
    "id": "a1c5b2e1"
   },
   "source": [
    "Постройте график зависимости реального уровня доверия от размера выборки."
   ]
  },
  {
   "cell_type": "code",
   "execution_count": null,
   "metadata": {
    "colab": {
     "base_uri": "https://localhost:8080/",
     "height": 659
    },
    "id": "afb2a76c",
    "outputId": "a3c408a8-7ab7-4f21-f8b3-84ca7d2a4337"
   },
   "outputs": [],
   "source": [
    "def adi(X, z, sigma = 1, theta = 0):\n",
    "    \"\"\"\n",
    "    Функция для оценки реального уровня доверия.\n",
    "    Параметры:\n",
    "        X : Массив выборок размера (sample_count, sample_size).\n",
    "        z : Значение z для построения доверительного интервала.\n",
    "        sigma : Стандартное отклонение распределения.\n",
    "        theta : Истинное значение параметра.\n",
    "    Возвращает:\n",
    "        float: Реальный уровень доверия.\n",
    "    \"\"\"\n",
    "    mean = np.mean(X, axis = 1)\n",
    "\n",
    "    n = X.shape[1]\n",
    "    mn = mean - z * sigma / np.sqrt(n)\n",
    "    mx = mean + z * sigma / np.sqrt(n)\n",
    "\n",
    "    res = np.array([1 if mn[i] < theta < mx[i] else 0 for i in range(len(X))])\n",
    "\n",
    "    return res.sum() / len(res)\n",
    "\n",
    "plt.figure(figsize = (15, 7))\n",
    "\n",
    "n_grid = np.linspace(10, sample_size, 100).astype('int64')\n",
    "\n",
    "for i in range(400):\n",
    "    X = sps.norm.rvs(loc = theta, scale = 1, size = (sample_count, sample_size))\n",
    "    results = [adi(X[:][:n], z) for n in n_grid]\n",
    "    plt.plot(n_grid, results, color='b', alpha = 0.05)\n",
    "\n",
    "plt.plot((10, sample_size), (alpha, alpha), color = 'r', label = fr'$\\alpha = {alpha}$')\n",
    "plt.xlim(10, sample_size)\n",
    "plt.ylim(0, 1)\n",
    "\n",
    "plt.title('Зависимость уровня доверия от размера выборки')\n",
    "plt.xlabel('Размер выборки')\n",
    "plt.ylabel('Реальный уровень доверия')\n",
    "\n",
    "plt.grid(True)\n",
    "plt.legend()\n",
    "plt.show()"
   ]
  },
  {
   "cell_type": "markdown",
   "metadata": {
    "id": "2bd46a6c"
   },
   "source": [
    "Сделайте выводы."
   ]
  },
  {
   "cell_type": "markdown",
   "metadata": {
    "id": "8f21ab05"
   },
   "source": [
    "**Вывод:**\n",
    "\n",
    "При небольших значениях размера выборки реальный уровень доверия может значительно отличаться от ожидаемого, как в сторону завышения, так и в сторону занижения. Однако, при увеличении размера выборки примерно до 300, большинство траекторий сходятся к постоянному значению. Для большинства случаев реальный уровень доверия остается в пределах примерно ±0.3 от ожидаемого значения."
   ]
  }
 ],
 "metadata": {
  "colab": {
   "provenance": []
  },
  "kernelspec": {
   "display_name": "Python 3",
   "name": "python3"
  },
  "language_info": {
   "codemirror_mode": {
    "name": "ipython",
    "version": 3
   },
   "file_extension": ".py",
   "mimetype": "text/x-python",
   "name": "python",
   "nbconvert_exporter": "python",
   "pygments_lexer": "ipython3",
   "version": "3.11.3"
  }
 },
 "nbformat": 4,
 "nbformat_minor": 0
}
