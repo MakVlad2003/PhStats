{
 "cells": [
  {
   "cell_type": "code",
   "execution_count": null,
   "metadata": {
    "id": "526sVsdxvywF"
   },
   "outputs": [],
   "source": [
    "import numpy as np\n",
    "import scipy.stats as sps\n",
    "import matplotlib.pyplot as plt\n",
    "import pandas as pd\n",
    "import seaborn as sns\n",
    "\n",
    "%matplotlib inline\n",
    "sns.set_style(\"whitegrid\")"
   ]
  },
  {
   "cell_type": "markdown",
   "metadata": {
    "id": "O2m8lfhsvywG"
   },
   "source": [
    "## Задача 1\n",
    "### Распределение Стьюдента\n"
   ]
  },
  {
   "cell_type": "markdown",
   "metadata": {
    "id": "bXIxv6sVvywG"
   },
   "source": [
    "В `scipy.stats` распределение Стьюдента задается объектом `t` с параметрами:\n",
    " * `loc` и `scale` параметры распределения так же как и у нормального распределение\n",
    " * `df` число степеней свободы\n",
    "\n",
    "Все остальные методы стандартные. Например, генерации выборки из распределения $T_{50}$ будет выглядеть так:\n"
   ]
  },
  {
   "cell_type": "code",
   "execution_count": null,
   "metadata": {
    "colab": {
     "base_uri": "https://localhost:8080/"
    },
    "id": "iXmZr5TwvywH",
    "outputId": "da4c9d93-e16e-49c6-c6c5-d51862fb0dbc"
   },
   "outputs": [],
   "source": [
    "sps.t(df=50).rvs(4)"
   ]
  },
  {
   "cell_type": "markdown",
   "metadata": {
    "id": "0qqBKvn-vywH"
   },
   "source": [
    "Постройте на одном графике плотности распределения Стьюдента и нормального.\n"
   ]
  },
  {
   "cell_type": "code",
   "execution_count": null,
   "metadata": {
    "colab": {
     "base_uri": "https://localhost:8080/",
     "height": 564
    },
    "id": "D0amaKU_vywI",
    "outputId": "18203eee-ecf1-43f4-bd52-406f2f470fcd"
   },
   "outputs": [],
   "source": [
    "x = np.linspace(-10, 10, 1000)\n",
    "\n",
    "pdf_normal = sps.norm.pdf(x)\n",
    "pdf_student = sps.t(df = 3).pdf(x)\n",
    "\n",
    "plt.figure(figsize = (10, 6))\n",
    "plt.plot(x, pdf_normal, label = r'$\\mathcal{N}(0, 1)$')\n",
    "plt.plot(x, pdf_student, label = r'$T_{50}$')\n",
    "\n",
    "plt.title(r'Плотность распределения')\n",
    "plt.xlabel('Значение')\n",
    "plt.ylabel('Плотность вероятности')\n",
    "\n",
    "plt.legend()\n",
    "plt.grid(True)\n",
    "plt.show()"
   ]
  },
  {
   "cell_type": "markdown",
   "metadata": {
    "id": "MJfoodWNvywI"
   },
   "source": [
    "Что вы можете сказать о скорости убывания \"хвостов\" данных распределений? Повлияет ли это на значения соответствующих квантилей?"
   ]
  },
  {
   "cell_type": "markdown",
   "metadata": {
    "id": "_LMIHI1PvywI"
   },
   "source": [
    "**Ответ:**\n",
    "\n",
    "При у величении степеней свободы, распределение Стьюдента стремиться к нормальному и как следствие хвосты сновятся более легкими.\n"
   ]
  },
  {
   "cell_type": "markdown",
   "metadata": {
    "id": "bbVB0lmTvywI"
   },
   "source": [
    "### Квантили распределения Стьюдента"
   ]
  },
  {
   "cell_type": "markdown",
   "metadata": {
    "id": "sDm50fDPvywI"
   },
   "source": [
    "Для подсчета теоретических значений квантилей в модуле `scipy.stats` есть метод `.ppf`. На вход принимает параметр `alpha` - значение квантиля, а так же все параметры выбранного распределения.\n",
    "\n"
   ]
  },
  {
   "cell_type": "code",
   "execution_count": null,
   "metadata": {
    "colab": {
     "base_uri": "https://localhost:8080/"
    },
    "id": "byU3s2CfvywJ",
    "outputId": "7a05aae3-6197-413c-a9db-885493229c92"
   },
   "outputs": [],
   "source": [
    "sps.norm(loc=0, scale=1).ppf(0.05)"
   ]
  },
  {
   "cell_type": "markdown",
   "metadata": {
    "id": "cddkxWRmvywJ"
   },
   "source": [
    "Для распределения Стьюдента нужно указать еще число степеней свобод."
   ]
  },
  {
   "cell_type": "code",
   "execution_count": null,
   "metadata": {
    "colab": {
     "base_uri": "https://localhost:8080/"
    },
    "id": "-G7F4FqlvywJ",
    "outputId": "7c4d9090-570d-4252-9da7-e7ea1a90e087"
   },
   "outputs": [],
   "source": [
    "sps.t(loc=0, scale=1, df=5).ppf(0.05)"
   ]
  },
  {
   "cell_type": "markdown",
   "metadata": {
    "id": "g51K_c5_vywJ"
   },
   "source": [
    "Как мы видим, значения квантилей довольно сильно различаются."
   ]
  },
  {
   "cell_type": "markdown",
   "metadata": {
    "id": "v4bBP7T2vywJ"
   },
   "source": [
    "Возьмите `alpha` равное 95% и постройте график значений квантилей распределения стьюдента $T_{n-1,(1+\\alpha)/2}$ от его степеней свобод. Так же нанесите на график значение квантиля нормального распределения $z_{(1+\\alpha)/2}$\n",
    "\n",
    "*Указание*: рассмотрите значения степеней свобод от 1 до 50."
   ]
  },
  {
   "cell_type": "code",
   "execution_count": null,
   "metadata": {
    "id": "oK_GmVsovywK"
   },
   "outputs": [],
   "source": [
    "alpha = 0.95\n",
    "dfs =  np.array([i for i in range(51)])    # массив степеней свобод"
   ]
  },
  {
   "cell_type": "code",
   "execution_count": null,
   "metadata": {
    "colab": {
     "base_uri": "https://localhost:8080/",
     "height": 641
    },
    "id": "bJaTuphBvywK",
    "outputId": "b078daf3-280e-44e4-b5cc-ecdb1b2d751e"
   },
   "outputs": [],
   "source": [
    "quantile = [sps.t(loc = 0, scale = 1, df = i).ppf((1 + alpha)/2) for i in dfs]\n",
    "norm_quantile = sps.norm.ppf((1 + alpha)/2)\n",
    "\n",
    "plt.figure(figsize = (15, 7))\n",
    "\n",
    "plt.axhline(norm_quantile, color = 'r')\n",
    "plt.plot(dfs, quantile)\n",
    "\n",
    "plt.title('Зависимость квантилей от степеней совбоды')\n",
    "plt.xlabel('Степень свободы')\n",
    "plt.ylabel('Значение квантиля')\n",
    "plt.show()"
   ]
  },
  {
   "cell_type": "markdown",
   "metadata": {
    "id": "dUmBR8-0vywK"
   },
   "source": [
    "Как изменяется поведение значения квантилей t распределения, есть ли у него какой-то предел?"
   ]
  },
  {
   "cell_type": "markdown",
   "metadata": {
    "id": "AHUNsX05vywK"
   },
   "source": [
    "**Ответ:**\n",
    "\n",
    "Видно, что с увеличением количесвта степеней свободы значение квантиля для распределеняи Стьюдента будет стремиться к квантилю для нормального."
   ]
  },
  {
   "cell_type": "markdown",
   "metadata": {
    "id": "gWjoeuA8vywK"
   },
   "source": [
    "### ДИ в нормальной модели\n",
    " В данном задании вам нужно изучить доверительные интервалы для параметра сдвига в нормальной модели в случае неизвестной дисперсии. Требуется построить:\n",
    " * асимптотический доверительный интервал при помощи центральной предельной теоремы;\n",
    " * точный неасимптотический при помощи распределений хи-квадрат, Стьюдента.\n"
   ]
  },
  {
   "cell_type": "markdown",
   "metadata": {
    "id": "u6F0dpR9vywK"
   },
   "source": [
    "Вывод этих интервалов был разобран на лекции. Выпишите только ответы.\n",
    "\n",
    "Вывод этих интервалов был разобран на лекции. Выпишите только ответы.\n",
    "\n",
    "Асимптотический доверительный интервал:\n",
    "\n",
    "$$a \\in \\left(\\overline{X} \\pm z_{\\frac{1+\\alpha}{2}} \\frac{\\sigma}{\\sqrt{n}}\\right)$$\n",
    "\n",
    "Точный доверительный интервал:\n",
    "\n",
    "$$a \\in \\left(\\overline{X} \\pm \\frac{T_{n-1}, \\frac{1 + \\alpha}{2}}{\\sqrt{n - 1}}S\\right)$$"
   ]
  },
  {
   "cell_type": "markdown",
   "metadata": {
    "id": "Ii5dSdkwvywK"
   },
   "source": [
    "Постройте доверительные интервалы для параметра сдвига стандартного нормального распределения. Нужно построить доверительные интервалы обоих рассмотренных выше типов. Запишите их в виде таблицы.\n",
    "\n",
    "*Указание*: рассмотрите длину выборки около 20-30.\n"
   ]
  },
  {
   "cell_type": "code",
   "execution_count": null,
   "metadata": {
    "colab": {
     "base_uri": "https://localhost:8080/"
    },
    "id": "pN4eKZo0AerI",
    "outputId": "1daefe97-511e-49da-bf1d-9b74ee32cef7"
   },
   "outputs": [],
   "source": [
    "sample_size = 30\n",
    "sample = sps.norm.rvs(sample_size)  # выборка\n",
    "\n",
    "mean_sample = np.mean(sample)\n",
    "std_sample = np.std(sample)\n",
    "alpha = 0.95\n",
    "z = sps.norm.ppf((1 + alpha)/2)\n",
    "\n",
    "# асимпотические ДИ\n",
    "asymptotic_ci =  [mean_sample - (z * std_sample)/np.sqrt(sample_size),\n",
    "                  mean_sample + (z * std_sample)/np.sqrt(sample_size)]\n",
    "\n",
    "t = sps.t.ppf((1 + alpha)/2, df = sample_size - 1)\n",
    "\n",
    "# точные ДИ\n",
    "precise_ci = [mean_sample - (t * std_sample)/np.sqrt(sample_size - 1),\n",
    "              mean_sample + (t * std_sample)/np.sqrt(sample_size - 1)]\n",
    "\n",
    "print(asymptotic_ci, precise_ci)"
   ]
  },
  {
   "cell_type": "markdown",
   "metadata": {
    "id": "FSuC1XR5vywL"
   },
   "source": [
    "Сравните полученные значения для доверительных интервалов."
   ]
  },
  {
   "cell_type": "markdown",
   "metadata": {
    "id": "hyqvUsjUvywL"
   },
   "source": [
    "**Ответ**:\n",
    "\n",
    "Видно совпадение."
   ]
  },
  {
   "cell_type": "markdown",
   "metadata": {
    "id": "nCIK7UJVvywL"
   },
   "source": [
    "Реализуйте функции построения этих интервалов по выборке. Функции уже задокументированы.\n",
    "\n",
    "Интервалы считайте по префиксам. Циклы использовать **запрещено**. Для подсчета среднего по префиксам используйте функцию `np.cumsum`."
   ]
  },
  {
   "cell_type": "code",
   "execution_count": null,
   "metadata": {
    "id": "PMntWjJwvywL"
   },
   "outputs": [],
   "source": [
    "def calculate_asymptotic_confidence_intervals(sample, alpha=0.95):\n",
    "    '''\n",
    "    Функция для вычисления асимптотического доверительного интервала\n",
    "        параметра сдвига для всех подвыборок выборки\n",
    "    param sample: выборка,\n",
    "    param alpha: уровень доверия\n",
    "\n",
    "    return: асимптотический доверительный интервал\n",
    "    '''\n",
    "    N = sample.shape[0]\n",
    "    k = np.arange(N) + 1\n",
    "\n",
    "    means = np.cumsum(sample) / k\n",
    "    z = sps.norm().ppf((1 + alpha)/2)\n",
    "    sigmas = np.sqrt(np.cumsum(sample**2) / k - (np.cumsum(sample) / k)**2)\n",
    "\n",
    "    return means - z * sigmas / np.sqrt(k), means + z * sigmas / np.sqrt(k)\n",
    "\n",
    "\n",
    "def calculate_confidence_intervals(sample, alpha=0.95):\n",
    "    '''\n",
    "    Функция для вычисления неасимптотического доверительного интервала\n",
    "        параметра сдвига для всех подвыборок выборки\n",
    "    param sample: выборка,\n",
    "    param alpha: уровень доверия\n",
    "\n",
    "    return: неасимптотический доверительный интервал\n",
    "    '''\n",
    "    N = sample.shape[0]\n",
    "    k = np.arange(N) + 1\n",
    "\n",
    "    means = np.cumsum(sample) / k\n",
    "    sigmas = np.sqrt(np.cumsum(sample**2) / k - (np.cumsum(sample) / k)**2)\n",
    "    T_k = sps.t(df = (np.arange(N))).ppf((1 + alpha)/2)\n",
    "\n",
    "    return (means - T_k*sigmas/np.sqrt(k), means + T_k*sigmas/np.sqrt(k))"
   ]
  },
  {
   "cell_type": "markdown",
   "metadata": {
    "id": "vRJuJxdVvywL"
   },
   "source": [
    "Сгенерируйте выборку из нормального распределения и сравните два доверительных интервала в зависимости от размера выборки. Для сравнения отобразите оба интервала на одном графике. Проследите за тем, чтобы было видно, как соотносятся размеры интервалов. Поясните теоретическую причину такого поведения доверительных интервалов.\n",
    "\n",
    "*Указание*: рассмотрите длину выборки около 20-30.\n",
    "\n",
    "Чтобы не плодить код, допишите следующую функцию (см. ниже). При выборе стиля графика помните, что если изображаются лишь точки и линии, то лучше использовать серый фон, а если присутствуют закрашенные области, то предпочтительнее белый. Графики первого типа еще называют \"легкими\", а второго — \"тяжелыми\".\n",
    "\n",
    "*Подсказка:* вам может пригодиться функция `plt.fill_between`.\n"
   ]
  },
  {
   "cell_type": "code",
   "execution_count": null,
   "metadata": {
    "id": "PdBwRljAvywL"
   },
   "outputs": [],
   "source": [
    "def draw_confidence_interval(\n",
    "    left, right, estimation=None, sample=None,\n",
    "    ylim=(-10, 10), color_estimation='#FF3300', color_interval='#00CC66',\n",
    "    color_sample='#0066FF', label_estimation='Оценка',\n",
    "    sample_label='Семпл', interval_label=None\n",
    "):\n",
    "    '''\n",
    "    Рисует доверительный интервал и оценку в зависимости от размера выборки.\n",
    "\n",
    "    :param left: левые границы интервалов (в зависимости от n)\n",
    "    :param right: правые границы интервалов (в зависимости от n)\n",
    "    :param estimation: оценки (в зависимости от n)\n",
    "    :param sample: выборка\n",
    "    :param ylim: ограничение вертикальной оси\n",
    "    :param color_estimation: цвет оценки\n",
    "    :param color_interval: цвет интервала\n",
    "    :param color_sample: цвет выборки\n",
    "    :param label_estimation: подпись для оценки\n",
    "    '''\n",
    "\n",
    "    time = np.arange(len(left)) + 1\n",
    "\n",
    "    assert len(time) == len(right)\n",
    "\n",
    "    plt.fill_between(time, right, left, color = color_interval, alpha = 0.2, label = interval_label)\n",
    "    plt.plot(time, estimation, color = color_estimation, label = label_estimation)\n",
    "    plt.scatter(time, sample, color = color_sample, label = sample_label)\n",
    "\n",
    "    plt.legend(fontsize = 16)\n",
    "    plt.ylim(ylim)\n",
    "    plt.xlim(0, time[-1] + 0.1)\n",
    "    plt.xlabel('Размер выборки')\n",
    "    plt.title('Зависимость значений \\\n",
    "доверительного интервала от размера выборки')\n",
    "    plt.grid()"
   ]
  },
  {
   "cell_type": "code",
   "execution_count": null,
   "metadata": {
    "colab": {
     "base_uri": "https://localhost:8080/",
     "height": 641
    },
    "id": "b-u2zGhhvywL",
    "outputId": "fe29ff1e-8bcd-445f-94a2-65542dba965c"
   },
   "outputs": [],
   "source": [
    "sample = sps.norm().rvs(sample_size)\n",
    "estimation = np.cumsum(sample)/(np.arange(sample_size) + 1)\n",
    "left_as, right_as = calculate_asymptotic_confidence_intervals(sample, alpha = 0.95)\n",
    "left, right = calculate_confidence_intervals(sample, alpha = 0.95)\n",
    "\n",
    "plt.figure(figsize = (15, 7))\n",
    "\n",
    "draw_confidence_interval(\n",
    "    left_as, right_as, estimation = estimation, sample = sample,\n",
    "    ylim = (None, None), color_estimation = '#FF3300', color_interval = '#00CC66',\n",
    "    color_sample = '#0066FF', label_estimation = 'Выборочное среднее', sample_label = 'Выборка', interval_label = 'асимптотический'\n",
    ")\n",
    "\n",
    "draw_confidence_interval(\n",
    "    left, right, estimation = estimation, sample = sample,\n",
    "    ylim = (None, None), color_estimation = '#FF3300', color_interval = 'orange',\n",
    "    color_sample = '#0066FF', label_estimation = None, sample_label = None, interval_label = 'точный'\n",
    ")"
   ]
  },
  {
   "cell_type": "markdown",
   "metadata": {
    "id": "f_V2n64LvywM"
   },
   "source": [
    "**Вывод:**\n",
    "\n",
    "Сначала точный интервал гораздо шире асимптотического в начале, но зато он всегда охватывает реальное значение параметра.\n",
    "\n",
    "Поэтому, для небольших размеров выборки более логично использовать именно точный доверительный интервал.\n",
    "\n",
    "Для больших же размеров доверительные интервалы начинают совпадать, так как в пределе точный интервал переходит в асимптотический.\n"
   ]
  },
  {
   "cell_type": "markdown",
   "metadata": {
    "id": "nGavWY5RvywM"
   },
   "source": [
    "## Задача 2\n",
    "### Функция правдоподобия\n",
    "Дана параметрическая модель и 3 выборки, состоящие из 2-3 наблюдений. Для удобства, выборки представлены в виде python-кода — каждая выборка записана как список ее элементов; множество выборок представлено как список списков, соответствующих выборкам из множества. Нужно для каждой выборки построить график функции правдоподобия.\n",
    "\n",
    "*a).* Параметрическая модель $\\mathcal{N}(\\theta, 1)$, выборки: `[[-1, 1], [-5, 5], [-1, 5]]`\n",
    "\n",
    "*b).* Параметрическая модель $Exp(\\theta)$, выборки: `[[1, 2], [0.1, 1], [1, 10]]`\n",
    "\n",
    "*c).* Параметрическая модель $U[0, \\theta]$, выборки: `[[0.2, 0.8], [0.5, 1], [0.5, 1.3]]`\n",
    "\n",
    "*d).* Параметрическая модель $Bin(5, \\theta)$, выборки: `[[0, 1], [5, 5], [0, 5]]`\n",
    "\n",
    "*e).* Параметрическая модель $Pois(\\theta)$, выборки: `[[0, 1], [0, 10], [5, 10]]`\n",
    "\n",
    "*f).* Параметрическая модель $Сauchy(\\theta)$, где $\\theta$ — параметр сдвига, выборки: `[[-0.5, 0.5], [-2, 2], [-4, 0, 4]]`\n",
    "\n",
    "Выполнить задание, не создавая много кода, поможет следующая функция."
   ]
  },
  {
   "cell_type": "code",
   "execution_count": null,
   "metadata": {
    "id": "2LWAGbtkvywM"
   },
   "outputs": [],
   "source": [
    "def draw_likelihood(density_function, grid, samples, label):\n",
    "    \"\"\"Изображает график функции правдоподобия для каждой из 3 выборок.\n",
    "\n",
    "    Аргументы:\n",
    "    density_function --- функция, считающая плотность (обычную или дискретную).\n",
    "        На вход данная функция должна принимать массив размера (1, len_sample)\n",
    "        и возвращать массив размера (len_grid, len_sample).\n",
    "    grid --- массив размера (len_grid, 1) --- сетка для построения графика;\n",
    "    samples --- три выборки;\n",
    "    label --- latex-код параметрической модели.\n",
    "    \"\"\"\n",
    "    assert len(samples) == 3, \"Число выборок не равно 3.\"\n",
    "\n",
    "    plt.figure(figsize=(18, 5))\n",
    "    for i, sample in enumerate(samples):\n",
    "        sample = np.array(sample)[np.newaxis, :]\n",
    "        likelihood = density_function(sample).prod(axis=1)\n",
    "\n",
    "        plt.subplot(1, 3, i+1)\n",
    "        plt.plot(grid, likelihood)\n",
    "        plt.xlabel('$\\\\theta$', fontsize=16)\n",
    "        plt.grid(ls=':')\n",
    "        plt.title(label + ', sample=' + str(sample), fontsize=16)\n",
    "    plt.show()"
   ]
  },
  {
   "cell_type": "markdown",
   "metadata": {
    "id": "DJRIZ9sPvywM"
   },
   "source": [
    "Первый пункт можно выполнить с помощью следующего кода:"
   ]
  },
  {
   "cell_type": "code",
   "execution_count": null,
   "metadata": {
    "id": "2nLCJfQIvywM",
    "outputId": "990ccfd5-f431-4c9b-b5a9-2f3cd9d252e5"
   },
   "outputs": [],
   "source": [
    "grid = np.linspace(-5, 5, 1000).reshape((-1, 1))\n",
    "draw_likelihood(sps.norm(loc=grid).pdf, grid,\n",
    "                [[-1, 1], [-5, 5], [-1, 5]], '$\\\\mathcal{N}(\\\\theta, 1)$')"
   ]
  },
  {
   "cell_type": "markdown",
   "metadata": {
    "id": "Wq6VgWl0vywM"
   },
   "source": [
    "Выполните остальные:"
   ]
  },
  {
   "cell_type": "code",
   "execution_count": null,
   "metadata": {
    "id": "41XJB5_vvywM"
   },
   "outputs": [],
   "source": [
    "# ваш код"
   ]
  },
  {
   "cell_type": "markdown",
   "metadata": {
    "id": "IcVGGAVtvywN"
   },
   "source": [
    "Прокомментируйте полученные графики. Сделайте вывод о том, как функция правдоподобия для каждой модели зависит от выборки. Является ли функция правдоподобия плотностью?"
   ]
  },
  {
   "cell_type": "markdown",
   "metadata": {
    "id": "QJjPFy6ivywZ"
   },
   "source": [
    "*Примечание:* В выводе для каждой модели требуется описать, как меняются значения функции (сдвиг, масштаб, форма) при изменении выборки, где достигается максимум, а также какие значения параметра более правдоподобны для данной выборки, какие — менее.\n",
    "\n",
    "**Вывод:**"
   ]
  },
  {
   "cell_type": "markdown",
   "metadata": {
    "id": "W99k6w1Uvywa"
   },
   "source": [
    "Сгенерируем выборку большого размера из стандартного нормального распределения и посчитаем ее функцию правдоподобия в модели $\\mathcal{N}(\\theta, 1)$. Выполните код ниже:"
   ]
  },
  {
   "cell_type": "code",
   "execution_count": null,
   "metadata": {
    "id": "m7gANMnUvywa",
    "outputId": "fad222c4-91eb-4066-987e-aaed0fe4a9f0"
   },
   "outputs": [],
   "source": [
    "sample = sps.norm.rvs(size=10**5)\n",
    "likelihood = sps.norm.pdf(sample).prod()\n",
    "print(likelihood)"
   ]
  },
  {
   "cell_type": "markdown",
   "metadata": {
    "id": "06g8-Wdxvywa"
   },
   "source": [
    "Почему результат отличается от ожидаемого? Как обойти эту неприятность для подсчета оценки максимального правдоподобия? Реализуйте это.\n",
    "\n",
    "*Подсказка:* нужно использовать некоторый метод класса, реализующий это распределение"
   ]
  },
  {
   "cell_type": "markdown",
   "metadata": {
    "id": "8ZKt73Davywa"
   },
   "source": [
    "**Ответ на вопрос и описание метода решения проблемы:**\n"
   ]
  },
  {
   "cell_type": "code",
   "execution_count": null,
   "metadata": {
    "id": "Y4FJaVJ0vywa"
   },
   "outputs": [],
   "source": [
    "# ваш код"
   ]
  }
 ],
 "metadata": {
  "colab": {
   "provenance": []
  },
  "kernelspec": {
   "display_name": "Python 3 (ipykernel)",
   "language": "python",
   "name": "python3"
  },
  "language_info": {
   "codemirror_mode": {
    "name": "ipython",
    "version": 3
   },
   "file_extension": ".py",
   "mimetype": "text/x-python",
   "name": "python",
   "nbconvert_exporter": "python",
   "pygments_lexer": "ipython3",
   "version": "3.9.7"
  },
  "varInspector": {
   "cols": {
    "lenName": 16,
    "lenType": 16,
    "lenVar": 40
   },
   "kernels_config": {
    "python": {
     "delete_cmd_postfix": "",
     "delete_cmd_prefix": "del ",
     "library": "var_list.py",
     "varRefreshCmd": "print(var_dic_list())"
    },
    "r": {
     "delete_cmd_postfix": ") ",
     "delete_cmd_prefix": "rm(",
     "library": "var_list.r",
     "varRefreshCmd": "cat(var_dic_list()) "
    }
   },
   "types_to_exclude": [
    "module",
    "function",
    "builtin_function_or_method",
    "instance",
    "_Feature"
   ],
   "window_display": false
  }
 },
 "nbformat": 4,
 "nbformat_minor": 0
}
