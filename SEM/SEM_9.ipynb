{
 "cells": [
  {
   "cell_type": "code",
   "execution_count": null,
   "metadata": {
    "id": "9NRJwfU-BHqD"
   },
   "outputs": [],
   "source": [
    "import pandas as pd\n",
    "import scipy.stats as sps\n",
    "import matplotlib.pyplot as plt\n",
    "import numpy as np\n",
    "import seaborn as sns\n",
    "\n",
    "import random\n",
    "# зафиксируем сид для воспроизводимости генерации\n",
    "SEED = 42\n",
    "np.random.seed(SEED)\n",
    "random.seed(SEED)"
   ]
  },
  {
   "cell_type": "markdown",
   "metadata": {
    "id": "r0KlzD-FBHqF"
   },
   "source": [
    "## Критерии вида t-test\n",
    "\n",
    "### Одновыборочный\n",
    "\n",
    "Дана одна нормальная выборка $X_1, ..., X_n \\sim \\mathcal{N}(a, \\sigma^2)$.\n",
    "\n",
    "Критерий проверяет гипотезы\n",
    "\n",
    "$\\mathsf{H}_0\\colon a = a_0$\n",
    "\n",
    "$\\mathsf{H}_1\\colon a \\not= a_0$\n",
    "\n",
    "<a href=\"https://docs.scipy.org/doc/scipy/reference/generated/scipy.stats.ttest_1samp.html#scipy.stats.ttest_1samp\">`ttest_1samp`</a>`(a, popmean): statistic, pvalue`\n",
    "\n",
    "* `a` &mdash; выборка\n",
    "* `popmean` &mdash; равно $a_0$"
   ]
  },
  {
   "cell_type": "markdown",
   "metadata": {
    "id": "ue2GgQhgBHqG"
   },
   "source": [
    "Сгенерируйте выборку $X_1, ..., X_n \\sim \\mathcal{N}(0, 1)$ и с помощью критерия проверьте:\n",
    "- равенство среднего нулю\n",
    "- равенство среднего 0.5"
   ]
  },
  {
   "cell_type": "code",
   "execution_count": null,
   "metadata": {
    "colab": {
     "base_uri": "https://localhost:8080/"
    },
    "id": "gwRRSmifBHqH",
    "outputId": "8909e69f-0afd-4369-e746-6f01966d981f"
   },
   "outputs": [],
   "source": [
    "size=100\n",
    "\n",
    "sample = sps.norm().rvs(size=size)\n",
    "\n",
    "_, p_0 = sps.ttest_1samp(sample, popmean = 0)\n",
    "_, p_05 = sps.ttest_1samp(sample, popmean = 0.5)\n",
    "\n",
    "print(f'Для гипотезы a = 0 получили p-value = {p_0.round(5)}, значит не отвергаем гипотезу \\n')\n",
    "print(f'Для гипотезы a = 0.5 получили p-value = {p_05.round(5)}, значит отвергаем гипотезу \\n')"
   ]
  },
  {
   "cell_type": "markdown",
   "metadata": {
    "id": "uRzq6a8MBHqH"
   },
   "source": [
    "### Двухвыборочный\n",
    "\n",
    "#### Независимые выборки\n",
    "\n",
    "Даны две независимые нормальные выборки\n",
    "\n",
    "* $X_1, ..., X_n \\sim \\mathcal{N}(a_1, \\sigma_1^2)$,\n",
    "\n",
    "* $Y_1, ..., Y_m \\sim \\mathcal{N}(a_2, \\sigma_2^2)$.\n",
    "\n",
    "Критерий проверяет для их гипотезы о равенстве среднего:\n",
    "\n",
    "$\\mathsf{H}_0\\colon a_1 = a_2$\n",
    "\n",
    "$\\mathsf{H}_1\\colon a_1 \\not= a_2$\n",
    "\n",
    "<a href=\"https://docs.scipy.org/doc/scipy/reference/generated/scipy.stats.ttest_ind.html#scipy.stats.ttest_ind\">`ttest_ind`</a>`(a, b, equal_var=True): statistic, pvalue`\n",
    "\n",
    "`a`, `b` &mdash; выборка\n",
    "\n",
    "`equal_var` &mdash; известно ли равенство дисперсий"
   ]
  },
  {
   "cell_type": "markdown",
   "metadata": {
    "id": "h3NEvD6_BHqH"
   },
   "source": [
    "Сгенерируйте выборки $X_1, ..., X_n \\sim \\mathcal{N}(0, 1)$ и $X_1, ..., X_m \\sim \\mathcal{N}(1, 1)$. Используя критерий, проверьте равенство средних двух выборок."
   ]
  },
  {
   "cell_type": "code",
   "execution_count": null,
   "metadata": {
    "colab": {
     "base_uri": "https://localhost:8080/"
    },
    "id": "9PSCDpsrBHqI",
    "outputId": "264b855f-28eb-4841-e5c5-ed9a8a95ccc9"
   },
   "outputs": [],
   "source": [
    "sample_1 = sps.norm(loc = 0).rvs(size = size)\n",
    "sample_2 = sps.norm(loc = 1).rvs(size = size)\n",
    "\n",
    "_, p = sps.ttest_ind(sample_1, sample_2, equal_var = True)\n",
    "\n",
    "print(f'p-value = {p.round(5)}, значит гипотезу равенства средних отвергаем')"
   ]
  },
  {
   "cell_type": "markdown",
   "metadata": {
    "id": "iP625dNtBHqI"
   },
   "source": [
    "Сгенерируйте выборки $X_1, ..., X_n \\sim \\mathcal{N}(0, 1)$ и $X_1, ..., X_m \\sim \\mathcal{N}(1, 7)$. Используя критерий, проверьте равенство средних двух выборок."
   ]
  },
  {
   "cell_type": "code",
   "execution_count": null,
   "metadata": {
    "colab": {
     "base_uri": "https://localhost:8080/"
    },
    "id": "zVICqxBtBHqI",
    "outputId": "89a22a77-d8ce-4518-d504-538ab96d460d"
   },
   "outputs": [],
   "source": [
    "sample_1 = sps.norm(loc = 0, scale = 1).rvs(size = size)\n",
    "sample_2 = sps.norm(loc = 1, scale = 7).rvs(size = size)\n",
    "\n",
    "_, p = sps.ttest_ind(sample_1, sample_2, equal_var = False)\n",
    "\n",
    "print(f'p-value = {p.round(5)}, значит гипотезу равенства средних не отвергаем')"
   ]
  },
  {
   "cell_type": "markdown",
   "metadata": {
    "id": "ySxSF93cBHqI"
   },
   "source": [
    "#### Связные выборки\n",
    "\n",
    "Даны две связные нормальные выборки\n",
    "\n",
    "* $X_1, ..., X_n \\sim \\mathcal{N}(a_1, \\sigma_1^2)$,\n",
    "\n",
    "* $Y_1, ..., Y_n \\sim \\mathcal{N}(a_2, \\sigma_2^2)$.\n",
    "\n",
    "\n",
    "Критерий проверяет для их гипотезы о равенстве среднего:\n",
    "\n",
    "$\\mathsf{H}_0\\colon a_1 = a_2$\n",
    "\n",
    "$\\mathsf{H}_1\\colon a_1 \\not= a_2$\n",
    "\n",
    "<a href=\"https://docs.scipy.org/doc/scipy/reference/generated/scipy.stats.ttest_rel.html#scipy.stats.ttest_rel\">`ttest_rel`</a>`(a, b): statistic, pvalue`\n",
    "\n",
    "`a`, `b` &mdash; выборка"
   ]
  },
  {
   "cell_type": "markdown",
   "metadata": {
    "id": "Arpwd8pqBHqI"
   },
   "source": [
    "Сгенерируйте выборку $X_1, ..., X_n \\sim \\mathcal{N}(0, 1)$. Вторую сгенерируйте по формуле выборка_1 + случайный шум, случайный шум из  $\\mathcal{N}(0, 0.5)$. Используя критерий, проверьте гипотезу о равенстве среднего."
   ]
  },
  {
   "cell_type": "code",
   "execution_count": null,
   "metadata": {
    "colab": {
     "base_uri": "https://localhost:8080/"
    },
    "id": "Q9mbWVQ6BHqJ",
    "outputId": "fabed356-4cc4-49fe-bd30-411535b3e387"
   },
   "outputs": [],
   "source": [
    "sample_1 = sps.norm(loc = 0, scale = 1).rvs(size = size)\n",
    "sample_2 = sample_1 + np.random.randn(size) * np.sqrt(0.5)\n",
    "\n",
    "_, p = sps.ttest_rel(sample_1, sample_2)\n",
    "\n",
    "print(f'p-value = {p.round(5)}, значит гипотезу равенства средних не отвергаем')"
   ]
  },
  {
   "cell_type": "markdown",
   "metadata": {
    "id": "CDKWG6k7BHqJ"
   },
   "source": [
    "Сгенерируйте выборку $X_1, ..., X_n \\sim \\mathcal{N}(0, 1)$. Вторую сгенерируйте по формуле выборка_1 + случайный шум, случайный шум из  $\\mathcal{N}(0.5, 0.5)$. Используя критерий, проверьте гипотезу о равенстве среднего."
   ]
  },
  {
   "cell_type": "code",
   "execution_count": null,
   "metadata": {
    "colab": {
     "base_uri": "https://localhost:8080/"
    },
    "id": "Az9_2thSBHqJ",
    "outputId": "209707bf-4914-4c9f-b87f-56b07a7733c2"
   },
   "outputs": [],
   "source": [
    "sample_1 = sps.norm(loc = 0, scale = 1).rvs(size = size)\n",
    "sample_2 = sample_1 + (np.random.randn(size) * np.sqrt(0.5) + 0.5)\n",
    "\n",
    "_, p = sps.ttest_rel(sample_1, sample_2)\n",
    "\n",
    "print(f'p-value = {p.round(5)}, значит гипотезу равенства средних отвергаем')"
   ]
  },
  {
   "cell_type": "markdown",
   "metadata": {
    "id": "IL7xSx9HBHqK"
   },
   "source": [
    "### Пример: ирисы Фишера\n",
    "\n",
    "Визуализация данных"
   ]
  },
  {
   "cell_type": "code",
   "execution_count": null,
   "metadata": {
    "colab": {
     "base_uri": "https://localhost:8080/",
     "height": 1000
    },
    "id": "7UI1INrbBHqK",
    "outputId": "156a3674-5e24-4adf-87e9-c63f4a9fe952"
   },
   "outputs": [],
   "source": [
    "df = sns.load_dataset(\"iris\")\n",
    "\n",
    "g = sns.PairGrid(df, hue='species')\n",
    "g.map_lower(sns.kdeplot, cmap =\"Blues_d\")\n",
    "g.map_upper(plt.scatter)\n",
    "g.map_diag(sns.kdeplot, lw=3);"
   ]
  },
  {
   "cell_type": "markdown",
   "metadata": {
    "id": "ypByGEIdBHqK"
   },
   "source": [
    "Как выглядят данные"
   ]
  },
  {
   "cell_type": "code",
   "execution_count": null,
   "metadata": {
    "colab": {
     "base_uri": "https://localhost:8080/",
     "height": 206
    },
    "id": "_GxmR0FzBHqK",
    "outputId": "8eab39d5-51f8-41d3-eee5-ae9402c18f52"
   },
   "outputs": [],
   "source": [
    "df.head()"
   ]
  },
  {
   "cell_type": "markdown",
   "metadata": {
    "id": "TOuumMT-BHqK"
   },
   "source": [
    "Виды ирисов"
   ]
  },
  {
   "cell_type": "code",
   "execution_count": null,
   "metadata": {
    "colab": {
     "base_uri": "https://localhost:8080/"
    },
    "id": "q_LCH-i2BHqK",
    "outputId": "f9c5a3b1-78bf-4982-9886-c799a70c6271"
   },
   "outputs": [],
   "source": [
    "np.unique(df.species)"
   ]
  },
  {
   "cell_type": "code",
   "execution_count": null,
   "metadata": {
    "colab": {
     "base_uri": "https://localhost:8080/"
    },
    "id": "_mP3x_nTBHqL",
    "outputId": "c369fce2-9835-4076-ca0f-b8bfea6adf32"
   },
   "outputs": [],
   "source": [
    "sps.ttest_ind(df[df.species == 'setosa'].sepal_length,\n",
    "              df[df.species == 'versicolor'].sepal_length,\n",
    "              equal_var=False)"
   ]
  },
  {
   "cell_type": "code",
   "execution_count": null,
   "metadata": {
    "colab": {
     "base_uri": "https://localhost:8080/"
    },
    "id": "g1aaW2UQBHqL",
    "outputId": "3a2d3153-7c9f-41ff-b3c9-b059cdd29640"
   },
   "outputs": [],
   "source": [
    "sps.ttest_ind(df[df.species == 'virginica'].sepal_length,\n",
    "              df[df.species == 'versicolor'].sepal_length,\n",
    "              equal_var=False)"
   ]
  },
  {
   "cell_type": "code",
   "execution_count": null,
   "metadata": {
    "colab": {
     "base_uri": "https://localhost:8080/"
    },
    "id": "uE04LyBJBHqL",
    "outputId": "c877889b-2fa0-4d62-827e-b79f21eaa536"
   },
   "outputs": [],
   "source": [
    "sps.ttest_ind(df[df.species == 'virginica'].sepal_width,\n",
    "              df[df.species == 'versicolor'].sepal_width,\n",
    "              equal_var=False)"
   ]
  },
  {
   "cell_type": "markdown",
   "metadata": {
    "id": "dnf24HttBHqL"
   },
   "source": [
    "*Замечание.* Строго говоря, неоходима поправка на множественное тестирование гипотез.\n",
    "\n",
    "**Вывод:**\n",
    "\n",
    "Из проведенного анализа видно, что существует статистически значимая разница между длиной чашелистиков (sepal length) у ирисов видов setosa и versicolor, а также между длиной чашелистиков у ирисов видов virginica и versicolor. Также обнаружена статистически значимая разница в ширине чашелистиков между ирисами видов virginica и versicolor. Эти результаты подтверждают гипотезу о том, что различные виды ирисов имеют разные размеры чашелистиков."
   ]
  },
  {
   "cell_type": "markdown",
   "metadata": {
    "id": "E4mgzHdABHqL"
   },
   "source": [
    "## Множественная проверка гипотез"
   ]
  },
  {
   "cell_type": "markdown",
   "metadata": {
    "id": "4SSklrJ5BHqL"
   },
   "source": [
    "С помощью статистических методов можно проверить человека на наличие экстрасенсорных способностей: предложим ему угадать последовательность, состоящую из двух цветов, длины 100.\n",
    "\n",
    "Сформулируем задачу на статистическом языке:\n",
    "\n",
    "$X_1...X_{100}$ &mdash; выборка из распределения $Bern(p)$\n",
    "\n",
    "$p=0.5$ отвечает случайному угадыванию.\n",
    "\n",
    "Проверьте гипотезу: $\\mathsf{H}_0 \\colon p=0.5$ vs $\\mathsf{H}_1 \\colon p \\neq 0.5$. Используйте критерий Вальда.\n",
    "\n",
    "В качестве асимптотически нормальной оценки можно использовать $\\widehat{p} = \\overline{X}$ с асимптотической дисперсией $\\sigma^2(p) = p (1 - p)$.\n",
    "\n",
    "Выпишем состоятельную оценку дисперсии и статистику критерия Вальда:\n",
    "\n",
    "$\\widehat{\\sigma} = \\sqrt{\\overline{X} (1 - \\overline{X})}$, $W = \\sqrt{n} \\frac{\\overline{X} - 0.5}{\\sqrt{\\overline{X} (1 - \\overline{X})}}$"
   ]
  },
  {
   "cell_type": "markdown",
   "metadata": {
    "id": "_MB3Xd4ABHqL"
   },
   "source": [
    "Оценим реальный уровень значимости для этого критерия при размере выборки равном 100. К чему он должен быть близок? Для скорости вычислений используйте количество выборок равное $10^3$."
   ]
  },
  {
   "cell_type": "code",
   "execution_count": null,
   "metadata": {
    "id": "jl6AG4CuBHqL"
   },
   "outputs": [],
   "source": [
    "sample_size = 100\n",
    "sample_count = 1000\n",
    "\n",
    "theta = 0.5"
   ]
  },
  {
   "cell_type": "code",
   "execution_count": null,
   "metadata": {
    "id": "4Jclme8cBHqM"
   },
   "outputs": [],
   "source": [
    "def wald_test(sample, theta, estimation_theta, estimation_sigma, alternative='two_sided'):\n",
    "    \"\"\"\n",
    "    param sample: реализация выборки\n",
    "    param theta: истинное значение параметра\n",
    "    param estimation_theta: оценка параметра\n",
    "    param estimation_sigma: оценка асимптотической дисперсии оценки estimation_sigma\n",
    "    param alternative: вид альтернативной гипотезы, может принимать одно из значений 'two_sided', 'less', 'greater'\n",
    "\n",
    "    return statistic\n",
    "    return p_value\n",
    "    \"\"\"\n",
    "\n",
    "    alpha = 0.05\n",
    "    z = sps.norm.ppf(1 - alpha/2)\n",
    "    n = len(sample)\n",
    "    statistic = np.sqrt(n) * (estimation_theta - theta) / estimation_sigma\n",
    "\n",
    "    if alternative == 'two_sided':\n",
    "        p_value = sps.norm.sf(np.abs(statistic)) + sps.norm.cdf(-np.abs(statistic))\n",
    "        conf_int = round(estimation_theta - z*estimation_sigma/np.sqrt(n), 4), round(estimation_theta + z*estimation_sigma/np.sqrt(n), 4)\n",
    "\n",
    "\n",
    "    elif alternative == 'less':\n",
    "        p_value = sps.norm.cdf(statistic)\n",
    "        conf_int = (-np.inf, round(estimation_theta + z*estimation_sigma/np.sqrt(n), 4))\n",
    "\n",
    "\n",
    "    elif alternative == 'greater':\n",
    "        p_value = sps.norm.sf(statistic)\n",
    "        conf_int = (round(estimation_theta + z*estimation_sigma/np.sqrt(n), 4), np.inf)\n",
    "\n",
    "    else:\n",
    "        raise ValueError('alternative name is wrong')\n",
    "\n",
    "    return statistic, p_value, conf_int"
   ]
  },
  {
   "cell_type": "markdown",
   "metadata": {
    "id": "Ak5ymLxABHqM"
   },
   "source": [
    "Оценим реальный уровень значимости"
   ]
  },
  {
   "cell_type": "code",
   "execution_count": null,
   "metadata": {
    "colab": {
     "base_uri": "https://localhost:8080/"
    },
    "id": "uwMxg06tBHqM",
    "outputId": "bc86c63f-42fe-41e6-f8b4-56f53bd80af8"
   },
   "outputs": [],
   "source": [
    "sample = sps.bernoulli(theta).rvs(size = (sample_count, sample_size))\n",
    "\n",
    "estimation_theta = sample.mean(axis = 1)\n",
    "estimation_sigma = np.sqrt(estimation_theta * (1 - estimation_theta))\n",
    "\n",
    "\n",
    "counter = 0\n",
    "\n",
    "for i in range(sample_count):\n",
    "    _, p_value, conf_int = wald_test(sample[i], theta, estimation_theta[i], estimation_sigma[i])\n",
    "    is_rejected = theta < conf_int[0] or theta > conf_int[1]\n",
    "    if is_rejected:\n",
    "        counter += 1\n",
    "\n",
    "counter / sample_count\n",
    "\n"
   ]
  },
  {
   "cell_type": "markdown",
   "metadata": {
    "id": "pKn_7LdyBHqM"
   },
   "source": [
    "Теперь представим, что мы хотим проверить большое количество людей на экстрасенсорные способности с помощью данного критерия.\n",
    "\n",
    "Проведите аналогичный эксперимент: сгенерируйте $10^3$ выборок размера $100$ для $100$ людей. Посчитайте, сколько раз из 1000 в вашем наборе из 100 выборок хотя бы для одной гипотеза будет отвергнута."
   ]
  },
  {
   "cell_type": "code",
   "execution_count": null,
   "metadata": {
    "id": "TkudgpDlBHqM"
   },
   "outputs": [],
   "source": [
    "sample_all = sps.bernoulli(theta).rvs(size = (100, sample_count, sample_size))\n",
    "\n",
    "counter = 0\n",
    "for sample in sample_all:\n",
    "    estimation_theta = sample.mean(axis = 1)\n",
    "    estimation_sigma = np.sqrt(estimation_theta * (1 - estimation_theta))\n",
    "\n",
    "    for i in range(100):\n",
    "        _, p_value, conf_int = wald_test(sample[i], theta, estimation_theta[i], estimation_sigma[i])\n",
    "        is_rejected = theta < conf_int[0] or theta > conf_int[1]\n",
    "        if is_rejected:\n",
    "            counter += 1\n",
    "            break"
   ]
  },
  {
   "cell_type": "code",
   "execution_count": null,
   "metadata": {
    "colab": {
     "base_uri": "https://localhost:8080/"
    },
    "id": "Xw2-CRDEBHqM",
    "outputId": "aeb07cf0-f5fd-4032-8564-53e91e5dbf46"
   },
   "outputs": [],
   "source": [
    "counter / 1000"
   ]
  },
  {
   "cell_type": "markdown",
   "metadata": {
    "id": "jGWweBKNBHqM"
   },
   "source": [
    "**Вывод:**\n",
    "\n",
    "У нас накопилась ошибка I рода.\n",
    "\n",
    "На лекции вы прошли метод, позволяющий не накапливать ошибку 1 рода. В этом методе необходимо использовать уровень значимости, зависящий от количества проверяемых одновременно гипотез.\n",
    "\n",
    "**Чему равен этот уровень значимости, если одновременно проверяются n гипотез?**\n",
    "\n",
    "**Ответ:**\n",
    "\n",
    "$\\alpha^* = \\frac{\\alpha}{n} = \\frac{0.05}{n}$\n",
    "\n",
    "Проведите предыдущий эксперимент с использованием корректной процедуры. Поскольку в реализованной выше функции $\\alpha$ зафиксировано, используйте критерий отвержения гипотезы с помощью p-value."
   ]
  },
  {
   "cell_type": "code",
   "execution_count": null,
   "metadata": {
    "id": "fT4SPXKNBHqN"
   },
   "outputs": [],
   "source": [
    "sample_all = sps.bernoulli(theta).rvs(size = (100, sample_count, sample_size))\n",
    "\n",
    "counter = 0\n",
    "for sample in sample_all:\n",
    "    estimation_theta = sample.mean(axis = 1)\n",
    "    estimation_sigma = np.sqrt(estimation_theta * (1 - estimation_theta))\n",
    "\n",
    "    for i in range(100):\n",
    "        _, p_value, conf_int = wald_test(sample[i], theta, estimation_theta[i], estimation_sigma[i])\n",
    "        is_rejected = p_value < 0.05 / 100\n",
    "        if is_rejected:\n",
    "            counter += 1\n",
    "            break"
   ]
  },
  {
   "cell_type": "code",
   "execution_count": null,
   "metadata": {
    "colab": {
     "base_uri": "https://localhost:8080/"
    },
    "id": "FbtkIT-2BHqN",
    "outputId": "ffc4503c-d781-4d1f-8f7e-f609a23037b9"
   },
   "outputs": [],
   "source": [
    "counter / 1000"
   ]
  },
  {
   "cell_type": "markdown",
   "metadata": {
    "id": "eoW9fVVOBHqN"
   },
   "source": [
    "**Вывод:**\n",
    "\n",
    "Ошибка I рода больше не копится."
   ]
  }
 ],
 "metadata": {
  "colab": {
   "provenance": []
  },
  "kernelspec": {
   "display_name": "Python 3 (ipykernel)",
   "language": "python",
   "name": "python3"
  },
  "language_info": {
   "codemirror_mode": {
    "name": "ipython",
    "version": 3
   },
   "file_extension": ".py",
   "mimetype": "text/x-python",
   "name": "python",
   "nbconvert_exporter": "python",
   "pygments_lexer": "ipython3",
   "version": "3.8.12"
  },
  "toc": {
   "base_numbering": 1,
   "nav_menu": {},
   "number_sections": true,
   "sideBar": true,
   "skip_h1_title": false,
   "title_cell": "Table of Contents",
   "title_sidebar": "Contents",
   "toc_cell": false,
   "toc_position": {},
   "toc_section_display": true,
   "toc_window_display": false
  }
 },
 "nbformat": 4,
 "nbformat_minor": 0
}
