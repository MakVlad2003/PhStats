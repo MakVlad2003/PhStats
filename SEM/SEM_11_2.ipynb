{
 "cells": [
  {
   "cell_type": "code",
   "execution_count": null,
   "id": "0",
   "metadata": {
    "id": "400f77bc"
   },
   "outputs": [],
   "source": [
    "from warnings import filterwarnings\n",
    "\n",
    "filterwarnings(\"ignore\")"
   ]
  },
  {
   "cell_type": "code",
   "execution_count": null,
   "id": "1",
   "metadata": {
    "id": "2DTRBhqkoBYz"
   },
   "outputs": [],
   "source": [
    "from datetime import datetime\n",
    "import typing as tp\n",
    "\n",
    "from IPython.display import display\n",
    "from pylab import rcParams\n",
    "import matplotlib.pyplot as plt\n",
    "import numpy as np\n",
    "import pandas as pd\n",
    "import seaborn as sns\n",
    "\n",
    "from sklearn.metrics import (\n",
    "    mean_squared_error,\n",
    "    mean_absolute_error,\n",
    "    mean_absolute_percentage_error,\n",
    ")\n",
    "from sklearn.preprocessing import OneHotEncoder\n",
    "from sklearn.model_selection import RandomizedSearchCV, TimeSeriesSplit\n",
    "\n",
    "from sklearn.ensemble import RandomForestRegressor\n",
    "\n",
    "rcParams[\"figure.figsize\"] = 15, 7\n",
    "\n",
    "sns.set(palette=\"Set2\", font_scale=1.3)"
   ]
  },
  {
   "cell_type": "markdown",
   "id": "2",
   "metadata": {
    "id": "oOtF_GK5oBY1"
   },
   "source": [
    "# Сведение задачи прогнозирования временного ряда к регрессии"
   ]
  },
  {
   "cell_type": "markdown",
   "id": "3",
   "metadata": {
    "id": "rM-kRB26oisn"
   },
   "source": [
    "## 1. Различные ML модели "
   ]
  },
  {
   "cell_type": "markdown",
   "id": "4",
   "metadata": {
    "id": "O0BVbLRCoBY3"
   },
   "source": [
    "### 1.1 Задача\n",
    "Рассмотрим [датасет](https://www.kaggle.com/c/demand-forecasting-kernels-only/overview) с kaggle соревнования по прогнозированию спроса на товары. Это довольно простой и чистый датасет. Попробуем на нем разные подходы к прогнозированию временных рядов.\n",
    "\n",
    "Данные содержат следующие колонки: \n",
    "* date &mdash; дата;\n",
    "* store &mdash; ID магазина;\n",
    "* item &mdash; ID товара;\n",
    "* sales &mdash; количество продаж.\n",
    "\n",
    "В датасете содержится информация про 50 товаров в 10 магазинах за 5 лет."
   ]
  },
  {
   "cell_type": "code",
   "execution_count": null,
   "id": "5",
   "metadata": {
    "colab": {
     "base_uri": "https://localhost:8080/",
     "height": 206
    },
    "id": "mbqWCsoroBY4",
    "outputId": "c62ef179-141d-42e6-8ef5-081b440bc3ec"
   },
   "outputs": [],
   "source": [
    "data = pd.read_csv(\n",
    "    \"train.csv\", parse_dates=[\"date\"]\n",
    ")\n",
    "data.head()"
   ]
  },
  {
   "cell_type": "markdown",
   "id": "6",
   "metadata": {
    "id": "LZYp_ttEoBZB"
   },
   "source": [
    "Как мы видим, датасет содержит информацию о магазинах, товарах и продажах. Выберем первый магазин и первый товар и будем предсказывать спрос на выбранный товар в данном магазине, используя последний год для сравнения моделей.\n",
    "\n",
    "Выделим соотвествущие данные из датасета."
   ]
  },
  {
   "cell_type": "code",
   "execution_count": null,
   "id": "7",
   "metadata": {
    "id": "HiOYfgJzoBZC"
   },
   "outputs": [],
   "source": [
    "# Задаем магазин и продукт\n",
    "store, item = 1, 1\n",
    "\n",
    "# Выделяем только те данные, которые относятся к данному магазину и продукту\n",
    "data = data[(data[\"store\"] == store) & (data[\"item\"] == item)]\n",
    "\n",
    "# Дату уставнавливаем как индекс\n",
    "data = data.set_index(\"date\")\n",
    "\n",
    "# Выделяем данные о продажах\n",
    "data = data[\"sales\"]"
   ]
  },
  {
   "cell_type": "markdown",
   "id": "8",
   "metadata": {
    "id": "FDnaFLxDoBZC"
   },
   "source": [
    "### 1.2 Данные\n",
    "Разделим данные на трейн и тест для обучения и тестирования результатов соотвественно. На тест отправляем данные за последний год."
   ]
  },
  {
   "cell_type": "code",
   "execution_count": null,
   "id": "9",
   "metadata": {
    "id": "Wiq_VjH5oBZD"
   },
   "outputs": [],
   "source": [
    "test_size = 365\n",
    "data_train = data.iloc[:-test_size]\n",
    "data_test = data.iloc[-test_size:]"
   ]
  },
  {
   "cell_type": "markdown",
   "id": "10",
   "metadata": {
    "id": "q6xo2jCkoBZD"
   },
   "source": [
    "Визуализируем полученные данные. Визуализировать данные нужно с самого начала. Это помогает провалидировать данные и выделить некоторые закономерности."
   ]
  },
  {
   "cell_type": "code",
   "execution_count": null,
   "id": "11",
   "metadata": {
    "colab": {
     "base_uri": "https://localhost:8080/",
     "height": 451
    },
    "id": "_Abvn22joBZE",
    "outputId": "81eedfc7-a73e-4a22-a681-cb97738c5fb4"
   },
   "outputs": [],
   "source": [
    "plt.figure(figsize=(15, 5))\n",
    "plt.title(\"Дневные продажи первого товара в первом магазине\")\n",
    "plt.plot(data_train, label=\"train\")\n",
    "plt.plot(data_test, label=\"test\")\n",
    "plt.legend();"
   ]
  },
  {
   "cell_type": "markdown",
   "id": "12",
   "metadata": {
    "id": "iEfitsUmoBZE"
   },
   "source": [
    "Видно, что данные обладают годичной сезонностью."
   ]
  },
  {
   "cell_type": "markdown",
   "id": "13",
   "metadata": {
    "id": "-cUmLDGUoBZF"
   },
   "source": [
    "### 1.3 Метрики\n",
    "Теперь вернемся к самой задаче. Прежде чем ее решать, зададим метрики, по которым мы будем определять, какая из моделей лучше: MSE, MAE, MAPE. Напишем функцию, которая будет считать качество моделей."
   ]
  },
  {
   "cell_type": "code",
   "execution_count": null,
   "id": "14",
   "metadata": {
    "id": "51d44b15"
   },
   "outputs": [],
   "source": [
    "compare_table = None"
   ]
  },
  {
   "cell_type": "code",
   "execution_count": null,
   "id": "15",
   "metadata": {
    "id": "nqW3R2VPoBZG"
   },
   "outputs": [],
   "source": [
    "def add_results_in_comparison_table(\n",
    "    method: str, y_true, y_forecast\n",
    ") -> pd.DataFrame:\n",
    "    \"\"\"\n",
    "    Добавляет новую строчку в таблицу compare_table\n",
    "    с результатами текущей модели.\n",
    "\n",
    "    Если ранее модель была уже добавлена в таблицу,\n",
    "    то старая строчка перезапишется на новую.\n",
    "\n",
    "    Параметры:\n",
    "    - method: имя модели.\n",
    "    - y_true: истинные значения.\n",
    "    - y_forecast: предсказанные значения.\n",
    "    \"\"\"\n",
    "\n",
    "    # Обращаемся к глобальной переменной\n",
    "    global compare_table\n",
    "\n",
    "    # Считаем метрики\n",
    "    result_row = {\n",
    "        \"method\": method,\n",
    "        \"MSE\": mean_squared_error(y_true=y_true, y_pred=y_forecast),\n",
    "        \"MAE\": mean_absolute_error(y_true=y_true, y_pred=y_forecast),\n",
    "        \"MAPE\": mean_absolute_percentage_error(\n",
    "            y_true=y_true, y_pred=y_forecast\n",
    "        ),\n",
    "    }\n",
    "\n",
    "    # Записываем результат в таблицу\n",
    "    if compare_table is None:\n",
    "        compare_table = pd.DataFrame([result_row])\n",
    "    else:\n",
    "        if method in list(compare_table[\"method\"]):\n",
    "            compare_table = compare_table[compare_table[\"method\"] != method]\n",
    "\n",
    "        compare_table = pd.concat([compare_table, pd.DataFrame([result_row])])\n",
    "        compare_table.index = np.arange(len(compare_table))\n",
    "    return compare_table"
   ]
  },
  {
   "cell_type": "markdown",
   "id": "16",
   "metadata": {
    "id": "A7DHy7-SoBZH"
   },
   "source": [
    "### 1.4 Простая модель / baseline\n",
    "Для начала сделаем некоторую эмпирическую модель. Она будет считать среднее за каждый год с учетом номера недели в году и дней недели. Полученное среднее как раз будет являться прогнозом на будущее."
   ]
  },
  {
   "cell_type": "code",
   "execution_count": null,
   "id": "17",
   "metadata": {
    "colab": {
     "base_uri": "https://localhost:8080/",
     "height": 243
    },
    "id": "3ca8859d",
    "outputId": "920632e4-641b-49fc-b0c3-fda0926eb450"
   },
   "outputs": [],
   "source": [
    "temp_data = pd.DataFrame(data_train)\n",
    "\n",
    "# выделяем день недели\n",
    "temp_data[\"weekofyear\"] = data_train.index.weekofyear\n",
    "temp_data[\"dayofweek\"] = data_train.index.dayofweek\n",
    "\n",
    "# считаем среднее за каждый год с учетом дня недели\n",
    "mean_sales = temp_data.groupby([\"weekofyear\", \"dayofweek\"])[\"sales\"].mean()\n",
    "display(mean_sales)"
   ]
  },
  {
   "cell_type": "code",
   "execution_count": null,
   "id": "18",
   "metadata": {
    "id": "tQJxtnivoBZH"
   },
   "outputs": [],
   "source": [
    "simple_prediction = []\n",
    "for index in data_test.index:\n",
    "    simple_prediction.append(\n",
    "        mean_sales.loc[(index.weekofyear, index.dayofweek)]\n",
    "    )"
   ]
  },
  {
   "cell_type": "markdown",
   "id": "19",
   "metadata": {
    "id": "FDMud_xRoBZI"
   },
   "source": [
    "Отобразим полученные результаты."
   ]
  },
  {
   "cell_type": "code",
   "execution_count": null,
   "id": "20",
   "metadata": {
    "id": "nVjEwTEBoBZI"
   },
   "outputs": [],
   "source": [
    "def plot_results(y_to_train, y_to_test, y_forecast):\n",
    "    \"\"\"\n",
    "    Функция для визуализации временного ряда и предсказания.\n",
    "\n",
    "    Параметры:\n",
    "        - y_to_train: pd.Series\n",
    "            Временной ряд, на котором обучалась модель.\n",
    "        - y_to_test: pd.Series\n",
    "            Временной ряд, который предсказывает модель.\n",
    "        - y_forecast: array\n",
    "            Предсказания модели.\n",
    "        - plot_conf_int: bool\n",
    "            Надо ли строить предсказательного интервал.\n",
    "        - left_bound: array\n",
    "            Левая граница предсказательного интервала.\n",
    "        - right_bound: array\n",
    "            Правая граница предсказательного интервала.\n",
    "    \"\"\"\n",
    "\n",
    "    plt.figure(figsize=(15, 5))\n",
    "    plt.title(\"Дневные продажи объекта 1 в магазине 1\", fontsize=15)\n",
    "    plt.plot(y_to_train, label=\"train\")\n",
    "    plt.plot(y_to_test, label=\"test\")\n",
    "    plt.plot(y_to_test.index, y_forecast, label=\"prediction\")\n",
    "    plt.legend()\n",
    "    plt.show()"
   ]
  },
  {
   "cell_type": "code",
   "execution_count": null,
   "id": "21",
   "metadata": {
    "colab": {
     "base_uri": "https://localhost:8080/",
     "height": 452
    },
    "id": "FfQdIZlMoBZJ",
    "outputId": "ea4b166b-f978-4fe0-a356-39ca3575178d"
   },
   "outputs": [],
   "source": [
    "plot_results(data_train, data_test, simple_prediction)"
   ]
  },
  {
   "cell_type": "markdown",
   "id": "22",
   "metadata": {
    "id": "VTIpQ3m1oBZJ"
   },
   "source": [
    "Для простой модели выглядит очень даже неплохо. Посчитаем метрики и сохраним результат."
   ]
  },
  {
   "cell_type": "code",
   "execution_count": null,
   "id": "23",
   "metadata": {
    "colab": {
     "base_uri": "https://localhost:8080/",
     "height": 80
    },
    "id": "tRLD7GcuoBZJ",
    "outputId": "280bfcff-23d2-4f1a-aa5a-bd115237a9a2"
   },
   "outputs": [],
   "source": [
    "add_results_in_comparison_table(\n",
    "    \"Simple mean model\", data_test, simple_prediction\n",
    ")"
   ]
  },
  {
   "cell_type": "markdown",
   "id": "24",
   "metadata": {
    "id": "rReCa4yDoBZK"
   },
   "source": [
    "### 1.5 Работа с признаками 1\n",
    "Далее мы будем работать со стандартными моделями регрессии. Вспомним, какие признаки нужно подавать в модель, чтобы она могла работать с временным рядом.\n",
    " ____\n",
    " "
   ]
  },
  {
   "cell_type": "markdown",
   "id": "25",
   "metadata": {
    "id": "6e_qfKsLoBZK"
   },
   "source": [
    "Для начала преобразуем дату, выделив из даты день, месяц, год и т.д. Для этого будем использовать функцию ниже."
   ]
  },
  {
   "cell_type": "code",
   "execution_count": null,
   "id": "26",
   "metadata": {
    "id": "_yoFuKjIoBZL"
   },
   "outputs": [],
   "source": [
    "def create_date_features(date):\n",
    "    \"\"\"Создает фичи из даты\"\"\"\n",
    "\n",
    "    row = {}\n",
    "    row[\"dayofweek\"] = date.dayofweek\n",
    "    row[\"quarter\"] = date.quarter\n",
    "    row[\"month\"] = date.month\n",
    "    row[\"year\"] = date.year\n",
    "    row[\"dayofyear\"] = date.dayofyear\n",
    "    row[\"dayofmonth\"] = date.day\n",
    "    row[\"weekofyear\"] = date.weekofyear\n",
    "    return row"
   ]
  },
  {
   "cell_type": "markdown",
   "id": "27",
   "metadata": {
    "id": "XH0vaKaJoBZL"
   },
   "source": [
    "С помощью следующей функции создадим датасет для обучения."
   ]
  },
  {
   "cell_type": "code",
   "execution_count": null,
   "id": "28",
   "metadata": {
    "id": "AwJ89EDcoBZM"
   },
   "outputs": [],
   "source": [
    "def create_only_date_train_features(y_series):\n",
    "    \"\"\"\n",
    "    Создает обучающий датасет из признаков, полученных из дат для y_series\n",
    "    \"\"\"\n",
    "\n",
    "    time_features = pd.DataFrame(\n",
    "        [create_date_features(date) for date in y_series.index]\n",
    "    )\n",
    "    return time_features, y_series"
   ]
  },
  {
   "cell_type": "code",
   "execution_count": null,
   "id": "29",
   "metadata": {
    "colab": {
     "base_uri": "https://localhost:8080/",
     "height": 327
    },
    "id": "zsASXPGKoBZM",
    "outputId": "849968c9-ad90-49d4-c959-67d20f5d65ce"
   },
   "outputs": [],
   "source": [
    "X_train, y_train = create_only_date_train_features(data_train)\n",
    "display(X_train.head())\n",
    "display(y_train.head())"
   ]
  },
  {
   "cell_type": "markdown",
   "id": "30",
   "metadata": {
    "id": "DzQm2qMOoBZN"
   },
   "source": [
    "Подумаем о том, как мы будем предсказывать в будущем. Мы рассматривали три стратегии. Какие это были стратегии?\n",
    "___"
   ]
  },
  {
   "cell_type": "markdown",
   "id": "31",
   "metadata": {
    "id": "FhgHlJQAoBZN"
   },
   "source": [
    "В данном случае опробуем рекурсивную стратегию. Она не требует большого количества моделей, как другие стратегии, однако обычно точность у таких моделей оказывается немного хуже."
   ]
  },
  {
   "cell_type": "code",
   "execution_count": null,
   "id": "32",
   "metadata": {
    "id": "XqodHiaXoBZN"
   },
   "outputs": [],
   "source": [
    "def recursive_prediction(\n",
    "    model, test_dates, y_to_train, features_creation_function\n",
    "):\n",
    "    \"\"\"\n",
    "    Функция для рекурсивного предсказания для дат,\n",
    "    указанных в test_dates.\n",
    "\n",
    "    Параметры:\n",
    "        - model\n",
    "            МЛ-модель.\n",
    "        - test_dates\n",
    "            массив с датами, в которые надо сделать предсказания.\n",
    "        - features_creation_function\n",
    "            функция для создания тестовых признаков\n",
    "    \"\"\"\n",
    "    predictions = []\n",
    "    previous_y = list(y_to_train)\n",
    "\n",
    "    for date in test_dates:\n",
    "        row = features_creation_function(date, previous_y)\n",
    "        curr_test = pd.DataFrame([row])\n",
    "        curr_prediction = model.predict(curr_test)[0]\n",
    "        previous_y.append(curr_prediction)\n",
    "        predictions.append(curr_prediction)\n",
    "    return np.array(predictions)"
   ]
  },
  {
   "cell_type": "markdown",
   "id": "33",
   "metadata": {
    "id": "HhIrzBIgoBZO"
   },
   "source": [
    "Попробуем метод `RandomForest`. Обучим модель."
   ]
  },
  {
   "cell_type": "code",
   "execution_count": null,
   "id": "34",
   "metadata": {
    "colab": {
     "base_uri": "https://localhost:8080/",
     "height": 109
    },
    "id": "Lou83jBzoBZO",
    "outputId": "7930c5d4-ef8d-4d7b-f32c-0b8a17c66eec"
   },
   "outputs": [],
   "source": [
    "%%time\n",
    "random_forest = RandomForestRegressor(n_estimators=300, random_state=42)\n",
    "random_forest.fit(X_train, y_train)"
   ]
  },
  {
   "cell_type": "markdown",
   "id": "35",
   "metadata": {
    "id": "JWgWWqyqoBZP"
   },
   "source": [
    "Получим предсказания."
   ]
  },
  {
   "cell_type": "code",
   "execution_count": null,
   "id": "36",
   "metadata": {
    "id": "Tkflg8y7oBZP"
   },
   "outputs": [],
   "source": [
    "random_forest_predictions = recursive_prediction(\n",
    "    random_forest,\n",
    "    data_test.index,\n",
    "    data_train,\n",
    "    lambda date, previous_y: create_date_features(date),\n",
    ")"
   ]
  },
  {
   "cell_type": "markdown",
   "id": "37",
   "metadata": {
    "id": "OyH62TEEoBZP"
   },
   "source": [
    "Отобразим результаты."
   ]
  },
  {
   "cell_type": "code",
   "execution_count": null,
   "id": "38",
   "metadata": {
    "colab": {
     "base_uri": "https://localhost:8080/",
     "height": 452
    },
    "id": "ReYIHJq_oBZP",
    "outputId": "c3085004-2973-4a5a-f0f1-2db07ade46ce"
   },
   "outputs": [],
   "source": [
    "plot_results(data_train, data_test, random_forest_predictions)"
   ]
  },
  {
   "cell_type": "markdown",
   "id": "39",
   "metadata": {
    "id": "5f54-qIroBZQ"
   },
   "source": [
    "Даже по графику уже видно, что модель на тесте стала ближе к реальным данным. Посчитаем метрики."
   ]
  },
  {
   "cell_type": "code",
   "execution_count": null,
   "id": "40",
   "metadata": {
    "colab": {
     "base_uri": "https://localhost:8080/",
     "height": 112
    },
    "id": "CUYVUkNVoBZQ",
    "outputId": "6634a2dc-03ee-4b9c-fe59-9dcfa1c7b57e"
   },
   "outputs": [],
   "source": [
    "add_results_in_comparison_table(\n",
    "    \"RandomForest\", data_test, random_forest_predictions\n",
    ")"
   ]
  },
  {
   "cell_type": "markdown",
   "id": "41",
   "metadata": {
    "id": "xhOh13kKoBZS"
   },
   "source": [
    "### 1.6 Работа с признаками 2\n",
    "Поработаем еще с признаками. На этот раз добавим сдвиги по времени. Таким образом модель сможет использовать информацию из прошлого, для составления прогноза на будущее."
   ]
  },
  {
   "cell_type": "code",
   "execution_count": null,
   "id": "42",
   "metadata": {
    "id": "GU-dkb5hoBZS"
   },
   "outputs": [],
   "source": [
    "def create_date_and_shifted_train_features(\n",
    "    y_series, shifts=5, week_seasonal_shifts=1, year_seasonal_shifts=1\n",
    "):\n",
    "    \"\"\"\n",
    "    Создает обучающий датасет из признаков, полученных из дат\n",
    "    и значений ряда ранее.\n",
    "    При этом используются значения ряда со сдвигами\n",
    "    на неделю и год назад.\n",
    "\n",
    "    Параметры:\n",
    "        - y_series\n",
    "            временной ряд.\n",
    "        - shifts\n",
    "            дневной сдвиг.\n",
    "        - week_seasonal_shifts\n",
    "            недельный сдвиг.\n",
    "        - year_seasonal_shifts\n",
    "            годовой сдвиг.\n",
    "    \"\"\"\n",
    "\n",
    "    curr_df, y = create_only_date_train_features(y_series)\n",
    "    curr_df.index = y_series.index\n",
    "\n",
    "    # применяем сдвиг по дням\n",
    "    for shift in range(1, shifts + 1):\n",
    "        curr_df[f\"shift_{shift}\"] = y_series.shift(shift, axis=0)\n",
    "\n",
    "    # применяем сдвиг по неделям\n",
    "    for shift in range(1, week_seasonal_shifts + 1):\n",
    "        curr_df[f\"week_seasonal_shift_{shift}\"] = y_series.shift(\n",
    "            shift * 7, axis=0\n",
    "        )\n",
    "\n",
    "    # применяем сдвиг по годам\n",
    "    for shift in range(1, year_seasonal_shifts + 1):\n",
    "        curr_df[f\"year_seasonal_shift_{shift}\"] = y_series.shift(\n",
    "            shift * 365, axis=0\n",
    "        )\n",
    "    y = y_series\n",
    "\n",
    "    # удалим первые строчки с nan\n",
    "    drop_indices = curr_df.index[curr_df.isna().sum(axis=1) > 0]\n",
    "    curr_df = curr_df.drop(index=drop_indices)\n",
    "    y = y.drop(index=drop_indices)\n",
    "    return curr_df, y"
   ]
  },
  {
   "cell_type": "markdown",
   "id": "43",
   "metadata": {
    "id": "aW-lQjIsoBZT"
   },
   "source": [
    "Также зададим функцию для того, чтобы получать аналогичные признаки на тесте."
   ]
  },
  {
   "cell_type": "code",
   "execution_count": null,
   "id": "44",
   "metadata": {
    "id": "jbpCtWA5oBZT"
   },
   "outputs": [],
   "source": [
    "def date_and_shift_features_generator_for_test(date, previous_y):\n",
    "    \"\"\"Функция создания признаков из дат исдвигов ряда для тестовых дат\"\"\"\n",
    "\n",
    "    row = create_date_features(date)\n",
    "    for shift in range(1, SHIFT + 1):\n",
    "        row[f\"shift_{shift}\"] = previous_y[-1 * shift]\n",
    "    for shift in range(1, WEEK_SHIFT + 1):\n",
    "        row[f\"week_seasonal_shift_{shift}\"] = previous_y[-1 * shift * 7]\n",
    "    for shift in range(1, YEAR_SHIFT + 1):\n",
    "        row[f\"year_seasonal_shift_{shift}\"] = previous_y[-1 * shift * 365]\n",
    "    return row"
   ]
  },
  {
   "cell_type": "markdown",
   "id": "45",
   "metadata": {
    "id": "GTFF4HocoBZU"
   },
   "source": [
    "Зададим сами сдвиги."
   ]
  },
  {
   "cell_type": "code",
   "execution_count": null,
   "id": "46",
   "metadata": {
    "id": "1GD67Z0soBZU"
   },
   "outputs": [],
   "source": [
    "SHIFT = 5  # дневной сдвиг\n",
    "WEEK_SHIFT = 2  # недельный сдвиг\n",
    "YEAR_SHIFT = 1  # годовой сдвиг"
   ]
  },
  {
   "cell_type": "markdown",
   "id": "47",
   "metadata": {
    "id": "AZDetuwxoBZU"
   },
   "source": [
    "Получим новые признаки."
   ]
  },
  {
   "cell_type": "code",
   "execution_count": null,
   "id": "48",
   "metadata": {
    "id": "9I9iA6o5oBZV"
   },
   "outputs": [],
   "source": [
    "X_train, y_train = create_date_and_shifted_train_features(\n",
    "    data_train,\n",
    "    shifts=SHIFT,\n",
    "    week_seasonal_shifts=WEEK_SHIFT,\n",
    "    year_seasonal_shifts=YEAR_SHIFT,\n",
    ")"
   ]
  },
  {
   "cell_type": "code",
   "execution_count": null,
   "id": "49",
   "metadata": {
    "colab": {
     "base_uri": "https://localhost:8080/",
     "height": 388
    },
    "id": "FKja4Pf5oBZV",
    "outputId": "5f4a9a3c-1364-49f4-a7dd-40b822804729"
   },
   "outputs": [],
   "source": [
    "X_train.head(5)"
   ]
  },
  {
   "cell_type": "markdown",
   "id": "50",
   "metadata": {
    "id": "dHkiUbswqB5Y"
   },
   "source": [
    "Применим случайный лес к датасету с новыми признаками."
   ]
  },
  {
   "cell_type": "code",
   "execution_count": null,
   "id": "51",
   "metadata": {
    "colab": {
     "base_uri": "https://localhost:8080/",
     "height": 109
    },
    "id": "Gv3gj4E6oBZW",
    "outputId": "ec381edf-d455-4890-8353-97260060246a"
   },
   "outputs": [],
   "source": [
    "%%time\n",
    "shifted_features_random_forest = RandomForestRegressor(\n",
    "    n_estimators=300, random_state=42\n",
    ")\n",
    "shifted_features_random_forest.fit(X_train, y_train)"
   ]
  },
  {
   "cell_type": "code",
   "execution_count": null,
   "id": "52",
   "metadata": {
    "id": "VBVJtypooBZW"
   },
   "outputs": [],
   "source": [
    "shifted_features_random_forest_predictions = recursive_prediction(\n",
    "    shifted_features_random_forest,\n",
    "    data_test.index,\n",
    "    data_train,\n",
    "    date_and_shift_features_generator_for_test,\n",
    ")"
   ]
  },
  {
   "cell_type": "code",
   "execution_count": null,
   "id": "53",
   "metadata": {
    "colab": {
     "base_uri": "https://localhost:8080/",
     "height": 452
    },
    "id": "BcY4jMYjoBZW",
    "outputId": "002142ca-234c-4521-9a1a-369451dc0eb3"
   },
   "outputs": [],
   "source": [
    "plot_results(\n",
    "    data_train,\n",
    "    data_test,\n",
    "    shifted_features_random_forest_predictions,\n",
    ")"
   ]
  },
  {
   "cell_type": "markdown",
   "id": "54",
   "metadata": {
    "id": "nZNKvEvdoBZX"
   },
   "source": [
    "Тяжело сказать, улучшился результат или нет."
   ]
  },
  {
   "cell_type": "code",
   "execution_count": null,
   "id": "55",
   "metadata": {
    "colab": {
     "base_uri": "https://localhost:8080/",
     "height": 143
    },
    "id": "ZqLt6xiSoBZX",
    "outputId": "59462ce6-b2a3-43ea-f1f7-8c29164a94c6"
   },
   "outputs": [],
   "source": [
    "add_results_in_comparison_table(\n",
    "    \"RandomForest + shift features\",\n",
    "    data_test,\n",
    "    shifted_features_random_forest_predictions,\n",
    ")"
   ]
  },
  {
   "cell_type": "markdown",
   "id": "56",
   "metadata": {
    "id": "So6n3DTioBZY"
   },
   "source": [
    "Хотя по графику это не заметно, но результаты модели оказались значительно лучше, чем раньше."
   ]
  },
  {
   "cell_type": "markdown",
   "id": "57",
   "metadata": {
    "id": "vASUYrv0oBZa"
   },
   "source": [
    "### 1.7 Работа с признаками 3 (дополнительно, для желающих)\n",
    "Еще немного поэксперементируем с признаками. На этот раз добавим признаки скользящего среднего."
   ]
  },
  {
   "cell_type": "code",
   "execution_count": null,
   "id": "58",
   "metadata": {
    "id": "WCaNgtPAoBZb"
   },
   "outputs": [],
   "source": [
    "def create_date_shifted_and_rolling_train_features(\n",
    "    y_series, shifts=5, week_seasonal_shifts=1, year_seasonal_shifts=1\n",
    "):\n",
    "    \"\"\"\n",
    "    Создает обучающий датасет из признаков, полученных из дат\n",
    "    и значений ряда ранее.\n",
    "    Используются занчения ряда со сдвигами на неделю и год назад.\n",
    "    Также добавлены признаки скользящего среднего.\n",
    "\n",
    "    Параметры:\n",
    "        - y_series\n",
    "            временной ряд.\n",
    "        - shifts\n",
    "            дневной сдвиг.\n",
    "        - week_seasonal_shifts\n",
    "            недельный сдвиг.\n",
    "        - year_seasonal_shifts\n",
    "            годовой сдвиг.\n",
    "    \"\"\"\n",
    "\n",
    "    curr_df, y = create_date_and_shifted_train_features(\n",
    "        y_series,\n",
    "        shifts=shifts,\n",
    "        week_seasonal_shifts=week_seasonal_shifts,\n",
    "        year_seasonal_shifts=year_seasonal_shifts,\n",
    "    )\n",
    "\n",
    "    # Важно! значения скользящего окна надо сдивнуть на 1 вправо,\n",
    "    # иначе вы будете использовать при обучении текущее значение ряда.\n",
    "    curr_df[\"rolling_mean\"] = (\n",
    "        y_series.rolling(shifts, min_periods=1).mean().shift(1, axis=0)\n",
    "    )\n",
    "    curr_df[\"rolling_max\"] = (\n",
    "        y_series.rolling(shifts, min_periods=1).max().shift(1, axis=0)\n",
    "    )\n",
    "    curr_df[\"rolling_min\"] = (\n",
    "        y_series.rolling(shifts, min_periods=1).min().shift(1, axis=0)\n",
    "    )\n",
    "\n",
    "    # удалим первые строчки с nan\n",
    "    drop_indices = curr_df.index[curr_df.isna().sum(axis=1) > 0]\n",
    "    curr_df = curr_df.drop(index=drop_indices)\n",
    "    y = y.drop(index=drop_indices)\n",
    "    return curr_df, y"
   ]
  },
  {
   "cell_type": "code",
   "execution_count": null,
   "id": "59",
   "metadata": {
    "id": "QaOHWPchoBZb"
   },
   "outputs": [],
   "source": [
    "def date_shifted_and_rolling_features_generator_for_test(date, previous_y):\n",
    "    \"\"\"Функция создания признаков из дат исдвигов ряда для тестовых дат\"\"\"\n",
    "\n",
    "    row = date_and_shift_features_generator_for_test(date, previous_y)\n",
    "    row[\"rolling_mean\"] = np.mean(previous_y[-SHIFT:])\n",
    "    row[\"rolling_max\"] = np.max(previous_y[-SHIFT:])\n",
    "    row[\"rolling_min\"] = np.min(previous_y[-SHIFT:])\n",
    "    return row"
   ]
  },
  {
   "cell_type": "markdown",
   "id": "60",
   "metadata": {
    "id": "X64YZhpDqi_F"
   },
   "source": [
    "Получим новые признаки."
   ]
  },
  {
   "cell_type": "code",
   "execution_count": null,
   "id": "61",
   "metadata": {
    "id": "RrgjibO8oBZb"
   },
   "outputs": [],
   "source": [
    "X_train, y_train = create_date_shifted_and_rolling_train_features(\n",
    "    data_train,\n",
    "    shifts=SHIFT,\n",
    "    week_seasonal_shifts=WEEK_SHIFT,\n",
    "    year_seasonal_shifts=YEAR_SHIFT,\n",
    ")"
   ]
  },
  {
   "cell_type": "markdown",
   "id": "62",
   "metadata": {
    "id": "FXK-LR8rqlhc"
   },
   "source": [
    "Применим случайный лес к датасету с новыми признаками."
   ]
  },
  {
   "cell_type": "code",
   "execution_count": null,
   "id": "63",
   "metadata": {
    "colab": {
     "base_uri": "https://localhost:8080/",
     "height": 74
    },
    "id": "a3MkQXi_oBZc",
    "outputId": "ef0cd784-7681-4c92-976b-1eeeacb17afd"
   },
   "outputs": [],
   "source": [
    "advanced_features_random_forest = RandomForestRegressor(\n",
    "    n_estimators=300, random_state=42\n",
    ")\n",
    "advanced_features_random_forest.fit(X_train, y_train)"
   ]
  },
  {
   "cell_type": "code",
   "execution_count": null,
   "id": "64",
   "metadata": {
    "id": "QXrWP-SBoBZc"
   },
   "outputs": [],
   "source": [
    "advanced_features_random_forest_predictions = recursive_prediction(\n",
    "    advanced_features_random_forest,\n",
    "    data_test.index,\n",
    "    data_train,\n",
    "    date_shifted_and_rolling_features_generator_for_test,\n",
    ")"
   ]
  },
  {
   "cell_type": "code",
   "execution_count": null,
   "id": "65",
   "metadata": {
    "colab": {
     "base_uri": "https://localhost:8080/",
     "height": 452
    },
    "id": "KJGzPn4eoBZc",
    "outputId": "0323789e-3379-4cdc-96dc-bd196b5d457c"
   },
   "outputs": [],
   "source": [
    "plot_results(\n",
    "    data_train,\n",
    "    data_test,\n",
    "    advanced_features_random_forest_predictions,\n",
    ")"
   ]
  },
  {
   "cell_type": "code",
   "execution_count": null,
   "id": "66",
   "metadata": {
    "colab": {
     "base_uri": "https://localhost:8080/",
     "height": 174
    },
    "id": "T8mBn7dqoBZc",
    "outputId": "d05f2a47-70d2-41d0-92f0-1ec86aeab0e8"
   },
   "outputs": [],
   "source": [
    "add_results_in_comparison_table(\n",
    "    \"RandomForest, advanced features\",\n",
    "    data_test,\n",
    "    advanced_features_random_forest_predictions,\n",
    ")"
   ]
  },
  {
   "cell_type": "markdown",
   "id": "67",
   "metadata": {
    "id": "JzLM7_HXoBZh"
   },
   "source": [
    "## 2. Заключение\n",
    "В данном ноутбуке было показано, как предсказывать временные ряды с помощью методов регрессии машинного обучения. Из проведенного исследования можно сделать несколько выводов.\n",
    "\n",
    "1) Добавление исторических даннных с помощью операции `shift` может улучшить предсказание.\n",
    "\n",
    "2) Не всегда больше признаков, значит лучше.\n",
    "\n",
    "3) До экспериментов трудно предсказать, какая модель даст лучший результат.\n",
    "\n",
    "Что можно было бы еще сделать?\n",
    "* Провести отбор параметров каждой из моделей.\n",
    "* Все-таки добавить еще какие-то признаки, посчитанные по историческим данным. Для этого может, например, пригодиться пакет [tsfresh](https://tsfresh.readthedocs.io/en/latest/text/quick_start.html#install-tsfresh)\n",
    "* Попробовать другие модели регрессии."
   ]
  }
 ],
 "metadata": {
  "colab": {
   "collapsed_sections": [
    "-cUmLDGUoBZF",
    "A7DHy7-SoBZH",
    "rReCa4yDoBZK",
    "vASUYrv0oBZa",
    "4YQ-EJhWoBZe"
   ],
   "provenance": []
  },
  "kernelspec": {
   "display_name": "Python 3 (ipykernel)",
   "language": "python",
   "name": "python3"
  },
  "language_info": {
   "codemirror_mode": {
    "name": "ipython",
    "version": 3
   },
   "file_extension": ".py",
   "mimetype": "text/x-python",
   "name": "python",
   "nbconvert_exporter": "python",
   "pygments_lexer": "ipython3",
   "version": "3.8.15"
  },
  "varInspector": {
   "cols": {
    "lenName": 16,
    "lenType": 16,
    "lenVar": 40
   },
   "kernels_config": {
    "python": {
     "delete_cmd_postfix": "",
     "delete_cmd_prefix": "del ",
     "library": "var_list.py",
     "varRefreshCmd": "print(var_dic_list())"
    },
    "r": {
     "delete_cmd_postfix": ") ",
     "delete_cmd_prefix": "rm(",
     "library": "var_list.r",
     "varRefreshCmd": "cat(var_dic_list()) "
    }
   },
   "types_to_exclude": [
    "module",
    "function",
    "builtin_function_or_method",
    "instance",
    "_Feature"
   ],
   "window_display": false
  }
 },
 "nbformat": 4,
 "nbformat_minor": 5
}
