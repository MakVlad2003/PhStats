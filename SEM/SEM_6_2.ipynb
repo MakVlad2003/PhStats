{
 "cells": [
  {
   "cell_type": "markdown",
   "metadata": {
    "id": "LXgKurabGjvO"
   },
   "source": [
    "### Звериный бутстреп"
   ]
  },
  {
   "cell_type": "markdown",
   "metadata": {
    "id": "Vr7Aa1scGjvQ"
   },
   "source": [
    "Скачайте из чата архив `animals.zip`, разархивируйте его и положите рядом с этим ноутбуком (иначе придется менять пути файлов). Если у вас не установлена библиотека `skimage` это можно сделать раскомменировав соответствующую команду следующей ячейки."
   ]
  },
  {
   "cell_type": "code",
   "execution_count": null,
   "metadata": {
    "id": "ECRyxF0jGjvR"
   },
   "outputs": [],
   "source": [
    "# Установка библиотеки\n",
    "# ! pip install scikit-image"
   ]
  },
  {
   "cell_type": "markdown",
   "metadata": {
    "id": "ue89WU6EGjvR"
   },
   "source": [
    "Готово! Теперь можно начинать работу над заданием."
   ]
  },
  {
   "cell_type": "code",
   "execution_count": null,
   "metadata": {
    "id": "gPaJDIZ3GjvS"
   },
   "outputs": [],
   "source": [
    "import numpy as np\n",
    "import scipy.stats as sps\n",
    "import matplotlib.pyplot as plt\n",
    "from skimage.transform import resize"
   ]
  },
  {
   "cell_type": "markdown",
   "metadata": {
    "id": "d7p2mnjAGjvS"
   },
   "source": [
    "Имеются картинки пяти зверюшек, это наша выборка. Нужно оценить дисперсию среднего значения зверей. Для каждого пикселя картинки и для каждого цветового канала все операции проводим отдельно.\n",
    "\n",
    "Загружаем картинки зверюшек и приводим их к размеру 500 на 500. Каждая картинка представляется в виде трехмерной матрицы размера (500, 500, 3) чисел от 0 до 1. Первые две размерности отвечают за высоту и ширину картинки, третья за цветовые каналы --- красный, зеленый, синий.\n",
    "\n",
    "По сути у нас есть выборка размера 5 из $(500\\cdot500\\cdot3)$-мерного пространства."
   ]
  },
  {
   "cell_type": "code",
   "execution_count": null,
   "metadata": {
    "colab": {
     "base_uri": "https://localhost:8080/"
    },
    "id": "ol72ZjUXMa9E",
    "outputId": "3efe6c96-6dc2-4f08-fd35-585aca8e71ed"
   },
   "outputs": [],
   "source": [
    "!unzip  /content/animals.zip"
   ]
  },
  {
   "cell_type": "code",
   "execution_count": null,
   "metadata": {
    "id": "LeSzksIpGjvS"
   },
   "outputs": [],
   "source": [
    "n = 5\n",
    "images = [plt.imread('animals/animal_{}.jpg'.format(i+1)) for i in range (n)]\n",
    "images = [resize(images[i], (500, 500, 3)) for i in range (n)]"
   ]
  },
  {
   "cell_type": "markdown",
   "metadata": {
    "id": "vomt4RRPGjvS"
   },
   "source": [
    "Визуализируем все изображения при помощи функции `plt.imshow`. Вызов функций `plt.xticks([]), plt.yticks([])` убирает подписи к координатным осям, `plt.tight_layout`  обрезает пустые поля графиков, а `facecolor=(0,0,0,0)` делает фон графика прозрачным при сохранении (четыре числа -- красный, зеленый, синий, прозрачность)."
   ]
  },
  {
   "cell_type": "code",
   "execution_count": null,
   "metadata": {
    "colab": {
     "base_uri": "https://localhost:8080/",
     "height": 219
    },
    "id": "GSrOXWEeGjvT",
    "outputId": "a44cc30d-3852-40e8-c1b3-903be1b80528"
   },
   "outputs": [],
   "source": [
    "plt.figure(figsize=(10, 3))\n",
    "for i in range(5):\n",
    "    plt.subplot(1, 5, i+1)\n",
    "    plt.imshow(images[i])\n",
    "    plt.xticks([]), plt.yticks([])\n",
    "plt.tight_layout()\n",
    "plt.savefig('zoo.png', facecolor=(0,0,0,0))\n",
    "plt.show()"
   ]
  },
  {
   "cell_type": "markdown",
   "metadata": {
    "id": "lt78fcYJGjvT"
   },
   "source": [
    "Для визуализации загрузим изображение стрелки"
   ]
  },
  {
   "cell_type": "code",
   "execution_count": null,
   "metadata": {
    "id": "akSh69TNGjvT"
   },
   "outputs": [],
   "source": [
    "arrow = plt.imread('animals/arrow.png')"
   ]
  },
  {
   "cell_type": "markdown",
   "metadata": {
    "id": "I2qNni05GjvU"
   },
   "source": [
    "Функция, реализующая бутстреп"
   ]
  },
  {
   "cell_type": "code",
   "execution_count": null,
   "metadata": {
    "id": "D7NGSWoNGjvU"
   },
   "outputs": [],
   "source": [
    "def zoo_bootstrap(images, B=6, draw=False):\n",
    "    '''\n",
    "    Генерирует B бутстрепных выборок изображений\n",
    "    и возвращает среднее по каждой из них.\n",
    "    Если указан параметр draw, то рисует процесс на графике.\n",
    "    '''\n",
    "    # размер выборки\n",
    "    n = len(images)\n",
    "    # средние по бутстрепным выборкам\n",
    "    bootstrap_means = []\n",
    "\n",
    "    if draw:\n",
    "        plt.figure(figsize=(11.5, 9.5))\n",
    "\n",
    "    for b in range(B):\n",
    "        # сумма элементов в бутстрепной выборке\n",
    "        sum_bsample = 0\n",
    "\n",
    "        for i in range(n):\n",
    "            # генерируем элемент бутстрепной выборки\n",
    "            ind = np.random.randint(0, n)\n",
    "            # добавляем его к сумме по этой выборке\n",
    "            sum_bsample += images[ind]\n",
    "\n",
    "            # визуализация элемента бутстрепной выборки\n",
    "            if draw:\n",
    "                plt.subplot(B, n+2, b*(n+2)+i+1)\n",
    "                plt.imshow(images[ind])\n",
    "                plt.xticks([]), plt.yticks([])\n",
    "                if i == 0:\n",
    "                    plt.ylabel('$X^*_{}$:       '.format(b+1),\n",
    "                               rotation=0, fontsize=26)\n",
    "\n",
    "        # добавляем среднее по бутстрепной выборке\n",
    "        current_mean = sum_bsample / n\n",
    "        bootstrap_means.append(current_mean)\n",
    "\n",
    "        if draw:\n",
    "            # стрелка\n",
    "            plt.subplot(B, n+2, b*(n+2)+i+2)\n",
    "            plt.imshow(arrow)\n",
    "            plt.axis('off'), plt.xticks([]), plt.yticks([])\n",
    "            # среднее по бутстрепной выборке\n",
    "            plt.subplot(B, n+2, b*(n+2)+i+3)\n",
    "            plt.imshow(bootstrap_means[-1])\n",
    "            plt.xticks([]), plt.yticks([])\n",
    "\n",
    "    if draw:\n",
    "        plt.tight_layout()\n",
    "        plt.savefig('animals/zoo_bootstrap.png', facecolor=(0,0,0,0))\n",
    "        plt.show()\n",
    "\n",
    "    return bootstrap_means"
   ]
  },
  {
   "cell_type": "markdown",
   "metadata": {
    "id": "4bCaazLmGjvU"
   },
   "source": [
    "Посмотрим, что получается на выборках размера 6. Ниже изображена схема бутстрепа. По строкам изображены бутстрепные выборки (разумеется, размера 5). В последнем столбце по каждой бутстрепной выборке посчитано среднее всех пикселей."
   ]
  },
  {
   "cell_type": "code",
   "execution_count": null,
   "metadata": {
    "colab": {
     "base_uri": "https://localhost:8080/",
     "height": 956
    },
    "id": "XHUQBdw4GjvU",
    "outputId": "341cc747-83ad-44a9-98c5-4ac44f193ad7"
   },
   "outputs": [],
   "source": [
    "bootstrap_means = zoo_bootstrap(images, draw=True)"
   ]
  },
  {
   "cell_type": "markdown",
   "metadata": {
    "id": "NspkRct_GjvU"
   },
   "source": [
    "По бутстрепной выборке средних (правый столбец выше) можем посчитать выборочную дисперсию для каждого пикселя. Поскольку цвета изображения должны быть от 0 до 1, для визуализации нормируем все дисперсии на максимальное значение по всем пикселям и цветовым каналам. Очевидно, что минимальное значение дисперсий равно нулю --- в крайних пикселях всегда белый фон."
   ]
  },
  {
   "cell_type": "code",
   "execution_count": null,
   "metadata": {
    "colab": {
     "base_uri": "https://localhost:8080/",
     "height": 1000
    },
    "id": "kKt29LquGjvV",
    "outputId": "9d556010-b802-49f0-f65f-d0e37f6a16b1"
   },
   "outputs": [],
   "source": [
    "bootstrap_var = np.var(zoo_bootstrap(images, draw = True), axis=0)\n",
    "bvar_normed = bootstrap_var / bootstrap_var.max(axis=(0, 1)).reshape((1, 1, 3))\n",
    "\n",
    "plt.figure(figsize=(10, 10))\n",
    "plt.imshow(bvar_normed)\n",
    "plt.xticks([]), plt.yticks([]);\n",
    "plt.savefig('animals/zoo_bootstrap_var.png', facecolor=(0,0,0,0))\n",
    "plt.show()"
   ]
  },
  {
   "cell_type": "markdown",
   "metadata": {
    "id": "Vo69rGmVGjvV"
   },
   "source": [
    "Посмотрим на результат при большем количестве бутстрепных выборок"
   ]
  },
  {
   "cell_type": "code",
   "execution_count": null,
   "metadata": {
    "colab": {
     "base_uri": "https://localhost:8080/",
     "height": 807
    },
    "id": "y7DMoySaGjvV",
    "outputId": "3802695e-807a-41c4-fb7b-0ef0dbe466b6"
   },
   "outputs": [],
   "source": [
    "bootstrap_means = zoo_bootstrap(images, B=300)\n",
    "bootstrap_var = np.var(bootstrap_means, axis = 0)\n",
    "bvar_normed = bootstrap_var / bootstrap_var.max(axis=(0, 1)).reshape((1, 1, 3))\n",
    "\n",
    "plt.figure(figsize=(10, 10))\n",
    "plt.imshow(bvar_normed)\n",
    "plt.xticks([]), plt.yticks([]);\n",
    "plt.savefig('animals/zoo_bootstrap_var.png', facecolor=(0,0,0,0))\n",
    "plt.show()"
   ]
  },
  {
   "cell_type": "markdown",
   "metadata": {
    "id": "gEeovc_jGjvV"
   },
   "source": [
    "------\n",
    "\n",
    "Никита Волков\n",
    "\n",
    "https://mipt-stats.gitlab.io/"
   ]
  }
 ],
 "metadata": {
  "colab": {
   "provenance": []
  },
  "kernelspec": {
   "display_name": "Python 3 (ipykernel)",
   "language": "python",
   "name": "python3"
  },
  "language_info": {
   "codemirror_mode": {
    "name": "ipython",
    "version": 3
   },
   "file_extension": ".py",
   "mimetype": "text/x-python",
   "name": "python",
   "nbconvert_exporter": "python",
   "pygments_lexer": "ipython3",
   "version": "3.9.12"
  }
 },
 "nbformat": 4,
 "nbformat_minor": 0
}
